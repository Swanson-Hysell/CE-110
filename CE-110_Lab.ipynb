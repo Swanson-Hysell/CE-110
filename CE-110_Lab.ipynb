{
 "cells": [
  {
   "cell_type": "code",
   "execution_count": 111,
   "metadata": {
    "collapsed": true
   },
   "outputs": [],
   "source": [
    "from datascience import *\n",
    "import numpy as np"
   ]
  },
  {
   "cell_type": "markdown",
   "metadata": {},
   "source": [
    "# Functions Used In This Lab\n",
    "- tablename['colume name'] : Returns a column of a table with that name.\n",
    "- numpy.where(condition[, x, y]) : Return elements chosen from x or y depending on condition.\n",
    "- numpy.sort(a, axis=-1, kind='quicksort', order=None)[source] : Return a sorted copy of an array.\n",
    "- numpy.append(arr, values, axis=None)[source] : Append values to the end of an array."
   ]
  },
  {
   "cell_type": "markdown",
   "metadata": {},
   "source": [
    "### 2010 Data"
   ]
  },
  {
   "cell_type": "code",
   "execution_count": 112,
   "metadata": {
    "scrolled": true
   },
   "outputs": [
    {
     "data": {
      "text/html": [
       "<table border=\"1\" class=\"dataframe\">\n",
       "    <thead>\n",
       "        <tr>\n",
       "            <th>year</th> <th>data_year</th> <th>source</th> <th>target</th> <th>cumulative_volume_af</th> <th>transmission_kwh/af</th> <th>treatment_kwh/af</th> <th>used_vol_af</th>\n",
       "        </tr>\n",
       "    </thead>\n",
       "    <tbody>\n",
       "        <tr>\n",
       "            <td>2010</td> <td>2010     </td> <td>1801001PD</td> <td>1801001E </td> <td>1624                </td> <td>163.1              </td> <td>0               </td> <td>1624       </td>\n",
       "        </tr>\n",
       "        <tr>\n",
       "            <td>2010</td> <td>2010     </td> <td>1801007PD</td> <td>1801007E </td> <td>2015.2              </td> <td>163.1              </td> <td>0               </td> <td>2015.2     </td>\n",
       "        </tr>\n",
       "        <tr>\n",
       "            <td>2010</td> <td>2010     </td> <td>1801009PD</td> <td>1801017PD</td> <td>561.768             </td> <td>25                 </td> <td>0               </td> <td>557.004    </td>\n",
       "        </tr>\n",
       "        <tr>\n",
       "            <td>2010</td> <td>2010     </td> <td>1801009PD</td> <td>1801009E </td> <td>2924.55             </td> <td>163.1              </td> <td>0               </td> <td>2924.55    </td>\n",
       "        </tr>\n",
       "        <tr>\n",
       "            <td>2010</td> <td>2010     </td> <td>1801011PD</td> <td>1801011E </td> <td>1350                </td> <td>163.1              </td> <td>0               </td> <td>1350       </td>\n",
       "        </tr>\n",
       "        <tr>\n",
       "            <td>2010</td> <td>2010     </td> <td>1801015PD</td> <td>1801017PD</td> <td>616.923             </td> <td>25                 </td> <td>0               </td> <td>611.692    </td>\n",
       "        </tr>\n",
       "        <tr>\n",
       "            <td>2010</td> <td>2010     </td> <td>1801015PD</td> <td>1801015E </td> <td>840                 </td> <td>163.1              </td> <td>0               </td> <td>840        </td>\n",
       "        </tr>\n",
       "        <tr>\n",
       "            <td>2010</td> <td>2010     </td> <td>1801015PD</td> <td>1801019PD</td> <td>1415                </td> <td>25                 </td> <td>0               </td> <td>1414.56    </td>\n",
       "        </tr>\n",
       "        <tr>\n",
       "            <td>2010</td> <td>2010     </td> <td>1801015PD</td> <td>1801001PD</td> <td>1460.72             </td> <td>87                 </td> <td>0               </td> <td>1460.72    </td>\n",
       "        </tr>\n",
       "        <tr>\n",
       "            <td>2010</td> <td>2010     </td> <td>1801015PD</td> <td>1801009PD</td> <td>2949                </td> <td>25                 </td> <td>0               </td> <td>2924.55    </td>\n",
       "        </tr>\n",
       "    </tbody>\n",
       "</table>\n",
       "<p>... (13790 rows omitted)</p>"
      ],
      "text/plain": [
       "year | data_year | source    | target    | cumulative_volume_af | transmission_kwh/af | treatment_kwh/af | used_vol_af\n",
       "2010 | 2010      | 1801001PD | 1801001E  | 1624                 | 163.1               | 0                | 1624\n",
       "2010 | 2010      | 1801007PD | 1801007E  | 2015.2               | 163.1               | 0                | 2015.2\n",
       "2010 | 2010      | 1801009PD | 1801017PD | 561.768              | 25                  | 0                | 557.004\n",
       "2010 | 2010      | 1801009PD | 1801009E  | 2924.55              | 163.1               | 0                | 2924.55\n",
       "2010 | 2010      | 1801011PD | 1801011E  | 1350                 | 163.1               | 0                | 1350\n",
       "2010 | 2010      | 1801015PD | 1801017PD | 616.923              | 25                  | 0                | 611.692\n",
       "2010 | 2010      | 1801015PD | 1801015E  | 840                  | 163.1               | 0                | 840\n",
       "2010 | 2010      | 1801015PD | 1801019PD | 1415                 | 25                  | 0                | 1414.56\n",
       "2010 | 2010      | 1801015PD | 1801001PD | 1460.72              | 87                  | 0                | 1460.72\n",
       "2010 | 2010      | 1801015PD | 1801009PD | 2949                 | 25                  | 0                | 2924.55\n",
       "... (13790 rows omitted)"
      ]
     },
     "execution_count": 112,
     "metadata": {},
     "output_type": "execute_result"
    }
   ],
   "source": [
    "data = Table().read_table('network2010.csv')\n",
    "data"
   ]
  },
  {
   "cell_type": "markdown",
   "metadata": {},
   "source": [
    "### 2015 Data"
   ]
  },
  {
   "cell_type": "code",
   "execution_count": 113,
   "metadata": {},
   "outputs": [
    {
     "data": {
      "text/html": [
       "<table border=\"1\" class=\"dataframe\">\n",
       "    <thead>\n",
       "        <tr>\n",
       "            <th>year</th> <th>data_year</th> <th>source</th> <th>target</th> <th>cumulative_volume_af</th> <th>transmission_kwh/af</th> <th>treatment_kwh/af</th> <th>used_vol_af</th>\n",
       "        </tr>\n",
       "    </thead>\n",
       "    <tbody>\n",
       "        <tr>\n",
       "            <td>2015</td> <td>2015     </td> <td>1803005NPD </td> <td>1803005E  </td> <td>733                 </td> <td>17.6               </td> <td>0               </td> <td>733        </td>\n",
       "        </tr>\n",
       "        <tr>\n",
       "            <td>2015</td> <td>2015     </td> <td>SW1803005W </td> <td>1803005NPD</td> <td>733                 </td> <td>87                 </td> <td>236             </td> <td>0          </td>\n",
       "        </tr>\n",
       "        <tr>\n",
       "            <td>2015</td> <td>2015     </td> <td>1803005WIMP</td> <td>1803005PD </td> <td>962.992             </td> <td>0                  </td> <td>224             </td> <td>0          </td>\n",
       "        </tr>\n",
       "        <tr>\n",
       "            <td>2040</td> <td>2015     </td> <td>SW1803005W </td> <td>1803005NPD</td> <td>2240                </td> <td>87                 </td> <td>236             </td> <td>0          </td>\n",
       "        </tr>\n",
       "        <tr>\n",
       "            <td>2025</td> <td>2015     </td> <td>1803005NPD </td> <td>1803005E  </td> <td>2240                </td> <td>17.6               </td> <td>0               </td> <td>2240       </td>\n",
       "        </tr>\n",
       "        <tr>\n",
       "            <td>2035</td> <td>2015     </td> <td>SW1803005W </td> <td>1803005NPD</td> <td>2240                </td> <td>87                 </td> <td>236             </td> <td>0          </td>\n",
       "        </tr>\n",
       "        <tr>\n",
       "            <td>2020</td> <td>2015     </td> <td>1803005NPD </td> <td>1803005E  </td> <td>2240                </td> <td>17.6               </td> <td>0               </td> <td>2240       </td>\n",
       "        </tr>\n",
       "        <tr>\n",
       "            <td>2020</td> <td>2015     </td> <td>SW1803005W </td> <td>1803005NPD</td> <td>2240                </td> <td>87                 </td> <td>236             </td> <td>0          </td>\n",
       "        </tr>\n",
       "        <tr>\n",
       "            <td>2030</td> <td>2015     </td> <td>1803005NPD </td> <td>1803005E  </td> <td>2240                </td> <td>17.6               </td> <td>0               </td> <td>2240       </td>\n",
       "        </tr>\n",
       "        <tr>\n",
       "            <td>2030</td> <td>2015     </td> <td>SW1803005W </td> <td>1803005NPD</td> <td>2240                </td> <td>87                 </td> <td>236             </td> <td>0          </td>\n",
       "        </tr>\n",
       "    </tbody>\n",
       "</table>\n",
       "<p>... (10716 rows omitted)</p>"
      ],
      "text/plain": [
       "year | data_year | source      | target     | cumulative_volume_af | transmission_kwh/af | treatment_kwh/af | used_vol_af\n",
       "2015 | 2015      | 1803005NPD  | 1803005E   | 733                  | 17.6                | 0                | 733\n",
       "2015 | 2015      | SW1803005W  | 1803005NPD | 733                  | 87                  | 236              | 0\n",
       "2015 | 2015      | 1803005WIMP | 1803005PD  | 962.992              | 0                   | 224              | 0\n",
       "2040 | 2015      | SW1803005W  | 1803005NPD | 2240                 | 87                  | 236              | 0\n",
       "2025 | 2015      | 1803005NPD  | 1803005E   | 2240                 | 17.6                | 0                | 2240\n",
       "2035 | 2015      | SW1803005W  | 1803005NPD | 2240                 | 87                  | 236              | 0\n",
       "2020 | 2015      | 1803005NPD  | 1803005E   | 2240                 | 17.6                | 0                | 2240\n",
       "2020 | 2015      | SW1803005W  | 1803005NPD | 2240                 | 87                  | 236              | 0\n",
       "2030 | 2015      | 1803005NPD  | 1803005E   | 2240                 | 17.6                | 0                | 2240\n",
       "2030 | 2015      | SW1803005W  | 1803005NPD | 2240                 | 87                  | 236              | 0\n",
       "... (10716 rows omitted)"
      ]
     },
     "execution_count": 113,
     "metadata": {},
     "output_type": "execute_result"
    }
   ],
   "source": [
    "data_1 = Table().read_table('network2015.csv')\n",
    "data_1"
   ]
  },
  {
   "cell_type": "markdown",
   "metadata": {},
   "source": [
    "# Dictionary For Sources\n",
    "- NPD (Non-potable distribution): Utility + \"NPD\" for treated non-potable water delivered to end-user\n",
    "\n",
    "\n",
    "- PD (Potable distribution): Utility + \"PD\" for treated potable water delivered to an end-user\n",
    "\n",
    "\n",
    "- GW (Groundwater): For water sources, “GW” + DWR basin/subbasin code, if basin is known OR “GW” + Utility Code, if not; for groundwater sold\n",
    "untreated to a retail utility, Utility code + “GW”\n",
    "\n",
    "\n",
    "- GWR (Groundwater recharge): Similar to groundwater codes described above, substituting “GWR” for “GW”\n",
    "\n",
    "\n",
    "- SW (Surface water): \"SW\" + utility code for unspecified surface water source"
   ]
  },
  {
   "cell_type": "markdown",
   "metadata": {},
   "source": [
    "In this lab, we will be focusing  on 6 utilities.\n",
    "- Alameda (1805003E) \n",
    "- Fresno (1803033E) \n",
    "- Hidesert (1810019E) \n",
    "- Palmdale (1809027E) \n",
    "- San Jose (1805085E)\n",
    "- Santa Monice (1807341E)"
   ]
  },
  {
   "cell_type": "markdown",
   "metadata": {},
   "source": [
    "# 2010 Data for 6 Utilities"
   ]
  },
  {
   "cell_type": "code",
   "execution_count": 114,
   "metadata": {},
   "outputs": [
    {
     "data": {
      "text/html": [
       "<table border=\"1\" class=\"dataframe\">\n",
       "    <thead>\n",
       "        <tr>\n",
       "            <th>year</th> <th>data_year</th> <th>source</th> <th>target</th> <th>cumulative_volume_af</th> <th>transmission_kwh/af</th> <th>treatment_kwh/af</th> <th>used_vol_af</th>\n",
       "        </tr>\n",
       "    </thead>\n",
       "    <tbody>\n",
       "        <tr>\n",
       "            <td>2010</td> <td>2010     </td> <td>1801001PD</td> <td>1801001E </td> <td>1624                </td> <td>163.1              </td> <td>0               </td> <td>1624       </td>\n",
       "        </tr>\n",
       "        <tr>\n",
       "            <td>2010</td> <td>2010     </td> <td>1801007PD</td> <td>1801007E </td> <td>2015.2              </td> <td>163.1              </td> <td>0               </td> <td>2015.2     </td>\n",
       "        </tr>\n",
       "        <tr>\n",
       "            <td>2010</td> <td>2010     </td> <td>1801009PD</td> <td>1801017PD</td> <td>561.768             </td> <td>25                 </td> <td>0               </td> <td>557.004    </td>\n",
       "        </tr>\n",
       "        <tr>\n",
       "            <td>2010</td> <td>2010     </td> <td>1801009PD</td> <td>1801009E </td> <td>2924.55             </td> <td>163.1              </td> <td>0               </td> <td>2924.55    </td>\n",
       "        </tr>\n",
       "        <tr>\n",
       "            <td>2010</td> <td>2010     </td> <td>1801011PD</td> <td>1801011E </td> <td>1350                </td> <td>163.1              </td> <td>0               </td> <td>1350       </td>\n",
       "        </tr>\n",
       "        <tr>\n",
       "            <td>2010</td> <td>2010     </td> <td>1801015PD</td> <td>1801017PD</td> <td>616.923             </td> <td>25                 </td> <td>0               </td> <td>611.692    </td>\n",
       "        </tr>\n",
       "        <tr>\n",
       "            <td>2010</td> <td>2010     </td> <td>1801015PD</td> <td>1801015E </td> <td>840                 </td> <td>163.1              </td> <td>0               </td> <td>840        </td>\n",
       "        </tr>\n",
       "        <tr>\n",
       "            <td>2010</td> <td>2010     </td> <td>1801015PD</td> <td>1801019PD</td> <td>1415                </td> <td>25                 </td> <td>0               </td> <td>1414.56    </td>\n",
       "        </tr>\n",
       "        <tr>\n",
       "            <td>2010</td> <td>2010     </td> <td>1801015PD</td> <td>1801001PD</td> <td>1460.72             </td> <td>87                 </td> <td>0               </td> <td>1460.72    </td>\n",
       "        </tr>\n",
       "        <tr>\n",
       "            <td>2010</td> <td>2010     </td> <td>1801015PD</td> <td>1801009PD</td> <td>2949                </td> <td>25                 </td> <td>0               </td> <td>2924.55    </td>\n",
       "        </tr>\n",
       "    </tbody>\n",
       "</table>\n",
       "<p>... (1733 rows omitted)</p>"
      ],
      "text/plain": [
       "year | data_year | source    | target    | cumulative_volume_af | transmission_kwh/af | treatment_kwh/af | used_vol_af\n",
       "2010 | 2010      | 1801001PD | 1801001E  | 1624                 | 163.1               | 0                | 1624\n",
       "2010 | 2010      | 1801007PD | 1801007E  | 2015.2               | 163.1               | 0                | 2015.2\n",
       "2010 | 2010      | 1801009PD | 1801017PD | 561.768              | 25                  | 0                | 557.004\n",
       "2010 | 2010      | 1801009PD | 1801009E  | 2924.55              | 163.1               | 0                | 2924.55\n",
       "2010 | 2010      | 1801011PD | 1801011E  | 1350                 | 163.1               | 0                | 1350\n",
       "2010 | 2010      | 1801015PD | 1801017PD | 616.923              | 25                  | 0                | 611.692\n",
       "2010 | 2010      | 1801015PD | 1801015E  | 840                  | 163.1               | 0                | 840\n",
       "2010 | 2010      | 1801015PD | 1801019PD | 1415                 | 25                  | 0                | 1414.56\n",
       "2010 | 2010      | 1801015PD | 1801001PD | 1460.72              | 87                  | 0                | 1460.72\n",
       "2010 | 2010      | 1801015PD | 1801009PD | 2949                 | 25                  | 0                | 2924.55\n",
       "... (1733 rows omitted)"
      ]
     },
     "execution_count": 114,
     "metadata": {},
     "output_type": "execute_result"
    }
   ],
   "source": [
    "#Getting data for 2010.\n",
    "data_2010 = data.where(data['year'] == 2010)\n",
    "data_2010"
   ]
  },
  {
   "cell_type": "markdown",
   "metadata": {},
   "source": [
    "##### Alameda"
   ]
  },
  {
   "cell_type": "code",
   "execution_count": 115,
   "metadata": {},
   "outputs": [
    {
     "data": {
      "text/html": [
       "<table border=\"1\" class=\"dataframe\">\n",
       "    <thead>\n",
       "        <tr>\n",
       "            <th>year</th> <th>data_year</th> <th>source</th> <th>target</th> <th>cumulative_volume_af</th> <th>transmission_kwh/af</th> <th>treatment_kwh/af</th> <th>used_vol_af</th>\n",
       "        </tr>\n",
       "    </thead>\n",
       "    <tbody>\n",
       "        <tr>\n",
       "            <td>2010</td> <td>2010     </td> <td>1805003PD       </td> <td>1805003E</td> <td>43000               </td> <td>318.2              </td> <td>0               </td> <td>43000      </td>\n",
       "        </tr>\n",
       "        <tr>\n",
       "            <td>2010</td> <td>2010     </td> <td>GWR1805-2-09.01 </td> <td>1805003E</td> <td>15700               </td> <td>318.2              </td> <td>0               </td> <td>0          </td>\n",
       "        </tr>\n",
       "    </tbody>\n",
       "</table>"
      ],
      "text/plain": [
       "year | data_year | source           | target   | cumulative_volume_af | transmission_kwh/af | treatment_kwh/af | used_vol_af\n",
       "2010 | 2010      | 1805003PD        | 1805003E | 43000                | 318.2               | 0                | 43000\n",
       "2010 | 2010      | GWR1805-2-09.01  | 1805003E | 15700                | 318.2               | 0                | 0"
      ]
     },
     "execution_count": 115,
     "metadata": {},
     "output_type": "execute_result"
    }
   ],
   "source": [
    "#Data where target = Alameda County Water District\n",
    "alameda = data_2010.where(data_2010['target'] == \"1805003E\")\n",
    "\n",
    "#where do they get most water?\n",
    "alameda = alameda.sort('cumulative_volume_af', descending = True)\n",
    "alameda\n",
    "\n",
    "#most of the volume came from PD (Portable Distribution) with 318.af transmissionkwh/af."
   ]
  },
  {
   "cell_type": "markdown",
   "metadata": {},
   "source": [
    "##### Fresno"
   ]
  },
  {
   "cell_type": "code",
   "execution_count": 116,
   "metadata": {},
   "outputs": [
    {
     "data": {
      "text/html": [
       "<table border=\"1\" class=\"dataframe\">\n",
       "    <thead>\n",
       "        <tr>\n",
       "            <th>year</th> <th>data_year</th> <th>source</th> <th>target</th> <th>cumulative_volume_af</th> <th>transmission_kwh/af</th> <th>treatment_kwh/af</th> <th>used_vol_af</th>\n",
       "        </tr>\n",
       "    </thead>\n",
       "    <tbody>\n",
       "        <tr>\n",
       "            <td>2010</td> <td>2010     </td> <td>1803033PD </td> <td>1803033E</td> <td>61955.8             </td> <td>17.6               </td> <td>0               </td> <td>61955.8    </td>\n",
       "        </tr>\n",
       "        <tr>\n",
       "            <td>2010</td> <td>2010     </td> <td>SW_CVPFKC </td> <td>1803033E</td> <td>53121               </td> <td>23.22              </td> <td>0               </td> <td>53121      </td>\n",
       "        </tr>\n",
       "        <tr>\n",
       "            <td>2010</td> <td>2010     </td> <td>1803033GW </td> <td>1803033E</td> <td>14116.2             </td> <td>17.6               </td> <td>0               </td> <td>0          </td>\n",
       "        </tr>\n",
       "        <tr>\n",
       "            <td>2010</td> <td>2010     </td> <td>1803033NPD</td> <td>1803033E</td> <td>88                  </td> <td>21.12              </td> <td>0               </td> <td>88         </td>\n",
       "        </tr>\n",
       "    </tbody>\n",
       "</table>"
      ],
      "text/plain": [
       "year | data_year | source     | target   | cumulative_volume_af | transmission_kwh/af | treatment_kwh/af | used_vol_af\n",
       "2010 | 2010      | 1803033PD  | 1803033E | 61955.8              | 17.6                | 0                | 61955.8\n",
       "2010 | 2010      | SW_CVPFKC  | 1803033E | 53121                | 23.22               | 0                | 53121\n",
       "2010 | 2010      | 1803033GW  | 1803033E | 14116.2              | 17.6                | 0                | 0\n",
       "2010 | 2010      | 1803033NPD | 1803033E | 88                   | 21.12               | 0                | 88"
      ]
     },
     "execution_count": 116,
     "metadata": {},
     "output_type": "execute_result"
    }
   ],
   "source": [
    "#Data where target = Fresno \n",
    "fresno = data_2010.where(data_2010['target'] == \"1803033E\")\n",
    "\n",
    "#where do they get most water?\n",
    "fresno = fresno.sort('cumulative_volume_af', descending = True)\n",
    "fresno\n",
    "\n",
    "#most of the volume came from PD, cumulative volume af: 61955.8 and transmission kwh/af: 17.6. \n",
    "#next is from SW, which required higher cost for transmission energy than GW, but had higher cumulative volume."
   ]
  },
  {
   "cell_type": "markdown",
   "metadata": {},
   "source": [
    "##### Hi-desert"
   ]
  },
  {
   "cell_type": "code",
   "execution_count": 117,
   "metadata": {},
   "outputs": [
    {
     "data": {
      "text/html": [
       "<table border=\"1\" class=\"dataframe\">\n",
       "    <thead>\n",
       "        <tr>\n",
       "            <th>year</th> <th>data_year</th> <th>source</th> <th>target</th> <th>cumulative_volume_af</th> <th>transmission_kwh/af</th> <th>treatment_kwh/af</th> <th>used_vol_af</th>\n",
       "        </tr>\n",
       "    </thead>\n",
       "    <tbody>\n",
       "        <tr>\n",
       "            <td>2010</td> <td>2010     </td> <td>1810019PD</td> <td>1810019E</td> <td>2956.95             </td> <td>17.6               </td> <td>0               </td> <td>2956.95    </td>\n",
       "        </tr>\n",
       "    </tbody>\n",
       "</table>"
      ],
      "text/plain": [
       "year | data_year | source    | target   | cumulative_volume_af | transmission_kwh/af | treatment_kwh/af | used_vol_af\n",
       "2010 | 2010      | 1810019PD | 1810019E | 2956.95              | 17.6                | 0                | 2956.95"
      ]
     },
     "execution_count": 117,
     "metadata": {},
     "output_type": "execute_result"
    }
   ],
   "source": [
    "#Data where target = Hi-Desert Water District\n",
    "hidesert = data_2010.where(data_2010['target'] == \"1810019E\")\n",
    "hidesert\n",
    "\n",
    "#has only one source, which is PD."
   ]
  },
  {
   "cell_type": "markdown",
   "metadata": {},
   "source": [
    "##### Palmdale"
   ]
  },
  {
   "cell_type": "code",
   "execution_count": 118,
   "metadata": {},
   "outputs": [
    {
     "data": {
      "text/html": [
       "<table border=\"1\" class=\"dataframe\">\n",
       "    <thead>\n",
       "        <tr>\n",
       "            <th>year</th> <th>data_year</th> <th>source</th> <th>target</th> <th>cumulative_volume_af</th> <th>transmission_kwh/af</th> <th>treatment_kwh/af</th> <th>used_vol_af</th>\n",
       "        </tr>\n",
       "    </thead>\n",
       "    <tbody>\n",
       "        <tr>\n",
       "            <td>2010</td> <td>2010     </td> <td>1809027PD</td> <td>1809027E</td> <td>19800               </td> <td>163.1              </td> <td>0               </td> <td>19800      </td>\n",
       "        </tr>\n",
       "    </tbody>\n",
       "</table>"
      ],
      "text/plain": [
       "year | data_year | source    | target   | cumulative_volume_af | transmission_kwh/af | treatment_kwh/af | used_vol_af\n",
       "2010 | 2010      | 1809027PD | 1809027E | 19800                | 163.1               | 0                | 19800"
      ]
     },
     "execution_count": 118,
     "metadata": {},
     "output_type": "execute_result"
    }
   ],
   "source": [
    "#Data where target = Palmdale Water District\n",
    "palmdale = data_2010.where(data_2010['target'] == \"1809027E\")\n",
    "palmdale\n",
    "\n",
    "#has only one source, which is PD"
   ]
  },
  {
   "cell_type": "markdown",
   "metadata": {},
   "source": [
    "##### San Jose Water"
   ]
  },
  {
   "cell_type": "code",
   "execution_count": 119,
   "metadata": {},
   "outputs": [
    {
     "data": {
      "text/html": [
       "<table border=\"1\" class=\"dataframe\">\n",
       "    <thead>\n",
       "        <tr>\n",
       "            <th>year</th> <th>data_year</th> <th>source</th> <th>target</th> <th>cumulative_volume_af</th> <th>transmission_kwh/af</th> <th>treatment_kwh/af</th> <th>used_vol_af</th>\n",
       "        </tr>\n",
       "    </thead>\n",
       "    <tbody>\n",
       "        <tr>\n",
       "            <td>2010</td> <td>2010     </td> <td>1805085PD </td> <td>1805085E</td> <td>119991              </td> <td>318.2              </td> <td>0               </td> <td>119991     </td>\n",
       "        </tr>\n",
       "        <tr>\n",
       "            <td>2010</td> <td>2010     </td> <td>1805085NPD</td> <td>1805085E</td> <td>1208                </td> <td>381.84             </td> <td>0               </td> <td>1208       </td>\n",
       "        </tr>\n",
       "    </tbody>\n",
       "</table>"
      ],
      "text/plain": [
       "year | data_year | source     | target   | cumulative_volume_af | transmission_kwh/af | treatment_kwh/af | used_vol_af\n",
       "2010 | 2010      | 1805085PD  | 1805085E | 119991               | 318.2               | 0                | 119991\n",
       "2010 | 2010      | 1805085NPD | 1805085E | 1208                 | 381.84              | 0                | 1208"
      ]
     },
     "execution_count": 119,
     "metadata": {},
     "output_type": "execute_result"
    }
   ],
   "source": [
    "#Data where target = San Jose Water Company\n",
    "sanjose_water = data_2010.where(data_2010['target'] == \"1805085E\")\n",
    "\n",
    "#where do they get most water?\n",
    "sanjose_water = sanjose_water.sort('cumulative_volume_af', descending = True)\n",
    "sanjose_water\n",
    "\n",
    "#highest amount of volume came from PD with lower transmission kwh/af than NPD."
   ]
  },
  {
   "cell_type": "markdown",
   "metadata": {},
   "source": [
    "##### Santa Monice"
   ]
  },
  {
   "cell_type": "code",
   "execution_count": 120,
   "metadata": {},
   "outputs": [
    {
     "data": {
      "text/html": [
       "<table border=\"1\" class=\"dataframe\">\n",
       "    <thead>\n",
       "        <tr>\n",
       "            <th>year</th> <th>data_year</th> <th>source</th> <th>target</th> <th>cumulative_volume_af</th> <th>transmission_kwh/af</th> <th>treatment_kwh/af</th> <th>used_vol_af</th>\n",
       "        </tr>\n",
       "    </thead>\n",
       "    <tbody>\n",
       "        <tr>\n",
       "            <td>2010</td> <td>2010     </td> <td>1807341PD </td> <td>1807341E</td> <td>12435.8             </td> <td>163.1              </td> <td>0               </td> <td>12435.8    </td>\n",
       "        </tr>\n",
       "        <tr>\n",
       "            <td>2010</td> <td>2010     </td> <td>1807341NPD</td> <td>1807341E</td> <td>280                 </td> <td>195.72             </td> <td>0               </td> <td>280        </td>\n",
       "        </tr>\n",
       "    </tbody>\n",
       "</table>"
      ],
      "text/plain": [
       "year | data_year | source     | target   | cumulative_volume_af | transmission_kwh/af | treatment_kwh/af | used_vol_af\n",
       "2010 | 2010      | 1807341PD  | 1807341E | 12435.8              | 163.1               | 0                | 12435.8\n",
       "2010 | 2010      | 1807341NPD | 1807341E | 280                  | 195.72              | 0                | 280"
      ]
     },
     "execution_count": 120,
     "metadata": {},
     "output_type": "execute_result"
    }
   ],
   "source": [
    "#Data where target = Santa Monica\n",
    "santa_monica = data_2010.where(data_2010['target'] == \"1807341E\")\n",
    "\n",
    "#where do they get most water?\n",
    "santa_monica = santa_monica.sort('cumulative_volume_af', descending = True)\n",
    "santa_monica\n",
    "\n",
    "#higest volume from PD with lower transmission kwh/af than NPD."
   ]
  },
  {
   "cell_type": "markdown",
   "metadata": {},
   "source": [
    "In california, groundwater aquifers are particularly poorly understood and monitored. "
   ]
  },
  {
   "cell_type": "markdown",
   "metadata": {
    "collapsed": true
   },
   "source": [
    "Energy mainly depended on the target location rather than the source. The highest transmission energy was required with the target location at Alameda, least energy needed in Fresno.\n",
    "alameda population: 79,177\n",
    "hi-desert population: \n",
    "fresno population: 527,438"
   ]
  },
  {
   "cell_type": "markdown",
   "metadata": {},
   "source": [
    "# 2015 Data for 6 Utilities"
   ]
  },
  {
   "cell_type": "code",
   "execution_count": 121,
   "metadata": {},
   "outputs": [
    {
     "data": {
      "text/html": [
       "<table border=\"1\" class=\"dataframe\">\n",
       "    <thead>\n",
       "        <tr>\n",
       "            <th>year</th> <th>data_year</th> <th>source</th> <th>target</th> <th>cumulative_volume_af</th> <th>transmission_kwh/af</th> <th>treatment_kwh/af</th> <th>used_vol_af</th>\n",
       "        </tr>\n",
       "    </thead>\n",
       "    <tbody>\n",
       "        <tr>\n",
       "            <td>2015</td> <td>2015     </td> <td>1803005NPD     </td> <td>1803005E   </td> <td>733                 </td> <td>17.6               </td> <td>0               </td> <td>733        </td>\n",
       "        </tr>\n",
       "        <tr>\n",
       "            <td>2015</td> <td>2015     </td> <td>SW1803005W     </td> <td>1803005NPD </td> <td>733                 </td> <td>87                 </td> <td>236             </td> <td>0          </td>\n",
       "        </tr>\n",
       "        <tr>\n",
       "            <td>2015</td> <td>2015     </td> <td>1803005WIMP    </td> <td>1803005PD  </td> <td>962.992             </td> <td>0                  </td> <td>224             </td> <td>0          </td>\n",
       "        </tr>\n",
       "        <tr>\n",
       "            <td>2015</td> <td>2015     </td> <td>1803041WIMP    </td> <td>1803005PD  </td> <td>3228.97             </td> <td>25                 </td> <td>224             </td> <td>0          </td>\n",
       "        </tr>\n",
       "        <tr>\n",
       "            <td>2015</td> <td>2015     </td> <td>1803005WIMP    </td> <td>1803005WPD </td> <td>4127.24             </td> <td>25                 </td> <td>0               </td> <td>0          </td>\n",
       "        </tr>\n",
       "        <tr>\n",
       "            <td>2015</td> <td>2015     </td> <td>1803005WPD     </td> <td>1803005WE  </td> <td>4127.24             </td> <td>17.6               </td> <td>0               </td> <td>17586      </td>\n",
       "        </tr>\n",
       "        <tr>\n",
       "            <td>2015</td> <td>2015     </td> <td>R_Kern         </td> <td>1803005WIMP</td> <td>17586               </td> <td>0                  </td> <td>0               </td> <td>0          </td>\n",
       "        </tr>\n",
       "        <tr>\n",
       "            <td>2015</td> <td>2015     </td> <td>GW1803-5-22.14 </td> <td>1803005PD  </td> <td>31029               </td> <td>399                </td> <td>181.75          </td> <td>0          </td>\n",
       "        </tr>\n",
       "        <tr>\n",
       "            <td>2015</td> <td>2015     </td> <td>1803005PD      </td> <td>1803005E   </td> <td>35221               </td> <td>52.8               </td> <td>0               </td> <td>35221      </td>\n",
       "        </tr>\n",
       "        <tr>\n",
       "            <td>2015</td> <td>2015     </td> <td>GWR1803-5-22.08</td> <td>1803007GW  </td> <td>138.1               </td> <td>0                  </td> <td>0               </td> <td>138.1      </td>\n",
       "        </tr>\n",
       "    </tbody>\n",
       "</table>\n",
       "<p>... (1650 rows omitted)</p>"
      ],
      "text/plain": [
       "year | data_year | source          | target      | cumulative_volume_af | transmission_kwh/af | treatment_kwh/af | used_vol_af\n",
       "2015 | 2015      | 1803005NPD      | 1803005E    | 733                  | 17.6                | 0                | 733\n",
       "2015 | 2015      | SW1803005W      | 1803005NPD  | 733                  | 87                  | 236              | 0\n",
       "2015 | 2015      | 1803005WIMP     | 1803005PD   | 962.992              | 0                   | 224              | 0\n",
       "2015 | 2015      | 1803041WIMP     | 1803005PD   | 3228.97              | 25                  | 224              | 0\n",
       "2015 | 2015      | 1803005WIMP     | 1803005WPD  | 4127.24              | 25                  | 0                | 0\n",
       "2015 | 2015      | 1803005WPD      | 1803005WE   | 4127.24              | 17.6                | 0                | 17586\n",
       "2015 | 2015      | R_Kern          | 1803005WIMP | 17586                | 0                   | 0                | 0\n",
       "2015 | 2015      | GW1803-5-22.14  | 1803005PD   | 31029                | 399                 | 181.75           | 0\n",
       "2015 | 2015      | 1803005PD       | 1803005E    | 35221                | 52.8                | 0                | 35221\n",
       "2015 | 2015      | GWR1803-5-22.08 | 1803007GW   | 138.1                | 0                   | 0                | 138.1\n",
       "... (1650 rows omitted)"
      ]
     },
     "execution_count": 121,
     "metadata": {},
     "output_type": "execute_result"
    }
   ],
   "source": [
    "#Getting data for 2015.\n",
    "data_2015 = data_1.where(data_1['year'] == 2015)\n",
    "data_2015"
   ]
  },
  {
   "cell_type": "markdown",
   "metadata": {},
   "source": [
    "##### Alameda"
   ]
  },
  {
   "cell_type": "code",
   "execution_count": 122,
   "metadata": {},
   "outputs": [
    {
     "data": {
      "text/html": [
       "<table border=\"1\" class=\"dataframe\">\n",
       "    <thead>\n",
       "        <tr>\n",
       "            <th>year</th> <th>data_year</th> <th>source</th> <th>target</th> <th>cumulative_volume_af</th> <th>transmission_kwh/af</th> <th>treatment_kwh/af</th> <th>used_vol_af</th>\n",
       "        </tr>\n",
       "    </thead>\n",
       "    <tbody>\n",
       "        <tr>\n",
       "            <td>2015</td> <td>2015     </td> <td>1805003PD </td> <td>1805003E</td> <td>51800               </td> <td>1909.2             </td> <td>0               </td> <td>51800      </td>\n",
       "        </tr>\n",
       "        <tr>\n",
       "            <td>2015</td> <td>2015     </td> <td>1805003NPD</td> <td>1805003E</td> <td>3065                </td> <td>381.84             </td> <td>0               </td> <td>3065       </td>\n",
       "        </tr>\n",
       "    </tbody>\n",
       "</table>"
      ],
      "text/plain": [
       "year | data_year | source     | target   | cumulative_volume_af | transmission_kwh/af | treatment_kwh/af | used_vol_af\n",
       "2015 | 2015      | 1805003PD  | 1805003E | 51800                | 1909.2              | 0                | 51800\n",
       "2015 | 2015      | 1805003NPD | 1805003E | 3065                 | 381.84              | 0                | 3065"
      ]
     },
     "execution_count": 122,
     "metadata": {},
     "output_type": "execute_result"
    }
   ],
   "source": [
    "#Data where target = Alameda County Water District\n",
    "alameda_1 = data_2015.where(data_2015['target'] == \"1805003E\")\n",
    "\n",
    "#where do they get most water?\n",
    "alameda_1 = alameda_1.sort('cumulative_volume_af', descending = True)\n",
    "alameda_1\n",
    "\n",
    "#most of the volume came from PD (Portable Distribution) with 318.af transmissionkwh/af."
   ]
  },
  {
   "cell_type": "markdown",
   "metadata": {},
   "source": [
    "##### Fresno"
   ]
  },
  {
   "cell_type": "code",
   "execution_count": 123,
   "metadata": {},
   "outputs": [
    {
     "data": {
      "text/html": [
       "<table border=\"1\" class=\"dataframe\">\n",
       "    <thead>\n",
       "        <tr>\n",
       "            <th>year</th> <th>data_year</th> <th>source</th> <th>target</th> <th>cumulative_volume_af</th> <th>transmission_kwh/af</th> <th>treatment_kwh/af</th> <th>used_vol_af</th>\n",
       "        </tr>\n",
       "    </thead>\n",
       "    <tbody>\n",
       "        <tr>\n",
       "            <td>2015</td> <td>2015     </td> <td>1803033PD </td> <td>1803033E</td> <td>113066              </td> <td>52.8               </td> <td>0               </td> <td>113066     </td>\n",
       "        </tr>\n",
       "        <tr>\n",
       "            <td>2015</td> <td>2015     </td> <td>1803033NPD</td> <td>1803033E</td> <td>15022               </td> <td>84.48              </td> <td>0               </td> <td>15022      </td>\n",
       "        </tr>\n",
       "    </tbody>\n",
       "</table>"
      ],
      "text/plain": [
       "year | data_year | source     | target   | cumulative_volume_af | transmission_kwh/af | treatment_kwh/af | used_vol_af\n",
       "2015 | 2015      | 1803033PD  | 1803033E | 113066               | 52.8                | 0                | 113066\n",
       "2015 | 2015      | 1803033NPD | 1803033E | 15022                | 84.48               | 0                | 15022"
      ]
     },
     "execution_count": 123,
     "metadata": {},
     "output_type": "execute_result"
    }
   ],
   "source": [
    "#Data where target = Fresno \n",
    "fresno_1 = data_2015.where(data_2015['target'] == \"1803033E\")\n",
    "\n",
    "#where do they get most water?\n",
    "fresno_1 = fresno_1.sort('cumulative_volume_af', descending = True)\n",
    "fresno_1\n",
    "\n",
    "#most of the volume came from PD, cumulative volume af: 61955.8 and transmission kwh/af: 17.6. \n",
    "#next is from SW, which required higher cost for transmission energy than GW, but had higher cumulative volume."
   ]
  },
  {
   "cell_type": "markdown",
   "metadata": {},
   "source": [
    "##### Hi-desert"
   ]
  },
  {
   "cell_type": "code",
   "execution_count": 124,
   "metadata": {},
   "outputs": [
    {
     "data": {
      "text/html": [
       "<table border=\"1\" class=\"dataframe\">\n",
       "    <thead>\n",
       "        <tr>\n",
       "            <th>year</th> <th>data_year</th> <th>source</th> <th>target</th> <th>cumulative_volume_af</th> <th>transmission_kwh/af</th> <th>treatment_kwh/af</th> <th>used_vol_af</th>\n",
       "        </tr>\n",
       "    </thead>\n",
       "    <tbody>\n",
       "        <tr>\n",
       "            <td>2015</td> <td>2015     </td> <td>1810019PD</td> <td>1810019E</td> <td>2837                </td> <td>88                 </td> <td>0               </td> <td>2837       </td>\n",
       "        </tr>\n",
       "    </tbody>\n",
       "</table>"
      ],
      "text/plain": [
       "year | data_year | source    | target   | cumulative_volume_af | transmission_kwh/af | treatment_kwh/af | used_vol_af\n",
       "2015 | 2015      | 1810019PD | 1810019E | 2837                 | 88                  | 0                | 2837"
      ]
     },
     "execution_count": 124,
     "metadata": {},
     "output_type": "execute_result"
    }
   ],
   "source": [
    "#Data where target = Hi-Desert Water District\n",
    "hidesert_1 = data_2015.where(data_2015['target'] == \"1810019E\")\n",
    "hidesert_1\n",
    "\n",
    "#has only one source, which is PD."
   ]
  },
  {
   "cell_type": "markdown",
   "metadata": {},
   "source": [
    "##### Palmdale"
   ]
  },
  {
   "cell_type": "code",
   "execution_count": 125,
   "metadata": {},
   "outputs": [
    {
     "data": {
      "text/html": [
       "<table border=\"1\" class=\"dataframe\">\n",
       "    <thead>\n",
       "        <tr>\n",
       "            <th>year</th> <th>data_year</th> <th>source</th> <th>target</th> <th>cumulative_volume_af</th> <th>transmission_kwh/af</th> <th>treatment_kwh/af</th> <th>used_vol_af</th>\n",
       "        </tr>\n",
       "    </thead>\n",
       "    <tbody>\n",
       "        <tr>\n",
       "            <td>2015</td> <td>2015     </td> <td>1809027NPD</td> <td>1809027E</td> <td>110                 </td> <td>195.72             </td> <td>0               </td> <td>110        </td>\n",
       "        </tr>\n",
       "        <tr>\n",
       "            <td>2015</td> <td>2015     </td> <td>1809027PD </td> <td>1809027E</td> <td>17015               </td> <td>489.3              </td> <td>0               </td> <td>17015      </td>\n",
       "        </tr>\n",
       "    </tbody>\n",
       "</table>"
      ],
      "text/plain": [
       "year | data_year | source     | target   | cumulative_volume_af | transmission_kwh/af | treatment_kwh/af | used_vol_af\n",
       "2015 | 2015      | 1809027NPD | 1809027E | 110                  | 195.72              | 0                | 110\n",
       "2015 | 2015      | 1809027PD  | 1809027E | 17015                | 489.3               | 0                | 17015"
      ]
     },
     "execution_count": 125,
     "metadata": {},
     "output_type": "execute_result"
    }
   ],
   "source": [
    "#Data where target = Palmdale Water District\n",
    "palmdale_1 = data_2015.where(data_2015['target'] == \"1809027E\")\n",
    "palmdale_1\n",
    "\n",
    "#has only one source, which is PD"
   ]
  },
  {
   "cell_type": "markdown",
   "metadata": {},
   "source": [
    "##### San Jose Water"
   ]
  },
  {
   "cell_type": "code",
   "execution_count": 126,
   "metadata": {},
   "outputs": [
    {
     "data": {
      "text/html": [
       "<table border=\"1\" class=\"dataframe\">\n",
       "    <thead>\n",
       "        <tr>\n",
       "            <th>year</th> <th>data_year</th> <th>source</th> <th>target</th> <th>cumulative_volume_af</th> <th>transmission_kwh/af</th> <th>treatment_kwh/af</th> <th>used_vol_af</th>\n",
       "        </tr>\n",
       "    </thead>\n",
       "    <tbody>\n",
       "        <tr>\n",
       "            <td>2015</td> <td>2015     </td> <td>1805085PD </td> <td>1805085E</td> <td>106451              </td> <td>954.6              </td> <td>0               </td> <td>106451     </td>\n",
       "        </tr>\n",
       "        <tr>\n",
       "            <td>2015</td> <td>2015     </td> <td>1805085NPD</td> <td>1805085E</td> <td>2092.98             </td> <td>2227.4             </td> <td>0               </td> <td>2092.98    </td>\n",
       "        </tr>\n",
       "    </tbody>\n",
       "</table>"
      ],
      "text/plain": [
       "year | data_year | source     | target   | cumulative_volume_af | transmission_kwh/af | treatment_kwh/af | used_vol_af\n",
       "2015 | 2015      | 1805085PD  | 1805085E | 106451               | 954.6               | 0                | 106451\n",
       "2015 | 2015      | 1805085NPD | 1805085E | 2092.98              | 2227.4              | 0                | 2092.98"
      ]
     },
     "execution_count": 126,
     "metadata": {},
     "output_type": "execute_result"
    }
   ],
   "source": [
    "#Data where target = San Jose Water Company\n",
    "sanjose_water_1 = data_2015.where(data_2015['target'] == \"1805085E\")\n",
    "\n",
    "#where do they get most water?\n",
    "sanjose_water_1 = sanjose_water_1.sort('cumulative_volume_af', descending = True)\n",
    "sanjose_water_1\n",
    "\n",
    "#highest amount of volume came from PD with lower transmission kwh/af than NPD."
   ]
  },
  {
   "cell_type": "markdown",
   "metadata": {},
   "source": [
    "##### Santa Monica"
   ]
  },
  {
   "cell_type": "code",
   "execution_count": 127,
   "metadata": {},
   "outputs": [
    {
     "data": {
      "text/html": [
       "<table border=\"1\" class=\"dataframe\">\n",
       "    <thead>\n",
       "        <tr>\n",
       "            <th>year</th> <th>data_year</th> <th>source</th> <th>target</th> <th>cumulative_volume_af</th> <th>transmission_kwh/af</th> <th>treatment_kwh/af</th> <th>used_vol_af</th>\n",
       "        </tr>\n",
       "    </thead>\n",
       "    <tbody>\n",
       "        <tr>\n",
       "            <td>2015</td> <td>2015     </td> <td>1807341PD</td> <td>1807341E</td> <td>11917               </td> <td>489.3              </td> <td>0               </td> <td>11917      </td>\n",
       "        </tr>\n",
       "    </tbody>\n",
       "</table>"
      ],
      "text/plain": [
       "year | data_year | source    | target   | cumulative_volume_af | transmission_kwh/af | treatment_kwh/af | used_vol_af\n",
       "2015 | 2015      | 1807341PD | 1807341E | 11917                | 489.3               | 0                | 11917"
      ]
     },
     "execution_count": 127,
     "metadata": {},
     "output_type": "execute_result"
    }
   ],
   "source": [
    "#Data where target = Santa Monica\n",
    "santa_monica_1 = data_2015.where(data_2015['target'] == \"1807341E\")\n",
    "\n",
    "#where do they get most water?\n",
    "santa_monica_1 = santa_monica_1.sort('cumulative_volume_af', descending = True)\n",
    "santa_monica_1\n",
    "\n",
    "#higest volume from PD with lower transmission kwh/af than NPD."
   ]
  },
  {
   "cell_type": "markdown",
   "metadata": {},
   "source": [
    "# Combining Data: 2010 and 2015"
   ]
  },
  {
   "cell_type": "markdown",
   "metadata": {},
   "source": [
    "##### Alameda"
   ]
  },
  {
   "cell_type": "code",
   "execution_count": 128,
   "metadata": {},
   "outputs": [
    {
     "data": {
      "text/html": [
       "<table border=\"1\" class=\"dataframe\">\n",
       "    <thead>\n",
       "        <tr>\n",
       "            <th>year</th> <th>data_year</th> <th>source</th> <th>target</th> <th>cumulative_volume_af</th> <th>transmission_kwh/af</th> <th>treatment_kwh/af</th> <th>used_vol_af</th>\n",
       "        </tr>\n",
       "    </thead>\n",
       "    <tbody>\n",
       "        <tr>\n",
       "            <td>2010</td> <td>2010     </td> <td>1805003PD       </td> <td>1805003E</td> <td>43000               </td> <td>318.2              </td> <td>0               </td> <td>43000      </td>\n",
       "        </tr>\n",
       "        <tr>\n",
       "            <td>2010</td> <td>2010     </td> <td>GWR1805-2-09.01 </td> <td>1805003E</td> <td>15700               </td> <td>318.2              </td> <td>0               </td> <td>0          </td>\n",
       "        </tr>\n",
       "        <tr>\n",
       "            <td>2015</td> <td>2015     </td> <td>1805003PD       </td> <td>1805003E</td> <td>51800               </td> <td>1909.2             </td> <td>0               </td> <td>51800      </td>\n",
       "        </tr>\n",
       "        <tr>\n",
       "            <td>2015</td> <td>2015     </td> <td>1805003NPD      </td> <td>1805003E</td> <td>3065                </td> <td>381.84             </td> <td>0               </td> <td>3065       </td>\n",
       "        </tr>\n",
       "    </tbody>\n",
       "</table>"
      ],
      "text/plain": [
       "year | data_year | source           | target   | cumulative_volume_af | transmission_kwh/af | treatment_kwh/af | used_vol_af\n",
       "2010 | 2010      | 1805003PD        | 1805003E | 43000                | 318.2               | 0                | 43000\n",
       "2010 | 2010      | GWR1805-2-09.01  | 1805003E | 15700                | 318.2               | 0                | 0\n",
       "2015 | 2015      | 1805003PD        | 1805003E | 51800                | 1909.2              | 0                | 51800\n",
       "2015 | 2015      | 1805003NPD       | 1805003E | 3065                 | 381.84              | 0                | 3065"
      ]
     },
     "execution_count": 128,
     "metadata": {},
     "output_type": "execute_result"
    }
   ],
   "source": [
    "alameda_final = alameda.append(alameda_1)\n",
    "alameda_final\n",
    "\n",
    "#stopped getting groundwater but used portable and nonportable water as a source.\n",
    "#increase in cumulative volume"
   ]
  },
  {
   "cell_type": "markdown",
   "metadata": {},
   "source": [
    "##### Fresno"
   ]
  },
  {
   "cell_type": "code",
   "execution_count": 129,
   "metadata": {},
   "outputs": [
    {
     "data": {
      "text/html": [
       "<table border=\"1\" class=\"dataframe\">\n",
       "    <thead>\n",
       "        <tr>\n",
       "            <th>year</th> <th>data_year</th> <th>source</th> <th>target</th> <th>cumulative_volume_af</th> <th>transmission_kwh/af</th> <th>treatment_kwh/af</th> <th>used_vol_af</th>\n",
       "        </tr>\n",
       "    </thead>\n",
       "    <tbody>\n",
       "        <tr>\n",
       "            <td>2010</td> <td>2010     </td> <td>1803033PD </td> <td>1803033E</td> <td>61955.8             </td> <td>17.6               </td> <td>0               </td> <td>61955.8    </td>\n",
       "        </tr>\n",
       "        <tr>\n",
       "            <td>2010</td> <td>2010     </td> <td>SW_CVPFKC </td> <td>1803033E</td> <td>53121               </td> <td>23.22              </td> <td>0               </td> <td>53121      </td>\n",
       "        </tr>\n",
       "        <tr>\n",
       "            <td>2010</td> <td>2010     </td> <td>1803033GW </td> <td>1803033E</td> <td>14116.2             </td> <td>17.6               </td> <td>0               </td> <td>0          </td>\n",
       "        </tr>\n",
       "        <tr>\n",
       "            <td>2010</td> <td>2010     </td> <td>1803033NPD</td> <td>1803033E</td> <td>88                  </td> <td>21.12              </td> <td>0               </td> <td>88         </td>\n",
       "        </tr>\n",
       "        <tr>\n",
       "            <td>2015</td> <td>2015     </td> <td>1803033PD </td> <td>1803033E</td> <td>113066              </td> <td>52.8               </td> <td>0               </td> <td>113066     </td>\n",
       "        </tr>\n",
       "        <tr>\n",
       "            <td>2015</td> <td>2015     </td> <td>1803033NPD</td> <td>1803033E</td> <td>15022               </td> <td>84.48              </td> <td>0               </td> <td>15022      </td>\n",
       "        </tr>\n",
       "    </tbody>\n",
       "</table>"
      ],
      "text/plain": [
       "year | data_year | source     | target   | cumulative_volume_af | transmission_kwh/af | treatment_kwh/af | used_vol_af\n",
       "2010 | 2010      | 1803033PD  | 1803033E | 61955.8              | 17.6                | 0                | 61955.8\n",
       "2010 | 2010      | SW_CVPFKC  | 1803033E | 53121                | 23.22               | 0                | 53121\n",
       "2010 | 2010      | 1803033GW  | 1803033E | 14116.2              | 17.6                | 0                | 0\n",
       "2010 | 2010      | 1803033NPD | 1803033E | 88                   | 21.12               | 0                | 88\n",
       "2015 | 2015      | 1803033PD  | 1803033E | 113066               | 52.8                | 0                | 113066\n",
       "2015 | 2015      | 1803033NPD | 1803033E | 15022                | 84.48               | 0                | 15022"
      ]
     },
     "execution_count": 129,
     "metadata": {},
     "output_type": "execute_result"
    }
   ],
   "source": [
    "fresno_final = fresno.append(fresno_1)\n",
    "fresno_final\n",
    "#all from portable and nonportable water andincrease in cumulative volume\n"
   ]
  },
  {
   "cell_type": "markdown",
   "metadata": {},
   "source": [
    "##### Hi-desert"
   ]
  },
  {
   "cell_type": "code",
   "execution_count": 130,
   "metadata": {},
   "outputs": [
    {
     "data": {
      "text/html": [
       "<table border=\"1\" class=\"dataframe\">\n",
       "    <thead>\n",
       "        <tr>\n",
       "            <th>year</th> <th>data_year</th> <th>source</th> <th>target</th> <th>cumulative_volume_af</th> <th>transmission_kwh/af</th> <th>treatment_kwh/af</th> <th>used_vol_af</th>\n",
       "        </tr>\n",
       "    </thead>\n",
       "    <tbody>\n",
       "        <tr>\n",
       "            <td>2010</td> <td>2010     </td> <td>1810019PD</td> <td>1810019E</td> <td>2956.95             </td> <td>17.6               </td> <td>0               </td> <td>2956.95    </td>\n",
       "        </tr>\n",
       "        <tr>\n",
       "            <td>2015</td> <td>2015     </td> <td>1810019PD</td> <td>1810019E</td> <td>2837                </td> <td>88                 </td> <td>0               </td> <td>2837       </td>\n",
       "        </tr>\n",
       "    </tbody>\n",
       "</table>"
      ],
      "text/plain": [
       "year | data_year | source    | target   | cumulative_volume_af | transmission_kwh/af | treatment_kwh/af | used_vol_af\n",
       "2010 | 2010      | 1810019PD | 1810019E | 2956.95              | 17.6                | 0                | 2956.95\n",
       "2015 | 2015      | 1810019PD | 1810019E | 2837                 | 88                  | 0                | 2837"
      ]
     },
     "execution_count": 130,
     "metadata": {},
     "output_type": "execute_result"
    }
   ],
   "source": [
    "hidesert_final = hidesert.append(hidesert_1)\n",
    "hidesert_final"
   ]
  },
  {
   "cell_type": "markdown",
   "metadata": {},
   "source": [
    "##### Palmdale"
   ]
  },
  {
   "cell_type": "code",
   "execution_count": 131,
   "metadata": {},
   "outputs": [
    {
     "data": {
      "text/html": [
       "<table border=\"1\" class=\"dataframe\">\n",
       "    <thead>\n",
       "        <tr>\n",
       "            <th>year</th> <th>data_year</th> <th>source</th> <th>target</th> <th>cumulative_volume_af</th> <th>transmission_kwh/af</th> <th>treatment_kwh/af</th> <th>used_vol_af</th>\n",
       "        </tr>\n",
       "    </thead>\n",
       "    <tbody>\n",
       "        <tr>\n",
       "            <td>2010</td> <td>2010     </td> <td>1809027PD </td> <td>1809027E</td> <td>19800               </td> <td>163.1              </td> <td>0               </td> <td>19800      </td>\n",
       "        </tr>\n",
       "        <tr>\n",
       "            <td>2015</td> <td>2015     </td> <td>1809027NPD</td> <td>1809027E</td> <td>110                 </td> <td>195.72             </td> <td>0               </td> <td>110        </td>\n",
       "        </tr>\n",
       "        <tr>\n",
       "            <td>2015</td> <td>2015     </td> <td>1809027PD </td> <td>1809027E</td> <td>17015               </td> <td>489.3              </td> <td>0               </td> <td>17015      </td>\n",
       "        </tr>\n",
       "    </tbody>\n",
       "</table>"
      ],
      "text/plain": [
       "year | data_year | source     | target   | cumulative_volume_af | transmission_kwh/af | treatment_kwh/af | used_vol_af\n",
       "2010 | 2010      | 1809027PD  | 1809027E | 19800                | 163.1               | 0                | 19800\n",
       "2015 | 2015      | 1809027NPD | 1809027E | 110                  | 195.72              | 0                | 110\n",
       "2015 | 2015      | 1809027PD  | 1809027E | 17015                | 489.3               | 0                | 17015"
      ]
     },
     "execution_count": 131,
     "metadata": {},
     "output_type": "execute_result"
    }
   ],
   "source": [
    "palmdale_final = palmdale.append(palmdale_1)\n",
    "palmdale_final"
   ]
  },
  {
   "cell_type": "markdown",
   "metadata": {},
   "source": [
    "##### San Jose "
   ]
  },
  {
   "cell_type": "code",
   "execution_count": 132,
   "metadata": {},
   "outputs": [
    {
     "data": {
      "text/html": [
       "<table border=\"1\" class=\"dataframe\">\n",
       "    <thead>\n",
       "        <tr>\n",
       "            <th>year</th> <th>data_year</th> <th>source</th> <th>target</th> <th>cumulative_volume_af</th> <th>transmission_kwh/af</th> <th>treatment_kwh/af</th> <th>used_vol_af</th>\n",
       "        </tr>\n",
       "    </thead>\n",
       "    <tbody>\n",
       "        <tr>\n",
       "            <td>2010</td> <td>2010     </td> <td>1805085PD </td> <td>1805085E</td> <td>119991              </td> <td>318.2              </td> <td>0               </td> <td>119991     </td>\n",
       "        </tr>\n",
       "        <tr>\n",
       "            <td>2010</td> <td>2010     </td> <td>1805085NPD</td> <td>1805085E</td> <td>1208                </td> <td>381.84             </td> <td>0               </td> <td>1208       </td>\n",
       "        </tr>\n",
       "        <tr>\n",
       "            <td>2015</td> <td>2015     </td> <td>1805085PD </td> <td>1805085E</td> <td>106451              </td> <td>954.6              </td> <td>0               </td> <td>106451     </td>\n",
       "        </tr>\n",
       "        <tr>\n",
       "            <td>2015</td> <td>2015     </td> <td>1805085NPD</td> <td>1805085E</td> <td>2092.98             </td> <td>2227.4             </td> <td>0               </td> <td>2092.98    </td>\n",
       "        </tr>\n",
       "    </tbody>\n",
       "</table>"
      ],
      "text/plain": [
       "year | data_year | source     | target   | cumulative_volume_af | transmission_kwh/af | treatment_kwh/af | used_vol_af\n",
       "2010 | 2010      | 1805085PD  | 1805085E | 119991               | 318.2               | 0                | 119991\n",
       "2010 | 2010      | 1805085NPD | 1805085E | 1208                 | 381.84              | 0                | 1208\n",
       "2015 | 2015      | 1805085PD  | 1805085E | 106451               | 954.6               | 0                | 106451\n",
       "2015 | 2015      | 1805085NPD | 1805085E | 2092.98              | 2227.4              | 0                | 2092.98"
      ]
     },
     "execution_count": 132,
     "metadata": {},
     "output_type": "execute_result"
    }
   ],
   "source": [
    "sanjose_water_final = sanjose_water.append(sanjose_water_1)\n",
    "sanjose_water_final\n"
   ]
  },
  {
   "cell_type": "markdown",
   "metadata": {},
   "source": [
    "##### Santa Monica"
   ]
  },
  {
   "cell_type": "code",
   "execution_count": 133,
   "metadata": {},
   "outputs": [
    {
     "data": {
      "text/html": [
       "<table border=\"1\" class=\"dataframe\">\n",
       "    <thead>\n",
       "        <tr>\n",
       "            <th>year</th> <th>data_year</th> <th>source</th> <th>target</th> <th>cumulative_volume_af</th> <th>transmission_kwh/af</th> <th>treatment_kwh/af</th> <th>used_vol_af</th>\n",
       "        </tr>\n",
       "    </thead>\n",
       "    <tbody>\n",
       "        <tr>\n",
       "            <td>2010</td> <td>2010     </td> <td>1807341PD </td> <td>1807341E</td> <td>12435.8             </td> <td>163.1              </td> <td>0               </td> <td>12435.8    </td>\n",
       "        </tr>\n",
       "        <tr>\n",
       "            <td>2010</td> <td>2010     </td> <td>1807341NPD</td> <td>1807341E</td> <td>280                 </td> <td>195.72             </td> <td>0               </td> <td>280        </td>\n",
       "        </tr>\n",
       "        <tr>\n",
       "            <td>2015</td> <td>2015     </td> <td>1807341PD </td> <td>1807341E</td> <td>11917               </td> <td>489.3              </td> <td>0               </td> <td>11917      </td>\n",
       "        </tr>\n",
       "    </tbody>\n",
       "</table>"
      ],
      "text/plain": [
       "year | data_year | source     | target   | cumulative_volume_af | transmission_kwh/af | treatment_kwh/af | used_vol_af\n",
       "2010 | 2010      | 1807341PD  | 1807341E | 12435.8              | 163.1               | 0                | 12435.8\n",
       "2010 | 2010      | 1807341NPD | 1807341E | 280                  | 195.72              | 0                | 280\n",
       "2015 | 2015      | 1807341PD  | 1807341E | 11917                | 489.3               | 0                | 11917"
      ]
     },
     "execution_count": 133,
     "metadata": {},
     "output_type": "execute_result"
    }
   ],
   "source": [
    "santa_monica_final = santa_monica.append(santa_monica_1)\n",
    "santa_monica_final"
   ]
  },
  {
   "cell_type": "markdown",
   "metadata": {},
   "source": [
    "# Let's Observe San Jose Water Utility "
   ]
  },
  {
   "cell_type": "code",
   "execution_count": 134,
   "metadata": {},
   "outputs": [
    {
     "data": {
      "text/html": [
       "<table border=\"1\" class=\"dataframe\">\n",
       "    <thead>\n",
       "        <tr>\n",
       "            <th>year</th> <th>data_year</th> <th>source</th> <th>target</th> <th>cumulative_volume_af</th> <th>transmission_kwh/af</th> <th>treatment_kwh/af</th> <th>used_vol_af</th>\n",
       "        </tr>\n",
       "    </thead>\n",
       "    <tbody>\n",
       "        <tr>\n",
       "            <td>2010</td> <td>2010     </td> <td>1805085PD </td> <td>1805085E</td> <td>119991              </td> <td>318.2              </td> <td>0               </td> <td>119991     </td>\n",
       "        </tr>\n",
       "        <tr>\n",
       "            <td>2010</td> <td>2010     </td> <td>1805085NPD</td> <td>1805085E</td> <td>1208                </td> <td>381.84             </td> <td>0               </td> <td>1208       </td>\n",
       "        </tr>\n",
       "        <tr>\n",
       "            <td>2015</td> <td>2015     </td> <td>1805085PD </td> <td>1805085E</td> <td>106451              </td> <td>954.6              </td> <td>0               </td> <td>106451     </td>\n",
       "        </tr>\n",
       "        <tr>\n",
       "            <td>2015</td> <td>2015     </td> <td>1805085NPD</td> <td>1805085E</td> <td>2092.98             </td> <td>2227.4             </td> <td>0               </td> <td>2092.98    </td>\n",
       "        </tr>\n",
       "    </tbody>\n",
       "</table>"
      ],
      "text/plain": [
       "year | data_year | source     | target   | cumulative_volume_af | transmission_kwh/af | treatment_kwh/af | used_vol_af\n",
       "2010 | 2010      | 1805085PD  | 1805085E | 119991               | 318.2               | 0                | 119991\n",
       "2010 | 2010      | 1805085NPD | 1805085E | 1208                 | 381.84              | 0                | 1208\n",
       "2015 | 2015      | 1805085PD  | 1805085E | 106451               | 954.6               | 0                | 106451\n",
       "2015 | 2015      | 1805085NPD | 1805085E | 2092.98              | 2227.4              | 0                | 2092.98"
      ]
     },
     "execution_count": 134,
     "metadata": {},
     "output_type": "execute_result"
    }
   ],
   "source": [
    "sanjose_water_final"
   ]
  },
  {
   "cell_type": "markdown",
   "metadata": {},
   "source": [
    "## How to calculate the amount of energy used.\n",
    "- transmission_kwh = cumulative_volume_af * transmission_kwh/af\n",
    "\n",
    "## How to calculate the percentage increase.\n",
    "- Increase = New Number - Original Number\n",
    "- % Increase = Increase / Original Number * 100"
   ]
  },
  {
   "cell_type": "markdown",
   "metadata": {},
   "source": [
    "#### Actual 2010 Data"
   ]
  },
  {
   "cell_type": "code",
   "execution_count": 135,
   "metadata": {},
   "outputs": [
    {
     "data": {
      "text/html": [
       "<table border=\"1\" class=\"dataframe\">\n",
       "    <thead>\n",
       "        <tr>\n",
       "            <th>year</th> <th>data_year</th> <th>source</th> <th>target</th> <th>cumulative_volume_af</th> <th>transmission_kwh/af</th> <th>treatment_kwh/af</th> <th>used_vol_af</th>\n",
       "        </tr>\n",
       "    </thead>\n",
       "    <tbody>\n",
       "        <tr>\n",
       "            <td>2010</td> <td>2010     </td> <td>1805085NPD</td> <td>1805085E</td> <td>1208                </td> <td>381.84             </td> <td>0               </td> <td>1208       </td>\n",
       "        </tr>\n",
       "        <tr>\n",
       "            <td>2010</td> <td>2010     </td> <td>1805085PD </td> <td>1805085E</td> <td>119991              </td> <td>318.2              </td> <td>0               </td> <td>119991     </td>\n",
       "        </tr>\n",
       "    </tbody>\n",
       "</table>"
      ],
      "text/plain": [
       "year | data_year | source     | target   | cumulative_volume_af | transmission_kwh/af | treatment_kwh/af | used_vol_af\n",
       "2010 | 2010      | 1805085NPD | 1805085E | 1208                 | 381.84              | 0                | 1208\n",
       "2010 | 2010      | 1805085PD  | 1805085E | 119991               | 318.2               | 0                | 119991"
      ]
     },
     "execution_count": 135,
     "metadata": {},
     "output_type": "execute_result"
    }
   ],
   "source": [
    "sanjose_2010 = data_2010.where(data_2010['target'] == \"1805085E\")\n",
    "sanjose_2010"
   ]
  },
  {
   "cell_type": "markdown",
   "metadata": {},
   "source": [
    "#### Predicted 2015 Data"
   ]
  },
  {
   "cell_type": "code",
   "execution_count": 136,
   "metadata": {},
   "outputs": [
    {
     "data": {
      "text/html": [
       "<table border=\"1\" class=\"dataframe\">\n",
       "    <thead>\n",
       "        <tr>\n",
       "            <th>year</th> <th>data_year</th> <th>source</th> <th>target</th> <th>cumulative_volume_af</th> <th>transmission_kwh/af</th> <th>treatment_kwh/af</th> <th>used_vol_af</th>\n",
       "        </tr>\n",
       "    </thead>\n",
       "    <tbody>\n",
       "        <tr>\n",
       "            <td>2015</td> <td>2010     </td> <td>1805085NPD</td> <td>1805085E</td> <td>2556                </td> <td>381.84             </td> <td>0               </td> <td>2556       </td>\n",
       "        </tr>\n",
       "        <tr>\n",
       "            <td>2015</td> <td>2010     </td> <td>1805085PD </td> <td>1805085E</td> <td>127713              </td> <td>318.2              </td> <td>0               </td> <td>127713     </td>\n",
       "        </tr>\n",
       "    </tbody>\n",
       "</table>"
      ],
      "text/plain": [
       "year | data_year | source     | target   | cumulative_volume_af | transmission_kwh/af | treatment_kwh/af | used_vol_af\n",
       "2015 | 2010      | 1805085NPD | 1805085E | 2556                 | 381.84              | 0                | 2556\n",
       "2015 | 2010      | 1805085PD  | 1805085E | 127713               | 318.2               | 0                | 127713"
      ]
     },
     "execution_count": 136,
     "metadata": {},
     "output_type": "execute_result"
    }
   ],
   "source": [
    "#Predicted San Jose Water Utility\n",
    "#Getting data for 2010.\n",
    "data_2010_pred = data.where(data['year'] == 2015)\n",
    "sanjose_pred = data_2010_pred.where(data_2010_pred['target'] == \"1805085E\")\n",
    "sanjose_pred"
   ]
  },
  {
   "cell_type": "markdown",
   "metadata": {},
   "source": [
    "#### Actual 2015 Data"
   ]
  },
  {
   "cell_type": "code",
   "execution_count": 137,
   "metadata": {},
   "outputs": [
    {
     "data": {
      "text/html": [
       "<table border=\"1\" class=\"dataframe\">\n",
       "    <thead>\n",
       "        <tr>\n",
       "            <th>year</th> <th>data_year</th> <th>source</th> <th>target</th> <th>cumulative_volume_af</th> <th>transmission_kwh/af</th> <th>treatment_kwh/af</th> <th>used_vol_af</th>\n",
       "        </tr>\n",
       "    </thead>\n",
       "    <tbody>\n",
       "        <tr>\n",
       "            <td>2015</td> <td>2015     </td> <td>1805085NPD</td> <td>1805085E</td> <td>2092.98             </td> <td>2227.4             </td> <td>0               </td> <td>2092.98    </td>\n",
       "        </tr>\n",
       "        <tr>\n",
       "            <td>2015</td> <td>2015     </td> <td>1805085PD </td> <td>1805085E</td> <td>106451              </td> <td>954.6              </td> <td>0               </td> <td>106451     </td>\n",
       "        </tr>\n",
       "    </tbody>\n",
       "</table>"
      ],
      "text/plain": [
       "year | data_year | source     | target   | cumulative_volume_af | transmission_kwh/af | treatment_kwh/af | used_vol_af\n",
       "2015 | 2015      | 1805085NPD | 1805085E | 2092.98              | 2227.4              | 0                | 2092.98\n",
       "2015 | 2015      | 1805085PD  | 1805085E | 106451               | 954.6               | 0                | 106451"
      ]
     },
     "execution_count": 137,
     "metadata": {},
     "output_type": "execute_result"
    }
   ],
   "source": [
    "# San Jose Water Utility data in 2015\n",
    "\n",
    "sanjose_water_actual = data_2015.where(data_2015['target'] == \"1805085E\")\n",
    "sanjose_water_actual"
   ]
  },
  {
   "cell_type": "markdown",
   "metadata": {},
   "source": [
    "# Actual 2010 vs Predicted 2015\n"
   ]
  },
  {
   "cell_type": "markdown",
   "metadata": {},
   "source": [
    "### Amount of energy used in 2010 vs 2015 projection"
   ]
  },
  {
   "cell_type": "markdown",
   "metadata": {},
   "source": [
    "#### What is the total amount of energy used in 2010?"
   ]
  },
  {
   "cell_type": "code",
   "execution_count": 138,
   "metadata": {},
   "outputs": [
    {
     "name": "stdout",
     "output_type": "stream",
     "text": [
      "Amount of Energy used in 2010 : 38642398.919999994 kwh\n"
     ]
    }
   ],
   "source": [
    "actual_energy_2010 = 1208 * 381.84 + 119991 * 318.2\n",
    "print (\"Amount of Energy used in 2010 : \" + str(actual_energy_2010) + \" kwh\")"
   ]
  },
  {
   "cell_type": "markdown",
   "metadata": {},
   "source": [
    "#### What is the total amount of energy predicted to be used in 2015?"
   ]
  },
  {
   "cell_type": "code",
   "execution_count": 139,
   "metadata": {},
   "outputs": [
    {
     "name": "stdout",
     "output_type": "stream",
     "text": [
      "Amount of Energy used in 2015 projection : 41614259.64 kwh\n"
     ]
    }
   ],
   "source": [
    "projection_2015 = 2556 * 381.84 + 127713 * 318.2\n",
    "print (\"Amount of Energy used in 2015 projection : \" + str(projection_2015) + \" kwh\")"
   ]
  },
  {
   "cell_type": "markdown",
   "metadata": {},
   "source": [
    "#### What is the predicted percent increase of energy used between 2010 and 2015?"
   ]
  },
  {
   "cell_type": "code",
   "execution_count": 140,
   "metadata": {},
   "outputs": [
    {
     "name": "stdout",
     "output_type": "stream",
     "text": [
      "Transmission energy is expected to increase by 0.07690673465052067%\n"
     ]
    }
   ],
   "source": [
    "diff_2010 = projection_2015 - actual_energy_2010\n",
    "percent = diff_2010 / actual_energy_2010\n",
    "print (\"Transmission energy is expected to increase by \" + str(percent) + \"%\")"
   ]
  },
  {
   "cell_type": "markdown",
   "metadata": {},
   "source": [
    "### Cumulative volume change 2010 vs 2015 projection"
   ]
  },
  {
   "cell_type": "markdown",
   "metadata": {},
   "source": [
    "#### What is the total amount of water transported in 2010?"
   ]
  },
  {
   "cell_type": "code",
   "execution_count": 141,
   "metadata": {},
   "outputs": [
    {
     "name": "stdout",
     "output_type": "stream",
     "text": [
      "Amount of volume used in 2010 : 121199\n"
     ]
    }
   ],
   "source": [
    "volume_2010 = 1208 + 119991\n",
    "print (\"Amount of volume used in 2010 : \" + str(volume_2010))"
   ]
  },
  {
   "cell_type": "markdown",
   "metadata": {},
   "source": [
    "#### What is the total amount of water predicted to be transported in 2015?"
   ]
  },
  {
   "cell_type": "code",
   "execution_count": 142,
   "metadata": {},
   "outputs": [
    {
     "name": "stdout",
     "output_type": "stream",
     "text": [
      "Amount of volume used in 2015 : 130269\n"
     ]
    }
   ],
   "source": [
    "volume_2015 = 2556 + 127713\n",
    "print (\"Amount of volume used in 2015 : \" + str(volume_2015))"
   ]
  },
  {
   "cell_type": "markdown",
   "metadata": {},
   "source": [
    "#### What is the predicted percent increase of cumulative volume of water transported between 2010 and 2015?"
   ]
  },
  {
   "cell_type": "code",
   "execution_count": 143,
   "metadata": {},
   "outputs": [
    {
     "name": "stdout",
     "output_type": "stream",
     "text": [
      "Volume of water expected to change by 0.07483560095380325% from 2010 and 2015\n"
     ]
    }
   ],
   "source": [
    "percent_v = (volume_2015 - volume_2010) / volume_2010\n",
    "print (\"Volume of water expected to change by \" + str(percent_v) + \"% from 2010 and 2015\")"
   ]
  },
  {
   "cell_type": "code",
   "execution_count": 144,
   "metadata": {},
   "outputs": [
    {
     "name": "stderr",
     "output_type": "stream",
     "text": [
      "/Users/minakim/anaconda3/lib/python3.6/site-packages/matplotlib/pyplot.py:523: RuntimeWarning: More than 20 figures have been opened. Figures created through the pyplot interface (`matplotlib.pyplot.figure`) are retained until explicitly closed and may consume too much memory. (To control this warning, see the rcParam `figure.max_open_warning`).\n",
      "  max_open_warning, RuntimeWarning)\n"
     ]
    },
    {
     "data": {
      "text/plain": [
       "<matplotlib.axes._subplots.AxesSubplot at 0x1a20e78208>"
      ]
     },
     "execution_count": 144,
     "metadata": {},
     "output_type": "execute_result"
    }
   ],
   "source": [
    "import matplotlib.pyplot as plt\n",
    "import pandas as pd\n",
    "data_1 = pd.DataFrame(data = \n",
    "                      {\"year\" : [2010, 2015], \n",
    "                       \"values\" : [volume_2010, volume_2015]})\n",
    "data_1\n",
    "volume_2010\n",
    "graph_1 = data_1.plot.bar(x='year', y='values')\n",
    "x=data_1[['year','values']].plot(kind='bar')\n",
    "x\n",
    "#graph_1\n",
    "\n"
   ]
  },
  {
   "cell_type": "markdown",
   "metadata": {},
   "source": [
    "# Actual 2010 vs Actual 2015"
   ]
  },
  {
   "cell_type": "markdown",
   "metadata": {},
   "source": [
    "### Amount of energy used in 2010 vs 2015 \n"
   ]
  },
  {
   "cell_type": "markdown",
   "metadata": {},
   "source": [
    "#### What is the total amount of energy used in 2010?"
   ]
  },
  {
   "cell_type": "code",
   "execution_count": 145,
   "metadata": {},
   "outputs": [
    {
     "name": "stdout",
     "output_type": "stream",
     "text": [
      "The total transmission_kwh in 2010 : 38642398.919999994 kwh\n"
     ]
    }
   ],
   "source": [
    "energy = 119991 * 318.2 + 1208 * 381.84\n",
    "print (\"The total transmission_kwh in 2010 : \" + str(energy) + \" kwh\")"
   ]
  },
  {
   "cell_type": "markdown",
   "metadata": {},
   "source": [
    "#### What is the total amount of energy used in 2015?"
   ]
  },
  {
   "cell_type": "code",
   "execution_count": 146,
   "metadata": {},
   "outputs": [
    {
     "name": "stdout",
     "output_type": "stream",
     "text": [
      "The total transmission_kwh in 2015 : 106280028.252 kwh\n"
     ]
    }
   ],
   "source": [
    "energy1 = 106451 * 954.6 + 2092.98 * 2227.4\n",
    "print (\"The total transmission_kwh in 2015 : \" + str(energy1) + \" kwh\")"
   ]
  },
  {
   "cell_type": "markdown",
   "metadata": {},
   "source": [
    "#### What is the percent increase of energy used between 2010 and 2015?"
   ]
  },
  {
   "cell_type": "code",
   "execution_count": 147,
   "metadata": {},
   "outputs": [
    {
     "name": "stdout",
     "output_type": "stream",
     "text": [
      "The percentage increase of energy from 2010 to 2015 : 175.0347577334105%\n"
     ]
    }
   ],
   "source": [
    "increase = energy1 - energy\n",
    "percentage_inc = increase / energy * 100\n",
    "print (\"The percentage increase of energy from 2010 to 2015 : \" + str(percentage_inc) + \"%\")"
   ]
  },
  {
   "cell_type": "markdown",
   "metadata": {},
   "source": [
    "### Cumulative volume change 2010 vs 2015 "
   ]
  },
  {
   "cell_type": "markdown",
   "metadata": {},
   "source": [
    "#### What is the total amount of water transported in 2010?"
   ]
  },
  {
   "cell_type": "code",
   "execution_count": 148,
   "metadata": {},
   "outputs": [
    {
     "name": "stdout",
     "output_type": "stream",
     "text": [
      "The total volume of water transported in 2010: 121199\n"
     ]
    }
   ],
   "source": [
    "volume = 119991 + 1208\n",
    "print (\"The total volume of water transported in 2010: \" + str(volume))"
   ]
  },
  {
   "cell_type": "markdown",
   "metadata": {},
   "source": [
    "#### What is the total amount of water transported in 2015?"
   ]
  },
  {
   "cell_type": "code",
   "execution_count": 149,
   "metadata": {},
   "outputs": [
    {
     "name": "stdout",
     "output_type": "stream",
     "text": [
      "The total volume of water transported in 2015: 108543.98\n"
     ]
    }
   ],
   "source": [
    "volume1 = 106451 + 2092.98\n",
    "print (\"The total volume of water transported in 2015: \" + str(volume1))"
   ]
  },
  {
   "cell_type": "markdown",
   "metadata": {},
   "source": [
    "#### What is the percent increase of cumulative volume of water transported between 2010 and 2015?"
   ]
  },
  {
   "cell_type": "code",
   "execution_count": 150,
   "metadata": {},
   "outputs": [
    {
     "name": "stdout",
     "output_type": "stream",
     "text": [
      "The percentage decrease of volume of water transported from 2010 to 2015 : -10.441521794734284 %\n"
     ]
    }
   ],
   "source": [
    "decrease = volume1 - volume\n",
    "percentage_dec = decrease / volume * 100\n",
    "print (\"The percentage decrease of volume of water transported from 2010 to 2015 : \" + str(percentage_dec) + \" %\")"
   ]
  },
  {
   "cell_type": "markdown",
   "metadata": {},
   "source": [
    "# 2015 projection vs 2015 actual"
   ]
  },
  {
   "cell_type": "markdown",
   "metadata": {},
   "source": [
    "### Amount of energy used in 2015 predicted vs 2015  actual\n",
    "\n"
   ]
  },
  {
   "cell_type": "markdown",
   "metadata": {},
   "source": [
    "#### What is the total amount of energy predicted to be used in 2015?"
   ]
  },
  {
   "cell_type": "code",
   "execution_count": 151,
   "metadata": {},
   "outputs": [
    {
     "name": "stdout",
     "output_type": "stream",
     "text": [
      "Amount of Energy used in 2015 projection : 41614259.64 kwh\n"
     ]
    }
   ],
   "source": [
    "projection = 2556 * 381.84 + 127713 * 318.2\n",
    "print (\"Amount of Energy used in 2015 projection : \" + str(projection) + \" kwh\")"
   ]
  },
  {
   "cell_type": "markdown",
   "metadata": {},
   "source": [
    "#### What is the total amount of energy used in 2015?"
   ]
  },
  {
   "cell_type": "code",
   "execution_count": 152,
   "metadata": {},
   "outputs": [
    {
     "name": "stdout",
     "output_type": "stream",
     "text": [
      "Amount of Energy used in 2015 : 106280028.252 kwh\n"
     ]
    }
   ],
   "source": [
    "actual = 2092.98 * 2227.4 + 106451 * 954.6\n",
    "print (\"Amount of Energy used in 2015 : \" + str(actual) + \" kwh\")"
   ]
  },
  {
   "cell_type": "markdown",
   "metadata": {},
   "source": [
    "#### What is the difference of energy usage between 2015 predicted and 2015 actual?"
   ]
  },
  {
   "cell_type": "code",
   "execution_count": 153,
   "metadata": {},
   "outputs": [
    {
     "name": "stdout",
     "output_type": "stream",
     "text": [
      "The actual energy used in 2015 is 64665768.612 kwh greater than the projection made in 2010\n"
     ]
    }
   ],
   "source": [
    "diff = actual - projection\n",
    "print (\"The actual energy used in 2015 is \" + str(diff) + \" kwh\" + \" greater than the projection made in 2010\")"
   ]
  },
  {
   "cell_type": "markdown",
   "metadata": {},
   "source": [
    "###  Cumulative volume in 2015 projection vs 2015 actual"
   ]
  },
  {
   "cell_type": "markdown",
   "metadata": {},
   "source": [
    "#### What is the total amount of water predicted to be transported in 2010?"
   ]
  },
  {
   "cell_type": "code",
   "execution_count": 154,
   "metadata": {},
   "outputs": [
    {
     "name": "stdout",
     "output_type": "stream",
     "text": [
      "The projected amount of volume in 2015 : 130269\n"
     ]
    }
   ],
   "source": [
    "projection_v = 2556 + 127713\n",
    "print (\"The projected amount of volume in 2015 : \" + str(projection_v))"
   ]
  },
  {
   "cell_type": "markdown",
   "metadata": {},
   "source": [
    "#### What is the total amount of water transported in 2015?"
   ]
  },
  {
   "cell_type": "code",
   "execution_count": 155,
   "metadata": {},
   "outputs": [
    {
     "name": "stdout",
     "output_type": "stream",
     "text": [
      "The actual amount of volume in 2015 : 108543.98\n"
     ]
    }
   ],
   "source": [
    "actual_v = 2092.98 + 106451\n",
    "print (\"The actual amount of volume in 2015 : \" + str(actual_v))"
   ]
  },
  {
   "cell_type": "markdown",
   "metadata": {},
   "source": [
    "#### What is the difference of volume of water transported between 2015 predicted and 2015 actual?"
   ]
  },
  {
   "cell_type": "code",
   "execution_count": 156,
   "metadata": {},
   "outputs": [
    {
     "name": "stdout",
     "output_type": "stream",
     "text": [
      "The actual amount of volume used in 2015 is 21725.020000000004 less than the projected amount of volume\n"
     ]
    }
   ],
   "source": [
    "diff_v = actual_v - projection_v\n",
    "print (\"The actual amount of volume used in 2015 is \" + str(-diff_v) + \" less than the projected amount of volume\")"
   ]
  },
  {
   "cell_type": "markdown",
   "metadata": {},
   "source": [
    "## Discussion Questions"
   ]
  },
  {
   "cell_type": "markdown",
   "metadata": {
    "collapsed": true
   },
   "source": [
    "##### What do you think caused a significant increase of usage of energy between 2010 and 2015?"
   ]
  },
  {
   "cell_type": "code",
   "execution_count": null,
   "metadata": {
    "collapsed": true
   },
   "outputs": [],
   "source": []
  },
  {
   "cell_type": "markdown",
   "metadata": {},
   "source": [
    "##### What are the differences you can find between actual 2015 data and predicted 2015 data?"
   ]
  },
  {
   "cell_type": "code",
   "execution_count": null,
   "metadata": {
    "collapsed": true
   },
   "outputs": [],
   "source": []
  },
  {
   "cell_type": "markdown",
   "metadata": {},
   "source": [
    "##### Can you connect information found through the energy flow chart and the analysis done with San Jose Water Utility?"
   ]
  },
  {
   "cell_type": "code",
   "execution_count": null,
   "metadata": {
    "collapsed": true
   },
   "outputs": [],
   "source": []
  },
  {
   "cell_type": "markdown",
   "metadata": {},
   "source": [
    "## Can you do your own?"
   ]
  },
  {
   "cell_type": "markdown",
   "metadata": {},
   "source": [
    "### Let's try to do for Santa Monica!!!"
   ]
  },
  {
   "cell_type": "markdown",
   "metadata": {},
   "source": [
    "###### print 2010 actual, 2015 actual, and 2015 predicted data for Santa Monica\n",
    "the code for Santa Monica is 1807341E."
   ]
  },
  {
   "cell_type": "code",
   "execution_count": null,
   "metadata": {
    "collapsed": true
   },
   "outputs": [],
   "source": [
    "santamonica_2010 = ....where(data_2010['target'] == \"1807341E\")\n",
    "santamonica_2010"
   ]
  },
  {
   "cell_type": "code",
   "execution_count": null,
   "metadata": {
    "collapsed": true
   },
   "outputs": [],
   "source": [
    "data_2010_pred = data.where(...)\n",
    "santamonica_pred = data_2010_pred.where(...)\n",
    "santamonica_pred"
   ]
  },
  {
   "cell_type": "code",
   "execution_count": null,
   "metadata": {
    "collapsed": true
   },
   "outputs": [],
   "source": [
    "santamonica_water_actual = data_2015.where(...)\n",
    "santamonica_water_actual"
   ]
  },
  {
   "cell_type": "markdown",
   "metadata": {},
   "source": [
    "# Actual 2010 vs Predicted 2015\n",
    "\n"
   ]
  },
  {
   "cell_type": "markdown",
   "metadata": {},
   "source": [
    "### Amount of energy used in 2010 vs 2015 projection"
   ]
  },
  {
   "cell_type": "markdown",
   "metadata": {},
   "source": [
    "#### What is the total amount of energy used in 2010?"
   ]
  },
  {
   "cell_type": "code",
   "execution_count": null,
   "metadata": {
    "collapsed": true
   },
   "outputs": [],
   "source": [
    "actual_energy_2010 = ...\n",
    "print (\"Amount of Energy used in 2010 : \" + str(actual_energy_2010) + \" kwh\")"
   ]
  },
  {
   "cell_type": "markdown",
   "metadata": {},
   "source": [
    "#### What is the total amount of energy predicted to be used in 2015?"
   ]
  },
  {
   "cell_type": "code",
   "execution_count": null,
   "metadata": {
    "collapsed": true
   },
   "outputs": [],
   "source": [
    "projection_2015 = ...\n",
    "print (\"Amount of Energy used in 2015 projection : \" + str(projection_2015) + \" kwh\")"
   ]
  },
  {
   "cell_type": "markdown",
   "metadata": {},
   "source": [
    "#### What is the predicted percent increase of energy used between 2010 and 2015?"
   ]
  },
  {
   "cell_type": "code",
   "execution_count": null,
   "metadata": {
    "collapsed": true
   },
   "outputs": [],
   "source": [
    "diff_2010 = ...\n",
    "percent = ...\n",
    "print (\"Transmission energy is expected to increase by \" + str(percent) + \"%\")"
   ]
  },
  {
   "cell_type": "markdown",
   "metadata": {},
   "source": [
    "### Cumulative volume change 2010 vs 2015 projection\n"
   ]
  },
  {
   "cell_type": "markdown",
   "metadata": {},
   "source": [
    "#### What is the total amount of water transported in 2010?"
   ]
  },
  {
   "cell_type": "code",
   "execution_count": null,
   "metadata": {
    "collapsed": true
   },
   "outputs": [],
   "source": [
    "volume_2010 = ...\n",
    "print (\"Amount of volume used in 2010 : \" + str(volume_2010))"
   ]
  },
  {
   "cell_type": "markdown",
   "metadata": {},
   "source": [
    "#### What is the total amount of water predicted to be transported in 2015?"
   ]
  },
  {
   "cell_type": "code",
   "execution_count": null,
   "metadata": {
    "collapsed": true
   },
   "outputs": [],
   "source": [
    "volume_2015 = ...\n",
    "print (\"Amount of volume used in 2015 : \" + str(volume_2015))"
   ]
  },
  {
   "cell_type": "markdown",
   "metadata": {},
   "source": [
    "#### What is the predicted percent increase of cumulative volume of water transported between 2010 and 2015?"
   ]
  },
  {
   "cell_type": "code",
   "execution_count": null,
   "metadata": {
    "collapsed": true
   },
   "outputs": [],
   "source": [
    "percent_v = ...\n",
    "print (\"Volume of water expected to change by \" + str(percent_v) + \"% from 2010 and 2015\")"
   ]
  },
  {
   "cell_type": "markdown",
   "metadata": {},
   "source": [
    "# Actual 2010 vs Actual 2015"
   ]
  },
  {
   "cell_type": "markdown",
   "metadata": {},
   "source": [
    "### Amount of energy used in 2010 vs 2015 \n",
    "\n"
   ]
  },
  {
   "cell_type": "markdown",
   "metadata": {},
   "source": [
    "#### What is the total amount of energy used in 2010?"
   ]
  },
  {
   "cell_type": "code",
   "execution_count": null,
   "metadata": {
    "collapsed": true
   },
   "outputs": [],
   "source": [
    "energy = ...\n",
    "print (\"The total transmission_kwh in 2010 : \" + str(energy) + \" kwh\")"
   ]
  },
  {
   "cell_type": "markdown",
   "metadata": {},
   "source": [
    "#### What is the total amount of energy used in 2015?"
   ]
  },
  {
   "cell_type": "code",
   "execution_count": null,
   "metadata": {
    "collapsed": true
   },
   "outputs": [],
   "source": [
    "energy1 = ...\n",
    "print (\"The total transmission_kwh in 2015 : \" + str(energy1) + \" kwh\")"
   ]
  },
  {
   "cell_type": "markdown",
   "metadata": {},
   "source": [
    "#### What is the percent increase of energy used between 2010 and 2015?"
   ]
  },
  {
   "cell_type": "code",
   "execution_count": null,
   "metadata": {
    "collapsed": true
   },
   "outputs": [],
   "source": [
    "increase = ...\n",
    "percentage_inc = ...\n",
    "print (\"The percentage increase of energy from 2010 to 2015 : \" + str(percentage_inc) + \"%\")"
   ]
  },
  {
   "cell_type": "markdown",
   "metadata": {},
   "source": [
    "### Cumulative volume change 2010 vs 2015 "
   ]
  },
  {
   "cell_type": "markdown",
   "metadata": {},
   "source": [
    "#### What is the total amount of water transported in 2010?"
   ]
  },
  {
   "cell_type": "code",
   "execution_count": null,
   "metadata": {
    "collapsed": true
   },
   "outputs": [],
   "source": [
    "volume = ...\n",
    "print (\"The total volume of water transported in 2010: \" + str(volume))"
   ]
  },
  {
   "cell_type": "markdown",
   "metadata": {},
   "source": [
    "#### What is the total amount of water transported in 2015?"
   ]
  },
  {
   "cell_type": "code",
   "execution_count": null,
   "metadata": {
    "collapsed": true
   },
   "outputs": [],
   "source": [
    "volume1 = ...\n",
    "print (\"The total volume of water transported in 2015: \" + str(volume1))"
   ]
  },
  {
   "cell_type": "markdown",
   "metadata": {},
   "source": [
    "#### What is the percent increase of cumulative volume of water transported between 2010 and 2015?"
   ]
  },
  {
   "cell_type": "code",
   "execution_count": null,
   "metadata": {
    "collapsed": true
   },
   "outputs": [],
   "source": [
    "decrease = ...\n",
    "percentage_dec = ...\n",
    "print (\"The percentage decrease of volume of water transported from 2010 to 2015 : \" + str(percentage_dec) + \" %\")"
   ]
  },
  {
   "cell_type": "markdown",
   "metadata": {},
   "source": [
    "# 2015 projection vs 2015 actual"
   ]
  },
  {
   "cell_type": "markdown",
   "metadata": {},
   "source": [
    "### Amount of energy used in 2015 predicted vs 2015  actual\n",
    "\n"
   ]
  },
  {
   "cell_type": "markdown",
   "metadata": {},
   "source": [
    "#### What is the total amount of energy predicted to be used in 2015?"
   ]
  },
  {
   "cell_type": "code",
   "execution_count": null,
   "metadata": {
    "collapsed": true
   },
   "outputs": [],
   "source": [
    "projection = ...\n",
    "print (\"Amount of Energy used in 2015 projection : \" + str(projection) + \" kwh\")"
   ]
  },
  {
   "cell_type": "markdown",
   "metadata": {},
   "source": [
    "#### What is the total amount of energy used in 2015?"
   ]
  },
  {
   "cell_type": "code",
   "execution_count": null,
   "metadata": {
    "collapsed": true
   },
   "outputs": [],
   "source": [
    "actual = ...\n",
    "print (\"Amount of Energy used in 2015 : \" + str(actual) + \" kwh\")"
   ]
  },
  {
   "cell_type": "markdown",
   "metadata": {},
   "source": [
    "#### What is the difference of energy usage between 2015 predicted and 2015 actual?"
   ]
  },
  {
   "cell_type": "code",
   "execution_count": null,
   "metadata": {
    "collapsed": true
   },
   "outputs": [],
   "source": [
    "diff = ...\n",
    "print (\"The actual energy used in 2015 is \" + str(diff) + \" kwh\" + \" greater than the projection made in 2010\")"
   ]
  },
  {
   "cell_type": "markdown",
   "metadata": {},
   "source": [
    "###  Cumulative volume in 2015 projection vs 2015 actual"
   ]
  },
  {
   "cell_type": "markdown",
   "metadata": {},
   "source": [
    "#### What is the total amount of water predicted to be transported in 2010?"
   ]
  },
  {
   "cell_type": "code",
   "execution_count": null,
   "metadata": {
    "collapsed": true
   },
   "outputs": [],
   "source": [
    "projection_v = ...\n",
    "print (\"The projected amount of volume in 2015 : \" + str(projection_v))"
   ]
  },
  {
   "cell_type": "markdown",
   "metadata": {},
   "source": [
    "#### What is the total amount of water transported in 2015?"
   ]
  },
  {
   "cell_type": "code",
   "execution_count": null,
   "metadata": {
    "collapsed": true
   },
   "outputs": [],
   "source": [
    "actual_v = ...\n",
    "print (\"The actual amount of volume in 2015 : \" + str(actual_v))"
   ]
  },
  {
   "cell_type": "markdown",
   "metadata": {},
   "source": [
    "#### What is the difference of volume of water transported between 2015 predicted and 2015 actual?"
   ]
  },
  {
   "cell_type": "code",
   "execution_count": null,
   "metadata": {
    "collapsed": true
   },
   "outputs": [],
   "source": [
    "diff_v = ...\n",
    "print (\"The actual amount of volume used in 2015 is \" + str(-diff_v) + \" less than the projected amount of volume\")"
   ]
  },
  {
   "cell_type": "markdown",
   "metadata": {},
   "source": [
    "# DONE"
   ]
  },
  {
   "cell_type": "code",
   "execution_count": null,
   "metadata": {
    "collapsed": true
   },
   "outputs": [],
   "source": []
  }
 ],
 "metadata": {
  "kernelspec": {
   "display_name": "Python 3",
   "language": "python",
   "name": "python3"
  },
  "language_info": {
   "codemirror_mode": {
    "name": "ipython",
    "version": 3
   },
   "file_extension": ".py",
   "mimetype": "text/x-python",
   "name": "python",
   "nbconvert_exporter": "python",
   "pygments_lexer": "ipython3",
   "version": "3.6.8"
  }
 },
 "nbformat": 4,
 "nbformat_minor": 2
}
