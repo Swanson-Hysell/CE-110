{
 "cells": [
  {
   "cell_type": "code",
   "execution_count": 2,
   "metadata": {
    "collapsed": true
   },
   "outputs": [],
   "source": [
    "from datascience import *\n",
    "import numpy as np\n",
    "import matplotlib.pyplot as plt\n",
    "import pandas as pd\n",
    "%matplotlib inline"
   ]
  },
  {
   "cell_type": "markdown",
   "metadata": {},
   "source": [
    "Now you have visualized the utility network as well as water flor from immediate sources, we will analyze differences between years in energy consumption. We will be looking at the actual 2010 data, actual 2015 data, and the 2015 data predicted in 2010."
   ]
  },
  {
   "cell_type": "markdown",
   "metadata": {},
   "source": [
    "\n",
    "\n",
    "## Extract 2010 data and 2015 data\n",
    "\n",
    "We will import data from 2010 and 2015 utility network data. Each table will have a year column, which shows the current year and the future years used for prediction. The data_year column is the year that the values were measured and will be used for future prediction. The source column shows where the water is transported from and target column shows the receiving utility from its source. The cumulative_volume_af colume shows the total amount of volume transported from source and target. The transmission_kwh/af column shows the amount of energy used during the transmission, where kWh/AF = kiloWatt-hours required to pump an acre-foot of water through the irrigation system. Each row contains information on water flow and energy use between a water source and its target (utility)."
   ]
  },
  {
   "cell_type": "markdown",
   "metadata": {},
   "source": [
    "### Data\n",
    "This is the data observed in 2010 and 2015 for the utilties we are observing!"
   ]
  },
  {
   "cell_type": "code",
   "execution_count": 80,
   "metadata": {},
   "outputs": [
    {
     "data": {
      "text/html": [
       "<table border=\"1\" class=\"dataframe\">\n",
       "    <thead>\n",
       "        <tr>\n",
       "            <th>year</th> <th>data_year</th> <th>source</th> <th>target</th> <th>cumulative_volume_af</th> <th>transmission_kwh/af</th> <th>treatment_kwh/af</th> <th>used_vol_af</th>\n",
       "        </tr>\n",
       "    </thead>\n",
       "    <tbody>\n",
       "        <tr>\n",
       "            <td>2010</td> <td>2010     </td> <td>1801001PD </td> <td>1801001E</td> <td>1624                </td> <td>163.1              </td> <td>0               </td> <td>1624       </td>\n",
       "        </tr>\n",
       "        <tr>\n",
       "            <td>2010</td> <td>2010     </td> <td>1801007PD </td> <td>1801007E</td> <td>2015.2              </td> <td>163.1              </td> <td>0               </td> <td>2015.2     </td>\n",
       "        </tr>\n",
       "        <tr>\n",
       "            <td>2010</td> <td>2010     </td> <td>1801009PD </td> <td>1801009E</td> <td>2924.55             </td> <td>163.1              </td> <td>0               </td> <td>2924.55    </td>\n",
       "        </tr>\n",
       "        <tr>\n",
       "            <td>2010</td> <td>2010     </td> <td>1801011PD </td> <td>1801011E</td> <td>1350                </td> <td>163.1              </td> <td>0               </td> <td>1350       </td>\n",
       "        </tr>\n",
       "        <tr>\n",
       "            <td>2010</td> <td>2010     </td> <td>1801015PD </td> <td>1801015E</td> <td>840                 </td> <td>163.1              </td> <td>0               </td> <td>840        </td>\n",
       "        </tr>\n",
       "        <tr>\n",
       "            <td>2010</td> <td>2010     </td> <td>1801017PD </td> <td>1801017E</td> <td>1798.34             </td> <td>163.1              </td> <td>0               </td> <td>1798.34    </td>\n",
       "        </tr>\n",
       "        <tr>\n",
       "            <td>2010</td> <td>2010     </td> <td>1801019PD </td> <td>1801019E</td> <td>1414.56             </td> <td>163.1              </td> <td>0               </td> <td>1414.56    </td>\n",
       "        </tr>\n",
       "        <tr>\n",
       "            <td>2010</td> <td>2010     </td> <td>1801021NPD</td> <td>1801021E</td> <td>710                 </td> <td>195.72             </td> <td>0               </td> <td>710        </td>\n",
       "        </tr>\n",
       "        <tr>\n",
       "            <td>2010</td> <td>2010     </td> <td>1801021PD </td> <td>1801021E</td> <td>3098.08             </td> <td>163.1              </td> <td>0               </td> <td>3098.08    </td>\n",
       "        </tr>\n",
       "        <tr>\n",
       "            <td>2010</td> <td>2010     </td> <td>1801023NPD</td> <td>1801023E</td> <td>204                 </td> <td>195.72             </td> <td>0               </td> <td>204        </td>\n",
       "        </tr>\n",
       "    </tbody>\n",
       "</table>\n",
       "<p>... (1433 rows omitted)</p>"
      ],
      "text/plain": [
       "year | data_year | source     | target   | cumulative_volume_af | transmission_kwh/af | treatment_kwh/af | used_vol_af\n",
       "2010 | 2010      | 1801001PD  | 1801001E | 1624                 | 163.1               | 0                | 1624\n",
       "2010 | 2010      | 1801007PD  | 1801007E | 2015.2               | 163.1               | 0                | 2015.2\n",
       "2010 | 2010      | 1801009PD  | 1801009E | 2924.55              | 163.1               | 0                | 2924.55\n",
       "2010 | 2010      | 1801011PD  | 1801011E | 1350                 | 163.1               | 0                | 1350\n",
       "2010 | 2010      | 1801015PD  | 1801015E | 840                  | 163.1               | 0                | 840\n",
       "2010 | 2010      | 1801017PD  | 1801017E | 1798.34              | 163.1               | 0                | 1798.34\n",
       "2010 | 2010      | 1801019PD  | 1801019E | 1414.56              | 163.1               | 0                | 1414.56\n",
       "2010 | 2010      | 1801021NPD | 1801021E | 710                  | 195.72              | 0                | 710\n",
       "2010 | 2010      | 1801021PD  | 1801021E | 3098.08              | 163.1               | 0                | 3098.08\n",
       "2010 | 2010      | 1801023NPD | 1801023E | 204                  | 195.72              | 0                | 204\n",
       "... (1433 rows omitted)"
      ]
     },
     "execution_count": 80,
     "metadata": {},
     "output_type": "execute_result"
    }
   ],
   "source": [
    "data = Table().read_table('network.csv')\n",
    "data"
   ]
  },
  {
   "cell_type": "markdown",
   "metadata": {},
   "source": [
    "## Actual 2010 Data\n",
    "\n",
    "Let's get the actual observed data in 2010. By setting the column of the data table as 2010, we will be looking at the actual 2010 data."
   ]
  },
  {
   "cell_type": "code",
   "execution_count": 82,
   "metadata": {},
   "outputs": [
    {
     "data": {
      "text/html": [
       "<table border=\"1\" class=\"dataframe\">\n",
       "    <thead>\n",
       "        <tr>\n",
       "            <th>year</th> <th>data_year</th> <th>source</th> <th>target</th> <th>cumulative_volume_af</th> <th>transmission_kwh/af</th> <th>treatment_kwh/af</th> <th>used_vol_af</th>\n",
       "        </tr>\n",
       "    </thead>\n",
       "    <tbody>\n",
       "        <tr>\n",
       "            <td>2010</td> <td>2010     </td> <td>1801001PD </td> <td>1801001E</td> <td>1624                </td> <td>163.1              </td> <td>0               </td> <td>1624       </td>\n",
       "        </tr>\n",
       "        <tr>\n",
       "            <td>2010</td> <td>2010     </td> <td>1801007PD </td> <td>1801007E</td> <td>2015.2              </td> <td>163.1              </td> <td>0               </td> <td>2015.2     </td>\n",
       "        </tr>\n",
       "        <tr>\n",
       "            <td>2010</td> <td>2010     </td> <td>1801009PD </td> <td>1801009E</td> <td>2924.55             </td> <td>163.1              </td> <td>0               </td> <td>2924.55    </td>\n",
       "        </tr>\n",
       "        <tr>\n",
       "            <td>2010</td> <td>2010     </td> <td>1801011PD </td> <td>1801011E</td> <td>1350                </td> <td>163.1              </td> <td>0               </td> <td>1350       </td>\n",
       "        </tr>\n",
       "        <tr>\n",
       "            <td>2010</td> <td>2010     </td> <td>1801015PD </td> <td>1801015E</td> <td>840                 </td> <td>163.1              </td> <td>0               </td> <td>840        </td>\n",
       "        </tr>\n",
       "        <tr>\n",
       "            <td>2010</td> <td>2010     </td> <td>1801017PD </td> <td>1801017E</td> <td>1798.34             </td> <td>163.1              </td> <td>0               </td> <td>1798.34    </td>\n",
       "        </tr>\n",
       "        <tr>\n",
       "            <td>2010</td> <td>2010     </td> <td>1801019PD </td> <td>1801019E</td> <td>1414.56             </td> <td>163.1              </td> <td>0               </td> <td>1414.56    </td>\n",
       "        </tr>\n",
       "        <tr>\n",
       "            <td>2010</td> <td>2010     </td> <td>1801021NPD</td> <td>1801021E</td> <td>710                 </td> <td>195.72             </td> <td>0               </td> <td>710        </td>\n",
       "        </tr>\n",
       "        <tr>\n",
       "            <td>2010</td> <td>2010     </td> <td>1801021PD </td> <td>1801021E</td> <td>3098.08             </td> <td>163.1              </td> <td>0               </td> <td>3098.08    </td>\n",
       "        </tr>\n",
       "        <tr>\n",
       "            <td>2010</td> <td>2010     </td> <td>1801023NPD</td> <td>1801023E</td> <td>204                 </td> <td>195.72             </td> <td>0               </td> <td>204        </td>\n",
       "        </tr>\n",
       "    </tbody>\n",
       "</table>\n",
       "<p>... (508 rows omitted)</p>"
      ],
      "text/plain": [
       "year | data_year | source     | target   | cumulative_volume_af | transmission_kwh/af | treatment_kwh/af | used_vol_af\n",
       "2010 | 2010      | 1801001PD  | 1801001E | 1624                 | 163.1               | 0                | 1624\n",
       "2010 | 2010      | 1801007PD  | 1801007E | 2015.2               | 163.1               | 0                | 2015.2\n",
       "2010 | 2010      | 1801009PD  | 1801009E | 2924.55              | 163.1               | 0                | 2924.55\n",
       "2010 | 2010      | 1801011PD  | 1801011E | 1350                 | 163.1               | 0                | 1350\n",
       "2010 | 2010      | 1801015PD  | 1801015E | 840                  | 163.1               | 0                | 840\n",
       "2010 | 2010      | 1801017PD  | 1801017E | 1798.34              | 163.1               | 0                | 1798.34\n",
       "2010 | 2010      | 1801019PD  | 1801019E | 1414.56              | 163.1               | 0                | 1414.56\n",
       "2010 | 2010      | 1801021NPD | 1801021E | 710                  | 195.72              | 0                | 710\n",
       "2010 | 2010      | 1801021PD  | 1801021E | 3098.08              | 163.1               | 0                | 3098.08\n",
       "2010 | 2010      | 1801023NPD | 1801023E | 204                  | 195.72              | 0                | 204\n",
       "... (508 rows omitted)"
      ]
     },
     "execution_count": 82,
     "metadata": {},
     "output_type": "execute_result"
    }
   ],
   "source": [
    "#Getting data for 2010.\n",
    "#data_2010 = network.where('year',are.equal_to(2010))\n",
    "data_2010 = data.where('year', are.equal_to('2010'))\n",
    "data_2010"
   ]
  },
  {
   "cell_type": "markdown",
   "metadata": {},
   "source": [
    "## Let's try extracting data for a specific utility.\n",
    "### This is an example for Cerritos (1807057E).\n",
    "We will first get the 2010 data for Cerritos utility by setting the target column to be equal to the utility code.\n",
    "##### Cerritos"
   ]
  },
  {
   "cell_type": "code",
   "execution_count": 46,
   "metadata": {},
   "outputs": [
    {
     "data": {
      "text/html": [
       "<table border=\"1\" class=\"dataframe\">\n",
       "    <thead>\n",
       "        <tr>\n",
       "            <th>year</th> <th>data_year</th> <th>source</th> <th>target</th> <th>cumulative_volume_af</th> <th>transmission_kwh/af</th> <th>treatment_kwh/af</th> <th>used_vol_af</th>\n",
       "        </tr>\n",
       "    </thead>\n",
       "    <tbody>\n",
       "        <tr>\n",
       "            <td>2010</td> <td>2010     </td> <td>1807057NPD</td> <td>1807057E</td> <td>1870                </td> <td>195.72             </td> <td>0               </td> <td>1870       </td>\n",
       "        </tr>\n",
       "        <tr>\n",
       "            <td>2010</td> <td>2010     </td> <td>1807057PD </td> <td>1807057E</td> <td>6048                </td> <td>163.1              </td> <td>0               </td> <td>6048       </td>\n",
       "        </tr>\n",
       "    </tbody>\n",
       "</table>"
      ],
      "text/plain": [
       "year | data_year | source     | target   | cumulative_volume_af | transmission_kwh/af | treatment_kwh/af | used_vol_af\n",
       "2010 | 2010      | 1807057NPD | 1807057E | 1870                 | 195.72              | 0                | 1870\n",
       "2010 | 2010      | 1807057PD  | 1807057E | 6048                 | 163.1               | 0                | 6048"
      ]
     },
     "execution_count": 46,
     "metadata": {},
     "output_type": "execute_result"
    }
   ],
   "source": [
    "#Actual 2010 data for Cerritos utility\n",
    "cerritos = data_2010.where(\"target\",are.equal_to(\"1807057E\"))\n",
    "cerritos"
   ]
  },
  {
   "cell_type": "markdown",
   "metadata": {},
   "source": [
    "#### Sort by the amount of cumulative volume\n",
    "\n",
    "By sorting the table by the amount of cumulative volume, we can see which source the target received most amount of water from."
   ]
  },
  {
   "cell_type": "code",
   "execution_count": 47,
   "metadata": {},
   "outputs": [
    {
     "data": {
      "text/html": [
       "<table border=\"1\" class=\"dataframe\">\n",
       "    <thead>\n",
       "        <tr>\n",
       "            <th>year</th> <th>data_year</th> <th>source</th> <th>target</th> <th>cumulative_volume_af</th> <th>transmission_kwh/af</th> <th>treatment_kwh/af</th> <th>used_vol_af</th>\n",
       "        </tr>\n",
       "    </thead>\n",
       "    <tbody>\n",
       "        <tr>\n",
       "            <td>2010</td> <td>2010     </td> <td>1807057PD </td> <td>1807057E</td> <td>6048                </td> <td>163.1              </td> <td>0               </td> <td>6048       </td>\n",
       "        </tr>\n",
       "        <tr>\n",
       "            <td>2010</td> <td>2010     </td> <td>1807057NPD</td> <td>1807057E</td> <td>1870                </td> <td>195.72             </td> <td>0               </td> <td>1870       </td>\n",
       "        </tr>\n",
       "    </tbody>\n",
       "</table>"
      ],
      "text/plain": [
       "year | data_year | source     | target   | cumulative_volume_af | transmission_kwh/af | treatment_kwh/af | used_vol_af\n",
       "2010 | 2010      | 1807057PD  | 1807057E | 6048                 | 163.1               | 0                | 6048\n",
       "2010 | 2010      | 1807057NPD | 1807057E | 1870                 | 195.72              | 0                | 1870"
      ]
     },
     "execution_count": 47,
     "metadata": {},
     "output_type": "execute_result"
    }
   ],
   "source": [
    "#where do they get most water?\n",
    "cerritos = cerritos.sort('cumulative_volume_af', descending = True)\n",
    "cerritos"
   ]
  },
  {
   "cell_type": "markdown",
   "metadata": {},
   "source": [
    "## Try your own!\n",
    "\n",
    "### Find the 2010 data for your utility."
   ]
  },
  {
   "cell_type": "markdown",
   "metadata": {},
   "source": [
    "##### Utility"
   ]
  },
  {
   "cell_type": "code",
   "execution_count": 8,
   "metadata": {},
   "outputs": [],
   "source": [
    "#Find the actual 2010 for your utility\n",
    "utility = data.where(\"target\",are.equal_to(\"YOUR UTILITY CODE\"))\n",
    "utility"
   ]
  },
  {
   "cell_type": "markdown",
   "metadata": {},
   "source": [
    "##### Sort by the amount of cumulative volume."
   ]
  },
  {
   "cell_type": "code",
   "execution_count": null,
   "metadata": {
    "collapsed": true
   },
   "outputs": [],
   "source": [
    "#where do they get most water?\n",
    "utility = utility.sort(...)\n",
    "utility"
   ]
  },
  {
   "cell_type": "markdown",
   "metadata": {},
   "source": [
    "## Actual 2015 Data\n",
    "We will now get the actual 2015 data by finding the rows in data_1 table where the year is equal to 2015."
   ]
  },
  {
   "cell_type": "code",
   "execution_count": 49,
   "metadata": {},
   "outputs": [
    {
     "data": {
      "text/html": [
       "<table border=\"1\" class=\"dataframe\">\n",
       "    <thead>\n",
       "        <tr>\n",
       "            <th>year</th> <th>data_year</th> <th>source</th> <th>target</th> <th>cumulative_volume_af</th> <th>transmission_kwh/af</th> <th>treatment_kwh/af</th> <th>used_vol_af</th>\n",
       "        </tr>\n",
       "    </thead>\n",
       "    <tbody>\n",
       "        <tr>\n",
       "            <td>2015</td> <td>2015     </td> <td>1803007PD </td> <td>1803007E</td> <td>3145.61             </td> <td>17.6               </td> <td>0               </td> <td>3145.61    </td>\n",
       "        </tr>\n",
       "        <tr>\n",
       "            <td>2015</td> <td>2015     </td> <td>1803009PD </td> <td>1803009E</td> <td>55032               </td> <td>1284               </td> <td>0               </td> <td>55032      </td>\n",
       "        </tr>\n",
       "        <tr>\n",
       "            <td>2015</td> <td>2015     </td> <td>1803013PD </td> <td>1803013E</td> <td>688                 </td> <td>2000               </td> <td>0               </td> <td>688        </td>\n",
       "        </tr>\n",
       "        <tr>\n",
       "            <td>2015</td> <td>2015     </td> <td>1803015PD </td> <td>1803015E</td> <td>3952                </td> <td>17.6               </td> <td>0               </td> <td>3952       </td>\n",
       "        </tr>\n",
       "        <tr>\n",
       "            <td>2015</td> <td>2015     </td> <td>1803017PD </td> <td>1803017E</td> <td>24854               </td> <td>17.6               </td> <td>0               </td> <td>24854      </td>\n",
       "        </tr>\n",
       "        <tr>\n",
       "            <td>2015</td> <td>2015     </td> <td>1803019NPD</td> <td>1803019E</td> <td>2143                </td> <td>42.24              </td> <td>0               </td> <td>2143       </td>\n",
       "        </tr>\n",
       "        <tr>\n",
       "            <td>2015</td> <td>2015     </td> <td>1803019PD </td> <td>1803019E</td> <td>11704.7             </td> <td>35.2               </td> <td>0               </td> <td>11704.7    </td>\n",
       "        </tr>\n",
       "        <tr>\n",
       "            <td>2015</td> <td>2015     </td> <td>1803027PD </td> <td>1803027E</td> <td>4842.57             </td> <td>17.6               </td> <td>0               </td> <td>4842.57    </td>\n",
       "        </tr>\n",
       "        <tr>\n",
       "            <td>2015</td> <td>2015     </td> <td>1803029PD </td> <td>1803029E</td> <td>7502                </td> <td>35.2               </td> <td>0               </td> <td>7502       </td>\n",
       "        </tr>\n",
       "        <tr>\n",
       "            <td>2015</td> <td>2015     </td> <td>1803033NPD</td> <td>1803033E</td> <td>15022               </td> <td>84.48              </td> <td>0               </td> <td>15022      </td>\n",
       "        </tr>\n",
       "    </tbody>\n",
       "</table>\n",
       "<p>... (360 rows omitted)</p>"
      ],
      "text/plain": [
       "year | data_year | source     | target   | cumulative_volume_af | transmission_kwh/af | treatment_kwh/af | used_vol_af\n",
       "2015 | 2015      | 1803007PD  | 1803007E | 3145.61              | 17.6                | 0                | 3145.61\n",
       "2015 | 2015      | 1803009PD  | 1803009E | 55032                | 1284                | 0                | 55032\n",
       "2015 | 2015      | 1803013PD  | 1803013E | 688                  | 2000                | 0                | 688\n",
       "2015 | 2015      | 1803015PD  | 1803015E | 3952                 | 17.6                | 0                | 3952\n",
       "2015 | 2015      | 1803017PD  | 1803017E | 24854                | 17.6                | 0                | 24854\n",
       "2015 | 2015      | 1803019NPD | 1803019E | 2143                 | 42.24               | 0                | 2143\n",
       "2015 | 2015      | 1803019PD  | 1803019E | 11704.7              | 35.2                | 0                | 11704.7\n",
       "2015 | 2015      | 1803027PD  | 1803027E | 4842.57              | 17.6                | 0                | 4842.57\n",
       "2015 | 2015      | 1803029PD  | 1803029E | 7502                 | 35.2                | 0                | 7502\n",
       "2015 | 2015      | 1803033NPD | 1803033E | 15022                | 84.48               | 0                | 15022\n",
       "... (360 rows omitted)"
      ]
     },
     "execution_count": 49,
     "metadata": {},
     "output_type": "execute_result"
    }
   ],
   "source": [
    "#Getting data for 2015.\n",
    "data_2015 = data.where('year',are.equal_to('2015'))\n",
    "data_2015"
   ]
  },
  {
   "cell_type": "markdown",
   "metadata": {},
   "source": [
    "## Extracting data in 2015 for Cerritos (1807057E)\n",
    "Let's get the 2015 data for Cerritos utility by setting the target column to be equal to its utility code."
   ]
  },
  {
   "cell_type": "markdown",
   "metadata": {},
   "source": [
    "##### Cerritos"
   ]
  },
  {
   "cell_type": "code",
   "execution_count": 50,
   "metadata": {},
   "outputs": [
    {
     "data": {
      "text/html": [
       "<table border=\"1\" class=\"dataframe\">\n",
       "    <thead>\n",
       "        <tr>\n",
       "            <th>year</th> <th>data_year</th> <th>source</th> <th>target</th> <th>cumulative_volume_af</th> <th>transmission_kwh/af</th> <th>treatment_kwh/af</th> <th>used_vol_af</th>\n",
       "        </tr>\n",
       "    </thead>\n",
       "    <tbody>\n",
       "        <tr>\n",
       "            <td>2015</td> <td>2015     </td> <td>1807057NPD</td> <td>1807057E</td> <td>2335                </td> <td>195.72             </td> <td>0               </td> <td>2335       </td>\n",
       "        </tr>\n",
       "        <tr>\n",
       "            <td>2015</td> <td>2015     </td> <td>1807057PD </td> <td>1807057E</td> <td>8460                </td> <td>326.2              </td> <td>0               </td> <td>8460       </td>\n",
       "        </tr>\n",
       "    </tbody>\n",
       "</table>"
      ],
      "text/plain": [
       "year | data_year | source     | target   | cumulative_volume_af | transmission_kwh/af | treatment_kwh/af | used_vol_af\n",
       "2015 | 2015      | 1807057NPD | 1807057E | 2335                 | 195.72              | 0                | 2335\n",
       "2015 | 2015      | 1807057PD  | 1807057E | 8460                 | 326.2               | 0                | 8460"
      ]
     },
     "execution_count": 50,
     "metadata": {},
     "output_type": "execute_result"
    }
   ],
   "source": [
    "cerritos_2015 = data_2015.where(\"target\", are.equal_to(\"1807057E\"))\n",
    "cerritos_2015\n"
   ]
  },
  {
   "cell_type": "markdown",
   "metadata": {},
   "source": [
    "## Try extracting 2015 data for your own utility!\n",
    "Similar to what you did for the 2010 data, find where the target column is equal to your utility code."
   ]
  },
  {
   "cell_type": "markdown",
   "metadata": {},
   "source": [
    "##### Utility"
   ]
  },
  {
   "cell_type": "code",
   "execution_count": 10,
   "metadata": {},
   "outputs": [
    {
     "data": {
      "text/plain": [
       "Ellipsis"
      ]
     },
     "execution_count": 10,
     "metadata": {},
     "output_type": "execute_result"
    }
   ],
   "source": [
    "#Data where target = YOUR UTILITY CODE\n",
    "utility_2015 = ...\n",
    "utility_2015"
   ]
  },
  {
   "cell_type": "markdown",
   "metadata": {},
   "source": [
    "##### Sort the values by cumulative volume"
   ]
  },
  {
   "cell_type": "code",
   "execution_count": null,
   "metadata": {
    "collapsed": true
   },
   "outputs": [],
   "source": [
    "#where do they get most water?\n",
    "utility_2015 = utility_2015.sort(...)\n",
    "utility_2015"
   ]
  },
  {
   "cell_type": "markdown",
   "metadata": {},
   "source": [
    "# Lets combine data from 2010 and 2015 found above!\n",
    "Using the `table.append(table2)` function, we can combine actual 2010 data and actual 2015 data. By combining these two tables, we can easily compare the energy and water volume difference between 2010 and 2015.\n",
    "#### Below is an example for Cerritos Water utility."
   ]
  },
  {
   "cell_type": "markdown",
   "metadata": {},
   "source": [
    "#### Cerritos"
   ]
  },
  {
   "cell_type": "code",
   "execution_count": 51,
   "metadata": {},
   "outputs": [
    {
     "data": {
      "text/html": [
       "<table border=\"1\" class=\"dataframe\">\n",
       "    <thead>\n",
       "        <tr>\n",
       "            <th>year</th> <th>data_year</th> <th>source</th> <th>target</th> <th>cumulative_volume_af</th> <th>transmission_kwh/af</th> <th>treatment_kwh/af</th> <th>used_vol_af</th>\n",
       "        </tr>\n",
       "    </thead>\n",
       "    <tbody>\n",
       "        <tr>\n",
       "            <td>2010</td> <td>2010     </td> <td>1807057PD </td> <td>1807057E</td> <td>6048                </td> <td>163.1              </td> <td>0               </td> <td>6048       </td>\n",
       "        </tr>\n",
       "        <tr>\n",
       "            <td>2010</td> <td>2010     </td> <td>1807057NPD</td> <td>1807057E</td> <td>1870                </td> <td>195.72             </td> <td>0               </td> <td>1870       </td>\n",
       "        </tr>\n",
       "        <tr>\n",
       "            <td>2015</td> <td>2015     </td> <td>1807057NPD</td> <td>1807057E</td> <td>2335                </td> <td>195.72             </td> <td>0               </td> <td>2335       </td>\n",
       "        </tr>\n",
       "        <tr>\n",
       "            <td>2015</td> <td>2015     </td> <td>1807057PD </td> <td>1807057E</td> <td>8460                </td> <td>326.2              </td> <td>0               </td> <td>8460       </td>\n",
       "        </tr>\n",
       "    </tbody>\n",
       "</table>"
      ],
      "text/plain": [
       "year | data_year | source     | target   | cumulative_volume_af | transmission_kwh/af | treatment_kwh/af | used_vol_af\n",
       "2010 | 2010      | 1807057PD  | 1807057E | 6048                 | 163.1               | 0                | 6048\n",
       "2010 | 2010      | 1807057NPD | 1807057E | 1870                 | 195.72              | 0                | 1870\n",
       "2015 | 2015      | 1807057NPD | 1807057E | 2335                 | 195.72              | 0                | 2335\n",
       "2015 | 2015      | 1807057PD  | 1807057E | 8460                 | 326.2               | 0                | 8460"
      ]
     },
     "execution_count": 51,
     "metadata": {},
     "output_type": "execute_result"
    }
   ],
   "source": [
    "#combine the actual 2010 data and actual 2015 data\n",
    "cerritos_water_final = cerritos.append(cerritos_2015)\n",
    "cerritos_water_final"
   ]
  },
  {
   "cell_type": "markdown",
   "metadata": {},
   "source": [
    "### Make an appended table of your own utility.\n",
    "##### Utility"
   ]
  },
  {
   "cell_type": "code",
   "execution_count": 134,
   "metadata": {},
   "outputs": [
    {
     "data": {
      "text/plain": [
       "Ellipsis"
      ]
     },
     "execution_count": 134,
     "metadata": {},
     "output_type": "execute_result"
    }
   ],
   "source": [
    "#combine the actual 2010 data and actual 2015 data\n",
    "utility_final = ...\n",
    "utility_final"
   ]
  },
  {
   "cell_type": "markdown",
   "metadata": {},
   "source": [
    "# Let's Observe Cerritos Water Utility \n",
    "\n",
    "<div style = \"color:green\"> At this point, students will be wondering \"What are we doing with all of this data? Why are we given thsese formulas?\" Explain what you're about to do. Explain why you're introducing them these formulas. Provide detailed instructions, don't rely too much on headings. I should see short paragraphs in normal font (not headings font) that provide instruction and describe why you are doing what you are doing. </div>"
   ]
  },
  {
   "cell_type": "code",
   "execution_count": 52,
   "metadata": {},
   "outputs": [
    {
     "data": {
      "text/html": [
       "<table border=\"1\" class=\"dataframe\">\n",
       "    <thead>\n",
       "        <tr>\n",
       "            <th>year</th> <th>data_year</th> <th>source</th> <th>target</th> <th>cumulative_volume_af</th> <th>transmission_kwh/af</th> <th>treatment_kwh/af</th> <th>used_vol_af</th>\n",
       "        </tr>\n",
       "    </thead>\n",
       "    <tbody>\n",
       "        <tr>\n",
       "            <td>2010</td> <td>2010     </td> <td>1807057PD </td> <td>1807057E</td> <td>6048                </td> <td>163.1              </td> <td>0               </td> <td>6048       </td>\n",
       "        </tr>\n",
       "        <tr>\n",
       "            <td>2010</td> <td>2010     </td> <td>1807057NPD</td> <td>1807057E</td> <td>1870                </td> <td>195.72             </td> <td>0               </td> <td>1870       </td>\n",
       "        </tr>\n",
       "        <tr>\n",
       "            <td>2015</td> <td>2015     </td> <td>1807057NPD</td> <td>1807057E</td> <td>2335                </td> <td>195.72             </td> <td>0               </td> <td>2335       </td>\n",
       "        </tr>\n",
       "        <tr>\n",
       "            <td>2015</td> <td>2015     </td> <td>1807057PD </td> <td>1807057E</td> <td>8460                </td> <td>326.2              </td> <td>0               </td> <td>8460       </td>\n",
       "        </tr>\n",
       "    </tbody>\n",
       "</table>"
      ],
      "text/plain": [
       "year | data_year | source     | target   | cumulative_volume_af | transmission_kwh/af | treatment_kwh/af | used_vol_af\n",
       "2010 | 2010      | 1807057PD  | 1807057E | 6048                 | 163.1               | 0                | 6048\n",
       "2010 | 2010      | 1807057NPD | 1807057E | 1870                 | 195.72              | 0                | 1870\n",
       "2015 | 2015      | 1807057NPD | 1807057E | 2335                 | 195.72              | 0                | 2335\n",
       "2015 | 2015      | 1807057PD  | 1807057E | 8460                 | 326.2               | 0                | 8460"
      ]
     },
     "execution_count": 52,
     "metadata": {},
     "output_type": "execute_result"
    }
   ],
   "source": [
    "cerritos_water_final"
   ]
  },
  {
   "cell_type": "markdown",
   "metadata": {},
   "source": [
    "# Formulas\n",
    "## How to calculate the amount of energy used.\n",
    "- transmission_kwh = cumulative_volume_af * transmission_kwh/af\n",
    "\n",
    "## How to calculate the percentage increase.\n",
    "- Increase = New Number - Original Number\n",
    "- % Increase = Increase / Original Number * 100"
   ]
  },
  {
   "cell_type": "markdown",
   "metadata": {},
   "source": [
    "Before jumping into analysis, let's get all the data tables we need for our analysis. We will be looking at the actual 2010 data, predicted 2015 data (from 2010), and actual 2015 data.\n",
    "\n"
   ]
  },
  {
   "cell_type": "markdown",
   "metadata": {},
   "source": [
    "#### Actual 2010 Data"
   ]
  },
  {
   "cell_type": "code",
   "execution_count": 53,
   "metadata": {},
   "outputs": [
    {
     "data": {
      "text/html": [
       "<table border=\"1\" class=\"dataframe\">\n",
       "    <thead>\n",
       "        <tr>\n",
       "            <th>year</th> <th>data_year</th> <th>source</th> <th>target</th> <th>cumulative_volume_af</th> <th>transmission_kwh/af</th> <th>treatment_kwh/af</th> <th>used_vol_af</th>\n",
       "        </tr>\n",
       "    </thead>\n",
       "    <tbody>\n",
       "        <tr>\n",
       "            <td>2010</td> <td>2010     </td> <td>1807057NPD</td> <td>1807057E</td> <td>1870                </td> <td>195.72             </td> <td>0               </td> <td>1870       </td>\n",
       "        </tr>\n",
       "        <tr>\n",
       "            <td>2010</td> <td>2010     </td> <td>1807057PD </td> <td>1807057E</td> <td>6048                </td> <td>163.1              </td> <td>0               </td> <td>6048       </td>\n",
       "        </tr>\n",
       "    </tbody>\n",
       "</table>"
      ],
      "text/plain": [
       "year | data_year | source     | target   | cumulative_volume_af | transmission_kwh/af | treatment_kwh/af | used_vol_af\n",
       "2010 | 2010      | 1807057NPD | 1807057E | 1870                 | 195.72              | 0                | 1870\n",
       "2010 | 2010      | 1807057PD  | 1807057E | 6048                 | 163.1               | 0                | 6048"
      ]
     },
     "execution_count": 53,
     "metadata": {},
     "output_type": "execute_result"
    }
   ],
   "source": [
    "cerritos_2010 = data_2010.where(\"target\", are.equal_to(\"1807057E\"))\n",
    "cerritos_2010"
   ]
  },
  {
   "cell_type": "markdown",
   "metadata": {},
   "source": [
    "#### Predicted 2015 Data"
   ]
  },
  {
   "cell_type": "code",
   "execution_count": 56,
   "metadata": {},
   "outputs": [
    {
     "data": {
      "text/html": [
       "<table border=\"1\" class=\"dataframe\">\n",
       "    <thead>\n",
       "        <tr>\n",
       "            <th>year</th> <th>data_year</th> <th>source</th> <th>target</th> <th>cumulative_volume_af</th> <th>transmission_kwh/af</th> <th>treatment_kwh/af</th> <th>used_vol_af</th>\n",
       "        </tr>\n",
       "    </thead>\n",
       "    <tbody>\n",
       "        <tr>\n",
       "            <td>Predicted 2015</td> <td>2010     </td> <td>1807057NPD</td> <td>1807057E</td> <td>2046                </td> <td>195.72             </td> <td>0               </td> <td>2046       </td>\n",
       "        </tr>\n",
       "        <tr>\n",
       "            <td>Predicted 2015</td> <td>2010     </td> <td>1807057PD </td> <td>1807057E</td> <td>7410                </td> <td>163.1              </td> <td>0               </td> <td>7410       </td>\n",
       "        </tr>\n",
       "    </tbody>\n",
       "</table>"
      ],
      "text/plain": [
       "year           | data_year | source     | target   | cumulative_volume_af | transmission_kwh/af | treatment_kwh/af | used_vol_af\n",
       "Predicted 2015 | 2010      | 1807057NPD | 1807057E | 2046                 | 195.72              | 0                | 2046\n",
       "Predicted 2015 | 2010      | 1807057PD  | 1807057E | 7410                 | 163.1               | 0                | 7410"
      ]
     },
     "execution_count": 56,
     "metadata": {},
     "output_type": "execute_result"
    }
   ],
   "source": [
    "data_2010_pred = data.where('year', are.equal_to('Predicted 2015'))\n",
    "cerritos_2015p = data_2010_pred.where(\"target\",are.equal_to(\"1807057E\"))\n",
    "cerritos_2015p\n"
   ]
  },
  {
   "cell_type": "markdown",
   "metadata": {},
   "source": [
    "#### Actual 2015 Data"
   ]
  },
  {
   "cell_type": "code",
   "execution_count": 57,
   "metadata": {},
   "outputs": [
    {
     "data": {
      "text/html": [
       "<table border=\"1\" class=\"dataframe\">\n",
       "    <thead>\n",
       "        <tr>\n",
       "            <th>year</th> <th>data_year</th> <th>source</th> <th>target</th> <th>cumulative_volume_af</th> <th>transmission_kwh/af</th> <th>treatment_kwh/af</th> <th>used_vol_af</th>\n",
       "        </tr>\n",
       "    </thead>\n",
       "    <tbody>\n",
       "        <tr>\n",
       "            <td>2015</td> <td>2015     </td> <td>1807057NPD</td> <td>1807057E</td> <td>2335                </td> <td>195.72             </td> <td>0               </td> <td>2335       </td>\n",
       "        </tr>\n",
       "        <tr>\n",
       "            <td>2015</td> <td>2015     </td> <td>1807057PD </td> <td>1807057E</td> <td>8460                </td> <td>326.2              </td> <td>0               </td> <td>8460       </td>\n",
       "        </tr>\n",
       "    </tbody>\n",
       "</table>"
      ],
      "text/plain": [
       "year | data_year | source     | target   | cumulative_volume_af | transmission_kwh/af | treatment_kwh/af | used_vol_af\n",
       "2015 | 2015      | 1807057NPD | 1807057E | 2335                 | 195.72              | 0                | 2335\n",
       "2015 | 2015      | 1807057PD  | 1807057E | 8460                 | 326.2               | 0                | 8460"
      ]
     },
     "execution_count": 57,
     "metadata": {},
     "output_type": "execute_result"
    }
   ],
   "source": [
    "cerritos_2015 = data_2015.where(\"target\",are.equal_to(\"1807057E\"))\n",
    "cerritos_2015"
   ]
  },
  {
   "cell_type": "markdown",
   "metadata": {},
   "source": [
    "# PART I. Actual 2010 vs Predicted 2015\n",
    "\n",
    "<div style = \"color:green\">Do you think all of these individual calculations can be done all at once and displayed neatly in a table? It's a little hard the follow each individual code block that prints out one number and get an idea of a phenomenon.</div>\n",
    "Let's observe the actual 2010 data and predicted 2015 data made in 2010."
   ]
  },
  {
   "cell_type": "markdown",
   "metadata": {},
   "source": [
    "### Amount of energy used in 2010 vs 2015 projection"
   ]
  },
  {
   "cell_type": "markdown",
   "metadata": {},
   "source": [
    "#### What is the total amount of energy used in 2010?\n",
    "\n",
    "As shown in the given formulas above, the total amount of energy is a sum of cumulative_volume_af * transmission_kwh/af from each source.\n",
    "\n",
    "<div style = \"color:green\"> Explain your code here: why are you doing what you are doing? Try to keep your code blocks as simple and clean as possible so you don't intimidate any students.</div>"
   ]
  },
  {
   "cell_type": "code",
   "execution_count": 58,
   "metadata": {},
   "outputs": [
    {
     "name": "stdout",
     "output_type": "stream",
     "text": [
      "Amount of Energy used in 2010 : 1352425.2 kwh\n"
     ]
    }
   ],
   "source": [
    "cerritos_2010 = cerritos_2010.with_column('Total Energy', cerritos_2010.column('cumulative_volume_af')*cerritos_2010.column(\"transmission_kwh/af\"))\n",
    "actual_energy_2010 = cerritos_2010.column(\"Total Energy\").sum()\n",
    "print (\"Amount of Energy used in 2010 : \" + str(actual_energy_2010) + \" kwh\")"
   ]
  },
  {
   "cell_type": "markdown",
   "metadata": {},
   "source": [
    "#### What is the total amount of energy predicted to be used in 2015?"
   ]
  },
  {
   "cell_type": "code",
   "execution_count": 59,
   "metadata": {},
   "outputs": [
    {
     "name": "stdout",
     "output_type": "stream",
     "text": [
      "Amount of Energy used in 2015 projection : 1609014.12 kwh\n"
     ]
    }
   ],
   "source": [
    "cerritos_2015p = cerritos_2015p.with_column('Total Energy', cerritos_2015p.column('cumulative_volume_af')*cerritos_2015p.column(\"transmission_kwh/af\"))\n",
    "projection_energy_2015 = cerritos_2015p.column(\"Total Energy\").sum()\n",
    "print (\"Amount of Energy used in 2015 projection : \" + str(projection_energy_2015) + \" kwh\")"
   ]
  },
  {
   "cell_type": "markdown",
   "metadata": {},
   "source": [
    "#### What is the predicted percent increase of energy used between 2010 and 2015?"
   ]
  },
  {
   "cell_type": "code",
   "execution_count": 60,
   "metadata": {},
   "outputs": [
    {
     "name": "stdout",
     "output_type": "stream",
     "text": [
      "Transmission energy is expected to increase by 0.189725036179%\n"
     ]
    }
   ],
   "source": [
    "diff_2010 = projection_energy_2015 - actual_energy_2010\n",
    "percent = diff_2010 / actual_energy_2010\n",
    "print (\"Transmission energy is expected to increase by \" + str(percent) + \"%\")"
   ]
  },
  {
   "cell_type": "markdown",
   "metadata": {},
   "source": [
    "### Cumulative volume change 2010 vs 2015 projection\n",
    "We can find the cumulative volume by adding the cumulative_volume column."
   ]
  },
  {
   "cell_type": "markdown",
   "metadata": {},
   "source": [
    "#### What is the total amount of water transported in 2010?"
   ]
  },
  {
   "cell_type": "code",
   "execution_count": 61,
   "metadata": {},
   "outputs": [
    {
     "name": "stdout",
     "output_type": "stream",
     "text": [
      "Amount of volume used in 2010 : 7918.0\n"
     ]
    }
   ],
   "source": [
    "volume_2010 = cerritos_2010.column(\"cumulative_volume_af\").sum()\n",
    "print (\"Amount of volume used in 2010 : \" + str(volume_2010))"
   ]
  },
  {
   "cell_type": "markdown",
   "metadata": {},
   "source": [
    "#### What is the total amount of water predicted to be transported in 2015?"
   ]
  },
  {
   "cell_type": "code",
   "execution_count": 62,
   "metadata": {},
   "outputs": [
    {
     "name": "stdout",
     "output_type": "stream",
     "text": [
      "Amount of volume used in 2015 : 9456.0\n"
     ]
    }
   ],
   "source": [
    "volume_2015p = cerritos_2015p.column(\"cumulative_volume_af\").sum()\n",
    "print (\"Amount of volume used in 2015 : \" + str(volume_2015p))"
   ]
  },
  {
   "cell_type": "markdown",
   "metadata": {},
   "source": [
    "#### What is the predicted percent increase of cumulative volume of water transported between 2010 and 2015?"
   ]
  },
  {
   "cell_type": "code",
   "execution_count": 63,
   "metadata": {},
   "outputs": [
    {
     "name": "stdout",
     "output_type": "stream",
     "text": [
      "Volume of water expected to increase by 0.194240969942% from 2010 and 2015\n"
     ]
    }
   ],
   "source": [
    "percent_v = (volume_2015p - volume_2010) / volume_2010\n",
    "print (\"Volume of water expected to increase by \" + str(percent_v) + \"% from 2010 and 2015\")"
   ]
  },
  {
   "cell_type": "markdown",
   "metadata": {},
   "source": [
    "#### Question 1: \n",
    "In 2010, how were energy and volume expected to change between 2010 and 2015?"
   ]
  },
  {
   "cell_type": "markdown",
   "metadata": {},
   "source": [
    "TYPE YOUR ANSWER"
   ]
  },
  {
   "cell_type": "markdown",
   "metadata": {},
   "source": [
    "# PART II. Actual 2010 vs Actual 2015\n",
    "We will now observe the actual 2010 data and actual 2015 data to see the enrgy and volume difference that actually occurred betweent hose five years."
   ]
  },
  {
   "cell_type": "markdown",
   "metadata": {},
   "source": [
    "### Amount of energy used in 2010 vs 2015 \n"
   ]
  },
  {
   "cell_type": "markdown",
   "metadata": {},
   "source": [
    "#### What is the total amount of energy used in 2010?\n",
    "This value was calculated in previous part as actual_energy_2010."
   ]
  },
  {
   "cell_type": "code",
   "execution_count": 64,
   "metadata": {},
   "outputs": [
    {
     "name": "stdout",
     "output_type": "stream",
     "text": [
      "The total transmission_kwh in 2010 : 1352425.2 kwh\n"
     ]
    }
   ],
   "source": [
    "print (\"The total transmission_kwh in 2010 : \" + str(actual_energy_2010) + \" kwh\")"
   ]
  },
  {
   "cell_type": "markdown",
   "metadata": {},
   "source": [
    "#### What is the total amount of energy used in 2015?"
   ]
  },
  {
   "cell_type": "code",
   "execution_count": 65,
   "metadata": {},
   "outputs": [
    {
     "name": "stdout",
     "output_type": "stream",
     "text": [
      "The total transmission_kwh in 2015 : 3216658.2 kwh\n"
     ]
    }
   ],
   "source": [
    "cerritos_2015 = cerritos_2015.with_column('Total Energy', cerritos_2015.column('cumulative_volume_af')*cerritos_2015.column(\"transmission_kwh/af\"))\n",
    "actual_energy_2015 = cerritos_2015.column(\"Total Energy\").sum()\n",
    "print (\"The total transmission_kwh in 2015 : \" + str(actual_energy_2015) + \" kwh\")"
   ]
  },
  {
   "cell_type": "markdown",
   "metadata": {},
   "source": [
    "#### What is the percent increase of energy used between 2010 and 2015?"
   ]
  },
  {
   "cell_type": "code",
   "execution_count": 66,
   "metadata": {},
   "outputs": [
    {
     "name": "stdout",
     "output_type": "stream",
     "text": [
      "The percentage increase of energy from 2010 to 2015 : 137.843704776%\n"
     ]
    }
   ],
   "source": [
    "increase = actual_energy_2015 - actual_energy_2010\n",
    "percentage_inc = increase / actual_energy_2010 * 100\n",
    "print (\"The percentage increase of energy from 2010 to 2015 : \" + str(percentage_inc) + \"%\")"
   ]
  },
  {
   "cell_type": "markdown",
   "metadata": {},
   "source": [
    "### Cumulative volume change 2010 vs 2015 "
   ]
  },
  {
   "cell_type": "markdown",
   "metadata": {},
   "source": [
    "#### What is the total amount of water transported in 2010?"
   ]
  },
  {
   "cell_type": "code",
   "execution_count": 67,
   "metadata": {},
   "outputs": [
    {
     "name": "stdout",
     "output_type": "stream",
     "text": [
      "The total volume of water transported in 2010: 7918.0\n"
     ]
    }
   ],
   "source": [
    "print (\"The total volume of water transported in 2010: \" + str(volume_2010))"
   ]
  },
  {
   "cell_type": "markdown",
   "metadata": {},
   "source": [
    "#### What is the total amount of water transported in 2015?"
   ]
  },
  {
   "cell_type": "code",
   "execution_count": 68,
   "metadata": {},
   "outputs": [
    {
     "name": "stdout",
     "output_type": "stream",
     "text": [
      "The total volume of water transported in 2015: 10795.0\n"
     ]
    }
   ],
   "source": [
    "volume_2015 = cerritos_2015.column(\"cumulative_volume_af\").sum()\n",
    "print (\"The total volume of water transported in 2015: \" + str(volume_2015))"
   ]
  },
  {
   "cell_type": "markdown",
   "metadata": {},
   "source": [
    "#### What is the percent increase of cumulative volume of water transported between 2010 and 2015?"
   ]
  },
  {
   "cell_type": "code",
   "execution_count": 69,
   "metadata": {},
   "outputs": [
    {
     "name": "stdout",
     "output_type": "stream",
     "text": [
      "The percentage decrease of volume of water transported from 2010 to 2015 : 36.3349330639 %\n"
     ]
    }
   ],
   "source": [
    "difference = volume_2015 - volume_2010\n",
    "percentage_diff = difference / volume_2010 * 100\n",
    "print (\"The percentage decrease of volume of water transported from 2010 to 2015 : \" + str(percentage_diff) + \" %\")"
   ]
  },
  {
   "cell_type": "markdown",
   "metadata": {},
   "source": [
    "#### Question 2: \n",
    "What actually happened in amount of energy and water between 2010 and 2015? How is it different from what was expected in 2010? What do you think caused this change?"
   ]
  },
  {
   "cell_type": "markdown",
   "metadata": {},
   "source": [
    "TYPE YOUR ANSWER"
   ]
  },
  {
   "cell_type": "markdown",
   "metadata": {},
   "source": [
    "# PART III. 2015 projection vs 2015 actual\n",
    "We will now compare the 2010 predicted data and 2015 actual data."
   ]
  },
  {
   "cell_type": "markdown",
   "metadata": {},
   "source": [
    "### Amount of energy used in 2015 predicted vs 2015 actual\n",
    "\n"
   ]
  },
  {
   "cell_type": "markdown",
   "metadata": {},
   "source": [
    "#### What is the total amount of energy predicted to be used in 2015?"
   ]
  },
  {
   "cell_type": "code",
   "execution_count": 70,
   "metadata": {},
   "outputs": [
    {
     "name": "stdout",
     "output_type": "stream",
     "text": [
      "Amount of Energy used in 2015 projection : 1609014.12 kwh\n"
     ]
    }
   ],
   "source": [
    "print (\"Amount of Energy used in 2015 projection : \" + str(projection_energy_2015) + \" kwh\")"
   ]
  },
  {
   "cell_type": "markdown",
   "metadata": {},
   "source": [
    "#### What is the total amount of energy used in 2015?"
   ]
  },
  {
   "cell_type": "code",
   "execution_count": 71,
   "metadata": {},
   "outputs": [
    {
     "name": "stdout",
     "output_type": "stream",
     "text": [
      "Amount of Energy used in 2015 : 3216658.2 kwh\n"
     ]
    }
   ],
   "source": [
    "print (\"Amount of Energy used in 2015 : \" + str(actual_energy_2015) + \" kwh\")"
   ]
  },
  {
   "cell_type": "markdown",
   "metadata": {},
   "source": [
    "#### What is the difference of energy usage between 2015 predicted and 2015 actual?"
   ]
  },
  {
   "cell_type": "code",
   "execution_count": 72,
   "metadata": {},
   "outputs": [
    {
     "name": "stdout",
     "output_type": "stream",
     "text": [
      "The actual energy used in 2015 is 1607644.08 kwh greater than the projection made in 2010\n"
     ]
    }
   ],
   "source": [
    "diff = actual_energy_2015 - projection_energy_2015\n",
    "print (\"The actual energy used in 2015 is \" + str(diff) + \" kwh\" + \" greater than the projection made in 2010\")"
   ]
  },
  {
   "cell_type": "markdown",
   "metadata": {},
   "source": [
    "## Visualizing Differences </div>\n",
    "\n",
    "It's difficult to effectively compare all of these numbers separately. Let's make a **barplot** here to visualize the magnitude of these differences! In particular, we want to understand how energy use in 2015 compares to energy use in 2010 *as well as* how much energy was predicted to be used in 2015.</div>\n",
    "\n",
    "The code block below creates this bar plot. Don't worry too much about how the plot is made: for now, simply run the cell. </div>"
   ]
  },
  {
   "cell_type": "code",
   "execution_count": 73,
   "metadata": {},
   "outputs": [
    {
     "data": {
      "image/png": "[encoded data removed]",
      "text/plain": [
       "<matplotlib.figure.Figure at 0x10a730e10>"
      ]
     },
     "metadata": {},
     "output_type": "display_data"
    }
   ],
   "source": [
    "energy_comb = pd.DataFrame(data = \n",
    "                      {\"year\" : [\"actual 2010\", \"predicted 2015\", \"actual 2015\"], \n",
    "                       \"values\" : [actual_energy_2010/(10**6),projection_energy_2015/(10**6), actual_energy_2015/(10**6)]})\n",
    "\n",
    "energy_bar = energy_comb.plot(kind='bar',x='year', y='values')\n",
    "plt.title(\"Energy Difference Between Actual 2010, Predicted 2010 And Actual 2015\")\n",
    "plt.ylabel('Values (1e6) kwh');\n",
    "plt.axhline(y=1574567.4/(10**6), color = \"yellow\")\n",
    "plt.xticks(rotation=0)\n",
    "energy_bar;"
   ]
  },
  {
   "cell_type": "markdown",
   "metadata": {},
   "source": [
    "### <div style = \"color:green\">**IMPORTANT: Since we're not making a comparison bar plot, can you use Tables (not Pandas) to plot this graph? If you can't get the yellow line to show up it's find, but I think it's important to stay consistent with the package we use**</div>"
   ]
  },
  {
   "cell_type": "markdown",
   "metadata": {},
   "source": [
    "### Question 3:\n",
    "What can you tell from the bar graph? "
   ]
  },
  {
   "cell_type": "markdown",
   "metadata": {},
   "source": [
    "TYPE YOUR ANSWER"
   ]
  },
  {
   "cell_type": "markdown",
   "metadata": {},
   "source": [
    "###  Cumulative volume in 2015 projection vs 2015 actual"
   ]
  },
  {
   "cell_type": "markdown",
   "metadata": {},
   "source": [
    "#### What is the total amount of water predicted to be transported in 2010?"
   ]
  },
  {
   "cell_type": "code",
   "execution_count": 74,
   "metadata": {},
   "outputs": [
    {
     "name": "stdout",
     "output_type": "stream",
     "text": [
      "The projected amount of volume in 2015 : 9456.0\n"
     ]
    }
   ],
   "source": [
    "print (\"The projected amount of volume in 2015 : \" + str(volume_2015p))"
   ]
  },
  {
   "cell_type": "markdown",
   "metadata": {},
   "source": [
    "#### What is the total amount of water transported in 2015?"
   ]
  },
  {
   "cell_type": "code",
   "execution_count": 75,
   "metadata": {},
   "outputs": [
    {
     "name": "stdout",
     "output_type": "stream",
     "text": [
      "The actual amount of volume in 2015 : 10795.0\n"
     ]
    }
   ],
   "source": [
    "print (\"The actual amount of volume in 2015 : \" + str(volume_2015))"
   ]
  },
  {
   "cell_type": "markdown",
   "metadata": {},
   "source": [
    "#### What is the difference of volume of water transported between 2015 predicted and 2015 actual?"
   ]
  },
  {
   "cell_type": "code",
   "execution_count": 76,
   "metadata": {},
   "outputs": [
    {
     "name": "stdout",
     "output_type": "stream",
     "text": [
      "The actual amount of volume used in 2015 is 1339.0 greater than the projected amount of volume\n"
     ]
    }
   ],
   "source": [
    "diff_v = volume_2015 - volume_2015p\n",
    "print (\"The actual amount of volume used in 2015 is \" + str(diff_v) + \" greater than the projected amount of volume\")"
   ]
  },
  {
   "cell_type": "markdown",
   "metadata": {},
   "source": [
    "### Bar Graph\n",
    "Let's make a bar graph showing the volume of water transported in actual 2010 data, predicted 2015 data, and actual 2015 data to observe the difference between prediction and actual data in 2015."
   ]
  },
  {
   "cell_type": "code",
   "execution_count": 67,
   "metadata": {},
   "outputs": [
    {
     "data": {
      "image/png": "[encoded data removed]",
      "text/plain": [
       "<matplotlib.figure.Figure at 0x1a1646fc50>"
      ]
     },
     "metadata": {},
     "output_type": "display_data"
    }
   ],
   "source": [
    "volume_comb = pd.DataFrame(data = \n",
    "                      {\"year\" : [\"actual 2010\", \"predicted 2015\", \"actual 2015\"], \n",
    "                       \"values\" : [volume_2010, volume_2015p, volume_2015]})\n",
    "volume_bar = volume_comb.plot(kind='bar',x='year', y='values')\n",
    "plt.title(\"Volume Difference Between Actual 2010, Predicted 2015 And Actual 2015\")\n",
    "plt.ylabel('Values');\n",
    "plt.xticks(rotation=0)\n",
    "plt.axhline(y=9280, color = \"yellow\")\n",
    "volume_bar;"
   ]
  },
  {
   "cell_type": "markdown",
   "metadata": {},
   "source": [
    "### Question 4:\n",
    "What can you tell from the visualizatino above? What is siginificant about the data shown above?"
   ]
  },
  {
   "cell_type": "markdown",
   "metadata": {},
   "source": [
    "TYPE YOUR ANSWER"
   ]
  },
  {
   "cell_type": "markdown",
   "metadata": {},
   "source": [
    "## Discussion Questions"
   ]
  },
  {
   "cell_type": "markdown",
   "metadata": {
    "collapsed": true
   },
   "source": [
    "##### What do you think caused a significant increase in usage of energy and volume of water between 2010 and 2015?"
   ]
  },
  {
   "cell_type": "markdown",
   "metadata": {
    "collapsed": true
   },
   "source": [
    "TYPE YOUR ANSWER"
   ]
  },
  {
   "cell_type": "markdown",
   "metadata": {},
   "source": [
    "##### What are the differences you can find between actual 2015 data and predicted 2015 data?"
   ]
  },
  {
   "cell_type": "markdown",
   "metadata": {
    "collapsed": true
   },
   "source": [
    "TYPE YOUR ANSWER"
   ]
  },
  {
   "cell_type": "markdown",
   "metadata": {},
   "source": [
    "##### Can you connect information found through the energy flow chart and the analysis done with Cerritos Water Utility?"
   ]
  },
  {
   "cell_type": "markdown",
   "metadata": {
    "collapsed": true
   },
   "source": [
    "TYPE YOUR ANSWER"
   ]
  },
  {
   "cell_type": "markdown",
   "metadata": {},
   "source": [
    "### <div style = \"color:green\"> IMPORTANT: Provide your Analysis! What should the students be noticing? What is the point of all of this analysis? Why are we seeing what we are seeing? Explain the impact of drought on these numbers.</div>"
   ]
  },
  {
   "cell_type": "markdown",
   "metadata": {},
   "source": [
    "# PART IV. Can you do your own?"
   ]
  },
  {
   "cell_type": "markdown",
   "metadata": {},
   "source": [
    "### Let's try to analyze your own utility!"
   ]
  },
  {
   "cell_type": "markdown",
   "metadata": {},
   "source": [
    "## Actual 2010 vs 2015 Predicted\n",
    "\n"
   ]
  },
  {
   "cell_type": "markdown",
   "metadata": {},
   "source": [
    "### Amount of energy used in 2010 vs 2015 projection"
   ]
  },
  {
   "cell_type": "markdown",
   "metadata": {},
   "source": [
    "#### What is the total amount of energy used in 2010?"
   ]
  },
  {
   "cell_type": "code",
   "execution_count": 71,
   "metadata": {
    "collapsed": true
   },
   "outputs": [],
   "source": [
    "actual_energy_2010 = ...\n",
    "print (\"Amount of Energy used in 2010 : \" + str(actual_energy_2010) + \" kwh\")"
   ]
  },
  {
   "cell_type": "markdown",
   "metadata": {},
   "source": [
    "#### What is the total amount of energy predicted to be used in 2015?"
   ]
  },
  {
   "cell_type": "code",
   "execution_count": 72,
   "metadata": {
    "collapsed": true
   },
   "outputs": [],
   "source": [
    "projection_2015 = ...\n",
    "print (\"Amount of Energy used in 2015 projection : \" + str(projection_2015) + \" kwh\")"
   ]
  },
  {
   "cell_type": "markdown",
   "metadata": {},
   "source": [
    "#### What is the predicted percent increase of energy used between 2010 and 2015?"
   ]
  },
  {
   "cell_type": "code",
   "execution_count": null,
   "metadata": {
    "collapsed": true
   },
   "outputs": [],
   "source": [
    "diff_2010 = ...\n",
    "percent = ...\n",
    "print (\"Transmission energy is expected to increase by \" + str(percent) + \"%\")"
   ]
  },
  {
   "cell_type": "markdown",
   "metadata": {},
   "source": [
    "### Cumulative volume change 2010 vs 2015 projection\n"
   ]
  },
  {
   "cell_type": "markdown",
   "metadata": {},
   "source": [
    "#### What is the total amount of water transported in 2010?"
   ]
  },
  {
   "cell_type": "code",
   "execution_count": null,
   "metadata": {
    "collapsed": true
   },
   "outputs": [],
   "source": [
    "volume_2010 = ...\n",
    "print (\"Amount of volume used in 2010 : \" + str(volume_2010))"
   ]
  },
  {
   "cell_type": "markdown",
   "metadata": {},
   "source": [
    "#### What is the total amount of water predicted to be transported in 2015?"
   ]
  },
  {
   "cell_type": "code",
   "execution_count": null,
   "metadata": {
    "collapsed": true
   },
   "outputs": [],
   "source": [
    "volume_2015 = ...\n",
    "print (\"Amount of volume used in 2015 : \" + str(volume_2015))"
   ]
  },
  {
   "cell_type": "markdown",
   "metadata": {},
   "source": [
    "#### What is the predicted percent increase of cumulative volume of water transported between 2010 and 2015?"
   ]
  },
  {
   "cell_type": "code",
   "execution_count": null,
   "metadata": {
    "collapsed": true
   },
   "outputs": [],
   "source": [
    "percent_v = ...\n",
    "print (\"Volume of water expected to change by \" + str(percent_v) + \"% from 2010 and 2015\")"
   ]
  },
  {
   "cell_type": "markdown",
   "metadata": {},
   "source": [
    "#### Question 5:\n",
    "What is expected to change in energy and water volume between 2010 and 2015 according to the data observed in 2010?"
   ]
  },
  {
   "cell_type": "markdown",
   "metadata": {},
   "source": [
    "TYPE YOUR ANSWER"
   ]
  },
  {
   "cell_type": "markdown",
   "metadata": {},
   "source": [
    "# Actual 2010 vs Actual 2015 "
   ]
  },
  {
   "cell_type": "markdown",
   "metadata": {},
   "source": [
    "### Amount of energy used in 2010 vs 2015 \n",
    "\n"
   ]
  },
  {
   "cell_type": "markdown",
   "metadata": {},
   "source": [
    "#### What is the total amount of energy used in 2010?"
   ]
  },
  {
   "cell_type": "code",
   "execution_count": null,
   "metadata": {
    "collapsed": true
   },
   "outputs": [],
   "source": [
    "energy = ...\n",
    "print (\"The total transmission_kwh in 2010 : \" + str(energy) + \" kwh\")"
   ]
  },
  {
   "cell_type": "markdown",
   "metadata": {},
   "source": [
    "#### What is the total amount of energy used in 2015?"
   ]
  },
  {
   "cell_type": "code",
   "execution_count": null,
   "metadata": {
    "collapsed": true
   },
   "outputs": [],
   "source": [
    "energy1 = ...\n",
    "print (\"The total transmission_kwh in 2015 : \" + str(energy1) + \" kwh\")"
   ]
  },
  {
   "cell_type": "markdown",
   "metadata": {},
   "source": [
    "#### What is the percent increase of energy used between 2010 and 2015?"
   ]
  },
  {
   "cell_type": "code",
   "execution_count": null,
   "metadata": {
    "collapsed": true
   },
   "outputs": [],
   "source": [
    "increase = ...\n",
    "percentage_inc = ...\n",
    "print (\"The percentage increase of energy from 2010 to 2015 : \" + str(percentage_inc) + \"%\")"
   ]
  },
  {
   "cell_type": "markdown",
   "metadata": {},
   "source": [
    "### Cumulative volume change 2010 vs 2015 "
   ]
  },
  {
   "cell_type": "markdown",
   "metadata": {},
   "source": [
    "#### What is the total amount of water transported in 2010?"
   ]
  },
  {
   "cell_type": "code",
   "execution_count": null,
   "metadata": {
    "collapsed": true
   },
   "outputs": [],
   "source": [
    "volume = ...\n",
    "print (\"The total volume of water transported in 2010: \" + str(volume))"
   ]
  },
  {
   "cell_type": "markdown",
   "metadata": {},
   "source": [
    "#### What is the total amount of water transported in 2015?"
   ]
  },
  {
   "cell_type": "code",
   "execution_count": null,
   "metadata": {
    "collapsed": true
   },
   "outputs": [],
   "source": [
    "volume1 = ...\n",
    "print (\"The total volume of water transported in 2015: \" + str(volume1))"
   ]
  },
  {
   "cell_type": "markdown",
   "metadata": {},
   "source": [
    "#### What is the percent increase of cumulative volume of water transported between 2010 and 2015?"
   ]
  },
  {
   "cell_type": "code",
   "execution_count": null,
   "metadata": {
    "collapsed": true
   },
   "outputs": [],
   "source": [
    "decrease = ...\n",
    "percentage_dec = ...\n",
    "print (\"The percentage decrease of volume of water transported from 2010 to 2015 : \" + str(percentage_dec) + \" %\")"
   ]
  },
  {
   "cell_type": "markdown",
   "metadata": {},
   "source": [
    "#### Question 6:\n",
    "What actually happened in change of energy and water volume between 2010 and 2015? How is it different from the prediction?"
   ]
  },
  {
   "cell_type": "markdown",
   "metadata": {},
   "source": [
    "TYPE YOUR ANSWER"
   ]
  },
  {
   "cell_type": "markdown",
   "metadata": {},
   "source": [
    "# 2015 projection vs 2015 actual"
   ]
  },
  {
   "cell_type": "markdown",
   "metadata": {},
   "source": [
    "### Amount of energy used in 2015 predicted vs 2015  actual\n",
    "\n"
   ]
  },
  {
   "cell_type": "markdown",
   "metadata": {},
   "source": [
    "#### What is the total amount of energy predicted to be used in 2015?"
   ]
  },
  {
   "cell_type": "code",
   "execution_count": null,
   "metadata": {
    "collapsed": true
   },
   "outputs": [],
   "source": [
    "projection = ...\n",
    "print (\"Amount of Energy used in 2015 projection : \" + str(projection) + \" kwh\")"
   ]
  },
  {
   "cell_type": "markdown",
   "metadata": {},
   "source": [
    "#### What is the total amount of energy used in 2015?"
   ]
  },
  {
   "cell_type": "code",
   "execution_count": null,
   "metadata": {
    "collapsed": true
   },
   "outputs": [],
   "source": [
    "actual = ...\n",
    "print (\"Amount of Energy used in 2015 : \" + str(actual) + \" kwh\")"
   ]
  },
  {
   "cell_type": "markdown",
   "metadata": {},
   "source": [
    "#### What is the difference of energy usage between 2015 predicted and 2015 actual?"
   ]
  },
  {
   "cell_type": "code",
   "execution_count": null,
   "metadata": {
    "collapsed": true
   },
   "outputs": [],
   "source": [
    "diff = ...\n",
    "print (\"The actual energy used in 2015 is \" + str(diff) + \" kwh\" + \" greater than the projection made in 2010\")"
   ]
  },
  {
   "cell_type": "markdown",
   "metadata": {},
   "source": [
    "###  Cumulative volume in 2015 projection vs 2015 actual"
   ]
  },
  {
   "cell_type": "markdown",
   "metadata": {},
   "source": [
    "#### What is the total amount of water predicted to be transported in 2010?"
   ]
  },
  {
   "cell_type": "code",
   "execution_count": null,
   "metadata": {
    "collapsed": true
   },
   "outputs": [],
   "source": [
    "projection_v = ...\n",
    "print (\"The projected amount of volume in 2015 : \" + str(projection_v))"
   ]
  },
  {
   "cell_type": "markdown",
   "metadata": {},
   "source": [
    "#### What is the total amount of water transported in 2015?"
   ]
  },
  {
   "cell_type": "code",
   "execution_count": null,
   "metadata": {
    "collapsed": true
   },
   "outputs": [],
   "source": [
    "actual_v = ...\n",
    "print (\"The actual amount of volume in 2015 : \" + str(actual_v))"
   ]
  },
  {
   "cell_type": "markdown",
   "metadata": {},
   "source": [
    "#### What is the difference of volume of water transported between 2015 predicted and 2015 actual?"
   ]
  },
  {
   "cell_type": "code",
   "execution_count": 69,
   "metadata": {
    "collapsed": true
   },
   "outputs": [],
   "source": [
    "diff_v = ...\n",
    "print (\"The actual amount of volume used in 2015 is \" + str(diff_v) + \" (greater OR less) than the projected amount of volume\")"
   ]
  },
  {
   "cell_type": "markdown",
   "metadata": {},
   "source": [
    "# Graphs\n",
    "Can you create visualization for difference in energy and water volume for your utility to show how the prediction for 2015 from actual 2015 data?"
   ]
  },
  {
   "cell_type": "markdown",
   "metadata": {},
   "source": [
    "### Graph for the energy differences"
   ]
  },
  {
   "cell_type": "code",
   "execution_count": null,
   "metadata": {
    "collapsed": true
   },
   "outputs": [],
   "source": [
    "energy_comb = pd.DataFrame(data = \n",
    "                      {\"year\" : [\"actual 2010\", \"predicted 2015\", \"actual 2015\"], \n",
    "                       \"values\" : [..., ..., ...]})\n",
    "energy_bar = energy_comb.plot(kind='bar',x='year', y='values')\n",
    "plt.title(\"Energy Difference Between Actual 2010, Predicted 2010 And Actual 2015\")\n",
    "plt.ylabel('Values (1e6) kwh');\n",
    "plt.xticks(rotation=0)\n",
    "energy_bar;"
   ]
  },
  {
   "cell_type": "markdown",
   "metadata": {},
   "source": [
    "### Graph for the volume of water differences\n",
    "\n",
    "<div style = \"color:green\"> Up to this point, you haven't really explained how this code works. If you're having students fill out the code, you need to make sure you explain what the inputs are, how it works, and what you need the students to do. Keep in mind we're assuming NO CODING EXPERIENCE for these labs</div>"
   ]
  },
  {
   "cell_type": "code",
   "execution_count": null,
   "metadata": {
    "collapsed": true
   },
   "outputs": [],
   "source": [
    "volume_comb = pd.DataFrame(data = \n",
    "                      {\"year\" : [\"actual 2010\", \"predicted 2015\", \"actual 2015\"], \n",
    "                       \"values\" : [..., ..., ...]})\n",
    "volume_bar = ...\n",
    "plt.title(\"Volume Difference Between Actual 2010, Predicted 2015 And Actual 2015\")\n",
    "plt.ylabel('Values');\n",
    "plt.xticks(rotation=0)\n",
    "volume_bar;"
   ]
  },
  {
   "cell_type": "markdown",
   "metadata": {},
   "source": [
    "# PART V. Big Data: All the Utilities in the United States"
   ]
  },
  {
   "cell_type": "markdown",
   "metadata": {},
   "source": [
    "We have created a new table called test which contains both 2010 and 2015 data for all the utilities in the United States. From this data we will find a ratio between the total amount of energy consumed and the total amount of water trasnported to see the relationship between energy and water among actual 2010, actual 2015, and predicted 2015 data.\n",
    "\n",
    "<div style = \"color:green\">Explain **WHY** we're interested in this Ratio in the context of the analysis you provided above (drought!).</div>"
   ]
  },
  {
   "cell_type": "code",
   "execution_count": 25,
   "metadata": {},
   "outputs": [
    {
     "data": {
      "text/html": [
       "<table border=\"1\" class=\"dataframe\">\n",
       "    <thead>\n",
       "        <tr>\n",
       "            <th>year</th> <th>data_year sum</th> <th>source sum</th> <th>target sum</th> <th>cumulative_volume_af sum</th> <th>transmission_kwh/af sum</th> <th>treatment_kwh/af sum</th> <th>used_vol_af sum</th> <th>Total Energy sum</th>\n",
       "        </tr>\n",
       "    </thead>\n",
       "    <tbody>\n",
       "        <tr>\n",
       "            <td>2010          </td> <td>1041180      </td> <td>          </td> <td>          </td> <td>6.64069e+06             </td> <td>87234.8                </td> <td>0                   </td> <td>6.53952e+06    </td> <td>1.10632e+09     </td>\n",
       "        </tr>\n",
       "        <tr>\n",
       "            <td>2015          </td> <td>745550       </td> <td>          </td> <td>          </td> <td>4.3739e+06              </td> <td>162506                 </td> <td>0                   </td> <td>4.3739e+06     </td> <td>2.70958e+09     </td>\n",
       "        </tr>\n",
       "        <tr>\n",
       "            <td>Predicted 2015</td> <td>1115550      </td> <td>          </td> <td>          </td> <td>8.03714e+06             </td> <td>94854.8                </td> <td>0                   </td> <td>7.93035e+06    </td> <td>1.33226e+09     </td>\n",
       "        </tr>\n",
       "    </tbody>\n",
       "</table>"
      ],
      "text/plain": [
       "year           | data_year sum | source sum | target sum | cumulative_volume_af sum | transmission_kwh/af sum | treatment_kwh/af sum | used_vol_af sum | Total Energy sum\n",
       "2010           | 1041180       |            |            | 6.64069e+06              | 87234.8                 | 0                    | 6.53952e+06     | 1.10632e+09\n",
       "2015           | 745550        |            |            | 4.3739e+06               | 162506                  | 0                    | 4.3739e+06      | 2.70958e+09\n",
       "Predicted 2015 | 1115550       |            |            | 8.03714e+06              | 94854.8                 | 0                    | 7.93035e+06     | 1.33226e+09"
      ]
     },
     "execution_count": 25,
     "metadata": {},
     "output_type": "execute_result"
    }
   ],
   "source": [
    "#import the table which has 2010 and 2015 data\n",
    "test = Table().read_table('network.csv')\n",
    "\n",
    "#multiply the cumulative_volume_af column and transmission_kwh/af column to calculate the total energy\n",
    "test = test.with_column('Total Energy', test.column('cumulative_volume_af')*test.column(\"transmission_kwh/af\"))\n",
    "\n",
    "#Group by the year column to collect cumulative data for actual 2010, actual 2015, and predicted 2015 data.\n",
    "test_group = test.group('year', sum)\n",
    "test_group"
   ]
  },
  {
   "cell_type": "markdown",
   "metadata": {},
   "source": [
    "Divide the Total Energy sum column by the transmission_kwh/af sum column to calculate the ratio between energy and water.\n",
    "\n"
   ]
  },
  {
   "cell_type": "code",
   "execution_count": 26,
   "metadata": {},
   "outputs": [
    {
     "data": {
      "text/html": [
       "<table border=\"1\" class=\"dataframe\">\n",
       "    <thead>\n",
       "        <tr>\n",
       "            <th>year</th> <th>data_year sum</th> <th>source sum</th> <th>target sum</th> <th>cumulative_volume_af sum</th> <th>transmission_kwh/af sum</th> <th>treatment_kwh/af sum</th> <th>used_vol_af sum</th> <th>Total Energy sum</th> <th>energy per volume</th>\n",
       "        </tr>\n",
       "    </thead>\n",
       "    <tbody>\n",
       "        <tr>\n",
       "            <td>2010          </td> <td>1041180      </td> <td>          </td> <td>          </td> <td>6.64069e+06             </td> <td>87234.8                </td> <td>0                   </td> <td>6.53952e+06    </td> <td>1.10632e+09     </td> <td>166.598          </td>\n",
       "        </tr>\n",
       "        <tr>\n",
       "            <td>2015          </td> <td>745550       </td> <td>          </td> <td>          </td> <td>4.3739e+06              </td> <td>162506                 </td> <td>0                   </td> <td>4.3739e+06     </td> <td>2.70958e+09     </td> <td>619.489          </td>\n",
       "        </tr>\n",
       "        <tr>\n",
       "            <td>Predicted 2015</td> <td>1115550      </td> <td>          </td> <td>          </td> <td>8.03714e+06             </td> <td>94854.8                </td> <td>0                   </td> <td>7.93035e+06    </td> <td>1.33226e+09     </td> <td>165.763          </td>\n",
       "        </tr>\n",
       "    </tbody>\n",
       "</table>"
      ],
      "text/plain": [
       "year           | data_year sum | source sum | target sum | cumulative_volume_af sum | transmission_kwh/af sum | treatment_kwh/af sum | used_vol_af sum | Total Energy sum | energy per volume\n",
       "2010           | 1041180       |            |            | 6.64069e+06              | 87234.8                 | 0                    | 6.53952e+06     | 1.10632e+09      | 166.598\n",
       "2015           | 745550        |            |            | 4.3739e+06               | 162506                  | 0                    | 4.3739e+06      | 2.70958e+09      | 619.489\n",
       "Predicted 2015 | 1115550       |            |            | 8.03714e+06              | 94854.8                 | 0                    | 7.93035e+06     | 1.33226e+09      | 165.763"
      ]
     },
     "execution_count": 26,
     "metadata": {},
     "output_type": "execute_result"
    }
   ],
   "source": [
    "#Ratio\n",
    "ratios = test_group.column('Total Energy sum') / test_group.column('cumulative_volume_af sum')\n",
    "test_group = test_group.with_column('energy per volume', ratios)\n",
    "test_group"
   ]
  },
  {
   "cell_type": "markdown",
   "metadata": {},
   "source": [
    "From the ratio found by dividing total amount of energy used by the total volume of water, we can wee that the ratio was significantly higher for 2015. In 2010, California consumed 1.10632 Billion kwh (kilowatt per hour) of energy to transport 6.64069 Million (units) of water. The amount of water transported in 2015 was predicted at that time to increase, so the total energy consumed was also predicted to increase by a small amount. However, the data shows that in 2015, the amount of water transported actually reduced to 4.3739 Million (units) of water, but the total energy expended increased significantly to 2.70958 Billion kwh, which is much higher than the predicted increase in energy (which also predicted that water transports would increase).\n",
    "\n",
    "#### How did this happen? What do you think caused this change? \n",
    "\n"
   ]
  },
  {
   "cell_type": "markdown",
   "metadata": {},
   "source": [
    "TYPE YOUR ANSWER"
   ]
  },
  {
   "cell_type": "markdown",
   "metadata": {},
   "source": [
    "#### How does the cumulative data compare to your own utility? Did your utility have a similar trend as the cumulative data?"
   ]
  },
  {
   "cell_type": "markdown",
   "metadata": {},
   "source": [
    "TYPE YOUR ANSWER"
   ]
  },
  {
   "cell_type": "markdown",
   "metadata": {},
   "source": [
    "# DONE\n",
    "You are now done! "
   ]
  },
  {
   "cell_type": "code",
   "execution_count": null,
   "metadata": {
    "collapsed": true
   },
   "outputs": [],
   "source": []
  }
 ],
 "metadata": {
  "kernelspec": {
   "display_name": "Python 3",
   "language": "python",
   "name": "python3"
  },
  "language_info": {
   "codemirror_mode": {
    "name": "ipython",
    "version": 3
   },
   "file_extension": ".py",
   "mimetype": "text/x-python",
   "name": "python",
   "nbconvert_exporter": "python",
   "pygments_lexer": "ipython3",
   "version": "3.6.8"
  }
 },
 "nbformat": 4,
 "nbformat_minor": 2
}
