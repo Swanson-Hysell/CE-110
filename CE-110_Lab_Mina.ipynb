{
 "cells": [
  {
   "cell_type": "code",
   "execution_count": 80,
   "metadata": {
    "collapsed": true
   },
   "outputs": [],
   "source": [
    "from datascience import *\n",
    "import numpy as np\n",
    "import matplotlib.pyplot as plt\n",
    "import pandas as pd\n",
    "%matplotlib inline"
   ]
  },
  {
   "cell_type": "markdown",
   "metadata": {},
   "source": [
    "Now you have visualized the utility network as well as water flor from immediate sources, we will analyze differences between years in energy consumption. We will be looking at the actual 2010 data, actual 2015 data, and the 2015 data predicted in 2010."
   ]
  },
  {
   "cell_type": "markdown",
   "metadata": {},
   "source": [
    "# Tables\n",
    "## Extract 2010 data and 2015 data\n",
    "\n",
    "We will import data from 2010 and 2015 utility network data. Each table will have a year column, which shows the current year and the future years used for prediction. The data_year column is the year that the values were measured and will be used for future prediction. The source column shows where the water is transported from and target column shows the receiving utility from its source. The cumulative_volume_af colume shows the total amount of volume transported from source and target. The transmission_kwh/af column shows the amount of energy used during the transmission, where kWh/AF = kiloWatt-hours required to pump an acre-foot of water through the irrigation system."
   ]
  },
  {
   "cell_type": "markdown",
   "metadata": {},
   "source": [
    "### 2010 Data\n",
    "This is the data observed in 2010."
   ]
  },
  {
   "cell_type": "code",
   "execution_count": 128,
   "metadata": {
    "scrolled": true
   },
   "outputs": [
    {
     "data": {
      "text/html": [
       "<table border=\"1\" class=\"dataframe\">\n",
       "    <thead>\n",
       "        <tr>\n",
       "            <th>year</th> <th>data_year</th> <th>source</th> <th>target</th> <th>cumulative_volume_af</th> <th>transmission_kwh/af</th> <th>treatment_kwh/af</th> <th>used_vol_af</th>\n",
       "        </tr>\n",
       "    </thead>\n",
       "    <tbody>\n",
       "        <tr>\n",
       "            <td>2010</td> <td>2010     </td> <td>1801001PD</td> <td>1801001E </td> <td>1624                </td> <td>163.1              </td> <td>0               </td> <td>1624       </td>\n",
       "        </tr>\n",
       "        <tr>\n",
       "            <td>2010</td> <td>2010     </td> <td>1801007PD</td> <td>1801007E </td> <td>2015.2              </td> <td>163.1              </td> <td>0               </td> <td>2015.2     </td>\n",
       "        </tr>\n",
       "        <tr>\n",
       "            <td>2010</td> <td>2010     </td> <td>1801009PD</td> <td>1801017PD</td> <td>561.768             </td> <td>25                 </td> <td>0               </td> <td>557.004    </td>\n",
       "        </tr>\n",
       "        <tr>\n",
       "            <td>2010</td> <td>2010     </td> <td>1801009PD</td> <td>1801009E </td> <td>2924.55             </td> <td>163.1              </td> <td>0               </td> <td>2924.55    </td>\n",
       "        </tr>\n",
       "        <tr>\n",
       "            <td>2010</td> <td>2010     </td> <td>1801011PD</td> <td>1801011E </td> <td>1350                </td> <td>163.1              </td> <td>0               </td> <td>1350       </td>\n",
       "        </tr>\n",
       "        <tr>\n",
       "            <td>2010</td> <td>2010     </td> <td>1801015PD</td> <td>1801017PD</td> <td>616.923             </td> <td>25                 </td> <td>0               </td> <td>611.692    </td>\n",
       "        </tr>\n",
       "        <tr>\n",
       "            <td>2010</td> <td>2010     </td> <td>1801015PD</td> <td>1801015E </td> <td>840                 </td> <td>163.1              </td> <td>0               </td> <td>840        </td>\n",
       "        </tr>\n",
       "        <tr>\n",
       "            <td>2010</td> <td>2010     </td> <td>1801015PD</td> <td>1801019PD</td> <td>1415                </td> <td>25                 </td> <td>0               </td> <td>1414.56    </td>\n",
       "        </tr>\n",
       "        <tr>\n",
       "            <td>2010</td> <td>2010     </td> <td>1801015PD</td> <td>1801001PD</td> <td>1460.72             </td> <td>87                 </td> <td>0               </td> <td>1460.72    </td>\n",
       "        </tr>\n",
       "        <tr>\n",
       "            <td>2010</td> <td>2010     </td> <td>1801015PD</td> <td>1801009PD</td> <td>2949                </td> <td>25                 </td> <td>0               </td> <td>2924.55    </td>\n",
       "        </tr>\n",
       "    </tbody>\n",
       "</table>\n",
       "<p>... (13790 rows omitted)</p>"
      ],
      "text/plain": [
       "year | data_year | source    | target    | cumulative_volume_af | transmission_kwh/af | treatment_kwh/af | used_vol_af\n",
       "2010 | 2010      | 1801001PD | 1801001E  | 1624                 | 163.1               | 0                | 1624\n",
       "2010 | 2010      | 1801007PD | 1801007E  | 2015.2               | 163.1               | 0                | 2015.2\n",
       "2010 | 2010      | 1801009PD | 1801017PD | 561.768              | 25                  | 0                | 557.004\n",
       "2010 | 2010      | 1801009PD | 1801009E  | 2924.55              | 163.1               | 0                | 2924.55\n",
       "2010 | 2010      | 1801011PD | 1801011E  | 1350                 | 163.1               | 0                | 1350\n",
       "2010 | 2010      | 1801015PD | 1801017PD | 616.923              | 25                  | 0                | 611.692\n",
       "2010 | 2010      | 1801015PD | 1801015E  | 840                  | 163.1               | 0                | 840\n",
       "2010 | 2010      | 1801015PD | 1801019PD | 1415                 | 25                  | 0                | 1414.56\n",
       "2010 | 2010      | 1801015PD | 1801001PD | 1460.72              | 87                  | 0                | 1460.72\n",
       "2010 | 2010      | 1801015PD | 1801009PD | 2949                 | 25                  | 0                | 2924.55\n",
       "... (13790 rows omitted)"
      ]
     },
     "execution_count": 128,
     "metadata": {},
     "output_type": "execute_result"
    }
   ],
   "source": [
    "data = Table().read_table('network2010.csv')\n",
    "data"
   ]
  },
  {
   "cell_type": "markdown",
   "metadata": {},
   "source": [
    "### 2015 Data\n",
    "This is the data observed in 2015. "
   ]
  },
  {
   "cell_type": "code",
   "execution_count": 129,
   "metadata": {},
   "outputs": [
    {
     "data": {
      "text/html": [
       "<table border=\"1\" class=\"dataframe\">\n",
       "    <thead>\n",
       "        <tr>\n",
       "            <th>year</th> <th>data_year</th> <th>source</th> <th>target</th> <th>cumulative_volume_af</th> <th>transmission_kwh/af</th> <th>treatment_kwh/af</th> <th>used_vol_af</th>\n",
       "        </tr>\n",
       "    </thead>\n",
       "    <tbody>\n",
       "        <tr>\n",
       "            <td>2015</td> <td>2015     </td> <td>1803005NPD </td> <td>1803005E  </td> <td>733                 </td> <td>17.6               </td> <td>0               </td> <td>733        </td>\n",
       "        </tr>\n",
       "        <tr>\n",
       "            <td>2015</td> <td>2015     </td> <td>SW1803005W </td> <td>1803005NPD</td> <td>733                 </td> <td>87                 </td> <td>236             </td> <td>0          </td>\n",
       "        </tr>\n",
       "        <tr>\n",
       "            <td>2015</td> <td>2015     </td> <td>1803005WIMP</td> <td>1803005PD </td> <td>962.992             </td> <td>0                  </td> <td>224             </td> <td>0          </td>\n",
       "        </tr>\n",
       "        <tr>\n",
       "            <td>2040</td> <td>2015     </td> <td>SW1803005W </td> <td>1803005NPD</td> <td>2240                </td> <td>87                 </td> <td>236             </td> <td>0          </td>\n",
       "        </tr>\n",
       "        <tr>\n",
       "            <td>2025</td> <td>2015     </td> <td>1803005NPD </td> <td>1803005E  </td> <td>2240                </td> <td>17.6               </td> <td>0               </td> <td>2240       </td>\n",
       "        </tr>\n",
       "        <tr>\n",
       "            <td>2035</td> <td>2015     </td> <td>SW1803005W </td> <td>1803005NPD</td> <td>2240                </td> <td>87                 </td> <td>236             </td> <td>0          </td>\n",
       "        </tr>\n",
       "        <tr>\n",
       "            <td>2020</td> <td>2015     </td> <td>1803005NPD </td> <td>1803005E  </td> <td>2240                </td> <td>17.6               </td> <td>0               </td> <td>2240       </td>\n",
       "        </tr>\n",
       "        <tr>\n",
       "            <td>2020</td> <td>2015     </td> <td>SW1803005W </td> <td>1803005NPD</td> <td>2240                </td> <td>87                 </td> <td>236             </td> <td>0          </td>\n",
       "        </tr>\n",
       "        <tr>\n",
       "            <td>2030</td> <td>2015     </td> <td>1803005NPD </td> <td>1803005E  </td> <td>2240                </td> <td>17.6               </td> <td>0               </td> <td>2240       </td>\n",
       "        </tr>\n",
       "        <tr>\n",
       "            <td>2030</td> <td>2015     </td> <td>SW1803005W </td> <td>1803005NPD</td> <td>2240                </td> <td>87                 </td> <td>236             </td> <td>0          </td>\n",
       "        </tr>\n",
       "    </tbody>\n",
       "</table>\n",
       "<p>... (10716 rows omitted)</p>"
      ],
      "text/plain": [
       "year | data_year | source      | target     | cumulative_volume_af | transmission_kwh/af | treatment_kwh/af | used_vol_af\n",
       "2015 | 2015      | 1803005NPD  | 1803005E   | 733                  | 17.6                | 0                | 733\n",
       "2015 | 2015      | SW1803005W  | 1803005NPD | 733                  | 87                  | 236              | 0\n",
       "2015 | 2015      | 1803005WIMP | 1803005PD  | 962.992              | 0                   | 224              | 0\n",
       "2040 | 2015      | SW1803005W  | 1803005NPD | 2240                 | 87                  | 236              | 0\n",
       "2025 | 2015      | 1803005NPD  | 1803005E   | 2240                 | 17.6                | 0                | 2240\n",
       "2035 | 2015      | SW1803005W  | 1803005NPD | 2240                 | 87                  | 236              | 0\n",
       "2020 | 2015      | 1803005NPD  | 1803005E   | 2240                 | 17.6                | 0                | 2240\n",
       "2020 | 2015      | SW1803005W  | 1803005NPD | 2240                 | 87                  | 236              | 0\n",
       "2030 | 2015      | 1803005NPD  | 1803005E   | 2240                 | 17.6                | 0                | 2240\n",
       "2030 | 2015      | SW1803005W  | 1803005NPD | 2240                 | 87                  | 236              | 0\n",
       "... (10716 rows omitted)"
      ]
     },
     "execution_count": 129,
     "metadata": {},
     "output_type": "execute_result"
    }
   ],
   "source": [
    "data_1 = Table().read_table('network2015.csv')\n",
    "data_1"
   ]
  },
  {
   "cell_type": "markdown",
   "metadata": {},
   "source": [
    "## Actual 2010 Data\n",
    "\n",
    "Let's get the actual observed data in 2010. By setting the data['year'] == 2010, we will be looking at the actual 2010 data."
   ]
  },
  {
   "cell_type": "code",
   "execution_count": 130,
   "metadata": {},
   "outputs": [
    {
     "data": {
      "text/html": [
       "<table border=\"1\" class=\"dataframe\">\n",
       "    <thead>\n",
       "        <tr>\n",
       "            <th>year</th> <th>data_year</th> <th>source</th> <th>target</th> <th>cumulative_volume_af</th> <th>transmission_kwh/af</th> <th>treatment_kwh/af</th> <th>used_vol_af</th>\n",
       "        </tr>\n",
       "    </thead>\n",
       "    <tbody>\n",
       "        <tr>\n",
       "            <td>2010</td> <td>2010     </td> <td>1801001PD</td> <td>1801001E </td> <td>1624                </td> <td>163.1              </td> <td>0               </td> <td>1624       </td>\n",
       "        </tr>\n",
       "        <tr>\n",
       "            <td>2010</td> <td>2010     </td> <td>1801007PD</td> <td>1801007E </td> <td>2015.2              </td> <td>163.1              </td> <td>0               </td> <td>2015.2     </td>\n",
       "        </tr>\n",
       "        <tr>\n",
       "            <td>2010</td> <td>2010     </td> <td>1801009PD</td> <td>1801017PD</td> <td>561.768             </td> <td>25                 </td> <td>0               </td> <td>557.004    </td>\n",
       "        </tr>\n",
       "        <tr>\n",
       "            <td>2010</td> <td>2010     </td> <td>1801009PD</td> <td>1801009E </td> <td>2924.55             </td> <td>163.1              </td> <td>0               </td> <td>2924.55    </td>\n",
       "        </tr>\n",
       "        <tr>\n",
       "            <td>2010</td> <td>2010     </td> <td>1801011PD</td> <td>1801011E </td> <td>1350                </td> <td>163.1              </td> <td>0               </td> <td>1350       </td>\n",
       "        </tr>\n",
       "        <tr>\n",
       "            <td>2010</td> <td>2010     </td> <td>1801015PD</td> <td>1801017PD</td> <td>616.923             </td> <td>25                 </td> <td>0               </td> <td>611.692    </td>\n",
       "        </tr>\n",
       "        <tr>\n",
       "            <td>2010</td> <td>2010     </td> <td>1801015PD</td> <td>1801015E </td> <td>840                 </td> <td>163.1              </td> <td>0               </td> <td>840        </td>\n",
       "        </tr>\n",
       "        <tr>\n",
       "            <td>2010</td> <td>2010     </td> <td>1801015PD</td> <td>1801019PD</td> <td>1415                </td> <td>25                 </td> <td>0               </td> <td>1414.56    </td>\n",
       "        </tr>\n",
       "        <tr>\n",
       "            <td>2010</td> <td>2010     </td> <td>1801015PD</td> <td>1801001PD</td> <td>1460.72             </td> <td>87                 </td> <td>0               </td> <td>1460.72    </td>\n",
       "        </tr>\n",
       "        <tr>\n",
       "            <td>2010</td> <td>2010     </td> <td>1801015PD</td> <td>1801009PD</td> <td>2949                </td> <td>25                 </td> <td>0               </td> <td>2924.55    </td>\n",
       "        </tr>\n",
       "    </tbody>\n",
       "</table>\n",
       "<p>... (1733 rows omitted)</p>"
      ],
      "text/plain": [
       "year | data_year | source    | target    | cumulative_volume_af | transmission_kwh/af | treatment_kwh/af | used_vol_af\n",
       "2010 | 2010      | 1801001PD | 1801001E  | 1624                 | 163.1               | 0                | 1624\n",
       "2010 | 2010      | 1801007PD | 1801007E  | 2015.2               | 163.1               | 0                | 2015.2\n",
       "2010 | 2010      | 1801009PD | 1801017PD | 561.768              | 25                  | 0                | 557.004\n",
       "2010 | 2010      | 1801009PD | 1801009E  | 2924.55              | 163.1               | 0                | 2924.55\n",
       "2010 | 2010      | 1801011PD | 1801011E  | 1350                 | 163.1               | 0                | 1350\n",
       "2010 | 2010      | 1801015PD | 1801017PD | 616.923              | 25                  | 0                | 611.692\n",
       "2010 | 2010      | 1801015PD | 1801015E  | 840                  | 163.1               | 0                | 840\n",
       "2010 | 2010      | 1801015PD | 1801019PD | 1415                 | 25                  | 0                | 1414.56\n",
       "2010 | 2010      | 1801015PD | 1801001PD | 1460.72              | 87                  | 0                | 1460.72\n",
       "2010 | 2010      | 1801015PD | 1801009PD | 2949                 | 25                  | 0                | 2924.55\n",
       "... (1733 rows omitted)"
      ]
     },
     "execution_count": 130,
     "metadata": {},
     "output_type": "execute_result"
    }
   ],
   "source": [
    "#Getting data for 2010.\n",
    "data_2010 = data.where(data['year'] == 2010)\n",
    "data_2010"
   ]
  },
  {
   "cell_type": "markdown",
   "metadata": {},
   "source": [
    "## Let's try extracting data for a specific utility.\n",
    "### This is an example for Cerritos (1807057E).\n",
    "We will first get the 2010 data for Cerritos utility by setting the target column to be equal to the utility code.\n",
    "##### Cerritos"
   ]
  },
  {
   "cell_type": "code",
   "execution_count": 131,
   "metadata": {},
   "outputs": [
    {
     "data": {
      "text/html": [
       "<table border=\"1\" class=\"dataframe\">\n",
       "    <thead>\n",
       "        <tr>\n",
       "            <th>year</th> <th>data_year</th> <th>source</th> <th>target</th> <th>cumulative_volume_af</th> <th>transmission_kwh/af</th> <th>treatment_kwh/af</th> <th>used_vol_af</th>\n",
       "        </tr>\n",
       "    </thead>\n",
       "    <tbody>\n",
       "        <tr>\n",
       "            <td>2010</td> <td>2010     </td> <td>1807057NPD</td> <td>1807057E</td> <td>1870                </td> <td>195.72             </td> <td>0               </td> <td>1870       </td>\n",
       "        </tr>\n",
       "        <tr>\n",
       "            <td>2010</td> <td>2010     </td> <td>1807057PD </td> <td>1807057E</td> <td>6048                </td> <td>163.1              </td> <td>0               </td> <td>6048       </td>\n",
       "        </tr>\n",
       "    </tbody>\n",
       "</table>"
      ],
      "text/plain": [
       "year | data_year | source     | target   | cumulative_volume_af | transmission_kwh/af | treatment_kwh/af | used_vol_af\n",
       "2010 | 2010      | 1807057NPD | 1807057E | 1870                 | 195.72              | 0                | 1870\n",
       "2010 | 2010      | 1807057PD  | 1807057E | 6048                 | 163.1               | 0                | 6048"
      ]
     },
     "execution_count": 131,
     "metadata": {},
     "output_type": "execute_result"
    }
   ],
   "source": [
    "#Actual 2010 data for Cerritos utility\n",
    "cerritos = data_2010.where(\"target\",are.equal_to(\"1807057E\"))\n",
    "cerritos"
   ]
  },
  {
   "cell_type": "markdown",
   "metadata": {},
   "source": [
    "#### Sort by the amount of cumulative volume\n",
    "\n",
    "By sorting the table by the amount of cumulative volume, we can see which source the target received most amount of water from."
   ]
  },
  {
   "cell_type": "code",
   "execution_count": 132,
   "metadata": {},
   "outputs": [
    {
     "data": {
      "text/html": [
       "<table border=\"1\" class=\"dataframe\">\n",
       "    <thead>\n",
       "        <tr>\n",
       "            <th>year</th> <th>data_year</th> <th>source</th> <th>target</th> <th>cumulative_volume_af</th> <th>transmission_kwh/af</th> <th>treatment_kwh/af</th> <th>used_vol_af</th>\n",
       "        </tr>\n",
       "    </thead>\n",
       "    <tbody>\n",
       "        <tr>\n",
       "            <td>2010</td> <td>2010     </td> <td>1807057PD </td> <td>1807057E</td> <td>6048                </td> <td>163.1              </td> <td>0               </td> <td>6048       </td>\n",
       "        </tr>\n",
       "        <tr>\n",
       "            <td>2010</td> <td>2010     </td> <td>1807057NPD</td> <td>1807057E</td> <td>1870                </td> <td>195.72             </td> <td>0               </td> <td>1870       </td>\n",
       "        </tr>\n",
       "    </tbody>\n",
       "</table>"
      ],
      "text/plain": [
       "year | data_year | source     | target   | cumulative_volume_af | transmission_kwh/af | treatment_kwh/af | used_vol_af\n",
       "2010 | 2010      | 1807057PD  | 1807057E | 6048                 | 163.1               | 0                | 6048\n",
       "2010 | 2010      | 1807057NPD | 1807057E | 1870                 | 195.72              | 0                | 1870"
      ]
     },
     "execution_count": 132,
     "metadata": {},
     "output_type": "execute_result"
    }
   ],
   "source": [
    "#where do they get most water?\n",
    "cerritos = cerritos.sort('cumulative_volume_af', descending = True)\n",
    "cerritos"
   ]
  },
  {
   "cell_type": "markdown",
   "metadata": {},
   "source": [
    "## Try your own!\n",
    "### Find the 2010 data for your utility."
   ]
  },
  {
   "cell_type": "markdown",
   "metadata": {},
   "source": [
    "##### Utility"
   ]
  },
  {
   "cell_type": "code",
   "execution_count": 9,
   "metadata": {
    "collapsed": true
   },
   "outputs": [],
   "source": [
    "#Find the actual 2010 for your utility\n",
    "utility = data_2010.where(\"target\",are.equal_to(\"YOUR UTILITY CODE\"))\n",
    "utility"
   ]
  },
  {
   "cell_type": "markdown",
   "metadata": {},
   "source": [
    "##### Sort by the amount of cumulative volume."
   ]
  },
  {
   "cell_type": "code",
   "execution_count": null,
   "metadata": {
    "collapsed": true
   },
   "outputs": [],
   "source": [
    "#where do they get most water?\n",
    "utility = utility.sort(...)\n",
    "utility"
   ]
  },
  {
   "cell_type": "markdown",
   "metadata": {},
   "source": [
    "## Actual 2015 Data\n",
    "We will now get the actual 2015 data by finding the rows in data_1 table where the year is equal to 2015."
   ]
  },
  {
   "cell_type": "code",
   "execution_count": 98,
   "metadata": {},
   "outputs": [
    {
     "data": {
      "text/html": [
       "<table border=\"1\" class=\"dataframe\">\n",
       "    <thead>\n",
       "        <tr>\n",
       "            <th>year</th> <th>data_year</th> <th>source</th> <th>target</th> <th>cumulative_volume_af</th> <th>transmission_kwh/af</th> <th>treatment_kwh/af</th> <th>used_vol_af</th>\n",
       "        </tr>\n",
       "    </thead>\n",
       "    <tbody>\n",
       "        <tr>\n",
       "            <td>2015</td> <td>2015     </td> <td>1803005NPD     </td> <td>1803005E   </td> <td>733                 </td> <td>17.6               </td> <td>0               </td> <td>733        </td>\n",
       "        </tr>\n",
       "        <tr>\n",
       "            <td>2015</td> <td>2015     </td> <td>SW1803005W     </td> <td>1803005NPD </td> <td>733                 </td> <td>87                 </td> <td>236             </td> <td>0          </td>\n",
       "        </tr>\n",
       "        <tr>\n",
       "            <td>2015</td> <td>2015     </td> <td>1803005WIMP    </td> <td>1803005PD  </td> <td>962.992             </td> <td>0                  </td> <td>224             </td> <td>0          </td>\n",
       "        </tr>\n",
       "        <tr>\n",
       "            <td>2015</td> <td>2015     </td> <td>1803041WIMP    </td> <td>1803005PD  </td> <td>3228.97             </td> <td>25                 </td> <td>224             </td> <td>0          </td>\n",
       "        </tr>\n",
       "        <tr>\n",
       "            <td>2015</td> <td>2015     </td> <td>1803005WIMP    </td> <td>1803005WPD </td> <td>4127.24             </td> <td>25                 </td> <td>0               </td> <td>0          </td>\n",
       "        </tr>\n",
       "        <tr>\n",
       "            <td>2015</td> <td>2015     </td> <td>1803005WPD     </td> <td>1803005WE  </td> <td>4127.24             </td> <td>17.6               </td> <td>0               </td> <td>17586      </td>\n",
       "        </tr>\n",
       "        <tr>\n",
       "            <td>2015</td> <td>2015     </td> <td>R_Kern         </td> <td>1803005WIMP</td> <td>17586               </td> <td>0                  </td> <td>0               </td> <td>0          </td>\n",
       "        </tr>\n",
       "        <tr>\n",
       "            <td>2015</td> <td>2015     </td> <td>GW1803-5-22.14 </td> <td>1803005PD  </td> <td>31029               </td> <td>399                </td> <td>181.75          </td> <td>0          </td>\n",
       "        </tr>\n",
       "        <tr>\n",
       "            <td>2015</td> <td>2015     </td> <td>1803005PD      </td> <td>1803005E   </td> <td>35221               </td> <td>52.8               </td> <td>0               </td> <td>35221      </td>\n",
       "        </tr>\n",
       "        <tr>\n",
       "            <td>2015</td> <td>2015     </td> <td>GWR1803-5-22.08</td> <td>1803007GW  </td> <td>138.1               </td> <td>0                  </td> <td>0               </td> <td>138.1      </td>\n",
       "        </tr>\n",
       "    </tbody>\n",
       "</table>\n",
       "<p>... (1650 rows omitted)</p>"
      ],
      "text/plain": [
       "year | data_year | source          | target      | cumulative_volume_af | transmission_kwh/af | treatment_kwh/af | used_vol_af\n",
       "2015 | 2015      | 1803005NPD      | 1803005E    | 733                  | 17.6                | 0                | 733\n",
       "2015 | 2015      | SW1803005W      | 1803005NPD  | 733                  | 87                  | 236              | 0\n",
       "2015 | 2015      | 1803005WIMP     | 1803005PD   | 962.992              | 0                   | 224              | 0\n",
       "2015 | 2015      | 1803041WIMP     | 1803005PD   | 3228.97              | 25                  | 224              | 0\n",
       "2015 | 2015      | 1803005WIMP     | 1803005WPD  | 4127.24              | 25                  | 0                | 0\n",
       "2015 | 2015      | 1803005WPD      | 1803005WE   | 4127.24              | 17.6                | 0                | 17586\n",
       "2015 | 2015      | R_Kern          | 1803005WIMP | 17586                | 0                   | 0                | 0\n",
       "2015 | 2015      | GW1803-5-22.14  | 1803005PD   | 31029                | 399                 | 181.75           | 0\n",
       "2015 | 2015      | 1803005PD       | 1803005E    | 35221                | 52.8                | 0                | 35221\n",
       "2015 | 2015      | GWR1803-5-22.08 | 1803007GW   | 138.1                | 0                   | 0                | 138.1\n",
       "... (1650 rows omitted)"
      ]
     },
     "execution_count": 98,
     "metadata": {},
     "output_type": "execute_result"
    }
   ],
   "source": [
    "#Getting data for 2015.\n",
    "data_2015 = data_1.where('year',are.equal_to(2015))\n",
    "data_2015"
   ]
  },
  {
   "cell_type": "markdown",
   "metadata": {},
   "source": [
    "## Extracting data in 2015 for Cerritos (1807057E)\n",
    "Let's get the 2015 data for Cerritos utility by setting the target column to be equal to its utility code."
   ]
  },
  {
   "cell_type": "markdown",
   "metadata": {},
   "source": [
    "##### Cerritos"
   ]
  },
  {
   "cell_type": "code",
   "execution_count": 99,
   "metadata": {},
   "outputs": [
    {
     "data": {
      "text/html": [
       "<table border=\"1\" class=\"dataframe\">\n",
       "    <thead>\n",
       "        <tr>\n",
       "            <th>year</th> <th>data_year</th> <th>source</th> <th>target</th> <th>cumulative_volume_af</th> <th>transmission_kwh/af</th> <th>treatment_kwh/af</th> <th>used_vol_af</th>\n",
       "        </tr>\n",
       "    </thead>\n",
       "    <tbody>\n",
       "        <tr>\n",
       "            <td>2015</td> <td>2015     </td> <td>1807057NPD</td> <td>1807057E</td> <td>2335                </td> <td>195.72             </td> <td>0               </td> <td>2335       </td>\n",
       "        </tr>\n",
       "        <tr>\n",
       "            <td>2015</td> <td>2015     </td> <td>1807057PD </td> <td>1807057E</td> <td>8460                </td> <td>326.2              </td> <td>0               </td> <td>8460       </td>\n",
       "        </tr>\n",
       "    </tbody>\n",
       "</table>"
      ],
      "text/plain": [
       "year | data_year | source     | target   | cumulative_volume_af | transmission_kwh/af | treatment_kwh/af | used_vol_af\n",
       "2015 | 2015      | 1807057NPD | 1807057E | 2335                 | 195.72              | 0                | 2335\n",
       "2015 | 2015      | 1807057PD  | 1807057E | 8460                 | 326.2               | 0                | 8460"
      ]
     },
     "execution_count": 99,
     "metadata": {},
     "output_type": "execute_result"
    }
   ],
   "source": [
    "cerritos_2015 = data_2015.where(\"target\", are.equal_to(\"1807057E\"))\n",
    "cerritos_2015\n"
   ]
  },
  {
   "cell_type": "markdown",
   "metadata": {},
   "source": [
    "## Try extracting 2015 data for your own utility!\n",
    "Similar to what you did for the 2010 data, find where the target column is equal to your utility code."
   ]
  },
  {
   "cell_type": "markdown",
   "metadata": {},
   "source": [
    "##### Utility"
   ]
  },
  {
   "cell_type": "code",
   "execution_count": 10,
   "metadata": {},
   "outputs": [
    {
     "data": {
      "text/plain": [
       "Ellipsis"
      ]
     },
     "execution_count": 10,
     "metadata": {},
     "output_type": "execute_result"
    }
   ],
   "source": [
    "#Data where target = YOUR UTILITY CODE\n",
    "utility_2015 = ...\n",
    "utility_2015"
   ]
  },
  {
   "cell_type": "markdown",
   "metadata": {},
   "source": [
    "##### Sort the values by cumulative volume"
   ]
  },
  {
   "cell_type": "code",
   "execution_count": null,
   "metadata": {
    "collapsed": true
   },
   "outputs": [],
   "source": [
    "#where do they get most water?\n",
    "utility_2015 = utility_2015.sort(...)\n",
    "utility_2015"
   ]
  },
  {
   "cell_type": "markdown",
   "metadata": {},
   "source": [
    "# Lets combine data from 2010 and 2015 found above!\n",
    "Using the `table.append(table2)` function, we can combine actual 2010 data and actual 2015 data. By combining these two tables, we can easily compare the energy and water volume difference between 2010 and 2015.\n",
    "#### Below is an example for Cerritos Water utility."
   ]
  },
  {
   "cell_type": "markdown",
   "metadata": {},
   "source": [
    "#### Cerritos"
   ]
  },
  {
   "cell_type": "code",
   "execution_count": 133,
   "metadata": {},
   "outputs": [
    {
     "data": {
      "text/html": [
       "<table border=\"1\" class=\"dataframe\">\n",
       "    <thead>\n",
       "        <tr>\n",
       "            <th>year</th> <th>data_year</th> <th>source</th> <th>target</th> <th>cumulative_volume_af</th> <th>transmission_kwh/af</th> <th>treatment_kwh/af</th> <th>used_vol_af</th>\n",
       "        </tr>\n",
       "    </thead>\n",
       "    <tbody>\n",
       "        <tr>\n",
       "            <td>2010</td> <td>2010     </td> <td>1807057PD </td> <td>1807057E</td> <td>6048                </td> <td>163.1              </td> <td>0               </td> <td>6048       </td>\n",
       "        </tr>\n",
       "        <tr>\n",
       "            <td>2010</td> <td>2010     </td> <td>1807057NPD</td> <td>1807057E</td> <td>1870                </td> <td>195.72             </td> <td>0               </td> <td>1870       </td>\n",
       "        </tr>\n",
       "        <tr>\n",
       "            <td>2015</td> <td>2015     </td> <td>1807057NPD</td> <td>1807057E</td> <td>2335                </td> <td>195.72             </td> <td>0               </td> <td>2335       </td>\n",
       "        </tr>\n",
       "        <tr>\n",
       "            <td>2015</td> <td>2015     </td> <td>1807057PD </td> <td>1807057E</td> <td>8460                </td> <td>326.2              </td> <td>0               </td> <td>8460       </td>\n",
       "        </tr>\n",
       "    </tbody>\n",
       "</table>"
      ],
      "text/plain": [
       "year | data_year | source     | target   | cumulative_volume_af | transmission_kwh/af | treatment_kwh/af | used_vol_af\n",
       "2010 | 2010      | 1807057PD  | 1807057E | 6048                 | 163.1               | 0                | 6048\n",
       "2010 | 2010      | 1807057NPD | 1807057E | 1870                 | 195.72              | 0                | 1870\n",
       "2015 | 2015      | 1807057NPD | 1807057E | 2335                 | 195.72              | 0                | 2335\n",
       "2015 | 2015      | 1807057PD  | 1807057E | 8460                 | 326.2               | 0                | 8460"
      ]
     },
     "execution_count": 133,
     "metadata": {},
     "output_type": "execute_result"
    }
   ],
   "source": [
    "#combine the actual 2010 data and actual 2015 data\n",
    "cerritos_water_final = cerritos.append(cerritos_2015)\n",
    "cerritos_water_final"
   ]
  },
  {
   "cell_type": "markdown",
   "metadata": {},
   "source": [
    "### Make an appended table of your own utility.\n",
    "##### Utility"
   ]
  },
  {
   "cell_type": "code",
   "execution_count": 134,
   "metadata": {},
   "outputs": [
    {
     "data": {
      "text/plain": [
       "Ellipsis"
      ]
     },
     "execution_count": 134,
     "metadata": {},
     "output_type": "execute_result"
    }
   ],
   "source": [
    "#combine the actual 2010 data and actual 2015 data\n",
    "utility_final = ...\n",
    "utility_final"
   ]
  },
  {
   "cell_type": "markdown",
   "metadata": {},
   "source": [
    "# Let's Observe Cerritos Water Utility "
   ]
  },
  {
   "cell_type": "code",
   "execution_count": 135,
   "metadata": {},
   "outputs": [
    {
     "data": {
      "text/html": [
       "<table border=\"1\" class=\"dataframe\">\n",
       "    <thead>\n",
       "        <tr>\n",
       "            <th>year</th> <th>data_year</th> <th>source</th> <th>target</th> <th>cumulative_volume_af</th> <th>transmission_kwh/af</th> <th>treatment_kwh/af</th> <th>used_vol_af</th>\n",
       "        </tr>\n",
       "    </thead>\n",
       "    <tbody>\n",
       "        <tr>\n",
       "            <td>2010</td> <td>2010     </td> <td>1807057PD </td> <td>1807057E</td> <td>6048                </td> <td>163.1              </td> <td>0               </td> <td>6048       </td>\n",
       "        </tr>\n",
       "        <tr>\n",
       "            <td>2010</td> <td>2010     </td> <td>1807057NPD</td> <td>1807057E</td> <td>1870                </td> <td>195.72             </td> <td>0               </td> <td>1870       </td>\n",
       "        </tr>\n",
       "        <tr>\n",
       "            <td>2015</td> <td>2015     </td> <td>1807057NPD</td> <td>1807057E</td> <td>2335                </td> <td>195.72             </td> <td>0               </td> <td>2335       </td>\n",
       "        </tr>\n",
       "        <tr>\n",
       "            <td>2015</td> <td>2015     </td> <td>1807057PD </td> <td>1807057E</td> <td>8460                </td> <td>326.2              </td> <td>0               </td> <td>8460       </td>\n",
       "        </tr>\n",
       "    </tbody>\n",
       "</table>"
      ],
      "text/plain": [
       "year | data_year | source     | target   | cumulative_volume_af | transmission_kwh/af | treatment_kwh/af | used_vol_af\n",
       "2010 | 2010      | 1807057PD  | 1807057E | 6048                 | 163.1               | 0                | 6048\n",
       "2010 | 2010      | 1807057NPD | 1807057E | 1870                 | 195.72              | 0                | 1870\n",
       "2015 | 2015      | 1807057NPD | 1807057E | 2335                 | 195.72              | 0                | 2335\n",
       "2015 | 2015      | 1807057PD  | 1807057E | 8460                 | 326.2               | 0                | 8460"
      ]
     },
     "execution_count": 135,
     "metadata": {},
     "output_type": "execute_result"
    }
   ],
   "source": [
    "cerritos_water_final"
   ]
  },
  {
   "cell_type": "markdown",
   "metadata": {},
   "source": [
    "# Formulas\n",
    "## How to calculate the amount of energy used.\n",
    "- transmission_kwh = cumulative_volume_af * transmission_kwh/af\n",
    "\n",
    "## How to calculate the percentage increase.\n",
    "- Increase = New Number - Original Number\n",
    "- % Increase = Increase / Original Number * 100"
   ]
  },
  {
   "cell_type": "markdown",
   "metadata": {},
   "source": [
    "Before jumping into analysis, let's get all the data tables we need for our analysis. We will be looking at the actual 2010 data, predicted 2015 data (from 2010), and actual 2015 data."
   ]
  },
  {
   "cell_type": "markdown",
   "metadata": {},
   "source": [
    "#### Actual 2010 Data"
   ]
  },
  {
   "cell_type": "code",
   "execution_count": 105,
   "metadata": {},
   "outputs": [
    {
     "data": {
      "text/html": [
       "<table border=\"1\" class=\"dataframe\">\n",
       "    <thead>\n",
       "        <tr>\n",
       "            <th>year</th> <th>data_year</th> <th>source</th> <th>target</th> <th>cumulative_volume_af</th> <th>transmission_kwh/af</th> <th>treatment_kwh/af</th> <th>used_vol_af</th>\n",
       "        </tr>\n",
       "    </thead>\n",
       "    <tbody>\n",
       "        <tr>\n",
       "            <td>2010</td> <td>2010     </td> <td>1807057NPD</td> <td>1807057E</td> <td>1870                </td> <td>195.72             </td> <td>0               </td> <td>1870       </td>\n",
       "        </tr>\n",
       "        <tr>\n",
       "            <td>2010</td> <td>2010     </td> <td>1807057PD </td> <td>1807057E</td> <td>6048                </td> <td>163.1              </td> <td>0               </td> <td>6048       </td>\n",
       "        </tr>\n",
       "    </tbody>\n",
       "</table>"
      ],
      "text/plain": [
       "year | data_year | source     | target   | cumulative_volume_af | transmission_kwh/af | treatment_kwh/af | used_vol_af\n",
       "2010 | 2010      | 1807057NPD | 1807057E | 1870                 | 195.72              | 0                | 1870\n",
       "2010 | 2010      | 1807057PD  | 1807057E | 6048                 | 163.1               | 0                | 6048"
      ]
     },
     "execution_count": 105,
     "metadata": {},
     "output_type": "execute_result"
    }
   ],
   "source": [
    "cerritos_2010 = data_2010.where(\"target\", are.equal_to(\"1807057E\"))\n",
    "cerritos_2010"
   ]
  },
  {
   "cell_type": "markdown",
   "metadata": {},
   "source": [
    "#### Predicted 2015 Data"
   ]
  },
  {
   "cell_type": "code",
   "execution_count": 106,
   "metadata": {},
   "outputs": [
    {
     "data": {
      "text/html": [
       "<table border=\"1\" class=\"dataframe\">\n",
       "    <thead>\n",
       "        <tr>\n",
       "            <th>year</th> <th>data_year</th> <th>source</th> <th>target</th> <th>cumulative_volume_af</th> <th>transmission_kwh/af</th> <th>treatment_kwh/af</th> <th>used_vol_af</th>\n",
       "        </tr>\n",
       "    </thead>\n",
       "    <tbody>\n",
       "        <tr>\n",
       "            <td>2015</td> <td>2010     </td> <td>1807057NPD</td> <td>1807057E</td> <td>2046                </td> <td>195.72             </td> <td>0               </td> <td>2046       </td>\n",
       "        </tr>\n",
       "        <tr>\n",
       "            <td>2015</td> <td>2010     </td> <td>1807057PD </td> <td>1807057E</td> <td>7410                </td> <td>163.1              </td> <td>0               </td> <td>7410       </td>\n",
       "        </tr>\n",
       "    </tbody>\n",
       "</table>"
      ],
      "text/plain": [
       "year | data_year | source     | target   | cumulative_volume_af | transmission_kwh/af | treatment_kwh/af | used_vol_af\n",
       "2015 | 2010      | 1807057NPD | 1807057E | 2046                 | 195.72              | 0                | 2046\n",
       "2015 | 2010      | 1807057PD  | 1807057E | 7410                 | 163.1               | 0                | 7410"
      ]
     },
     "execution_count": 106,
     "metadata": {},
     "output_type": "execute_result"
    }
   ],
   "source": [
    "data_2010_pred = data.where('year', are.equal_to(2015))\n",
    "cerritos_2015p = data_2010_pred.where(\"target\",are.equal_to(\"1807057E\"))\n",
    "cerritos_2015p\n"
   ]
  },
  {
   "cell_type": "markdown",
   "metadata": {},
   "source": [
    "#### Actual 2015 Data"
   ]
  },
  {
   "cell_type": "code",
   "execution_count": 107,
   "metadata": {},
   "outputs": [
    {
     "data": {
      "text/html": [
       "<table border=\"1\" class=\"dataframe\">\n",
       "    <thead>\n",
       "        <tr>\n",
       "            <th>year</th> <th>data_year</th> <th>source</th> <th>target</th> <th>cumulative_volume_af</th> <th>transmission_kwh/af</th> <th>treatment_kwh/af</th> <th>used_vol_af</th>\n",
       "        </tr>\n",
       "    </thead>\n",
       "    <tbody>\n",
       "        <tr>\n",
       "            <td>2015</td> <td>2015     </td> <td>1807057NPD</td> <td>1807057E</td> <td>2335                </td> <td>195.72             </td> <td>0               </td> <td>2335       </td>\n",
       "        </tr>\n",
       "        <tr>\n",
       "            <td>2015</td> <td>2015     </td> <td>1807057PD </td> <td>1807057E</td> <td>8460                </td> <td>326.2              </td> <td>0               </td> <td>8460       </td>\n",
       "        </tr>\n",
       "    </tbody>\n",
       "</table>"
      ],
      "text/plain": [
       "year | data_year | source     | target   | cumulative_volume_af | transmission_kwh/af | treatment_kwh/af | used_vol_af\n",
       "2015 | 2015      | 1807057NPD | 1807057E | 2335                 | 195.72              | 0                | 2335\n",
       "2015 | 2015      | 1807057PD  | 1807057E | 8460                 | 326.2               | 0                | 8460"
      ]
     },
     "execution_count": 107,
     "metadata": {},
     "output_type": "execute_result"
    }
   ],
   "source": [
    "cerritos_2015 = data_2015.where(\"target\",are.equal_to(\"1807057E\"))\n",
    "cerritos_2015"
   ]
  },
  {
   "cell_type": "markdown",
   "metadata": {},
   "source": [
    "# PART I. Actual 2010 vs Predicted 2015\n",
    "Let's observe the actual 2010 data and predicted 2015 data made in 2010."
   ]
  },
  {
   "cell_type": "markdown",
   "metadata": {},
   "source": [
    "### Amount of energy used in 2010 vs 2015 projection"
   ]
  },
  {
   "cell_type": "markdown",
   "metadata": {},
   "source": [
    "#### What is the total amount of energy used in 2010?\n",
    "\n",
    "As shown in the given formulas above, the total amount of energy is a sum of cumulative_volume_af * transmission_kwh/af from each source."
   ]
  },
  {
   "cell_type": "code",
   "execution_count": 108,
   "metadata": {},
   "outputs": [
    {
     "name": "stdout",
     "output_type": "stream",
     "text": [
      "Amount of Energy used in 2010 : 1574567.4 kwh\n"
     ]
    }
   ],
   "source": [
    "actual_energy_2010 = 1870 * 195.72 + 7410 * 163.1\n",
    "print (\"Amount of Energy used in 2010 : \" + str(actual_energy_2010) + \" kwh\")"
   ]
  },
  {
   "cell_type": "markdown",
   "metadata": {},
   "source": [
    "#### What is the total amount of energy predicted to be used in 2015?"
   ]
  },
  {
   "cell_type": "code",
   "execution_count": 109,
   "metadata": {},
   "outputs": [
    {
     "name": "stdout",
     "output_type": "stream",
     "text": [
      "Amount of Energy used in 2015 projection : 2980195.82 kwh\n"
     ]
    }
   ],
   "source": [
    "projection_energy_2015 = 2046 * 195.72 + 15817 * 163.1\n",
    "print (\"Amount of Energy used in 2015 projection : \" + str(projection_energy_2015) + \" kwh\")"
   ]
  },
  {
   "cell_type": "markdown",
   "metadata": {},
   "source": [
    "#### What is the predicted percent increase of energy used between 2010 and 2015?"
   ]
  },
  {
   "cell_type": "code",
   "execution_count": 18,
   "metadata": {},
   "outputs": [
    {
     "name": "stdout",
     "output_type": "stream",
     "text": [
      "Transmission energy is expected to increase by 0.8927076859332919%\n"
     ]
    }
   ],
   "source": [
    "diff_2010 = projection_energy_2015 - actual_energy_2010\n",
    "percent = diff_2010 / actual_energy_2010\n",
    "print (\"Transmission energy is expected to increase by \" + str(percent) + \"%\")"
   ]
  },
  {
   "cell_type": "markdown",
   "metadata": {},
   "source": [
    "### Cumulative volume change 2010 vs 2015 projection\n",
    "We can find the cumulative volume by adding the cumulative_volume column."
   ]
  },
  {
   "cell_type": "markdown",
   "metadata": {},
   "source": [
    "#### What is the total amount of water transported in 2010?"
   ]
  },
  {
   "cell_type": "code",
   "execution_count": 110,
   "metadata": {},
   "outputs": [
    {
     "name": "stdout",
     "output_type": "stream",
     "text": [
      "Amount of volume used in 2010 : 9280\n"
     ]
    }
   ],
   "source": [
    "volume_2010 = 1870 + 7410\n",
    "print (\"Amount of volume used in 2010 : \" + str(volume_2010))"
   ]
  },
  {
   "cell_type": "markdown",
   "metadata": {},
   "source": [
    "#### What is the total amount of water predicted to be transported in 2015?"
   ]
  },
  {
   "cell_type": "code",
   "execution_count": 111,
   "metadata": {},
   "outputs": [
    {
     "name": "stdout",
     "output_type": "stream",
     "text": [
      "Amount of volume used in 2015 : 17863\n"
     ]
    }
   ],
   "source": [
    "volume_2015p = 2046 + 15817\n",
    "print (\"Amount of volume used in 2015 : \" + str(volume_2015p))"
   ]
  },
  {
   "cell_type": "markdown",
   "metadata": {},
   "source": [
    "#### What is the predicted percent increase of cumulative volume of water transported between 2010 and 2015?"
   ]
  },
  {
   "cell_type": "code",
   "execution_count": 112,
   "metadata": {},
   "outputs": [
    {
     "name": "stdout",
     "output_type": "stream",
     "text": [
      "Volume of water expected to change by 0.9248922413793104% from 2010 and 2015\n"
     ]
    }
   ],
   "source": [
    "percent_v = (volume_2015p - volume_2010) / volume_2010\n",
    "print (\"Volume of water expected to change by \" + str(percent_v) + \"% from 2010 and 2015\")"
   ]
  },
  {
   "cell_type": "markdown",
   "metadata": {},
   "source": [
    "#### Question 1: \n",
    "In 2010, how were energy and volume expected to change between 2010 and 2015?"
   ]
  },
  {
   "cell_type": "markdown",
   "metadata": {},
   "source": [
    "TYPE YOUR ANSWER"
   ]
  },
  {
   "cell_type": "markdown",
   "metadata": {},
   "source": [
    "# PART II. Actual 2010 vs Actual 2015\n",
    "We will now observe the actual 2010 data and actual 2015 data to see the enrgy and volume difference that actually occurred betweent hose five years."
   ]
  },
  {
   "cell_type": "markdown",
   "metadata": {},
   "source": [
    "### Amount of energy used in 2010 vs 2015 \n"
   ]
  },
  {
   "cell_type": "markdown",
   "metadata": {},
   "source": [
    "#### What is the total amount of energy used in 2010?\n",
    "This value was calculated in previous part as actual_energy_2010."
   ]
  },
  {
   "cell_type": "code",
   "execution_count": 113,
   "metadata": {},
   "outputs": [
    {
     "name": "stdout",
     "output_type": "stream",
     "text": [
      "The total transmission_kwh in 2010 : 1574567.4 kwh\n"
     ]
    }
   ],
   "source": [
    "print (\"The total transmission_kwh in 2010 : \" + str(actual_energy_2010) + \" kwh\")"
   ]
  },
  {
   "cell_type": "markdown",
   "metadata": {},
   "source": [
    "#### What is the total amount of energy used in 2015?"
   ]
  },
  {
   "cell_type": "code",
   "execution_count": 114,
   "metadata": {},
   "outputs": [
    {
     "name": "stdout",
     "output_type": "stream",
     "text": [
      "The total transmission_kwh in 2015 : 3216658.2 kwh\n"
     ]
    }
   ],
   "source": [
    "actual_energy_2015 = 2335 * 195.72 + 8460 * 326.2\n",
    "print (\"The total transmission_kwh in 2015 : \" + str(actual_energy_2015) + \" kwh\")"
   ]
  },
  {
   "cell_type": "markdown",
   "metadata": {},
   "source": [
    "#### What is the percent increase of energy used between 2010 and 2015?"
   ]
  },
  {
   "cell_type": "code",
   "execution_count": 115,
   "metadata": {},
   "outputs": [
    {
     "name": "stdout",
     "output_type": "stream",
     "text": [
      "The percentage increase of energy from 2010 to 2015 : 104.28837787445622%\n"
     ]
    }
   ],
   "source": [
    "increase = actual_energy_2015 - actual_energy_2010\n",
    "percentage_inc = increase / actual_energy_2010 * 100\n",
    "print (\"The percentage increase of energy from 2010 to 2015 : \" + str(percentage_inc) + \"%\")"
   ]
  },
  {
   "cell_type": "markdown",
   "metadata": {},
   "source": [
    "### Cumulative volume change 2010 vs 2015 "
   ]
  },
  {
   "cell_type": "markdown",
   "metadata": {},
   "source": [
    "#### What is the total amount of water transported in 2010?"
   ]
  },
  {
   "cell_type": "code",
   "execution_count": 116,
   "metadata": {},
   "outputs": [
    {
     "name": "stdout",
     "output_type": "stream",
     "text": [
      "The total volume of water transported in 2010: 9280\n"
     ]
    }
   ],
   "source": [
    "print (\"The total volume of water transported in 2010: \" + str(volume_2010))"
   ]
  },
  {
   "cell_type": "markdown",
   "metadata": {},
   "source": [
    "#### What is the total amount of water transported in 2015?"
   ]
  },
  {
   "cell_type": "code",
   "execution_count": 117,
   "metadata": {},
   "outputs": [
    {
     "name": "stdout",
     "output_type": "stream",
     "text": [
      "The total volume of water transported in 2015: 10795\n"
     ]
    }
   ],
   "source": [
    "volume_2015 = 2335 + 8460\n",
    "print (\"The total volume of water transported in 2015: \" + str(volume_2015))"
   ]
  },
  {
   "cell_type": "markdown",
   "metadata": {},
   "source": [
    "#### What is the percent increase of cumulative volume of water transported between 2010 and 2015?"
   ]
  },
  {
   "cell_type": "code",
   "execution_count": 118,
   "metadata": {},
   "outputs": [
    {
     "name": "stdout",
     "output_type": "stream",
     "text": [
      "The percentage decrease of volume of water transported from 2010 to 2015 : 16.325431034482758 %\n"
     ]
    }
   ],
   "source": [
    "difference = volume_2015 - volume_2010\n",
    "percentage_diff = difference / volume_2010 * 100\n",
    "print (\"The percentage decrease of volume of water transported from 2010 to 2015 : \" + str(percentage_diff) + \" %\")"
   ]
  },
  {
   "cell_type": "markdown",
   "metadata": {},
   "source": [
    "#### Question 2: \n",
    "What actually happened in amount of energy and water between 2010 and 2015? How is it different from what was expected in 2010? What do you think caused this change?"
   ]
  },
  {
   "cell_type": "markdown",
   "metadata": {},
   "source": [
    "TYPE YOUR ANSWER"
   ]
  },
  {
   "cell_type": "markdown",
   "metadata": {},
   "source": [
    "# PART III. 2015 projection vs 2015 actual\n",
    "We will now compare the 2010 predicted data and 2015 actual data."
   ]
  },
  {
   "cell_type": "markdown",
   "metadata": {},
   "source": [
    "### Amount of energy used in 2015 predicted vs 2015 actual\n",
    "\n"
   ]
  },
  {
   "cell_type": "markdown",
   "metadata": {},
   "source": [
    "#### What is the total amount of energy predicted to be used in 2015?"
   ]
  },
  {
   "cell_type": "code",
   "execution_count": 136,
   "metadata": {},
   "outputs": [
    {
     "name": "stdout",
     "output_type": "stream",
     "text": [
      "Amount of Energy used in 2015 projection : 2980195.82 kwh\n"
     ]
    }
   ],
   "source": [
    "print (\"Amount of Energy used in 2015 projection : \" + str(projection_energy_2015) + \" kwh\")"
   ]
  },
  {
   "cell_type": "markdown",
   "metadata": {},
   "source": [
    "#### What is the total amount of energy used in 2015?"
   ]
  },
  {
   "cell_type": "code",
   "execution_count": 137,
   "metadata": {},
   "outputs": [
    {
     "name": "stdout",
     "output_type": "stream",
     "text": [
      "Amount of Energy used in 2015 : 3216658.2 kwh\n"
     ]
    }
   ],
   "source": [
    "print (\"Amount of Energy used in 2015 : \" + str(actual_energy_2015) + \" kwh\")"
   ]
  },
  {
   "cell_type": "markdown",
   "metadata": {},
   "source": [
    "#### What is the difference of energy usage between 2015 predicted and 2015 actual?"
   ]
  },
  {
   "cell_type": "code",
   "execution_count": 138,
   "metadata": {},
   "outputs": [
    {
     "name": "stdout",
     "output_type": "stream",
     "text": [
      "The actual energy used in 2015 is 236462.38000000035 kwh greater than the projection made in 2010\n"
     ]
    }
   ],
   "source": [
    "diff = actual_energy_2015 - projection_energy_2015\n",
    "print (\"The actual energy used in 2015 is \" + str(diff) + \" kwh\" + \" greater than the projection made in 2010\")"
   ]
  },
  {
   "cell_type": "markdown",
   "metadata": {},
   "source": [
    "### Bar Graph\n",
    "Let's make a bar graph showing the energy used in actual 2010 data, predicted 2015 data, and actual 2015 data to observe the difference between prediction and actual data in 2015."
   ]
  },
  {
   "cell_type": "code",
   "execution_count": 139,
   "metadata": {},
   "outputs": [
    {
     "data": {
      "image/png": "[encoded data removed]",
      "text/plain": [
       "<matplotlib.figure.Figure at 0x1a158e5240>"
      ]
     },
     "metadata": {},
     "output_type": "display_data"
    }
   ],
   "source": [
    "energy_comb = pd.DataFrame(data = \n",
    "                      {\"year\" : [\"actual 2010\", \"predicted 2015\", \"actual 2015\"], \n",
    "                       \"values\" : [actual_energy_2010/(10**6),projection_energy_2015/(10**6), actual_energy_2015/(10**6)]})\n",
    "energy_bar = energy_comb.plot(kind='bar',x='year', y='values')\n",
    "plt.title(\"Energy Difference Between Actual 2010, Predicted 2010 And Actual 2015\")\n",
    "plt.ylabel('Values (1e6) kwh');\n",
    "plt.axhline(y=1574567.4/(10**6), color = \"yellow\")\n",
    "plt.xticks(rotation=0)\n",
    "energy_bar;"
   ]
  },
  {
   "cell_type": "markdown",
   "metadata": {},
   "source": [
    "### Question 3:\n",
    "What can you tell from the bar graph? "
   ]
  },
  {
   "cell_type": "markdown",
   "metadata": {},
   "source": [
    "TYPE YOUR ANSWER"
   ]
  },
  {
   "cell_type": "markdown",
   "metadata": {},
   "source": [
    "###  Cumulative volume in 2015 projection vs 2015 actual"
   ]
  },
  {
   "cell_type": "markdown",
   "metadata": {},
   "source": [
    "#### What is the total amount of water predicted to be transported in 2010?"
   ]
  },
  {
   "cell_type": "code",
   "execution_count": 124,
   "metadata": {},
   "outputs": [
    {
     "name": "stdout",
     "output_type": "stream",
     "text": [
      "The projected amount of volume in 2015 : 17863\n"
     ]
    }
   ],
   "source": [
    "print (\"The projected amount of volume in 2015 : \" + str(volume_2015p))"
   ]
  },
  {
   "cell_type": "markdown",
   "metadata": {},
   "source": [
    "#### What is the total amount of water transported in 2015?"
   ]
  },
  {
   "cell_type": "code",
   "execution_count": 125,
   "metadata": {},
   "outputs": [
    {
     "name": "stdout",
     "output_type": "stream",
     "text": [
      "The actual amount of volume in 2015 : 10795\n"
     ]
    }
   ],
   "source": [
    "print (\"The actual amount of volume in 2015 : \" + str(volume_2015))"
   ]
  },
  {
   "cell_type": "markdown",
   "metadata": {},
   "source": [
    "#### What is the difference of volume of water transported between 2015 predicted and 2015 actual?"
   ]
  },
  {
   "cell_type": "code",
   "execution_count": 126,
   "metadata": {},
   "outputs": [
    {
     "name": "stdout",
     "output_type": "stream",
     "text": [
      "The actual amount of volume used in 2015 is 7068 less than the projected amount of volume\n"
     ]
    }
   ],
   "source": [
    "diff_v = volume_2015 - volume_2015p\n",
    "print (\"The actual amount of volume used in 2015 is \" + str(-diff_v) + \" less than the projected amount of volume\")"
   ]
  },
  {
   "cell_type": "markdown",
   "metadata": {},
   "source": [
    "### Bar Graph\n",
    "Let's make a bar graph showing the volume of water transported in actual 2010 data, predicted 2015 data, and actual 2015 data to observe the difference between prediction and actual data in 2015."
   ]
  },
  {
   "cell_type": "code",
   "execution_count": 127,
   "metadata": {},
   "outputs": [
    {
     "data": {
      "image/png": "[encoded data removed]",
      "text/plain": [
       "<matplotlib.figure.Figure at 0x1a15d76d30>"
      ]
     },
     "metadata": {},
     "output_type": "display_data"
    }
   ],
   "source": [
    "volume_comb = pd.DataFrame(data = \n",
    "                      {\"year\" : [\"actual 2010\", \"predicted 2015\", \"actual 2015\"], \n",
    "                       \"values\" : [volume_2010, volume_2015p, volume_2015]})\n",
    "volume_bar = data_6.plot(kind='bar',x='year', y='values')\n",
    "plt.title(\"Volume Difference Between Actual 2010, Predicted 2015 And Actual 2015\")\n",
    "plt.ylabel('Values');\n",
    "plt.xticks(rotation=0)\n",
    "plt.axhline(y=9280, color = \"yellow\")\n",
    "volume_bar;"
   ]
  },
  {
   "cell_type": "markdown",
   "metadata": {},
   "source": [
    "### Question 4:\n",
    "What can you tell from the visualizatino above? What is siginificant about the data shown above?"
   ]
  },
  {
   "cell_type": "markdown",
   "metadata": {},
   "source": [
    "TYPE YOUR ANSWER"
   ]
  },
  {
   "cell_type": "markdown",
   "metadata": {},
   "source": [
    "## Discussion Questions"
   ]
  },
  {
   "cell_type": "markdown",
   "metadata": {
    "collapsed": true
   },
   "source": [
    "##### What do you think caused a significant increase in usage of energy and volume of water between 2010 and 2015?"
   ]
  },
  {
   "cell_type": "markdown",
   "metadata": {
    "collapsed": true
   },
   "source": [
    "TYPE YOUR ANSWER"
   ]
  },
  {
   "cell_type": "markdown",
   "metadata": {},
   "source": [
    "##### What are the differences you can find between actual 2015 data and predicted 2015 data?"
   ]
  },
  {
   "cell_type": "markdown",
   "metadata": {
    "collapsed": true
   },
   "source": [
    "TYPE YOUR ANSWER"
   ]
  },
  {
   "cell_type": "markdown",
   "metadata": {},
   "source": [
    "##### Can you connect information found through the energy flow chart and the analysis done with Cerritos Water Utility?"
   ]
  },
  {
   "cell_type": "markdown",
   "metadata": {
    "collapsed": true
   },
   "source": [
    "TYPE YOUR ANSWER"
   ]
  },
  {
   "cell_type": "markdown",
   "metadata": {},
   "source": [
    "# PART IV. Can you do your own?"
   ]
  },
  {
   "cell_type": "markdown",
   "metadata": {},
   "source": [
    "### Let's try to analyze your own utility!"
   ]
  },
  {
   "cell_type": "markdown",
   "metadata": {},
   "source": [
    "## Actual 2010 vs 2015 Predicted\n",
    "\n"
   ]
  },
  {
   "cell_type": "markdown",
   "metadata": {},
   "source": [
    "### Amount of energy used in 2010 vs 2015 projection"
   ]
  },
  {
   "cell_type": "markdown",
   "metadata": {},
   "source": [
    "#### What is the total amount of energy used in 2010?"
   ]
  },
  {
   "cell_type": "code",
   "execution_count": 71,
   "metadata": {
    "collapsed": true
   },
   "outputs": [],
   "source": [
    "actual_energy_2010 = ...\n",
    "print (\"Amount of Energy used in 2010 : \" + str(actual_energy_2010) + \" kwh\")"
   ]
  },
  {
   "cell_type": "markdown",
   "metadata": {},
   "source": [
    "#### What is the total amount of energy predicted to be used in 2015?"
   ]
  },
  {
   "cell_type": "code",
   "execution_count": 72,
   "metadata": {
    "collapsed": true
   },
   "outputs": [],
   "source": [
    "projection_2015 = ...\n",
    "print (\"Amount of Energy used in 2015 projection : \" + str(projection_2015) + \" kwh\")"
   ]
  },
  {
   "cell_type": "markdown",
   "metadata": {},
   "source": [
    "#### What is the predicted percent increase of energy used between 2010 and 2015?"
   ]
  },
  {
   "cell_type": "code",
   "execution_count": null,
   "metadata": {
    "collapsed": true
   },
   "outputs": [],
   "source": [
    "diff_2010 = ...\n",
    "percent = ...\n",
    "print (\"Transmission energy is expected to increase by \" + str(percent) + \"%\")"
   ]
  },
  {
   "cell_type": "markdown",
   "metadata": {},
   "source": [
    "### Cumulative volume change 2010 vs 2015 projection\n"
   ]
  },
  {
   "cell_type": "markdown",
   "metadata": {},
   "source": [
    "#### What is the total amount of water transported in 2010?"
   ]
  },
  {
   "cell_type": "code",
   "execution_count": null,
   "metadata": {
    "collapsed": true
   },
   "outputs": [],
   "source": [
    "volume_2010 = ...\n",
    "print (\"Amount of volume used in 2010 : \" + str(volume_2010))"
   ]
  },
  {
   "cell_type": "markdown",
   "metadata": {},
   "source": [
    "#### What is the total amount of water predicted to be transported in 2015?"
   ]
  },
  {
   "cell_type": "code",
   "execution_count": null,
   "metadata": {
    "collapsed": true
   },
   "outputs": [],
   "source": [
    "volume_2015 = ...\n",
    "print (\"Amount of volume used in 2015 : \" + str(volume_2015))"
   ]
  },
  {
   "cell_type": "markdown",
   "metadata": {},
   "source": [
    "#### What is the predicted percent increase of cumulative volume of water transported between 2010 and 2015?"
   ]
  },
  {
   "cell_type": "code",
   "execution_count": null,
   "metadata": {
    "collapsed": true
   },
   "outputs": [],
   "source": [
    "percent_v = ...\n",
    "print (\"Volume of water expected to change by \" + str(percent_v) + \"% from 2010 and 2015\")"
   ]
  },
  {
   "cell_type": "markdown",
   "metadata": {},
   "source": [
    "#### Question 5:\n",
    "What is expected to change in energy and water volume between 2010 and 2015 according to the data observed in 2010?"
   ]
  },
  {
   "cell_type": "markdown",
   "metadata": {},
   "source": [
    "TYPE YOUR ANSWER"
   ]
  },
  {
   "cell_type": "markdown",
   "metadata": {},
   "source": [
    "# Actual 2010 vs Actual 2015 "
   ]
  },
  {
   "cell_type": "markdown",
   "metadata": {},
   "source": [
    "### Amount of energy used in 2010 vs 2015 \n",
    "\n"
   ]
  },
  {
   "cell_type": "markdown",
   "metadata": {},
   "source": [
    "#### What is the total amount of energy used in 2010?"
   ]
  },
  {
   "cell_type": "code",
   "execution_count": null,
   "metadata": {
    "collapsed": true
   },
   "outputs": [],
   "source": [
    "energy = ...\n",
    "print (\"The total transmission_kwh in 2010 : \" + str(energy) + \" kwh\")"
   ]
  },
  {
   "cell_type": "markdown",
   "metadata": {},
   "source": [
    "#### What is the total amount of energy used in 2015?"
   ]
  },
  {
   "cell_type": "code",
   "execution_count": null,
   "metadata": {
    "collapsed": true
   },
   "outputs": [],
   "source": [
    "energy1 = ...\n",
    "print (\"The total transmission_kwh in 2015 : \" + str(energy1) + \" kwh\")"
   ]
  },
  {
   "cell_type": "markdown",
   "metadata": {},
   "source": [
    "#### What is the percent increase of energy used between 2010 and 2015?"
   ]
  },
  {
   "cell_type": "code",
   "execution_count": null,
   "metadata": {
    "collapsed": true
   },
   "outputs": [],
   "source": [
    "increase = ...\n",
    "percentage_inc = ...\n",
    "print (\"The percentage increase of energy from 2010 to 2015 : \" + str(percentage_inc) + \"%\")"
   ]
  },
  {
   "cell_type": "markdown",
   "metadata": {},
   "source": [
    "### Cumulative volume change 2010 vs 2015 "
   ]
  },
  {
   "cell_type": "markdown",
   "metadata": {},
   "source": [
    "#### What is the total amount of water transported in 2010?"
   ]
  },
  {
   "cell_type": "code",
   "execution_count": null,
   "metadata": {
    "collapsed": true
   },
   "outputs": [],
   "source": [
    "volume = ...\n",
    "print (\"The total volume of water transported in 2010: \" + str(volume))"
   ]
  },
  {
   "cell_type": "markdown",
   "metadata": {},
   "source": [
    "#### What is the total amount of water transported in 2015?"
   ]
  },
  {
   "cell_type": "code",
   "execution_count": null,
   "metadata": {
    "collapsed": true
   },
   "outputs": [],
   "source": [
    "volume1 = ...\n",
    "print (\"The total volume of water transported in 2015: \" + str(volume1))"
   ]
  },
  {
   "cell_type": "markdown",
   "metadata": {},
   "source": [
    "#### What is the percent increase of cumulative volume of water transported between 2010 and 2015?"
   ]
  },
  {
   "cell_type": "code",
   "execution_count": null,
   "metadata": {
    "collapsed": true
   },
   "outputs": [],
   "source": [
    "decrease = ...\n",
    "percentage_dec = ...\n",
    "print (\"The percentage decrease of volume of water transported from 2010 to 2015 : \" + str(percentage_dec) + \" %\")"
   ]
  },
  {
   "cell_type": "markdown",
   "metadata": {},
   "source": [
    "#### Question 6:\n",
    "What actually happened in change of energy and water volume between 2010 and 2015? How is it different from the prediction?"
   ]
  },
  {
   "cell_type": "markdown",
   "metadata": {},
   "source": [
    "TYPE YOUR ANSWER"
   ]
  },
  {
   "cell_type": "markdown",
   "metadata": {},
   "source": [
    "# 2015 projection vs 2015 actual"
   ]
  },
  {
   "cell_type": "markdown",
   "metadata": {},
   "source": [
    "### Amount of energy used in 2015 predicted vs 2015  actual\n",
    "\n"
   ]
  },
  {
   "cell_type": "markdown",
   "metadata": {},
   "source": [
    "#### What is the total amount of energy predicted to be used in 2015?"
   ]
  },
  {
   "cell_type": "code",
   "execution_count": null,
   "metadata": {
    "collapsed": true
   },
   "outputs": [],
   "source": [
    "projection = ...\n",
    "print (\"Amount of Energy used in 2015 projection : \" + str(projection) + \" kwh\")"
   ]
  },
  {
   "cell_type": "markdown",
   "metadata": {},
   "source": [
    "#### What is the total amount of energy used in 2015?"
   ]
  },
  {
   "cell_type": "code",
   "execution_count": null,
   "metadata": {
    "collapsed": true
   },
   "outputs": [],
   "source": [
    "actual = ...\n",
    "print (\"Amount of Energy used in 2015 : \" + str(actual) + \" kwh\")"
   ]
  },
  {
   "cell_type": "markdown",
   "metadata": {},
   "source": [
    "#### What is the difference of energy usage between 2015 predicted and 2015 actual?"
   ]
  },
  {
   "cell_type": "code",
   "execution_count": null,
   "metadata": {
    "collapsed": true
   },
   "outputs": [],
   "source": [
    "diff = ...\n",
    "print (\"The actual energy used in 2015 is \" + str(diff) + \" kwh\" + \" greater than the projection made in 2010\")"
   ]
  },
  {
   "cell_type": "markdown",
   "metadata": {},
   "source": [
    "###  Cumulative volume in 2015 projection vs 2015 actual"
   ]
  },
  {
   "cell_type": "markdown",
   "metadata": {},
   "source": [
    "#### What is the total amount of water predicted to be transported in 2010?"
   ]
  },
  {
   "cell_type": "code",
   "execution_count": null,
   "metadata": {
    "collapsed": true
   },
   "outputs": [],
   "source": [
    "projection_v = ...\n",
    "print (\"The projected amount of volume in 2015 : \" + str(projection_v))"
   ]
  },
  {
   "cell_type": "markdown",
   "metadata": {},
   "source": [
    "#### What is the total amount of water transported in 2015?"
   ]
  },
  {
   "cell_type": "code",
   "execution_count": null,
   "metadata": {
    "collapsed": true
   },
   "outputs": [],
   "source": [
    "actual_v = ...\n",
    "print (\"The actual amount of volume in 2015 : \" + str(actual_v))"
   ]
  },
  {
   "cell_type": "markdown",
   "metadata": {},
   "source": [
    "#### What is the difference of volume of water transported between 2015 predicted and 2015 actual?"
   ]
  },
  {
   "cell_type": "code",
   "execution_count": null,
   "metadata": {
    "collapsed": true
   },
   "outputs": [],
   "source": [
    "diff_v = ...\n",
    "print (\"The actual amount of volume used in 2015 is \" + str(-diff_v) + \" less than the projected amount of volume\")"
   ]
  },
  {
   "cell_type": "markdown",
   "metadata": {},
   "source": [
    "# Graphs\n",
    "Can you create visualization for difference in energy and water volume for your utility to show how the prediction for 2015 from actual 2015 data?"
   ]
  },
  {
   "cell_type": "markdown",
   "metadata": {},
   "source": [
    "### Graph for the energy differences"
   ]
  },
  {
   "cell_type": "code",
   "execution_count": null,
   "metadata": {
    "collapsed": true
   },
   "outputs": [],
   "source": [
    "energy_comb = pd.DataFrame(data = \n",
    "                      {\"year\" : [\"actual 2010\", \"predicted 2015\", \"actual 2015\"], \n",
    "                       \"values\" : [..., ..., ...]})\n",
    "energy_bar = energy_comb.plot(kind='bar',x='year', y='values')\n",
    "plt.title(\"Energy Difference Between Actual 2010, Predicted 2010 And Actual 2015\")\n",
    "plt.ylabel('Values (1e6) kwh');\n",
    "plt.xticks(rotation=0)\n",
    "energy_bar;"
   ]
  },
  {
   "cell_type": "markdown",
   "metadata": {},
   "source": [
    "### Graph for the volume of water differences"
   ]
  },
  {
   "cell_type": "code",
   "execution_count": null,
   "metadata": {
    "collapsed": true
   },
   "outputs": [],
   "source": [
    "volume_comb = pd.DataFrame(data = \n",
    "                      {\"year\" : [\"actual 2010\", \"predicted 2015\", \"actual 2015\"], \n",
    "                       \"values\" : [..., ..., ...]})\n",
    "volume_bar = ...\n",
    "plt.title(\"Volume Difference Between Actual 2010, Predicted 2015 And Actual 2015\")\n",
    "plt.ylabel('Values');\n",
    "plt.xticks(rotation=0)\n",
    "volume_bar;"
   ]
  },
  {
   "cell_type": "markdown",
   "metadata": {},
   "source": [
    "# DONE"
   ]
  },
  {
   "cell_type": "code",
   "execution_count": null,
   "metadata": {
    "collapsed": true
   },
   "outputs": [],
   "source": []
  }
 ],
 "metadata": {
  "kernelspec": {
   "display_name": "Python 3",
   "language": "python",
   "name": "python3"
  },
  "language_info": {
   "codemirror_mode": {
    "name": "ipython",
    "version": 3
   },
   "file_extension": ".py",
   "mimetype": "text/x-python",
   "name": "python",
   "nbconvert_exporter": "python",
   "pygments_lexer": "ipython3",
   "version": "3.6.5"
  }
 },
 "nbformat": 4,
 "nbformat_minor": 2
}
