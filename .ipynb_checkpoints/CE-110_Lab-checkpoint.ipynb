{
 "cells": [
  {
   "cell_type": "code",
   "execution_count": 185,
   "metadata": {
    "collapsed": true
   },
   "outputs": [],
   "source": [
    "from datascience import *\n",
    "import numpy as np"
   ]
  },
  {
   "cell_type": "code",
   "execution_count": 186,
   "metadata": {
    "scrolled": true
   },
   "outputs": [
    {
     "data": {
      "text/html": [
       "<table border=\"1\" class=\"dataframe\">\n",
       "    <thead>\n",
       "        <tr>\n",
       "            <th>year</th> <th>data_year</th> <th>source</th> <th>target</th> <th>cumulative_volume_af</th> <th>transmission_kwh/af</th> <th>treatment_kwh/af</th> <th>used_vol_af</th>\n",
       "        </tr>\n",
       "    </thead>\n",
       "    <tbody>\n",
       "        <tr>\n",
       "            <td>2010</td> <td>2010     </td> <td>1801001PD</td> <td>1801001E </td> <td>1624                </td> <td>163.1              </td> <td>0               </td> <td>1624       </td>\n",
       "        </tr>\n",
       "        <tr>\n",
       "            <td>2010</td> <td>2010     </td> <td>1801007PD</td> <td>1801007E </td> <td>2015.2              </td> <td>163.1              </td> <td>0               </td> <td>2015.2     </td>\n",
       "        </tr>\n",
       "        <tr>\n",
       "            <td>2010</td> <td>2010     </td> <td>1801009PD</td> <td>1801017PD</td> <td>561.768             </td> <td>25                 </td> <td>0               </td> <td>557.004    </td>\n",
       "        </tr>\n",
       "        <tr>\n",
       "            <td>2010</td> <td>2010     </td> <td>1801009PD</td> <td>1801009E </td> <td>2924.55             </td> <td>163.1              </td> <td>0               </td> <td>2924.55    </td>\n",
       "        </tr>\n",
       "        <tr>\n",
       "            <td>2010</td> <td>2010     </td> <td>1801011PD</td> <td>1801011E </td> <td>1350                </td> <td>163.1              </td> <td>0               </td> <td>1350       </td>\n",
       "        </tr>\n",
       "        <tr>\n",
       "            <td>2010</td> <td>2010     </td> <td>1801015PD</td> <td>1801017PD</td> <td>616.923             </td> <td>25                 </td> <td>0               </td> <td>611.692    </td>\n",
       "        </tr>\n",
       "        <tr>\n",
       "            <td>2010</td> <td>2010     </td> <td>1801015PD</td> <td>1801015E </td> <td>840                 </td> <td>163.1              </td> <td>0               </td> <td>840        </td>\n",
       "        </tr>\n",
       "        <tr>\n",
       "            <td>2010</td> <td>2010     </td> <td>1801015PD</td> <td>1801019PD</td> <td>1415                </td> <td>25                 </td> <td>0               </td> <td>1414.56    </td>\n",
       "        </tr>\n",
       "        <tr>\n",
       "            <td>2010</td> <td>2010     </td> <td>1801015PD</td> <td>1801001PD</td> <td>1460.72             </td> <td>87                 </td> <td>0               </td> <td>1460.72    </td>\n",
       "        </tr>\n",
       "        <tr>\n",
       "            <td>2010</td> <td>2010     </td> <td>1801015PD</td> <td>1801009PD</td> <td>2949                </td> <td>25                 </td> <td>0               </td> <td>2924.55    </td>\n",
       "        </tr>\n",
       "    </tbody>\n",
       "</table>\n",
       "<p>... (13790 rows omitted)</p>"
      ],
      "text/plain": [
       "year | data_year | source    | target    | cumulative_volume_af | transmission_kwh/af | treatment_kwh/af | used_vol_af\n",
       "2010 | 2010      | 1801001PD | 1801001E  | 1624                 | 163.1               | 0                | 1624\n",
       "2010 | 2010      | 1801007PD | 1801007E  | 2015.2               | 163.1               | 0                | 2015.2\n",
       "2010 | 2010      | 1801009PD | 1801017PD | 561.768              | 25                  | 0                | 557.004\n",
       "2010 | 2010      | 1801009PD | 1801009E  | 2924.55              | 163.1               | 0                | 2924.55\n",
       "2010 | 2010      | 1801011PD | 1801011E  | 1350                 | 163.1               | 0                | 1350\n",
       "2010 | 2010      | 1801015PD | 1801017PD | 616.923              | 25                  | 0                | 611.692\n",
       "2010 | 2010      | 1801015PD | 1801015E  | 840                  | 163.1               | 0                | 840\n",
       "2010 | 2010      | 1801015PD | 1801019PD | 1415                 | 25                  | 0                | 1414.56\n",
       "2010 | 2010      | 1801015PD | 1801001PD | 1460.72              | 87                  | 0                | 1460.72\n",
       "2010 | 2010      | 1801015PD | 1801009PD | 2949                 | 25                  | 0                | 2924.55\n",
       "... (13790 rows omitted)"
      ]
     },
     "execution_count": 186,
     "metadata": {},
     "output_type": "execute_result"
    }
   ],
   "source": [
    "data = Table().read_table('network2010.csv')\n",
    "data"
   ]
  },
  {
   "cell_type": "code",
   "execution_count": 187,
   "metadata": {},
   "outputs": [
    {
     "data": {
      "text/html": [
       "<table border=\"1\" class=\"dataframe\">\n",
       "    <thead>\n",
       "        <tr>\n",
       "            <th>year</th> <th>data_year</th> <th>source</th> <th>target</th> <th>cumulative_volume_af</th> <th>transmission_kwh/af</th> <th>treatment_kwh/af</th> <th>used_vol_af</th>\n",
       "        </tr>\n",
       "    </thead>\n",
       "    <tbody>\n",
       "        <tr>\n",
       "            <td>2015</td> <td>2015     </td> <td>1803005NPD </td> <td>1803005E  </td> <td>733                 </td> <td>17.6               </td> <td>0               </td> <td>733        </td>\n",
       "        </tr>\n",
       "        <tr>\n",
       "            <td>2015</td> <td>2015     </td> <td>SW1803005W </td> <td>1803005NPD</td> <td>733                 </td> <td>87                 </td> <td>236             </td> <td>0          </td>\n",
       "        </tr>\n",
       "        <tr>\n",
       "            <td>2015</td> <td>2015     </td> <td>1803005WIMP</td> <td>1803005PD </td> <td>962.992             </td> <td>0                  </td> <td>224             </td> <td>0          </td>\n",
       "        </tr>\n",
       "        <tr>\n",
       "            <td>2040</td> <td>2015     </td> <td>SW1803005W </td> <td>1803005NPD</td> <td>2240                </td> <td>87                 </td> <td>236             </td> <td>0          </td>\n",
       "        </tr>\n",
       "        <tr>\n",
       "            <td>2025</td> <td>2015     </td> <td>1803005NPD </td> <td>1803005E  </td> <td>2240                </td> <td>17.6               </td> <td>0               </td> <td>2240       </td>\n",
       "        </tr>\n",
       "        <tr>\n",
       "            <td>2035</td> <td>2015     </td> <td>SW1803005W </td> <td>1803005NPD</td> <td>2240                </td> <td>87                 </td> <td>236             </td> <td>0          </td>\n",
       "        </tr>\n",
       "        <tr>\n",
       "            <td>2020</td> <td>2015     </td> <td>1803005NPD </td> <td>1803005E  </td> <td>2240                </td> <td>17.6               </td> <td>0               </td> <td>2240       </td>\n",
       "        </tr>\n",
       "        <tr>\n",
       "            <td>2020</td> <td>2015     </td> <td>SW1803005W </td> <td>1803005NPD</td> <td>2240                </td> <td>87                 </td> <td>236             </td> <td>0          </td>\n",
       "        </tr>\n",
       "        <tr>\n",
       "            <td>2030</td> <td>2015     </td> <td>1803005NPD </td> <td>1803005E  </td> <td>2240                </td> <td>17.6               </td> <td>0               </td> <td>2240       </td>\n",
       "        </tr>\n",
       "        <tr>\n",
       "            <td>2030</td> <td>2015     </td> <td>SW1803005W </td> <td>1803005NPD</td> <td>2240                </td> <td>87                 </td> <td>236             </td> <td>0          </td>\n",
       "        </tr>\n",
       "    </tbody>\n",
       "</table>\n",
       "<p>... (10716 rows omitted)</p>"
      ],
      "text/plain": [
       "year | data_year | source      | target     | cumulative_volume_af | transmission_kwh/af | treatment_kwh/af | used_vol_af\n",
       "2015 | 2015      | 1803005NPD  | 1803005E   | 733                  | 17.6                | 0                | 733\n",
       "2015 | 2015      | SW1803005W  | 1803005NPD | 733                  | 87                  | 236              | 0\n",
       "2015 | 2015      | 1803005WIMP | 1803005PD  | 962.992              | 0                   | 224              | 0\n",
       "2040 | 2015      | SW1803005W  | 1803005NPD | 2240                 | 87                  | 236              | 0\n",
       "2025 | 2015      | 1803005NPD  | 1803005E   | 2240                 | 17.6                | 0                | 2240\n",
       "2035 | 2015      | SW1803005W  | 1803005NPD | 2240                 | 87                  | 236              | 0\n",
       "2020 | 2015      | 1803005NPD  | 1803005E   | 2240                 | 17.6                | 0                | 2240\n",
       "2020 | 2015      | SW1803005W  | 1803005NPD | 2240                 | 87                  | 236              | 0\n",
       "2030 | 2015      | 1803005NPD  | 1803005E   | 2240                 | 17.6                | 0                | 2240\n",
       "2030 | 2015      | SW1803005W  | 1803005NPD | 2240                 | 87                  | 236              | 0\n",
       "... (10716 rows omitted)"
      ]
     },
     "execution_count": 187,
     "metadata": {},
     "output_type": "execute_result"
    }
   ],
   "source": [
    "data_1 = Table().read_table('network2015.csv')\n",
    "data_1"
   ]
  },
  {
   "cell_type": "markdown",
   "metadata": {},
   "source": [
    "# Dictionary For Sources\n",
    "NPD: Non-potable distribution: Utility + \"NPD\" for treated non-potable water delivered to end-user\n",
    "\n",
    "PD: Potable distribution: Utility + \"PD\" for treated potable water delivered to an end-user\n",
    "\n",
    "GW: Groundwater: For water sources, “GW” + DWR basin/subbasin code, if basin is known OR “GW” + Utility Code, if not; for groundwater sold\n",
    "untreated to a retail utility, Utility code + “GW”\n",
    "\n",
    "GWR: Groundwater recharge: Similar to groundwater codes described above, substituting “GWR” for “GW”\n",
    "\n",
    "SW: Surface water: \"SW\" + utility code for unspecified surface water source"
   ]
  },
  {
   "cell_type": "markdown",
   "metadata": {},
   "source": [
    "# 2010 Data for 6 Utilities"
   ]
  },
  {
   "cell_type": "code",
   "execution_count": 188,
   "metadata": {},
   "outputs": [
    {
     "data": {
      "text/html": [
       "<table border=\"1\" class=\"dataframe\">\n",
       "    <thead>\n",
       "        <tr>\n",
       "            <th>year</th> <th>data_year</th> <th>source</th> <th>target</th> <th>cumulative_volume_af</th> <th>transmission_kwh/af</th> <th>treatment_kwh/af</th> <th>used_vol_af</th>\n",
       "        </tr>\n",
       "    </thead>\n",
       "    <tbody>\n",
       "        <tr>\n",
       "            <td>2010</td> <td>2010     </td> <td>1801001PD</td> <td>1801001E </td> <td>1624                </td> <td>163.1              </td> <td>0               </td> <td>1624       </td>\n",
       "        </tr>\n",
       "        <tr>\n",
       "            <td>2010</td> <td>2010     </td> <td>1801007PD</td> <td>1801007E </td> <td>2015.2              </td> <td>163.1              </td> <td>0               </td> <td>2015.2     </td>\n",
       "        </tr>\n",
       "        <tr>\n",
       "            <td>2010</td> <td>2010     </td> <td>1801009PD</td> <td>1801017PD</td> <td>561.768             </td> <td>25                 </td> <td>0               </td> <td>557.004    </td>\n",
       "        </tr>\n",
       "        <tr>\n",
       "            <td>2010</td> <td>2010     </td> <td>1801009PD</td> <td>1801009E </td> <td>2924.55             </td> <td>163.1              </td> <td>0               </td> <td>2924.55    </td>\n",
       "        </tr>\n",
       "        <tr>\n",
       "            <td>2010</td> <td>2010     </td> <td>1801011PD</td> <td>1801011E </td> <td>1350                </td> <td>163.1              </td> <td>0               </td> <td>1350       </td>\n",
       "        </tr>\n",
       "        <tr>\n",
       "            <td>2010</td> <td>2010     </td> <td>1801015PD</td> <td>1801017PD</td> <td>616.923             </td> <td>25                 </td> <td>0               </td> <td>611.692    </td>\n",
       "        </tr>\n",
       "        <tr>\n",
       "            <td>2010</td> <td>2010     </td> <td>1801015PD</td> <td>1801015E </td> <td>840                 </td> <td>163.1              </td> <td>0               </td> <td>840        </td>\n",
       "        </tr>\n",
       "        <tr>\n",
       "            <td>2010</td> <td>2010     </td> <td>1801015PD</td> <td>1801019PD</td> <td>1415                </td> <td>25                 </td> <td>0               </td> <td>1414.56    </td>\n",
       "        </tr>\n",
       "        <tr>\n",
       "            <td>2010</td> <td>2010     </td> <td>1801015PD</td> <td>1801001PD</td> <td>1460.72             </td> <td>87                 </td> <td>0               </td> <td>1460.72    </td>\n",
       "        </tr>\n",
       "        <tr>\n",
       "            <td>2010</td> <td>2010     </td> <td>1801015PD</td> <td>1801009PD</td> <td>2949                </td> <td>25                 </td> <td>0               </td> <td>2924.55    </td>\n",
       "        </tr>\n",
       "    </tbody>\n",
       "</table>\n",
       "<p>... (1733 rows omitted)</p>"
      ],
      "text/plain": [
       "year | data_year | source    | target    | cumulative_volume_af | transmission_kwh/af | treatment_kwh/af | used_vol_af\n",
       "2010 | 2010      | 1801001PD | 1801001E  | 1624                 | 163.1               | 0                | 1624\n",
       "2010 | 2010      | 1801007PD | 1801007E  | 2015.2               | 163.1               | 0                | 2015.2\n",
       "2010 | 2010      | 1801009PD | 1801017PD | 561.768              | 25                  | 0                | 557.004\n",
       "2010 | 2010      | 1801009PD | 1801009E  | 2924.55              | 163.1               | 0                | 2924.55\n",
       "2010 | 2010      | 1801011PD | 1801011E  | 1350                 | 163.1               | 0                | 1350\n",
       "2010 | 2010      | 1801015PD | 1801017PD | 616.923              | 25                  | 0                | 611.692\n",
       "2010 | 2010      | 1801015PD | 1801015E  | 840                  | 163.1               | 0                | 840\n",
       "2010 | 2010      | 1801015PD | 1801019PD | 1415                 | 25                  | 0                | 1414.56\n",
       "2010 | 2010      | 1801015PD | 1801001PD | 1460.72              | 87                  | 0                | 1460.72\n",
       "2010 | 2010      | 1801015PD | 1801009PD | 2949                 | 25                  | 0                | 2924.55\n",
       "... (1733 rows omitted)"
      ]
     },
     "execution_count": 188,
     "metadata": {},
     "output_type": "execute_result"
    }
   ],
   "source": [
    "#Getting data for 2010.\n",
    "data_2010 = data.where(data['year'] == 2010)\n",
    "data_2010"
   ]
  },
  {
   "cell_type": "code",
   "execution_count": 189,
   "metadata": {},
   "outputs": [
    {
     "data": {
      "text/html": [
       "<table border=\"1\" class=\"dataframe\">\n",
       "    <thead>\n",
       "        <tr>\n",
       "            <th>year</th> <th>data_year</th> <th>source</th> <th>target</th> <th>cumulative_volume_af</th> <th>transmission_kwh/af</th> <th>treatment_kwh/af</th> <th>used_vol_af</th>\n",
       "        </tr>\n",
       "    </thead>\n",
       "    <tbody>\n",
       "        <tr>\n",
       "            <td>2010</td> <td>2010     </td> <td>1805003PD       </td> <td>1805003E</td> <td>43000               </td> <td>318.2              </td> <td>0               </td> <td>43000      </td>\n",
       "        </tr>\n",
       "        <tr>\n",
       "            <td>2010</td> <td>2010     </td> <td>GWR1805-2-09.01 </td> <td>1805003E</td> <td>15700               </td> <td>318.2              </td> <td>0               </td> <td>0          </td>\n",
       "        </tr>\n",
       "    </tbody>\n",
       "</table>"
      ],
      "text/plain": [
       "year | data_year | source           | target   | cumulative_volume_af | transmission_kwh/af | treatment_kwh/af | used_vol_af\n",
       "2010 | 2010      | 1805003PD        | 1805003E | 43000                | 318.2               | 0                | 43000\n",
       "2010 | 2010      | GWR1805-2-09.01  | 1805003E | 15700                | 318.2               | 0                | 0"
      ]
     },
     "execution_count": 189,
     "metadata": {},
     "output_type": "execute_result"
    }
   ],
   "source": [
    "#Data where target = Alameda County Water District\n",
    "alameda = data_2010.where(data_2010['target'] == \"1805003E\")\n",
    "\n",
    "#where do they get most water?\n",
    "alameda = alameda.sort('cumulative_volume_af', descending = True)\n",
    "alameda\n",
    "\n",
    "#most of the volume came from PD (Portable Distribution) with 318.af transmissionkwh/af."
   ]
  },
  {
   "cell_type": "code",
   "execution_count": 190,
   "metadata": {},
   "outputs": [
    {
     "data": {
      "text/html": [
       "<table border=\"1\" class=\"dataframe\">\n",
       "    <thead>\n",
       "        <tr>\n",
       "            <th>year</th> <th>data_year</th> <th>source</th> <th>target</th> <th>cumulative_volume_af</th> <th>transmission_kwh/af</th> <th>treatment_kwh/af</th> <th>used_vol_af</th>\n",
       "        </tr>\n",
       "    </thead>\n",
       "    <tbody>\n",
       "        <tr>\n",
       "            <td>2010</td> <td>2010     </td> <td>1803033PD </td> <td>1803033E</td> <td>61955.8             </td> <td>17.6               </td> <td>0               </td> <td>61955.8    </td>\n",
       "        </tr>\n",
       "        <tr>\n",
       "            <td>2010</td> <td>2010     </td> <td>SW_CVPFKC </td> <td>1803033E</td> <td>53121               </td> <td>23.22              </td> <td>0               </td> <td>53121      </td>\n",
       "        </tr>\n",
       "        <tr>\n",
       "            <td>2010</td> <td>2010     </td> <td>1803033GW </td> <td>1803033E</td> <td>14116.2             </td> <td>17.6               </td> <td>0               </td> <td>0          </td>\n",
       "        </tr>\n",
       "        <tr>\n",
       "            <td>2010</td> <td>2010     </td> <td>1803033NPD</td> <td>1803033E</td> <td>88                  </td> <td>21.12              </td> <td>0               </td> <td>88         </td>\n",
       "        </tr>\n",
       "    </tbody>\n",
       "</table>"
      ],
      "text/plain": [
       "year | data_year | source     | target   | cumulative_volume_af | transmission_kwh/af | treatment_kwh/af | used_vol_af\n",
       "2010 | 2010      | 1803033PD  | 1803033E | 61955.8              | 17.6                | 0                | 61955.8\n",
       "2010 | 2010      | SW_CVPFKC  | 1803033E | 53121                | 23.22               | 0                | 53121\n",
       "2010 | 2010      | 1803033GW  | 1803033E | 14116.2              | 17.6                | 0                | 0\n",
       "2010 | 2010      | 1803033NPD | 1803033E | 88                   | 21.12               | 0                | 88"
      ]
     },
     "execution_count": 190,
     "metadata": {},
     "output_type": "execute_result"
    }
   ],
   "source": [
    "#Data where target = Fresno \n",
    "fresno = data_2010.where(data_2010['target'] == \"1803033E\")\n",
    "\n",
    "#where do they get most water?\n",
    "fresno = fresno.sort('cumulative_volume_af', descending = True)\n",
    "fresno\n",
    "\n",
    "#most of the volume came from PD, cumulative volume af: 61955.8 and transmission kwh/af: 17.6. \n",
    "#next is from SW, which required higher cost for transmission energy than GW, but had higher cumulative volume."
   ]
  },
  {
   "cell_type": "code",
   "execution_count": 191,
   "metadata": {},
   "outputs": [
    {
     "data": {
      "text/html": [
       "<table border=\"1\" class=\"dataframe\">\n",
       "    <thead>\n",
       "        <tr>\n",
       "            <th>year</th> <th>data_year</th> <th>source</th> <th>target</th> <th>cumulative_volume_af</th> <th>transmission_kwh/af</th> <th>treatment_kwh/af</th> <th>used_vol_af</th>\n",
       "        </tr>\n",
       "    </thead>\n",
       "    <tbody>\n",
       "        <tr>\n",
       "            <td>2010</td> <td>2010     </td> <td>1810019PD</td> <td>1810019E</td> <td>2956.95             </td> <td>17.6               </td> <td>0               </td> <td>2956.95    </td>\n",
       "        </tr>\n",
       "    </tbody>\n",
       "</table>"
      ],
      "text/plain": [
       "year | data_year | source    | target   | cumulative_volume_af | transmission_kwh/af | treatment_kwh/af | used_vol_af\n",
       "2010 | 2010      | 1810019PD | 1810019E | 2956.95              | 17.6                | 0                | 2956.95"
      ]
     },
     "execution_count": 191,
     "metadata": {},
     "output_type": "execute_result"
    }
   ],
   "source": [
    "#Data where target = Hi-Desert Water District\n",
    "hidesert = data_2010.where(data_2010['target'] == \"1810019E\")\n",
    "hidesert\n",
    "\n",
    "#has only one source, which is PD."
   ]
  },
  {
   "cell_type": "code",
   "execution_count": 192,
   "metadata": {},
   "outputs": [
    {
     "data": {
      "text/html": [
       "<table border=\"1\" class=\"dataframe\">\n",
       "    <thead>\n",
       "        <tr>\n",
       "            <th>year</th> <th>data_year</th> <th>source</th> <th>target</th> <th>cumulative_volume_af</th> <th>transmission_kwh/af</th> <th>treatment_kwh/af</th> <th>used_vol_af</th>\n",
       "        </tr>\n",
       "    </thead>\n",
       "    <tbody>\n",
       "        <tr>\n",
       "            <td>2010</td> <td>2010     </td> <td>1809027PD</td> <td>1809027E</td> <td>19800               </td> <td>163.1              </td> <td>0               </td> <td>19800      </td>\n",
       "        </tr>\n",
       "    </tbody>\n",
       "</table>"
      ],
      "text/plain": [
       "year | data_year | source    | target   | cumulative_volume_af | transmission_kwh/af | treatment_kwh/af | used_vol_af\n",
       "2010 | 2010      | 1809027PD | 1809027E | 19800                | 163.1               | 0                | 19800"
      ]
     },
     "execution_count": 192,
     "metadata": {},
     "output_type": "execute_result"
    }
   ],
   "source": [
    "#Data where target = Palmdale Water District\n",
    "palmdale = data_2010.where(data_2010['target'] == \"1809027E\")\n",
    "palmdale\n",
    "\n",
    "#has only one source, which is PD"
   ]
  },
  {
   "cell_type": "code",
   "execution_count": 193,
   "metadata": {},
   "outputs": [
    {
     "data": {
      "text/html": [
       "<table border=\"1\" class=\"dataframe\">\n",
       "    <thead>\n",
       "        <tr>\n",
       "            <th>year</th> <th>data_year</th> <th>source</th> <th>target</th> <th>cumulative_volume_af</th> <th>transmission_kwh/af</th> <th>treatment_kwh/af</th> <th>used_vol_af</th>\n",
       "        </tr>\n",
       "    </thead>\n",
       "    <tbody>\n",
       "        <tr>\n",
       "            <td>2010</td> <td>2010     </td> <td>1805085PD </td> <td>1805085E</td> <td>119991              </td> <td>318.2              </td> <td>0               </td> <td>119991     </td>\n",
       "        </tr>\n",
       "        <tr>\n",
       "            <td>2010</td> <td>2010     </td> <td>1805085NPD</td> <td>1805085E</td> <td>1208                </td> <td>381.84             </td> <td>0               </td> <td>1208       </td>\n",
       "        </tr>\n",
       "    </tbody>\n",
       "</table>"
      ],
      "text/plain": [
       "year | data_year | source     | target   | cumulative_volume_af | transmission_kwh/af | treatment_kwh/af | used_vol_af\n",
       "2010 | 2010      | 1805085PD  | 1805085E | 119991               | 318.2               | 0                | 119991\n",
       "2010 | 2010      | 1805085NPD | 1805085E | 1208                 | 381.84              | 0                | 1208"
      ]
     },
     "execution_count": 193,
     "metadata": {},
     "output_type": "execute_result"
    }
   ],
   "source": [
    "#Data where target = San Jose Water Company\n",
    "sanjose_water = data_2010.where(data_2010['target'] == \"1805085E\")\n",
    "\n",
    "#where do they get most water?\n",
    "sanjose_water = sanjose_water.sort('cumulative_volume_af', descending = True)\n",
    "sanjose_water\n",
    "\n",
    "#highest amount of volume came from PD with lower transmission kwh/af than NPD."
   ]
  },
  {
   "cell_type": "code",
   "execution_count": 194,
   "metadata": {},
   "outputs": [
    {
     "data": {
      "text/html": [
       "<table border=\"1\" class=\"dataframe\">\n",
       "    <thead>\n",
       "        <tr>\n",
       "            <th>year</th> <th>data_year</th> <th>source</th> <th>target</th> <th>cumulative_volume_af</th> <th>transmission_kwh/af</th> <th>treatment_kwh/af</th> <th>used_vol_af</th>\n",
       "        </tr>\n",
       "    </thead>\n",
       "    <tbody>\n",
       "        <tr>\n",
       "            <td>2010</td> <td>2010     </td> <td>1807341PD </td> <td>1807341E</td> <td>12435.8             </td> <td>163.1              </td> <td>0               </td> <td>12435.8    </td>\n",
       "        </tr>\n",
       "        <tr>\n",
       "            <td>2010</td> <td>2010     </td> <td>1807341NPD</td> <td>1807341E</td> <td>280                 </td> <td>195.72             </td> <td>0               </td> <td>280        </td>\n",
       "        </tr>\n",
       "    </tbody>\n",
       "</table>"
      ],
      "text/plain": [
       "year | data_year | source     | target   | cumulative_volume_af | transmission_kwh/af | treatment_kwh/af | used_vol_af\n",
       "2010 | 2010      | 1807341PD  | 1807341E | 12435.8              | 163.1               | 0                | 12435.8\n",
       "2010 | 2010      | 1807341NPD | 1807341E | 280                  | 195.72              | 0                | 280"
      ]
     },
     "execution_count": 194,
     "metadata": {},
     "output_type": "execute_result"
    }
   ],
   "source": [
    "#Data where target = Santa Monica\n",
    "santa_monica = data_2010.where(data_2010['target'] == \"1807341E\")\n",
    "\n",
    "#where do they get most water?\n",
    "santa_monica = santa_monica.sort('cumulative_volume_af', descending = True)\n",
    "santa_monica\n",
    "\n",
    "#higest volume from PD with lower transmission kwh/af than NPD."
   ]
  },
  {
   "cell_type": "markdown",
   "metadata": {},
   "source": [
    "In california, groundwater aquifers are particularly poorly understood and monitored. "
   ]
  },
  {
   "cell_type": "markdown",
   "metadata": {
    "collapsed": true
   },
   "source": [
    "Energy mainly depended on the target location rather than the source. The highest transmission energy was required with the target location at Alameda, least energy needed in Fresno.\n",
    "alameda population: 79,177\n",
    "hi-desert population: \n",
    "fresno population: 527,438"
   ]
  },
  {
   "cell_type": "markdown",
   "metadata": {},
   "source": [
    "# 2015 Data for 6 Utilities"
   ]
  },
  {
   "cell_type": "code",
   "execution_count": 195,
   "metadata": {},
   "outputs": [
    {
     "data": {
      "text/html": [
       "<table border=\"1\" class=\"dataframe\">\n",
       "    <thead>\n",
       "        <tr>\n",
       "            <th>year</th> <th>data_year</th> <th>source</th> <th>target</th> <th>cumulative_volume_af</th> <th>transmission_kwh/af</th> <th>treatment_kwh/af</th> <th>used_vol_af</th>\n",
       "        </tr>\n",
       "    </thead>\n",
       "    <tbody>\n",
       "        <tr>\n",
       "            <td>2015</td> <td>2015     </td> <td>1803005NPD     </td> <td>1803005E   </td> <td>733                 </td> <td>17.6               </td> <td>0               </td> <td>733        </td>\n",
       "        </tr>\n",
       "        <tr>\n",
       "            <td>2015</td> <td>2015     </td> <td>SW1803005W     </td> <td>1803005NPD </td> <td>733                 </td> <td>87                 </td> <td>236             </td> <td>0          </td>\n",
       "        </tr>\n",
       "        <tr>\n",
       "            <td>2015</td> <td>2015     </td> <td>1803005WIMP    </td> <td>1803005PD  </td> <td>962.992             </td> <td>0                  </td> <td>224             </td> <td>0          </td>\n",
       "        </tr>\n",
       "        <tr>\n",
       "            <td>2015</td> <td>2015     </td> <td>1803041WIMP    </td> <td>1803005PD  </td> <td>3228.97             </td> <td>25                 </td> <td>224             </td> <td>0          </td>\n",
       "        </tr>\n",
       "        <tr>\n",
       "            <td>2015</td> <td>2015     </td> <td>1803005WIMP    </td> <td>1803005WPD </td> <td>4127.24             </td> <td>25                 </td> <td>0               </td> <td>0          </td>\n",
       "        </tr>\n",
       "        <tr>\n",
       "            <td>2015</td> <td>2015     </td> <td>1803005WPD     </td> <td>1803005WE  </td> <td>4127.24             </td> <td>17.6               </td> <td>0               </td> <td>17586      </td>\n",
       "        </tr>\n",
       "        <tr>\n",
       "            <td>2015</td> <td>2015     </td> <td>R_Kern         </td> <td>1803005WIMP</td> <td>17586               </td> <td>0                  </td> <td>0               </td> <td>0          </td>\n",
       "        </tr>\n",
       "        <tr>\n",
       "            <td>2015</td> <td>2015     </td> <td>GW1803-5-22.14 </td> <td>1803005PD  </td> <td>31029               </td> <td>399                </td> <td>181.75          </td> <td>0          </td>\n",
       "        </tr>\n",
       "        <tr>\n",
       "            <td>2015</td> <td>2015     </td> <td>1803005PD      </td> <td>1803005E   </td> <td>35221               </td> <td>52.8               </td> <td>0               </td> <td>35221      </td>\n",
       "        </tr>\n",
       "        <tr>\n",
       "            <td>2015</td> <td>2015     </td> <td>GWR1803-5-22.08</td> <td>1803007GW  </td> <td>138.1               </td> <td>0                  </td> <td>0               </td> <td>138.1      </td>\n",
       "        </tr>\n",
       "    </tbody>\n",
       "</table>\n",
       "<p>... (1650 rows omitted)</p>"
      ],
      "text/plain": [
       "year | data_year | source          | target      | cumulative_volume_af | transmission_kwh/af | treatment_kwh/af | used_vol_af\n",
       "2015 | 2015      | 1803005NPD      | 1803005E    | 733                  | 17.6                | 0                | 733\n",
       "2015 | 2015      | SW1803005W      | 1803005NPD  | 733                  | 87                  | 236              | 0\n",
       "2015 | 2015      | 1803005WIMP     | 1803005PD   | 962.992              | 0                   | 224              | 0\n",
       "2015 | 2015      | 1803041WIMP     | 1803005PD   | 3228.97              | 25                  | 224              | 0\n",
       "2015 | 2015      | 1803005WIMP     | 1803005WPD  | 4127.24              | 25                  | 0                | 0\n",
       "2015 | 2015      | 1803005WPD      | 1803005WE   | 4127.24              | 17.6                | 0                | 17586\n",
       "2015 | 2015      | R_Kern          | 1803005WIMP | 17586                | 0                   | 0                | 0\n",
       "2015 | 2015      | GW1803-5-22.14  | 1803005PD   | 31029                | 399                 | 181.75           | 0\n",
       "2015 | 2015      | 1803005PD       | 1803005E    | 35221                | 52.8                | 0                | 35221\n",
       "2015 | 2015      | GWR1803-5-22.08 | 1803007GW   | 138.1                | 0                   | 0                | 138.1\n",
       "... (1650 rows omitted)"
      ]
     },
     "execution_count": 195,
     "metadata": {},
     "output_type": "execute_result"
    }
   ],
   "source": [
    "#Getting data for 2015.\n",
    "data_2015 = data_1.where(data_1['year'] == 2015)\n",
    "data_2015"
   ]
  },
  {
   "cell_type": "code",
   "execution_count": 196,
   "metadata": {},
   "outputs": [
    {
     "data": {
      "text/html": [
       "<table border=\"1\" class=\"dataframe\">\n",
       "    <thead>\n",
       "        <tr>\n",
       "            <th>year</th> <th>data_year</th> <th>source</th> <th>target</th> <th>cumulative_volume_af</th> <th>transmission_kwh/af</th> <th>treatment_kwh/af</th> <th>used_vol_af</th>\n",
       "        </tr>\n",
       "    </thead>\n",
       "    <tbody>\n",
       "        <tr>\n",
       "            <td>2015</td> <td>2015     </td> <td>1805003PD </td> <td>1805003E</td> <td>51800               </td> <td>1909.2             </td> <td>0               </td> <td>51800      </td>\n",
       "        </tr>\n",
       "        <tr>\n",
       "            <td>2015</td> <td>2015     </td> <td>1805003NPD</td> <td>1805003E</td> <td>3065                </td> <td>381.84             </td> <td>0               </td> <td>3065       </td>\n",
       "        </tr>\n",
       "    </tbody>\n",
       "</table>"
      ],
      "text/plain": [
       "year | data_year | source     | target   | cumulative_volume_af | transmission_kwh/af | treatment_kwh/af | used_vol_af\n",
       "2015 | 2015      | 1805003PD  | 1805003E | 51800                | 1909.2              | 0                | 51800\n",
       "2015 | 2015      | 1805003NPD | 1805003E | 3065                 | 381.84              | 0                | 3065"
      ]
     },
     "execution_count": 196,
     "metadata": {},
     "output_type": "execute_result"
    }
   ],
   "source": [
    "#Data where target = Alameda County Water District\n",
    "alameda_1 = data_2015.where(data_2015['target'] == \"1805003E\")\n",
    "\n",
    "#where do they get most water?\n",
    "alameda_1 = alameda_1.sort('cumulative_volume_af', descending = True)\n",
    "alameda_1\n",
    "\n",
    "#most of the volume came from PD (Portable Distribution) with 318.af transmissionkwh/af."
   ]
  },
  {
   "cell_type": "code",
   "execution_count": 197,
   "metadata": {},
   "outputs": [
    {
     "data": {
      "text/html": [
       "<table border=\"1\" class=\"dataframe\">\n",
       "    <thead>\n",
       "        <tr>\n",
       "            <th>year</th> <th>data_year</th> <th>source</th> <th>target</th> <th>cumulative_volume_af</th> <th>transmission_kwh/af</th> <th>treatment_kwh/af</th> <th>used_vol_af</th>\n",
       "        </tr>\n",
       "    </thead>\n",
       "    <tbody>\n",
       "        <tr>\n",
       "            <td>2015</td> <td>2015     </td> <td>1803033PD </td> <td>1803033E</td> <td>113066              </td> <td>52.8               </td> <td>0               </td> <td>113066     </td>\n",
       "        </tr>\n",
       "        <tr>\n",
       "            <td>2015</td> <td>2015     </td> <td>1803033NPD</td> <td>1803033E</td> <td>15022               </td> <td>84.48              </td> <td>0               </td> <td>15022      </td>\n",
       "        </tr>\n",
       "    </tbody>\n",
       "</table>"
      ],
      "text/plain": [
       "year | data_year | source     | target   | cumulative_volume_af | transmission_kwh/af | treatment_kwh/af | used_vol_af\n",
       "2015 | 2015      | 1803033PD  | 1803033E | 113066               | 52.8                | 0                | 113066\n",
       "2015 | 2015      | 1803033NPD | 1803033E | 15022                | 84.48               | 0                | 15022"
      ]
     },
     "execution_count": 197,
     "metadata": {},
     "output_type": "execute_result"
    }
   ],
   "source": [
    "#Data where target = Fresno \n",
    "fresno_1 = data_2015.where(data_2015['target'] == \"1803033E\")\n",
    "\n",
    "#where do they get most water?\n",
    "fresno_1 = fresno_1.sort('cumulative_volume_af', descending = True)\n",
    "fresno_1\n",
    "\n",
    "#most of the volume came from PD, cumulative volume af: 61955.8 and transmission kwh/af: 17.6. \n",
    "#next is from SW, which required higher cost for transmission energy than GW, but had higher cumulative volume."
   ]
  },
  {
   "cell_type": "code",
   "execution_count": 198,
   "metadata": {},
   "outputs": [
    {
     "data": {
      "text/html": [
       "<table border=\"1\" class=\"dataframe\">\n",
       "    <thead>\n",
       "        <tr>\n",
       "            <th>year</th> <th>data_year</th> <th>source</th> <th>target</th> <th>cumulative_volume_af</th> <th>transmission_kwh/af</th> <th>treatment_kwh/af</th> <th>used_vol_af</th>\n",
       "        </tr>\n",
       "    </thead>\n",
       "    <tbody>\n",
       "        <tr>\n",
       "            <td>2015</td> <td>2015     </td> <td>1810019PD</td> <td>1810019E</td> <td>2837                </td> <td>88                 </td> <td>0               </td> <td>2837       </td>\n",
       "        </tr>\n",
       "    </tbody>\n",
       "</table>"
      ],
      "text/plain": [
       "year | data_year | source    | target   | cumulative_volume_af | transmission_kwh/af | treatment_kwh/af | used_vol_af\n",
       "2015 | 2015      | 1810019PD | 1810019E | 2837                 | 88                  | 0                | 2837"
      ]
     },
     "execution_count": 198,
     "metadata": {},
     "output_type": "execute_result"
    }
   ],
   "source": [
    "#Data where target = Hi-Desert Water District\n",
    "hidesert_1 = data_2015.where(data_2015['target'] == \"1810019E\")\n",
    "hidesert_1\n",
    "\n",
    "#has only one source, which is PD."
   ]
  },
  {
   "cell_type": "code",
   "execution_count": 199,
   "metadata": {},
   "outputs": [
    {
     "data": {
      "text/html": [
       "<table border=\"1\" class=\"dataframe\">\n",
       "    <thead>\n",
       "        <tr>\n",
       "            <th>year</th> <th>data_year</th> <th>source</th> <th>target</th> <th>cumulative_volume_af</th> <th>transmission_kwh/af</th> <th>treatment_kwh/af</th> <th>used_vol_af</th>\n",
       "        </tr>\n",
       "    </thead>\n",
       "    <tbody>\n",
       "        <tr>\n",
       "            <td>2015</td> <td>2015     </td> <td>1809027NPD</td> <td>1809027E</td> <td>110                 </td> <td>195.72             </td> <td>0               </td> <td>110        </td>\n",
       "        </tr>\n",
       "        <tr>\n",
       "            <td>2015</td> <td>2015     </td> <td>1809027PD </td> <td>1809027E</td> <td>17015               </td> <td>489.3              </td> <td>0               </td> <td>17015      </td>\n",
       "        </tr>\n",
       "    </tbody>\n",
       "</table>"
      ],
      "text/plain": [
       "year | data_year | source     | target   | cumulative_volume_af | transmission_kwh/af | treatment_kwh/af | used_vol_af\n",
       "2015 | 2015      | 1809027NPD | 1809027E | 110                  | 195.72              | 0                | 110\n",
       "2015 | 2015      | 1809027PD  | 1809027E | 17015                | 489.3               | 0                | 17015"
      ]
     },
     "execution_count": 199,
     "metadata": {},
     "output_type": "execute_result"
    }
   ],
   "source": [
    "#Data where target = Palmdale Water District\n",
    "palmdale_1 = data_2015.where(data_2015['target'] == \"1809027E\")\n",
    "palmdale_1\n",
    "\n",
    "#has only one source, which is PD"
   ]
  },
  {
   "cell_type": "code",
   "execution_count": 200,
   "metadata": {},
   "outputs": [
    {
     "data": {
      "text/html": [
       "<table border=\"1\" class=\"dataframe\">\n",
       "    <thead>\n",
       "        <tr>\n",
       "            <th>year</th> <th>data_year</th> <th>source</th> <th>target</th> <th>cumulative_volume_af</th> <th>transmission_kwh/af</th> <th>treatment_kwh/af</th> <th>used_vol_af</th>\n",
       "        </tr>\n",
       "    </thead>\n",
       "    <tbody>\n",
       "        <tr>\n",
       "            <td>2015</td> <td>2015     </td> <td>1805085PD </td> <td>1805085E</td> <td>106451              </td> <td>954.6              </td> <td>0               </td> <td>106451     </td>\n",
       "        </tr>\n",
       "        <tr>\n",
       "            <td>2015</td> <td>2015     </td> <td>1805085NPD</td> <td>1805085E</td> <td>2092.98             </td> <td>2227.4             </td> <td>0               </td> <td>2092.98    </td>\n",
       "        </tr>\n",
       "    </tbody>\n",
       "</table>"
      ],
      "text/plain": [
       "year | data_year | source     | target   | cumulative_volume_af | transmission_kwh/af | treatment_kwh/af | used_vol_af\n",
       "2015 | 2015      | 1805085PD  | 1805085E | 106451               | 954.6               | 0                | 106451\n",
       "2015 | 2015      | 1805085NPD | 1805085E | 2092.98              | 2227.4              | 0                | 2092.98"
      ]
     },
     "execution_count": 200,
     "metadata": {},
     "output_type": "execute_result"
    }
   ],
   "source": [
    "#Data where target = San Jose Water Company\n",
    "sanjose_water_1 = data_2015.where(data_2015['target'] == \"1805085E\")\n",
    "\n",
    "#where do they get most water?\n",
    "sanjose_water_1 = sanjose_water_1.sort('cumulative_volume_af', descending = True)\n",
    "sanjose_water_1\n",
    "\n",
    "#highest amount of volume came from PD with lower transmission kwh/af than NPD."
   ]
  },
  {
   "cell_type": "code",
   "execution_count": 201,
   "metadata": {},
   "outputs": [
    {
     "data": {
      "text/html": [
       "<table border=\"1\" class=\"dataframe\">\n",
       "    <thead>\n",
       "        <tr>\n",
       "            <th>year</th> <th>data_year</th> <th>source</th> <th>target</th> <th>cumulative_volume_af</th> <th>transmission_kwh/af</th> <th>treatment_kwh/af</th> <th>used_vol_af</th>\n",
       "        </tr>\n",
       "    </thead>\n",
       "    <tbody>\n",
       "        <tr>\n",
       "            <td>2015</td> <td>2015     </td> <td>1807341PD</td> <td>1807341E</td> <td>11917               </td> <td>489.3              </td> <td>0               </td> <td>11917      </td>\n",
       "        </tr>\n",
       "    </tbody>\n",
       "</table>"
      ],
      "text/plain": [
       "year | data_year | source    | target   | cumulative_volume_af | transmission_kwh/af | treatment_kwh/af | used_vol_af\n",
       "2015 | 2015      | 1807341PD | 1807341E | 11917                | 489.3               | 0                | 11917"
      ]
     },
     "execution_count": 201,
     "metadata": {},
     "output_type": "execute_result"
    }
   ],
   "source": [
    "#Data where target = Santa Monica\n",
    "santa_monica_1 = data_2015.where(data_2015['target'] == \"1807341E\")\n",
    "\n",
    "#where do they get most water?\n",
    "santa_monica_1 = santa_monica_1.sort('cumulative_volume_af', descending = True)\n",
    "santa_monica_1\n",
    "\n",
    "#higest volume from PD with lower transmission kwh/af than NPD."
   ]
  },
  {
   "cell_type": "code",
   "execution_count": 202,
   "metadata": {},
   "outputs": [
    {
     "data": {
      "text/html": [
       "<table border=\"1\" class=\"dataframe\">\n",
       "    <thead>\n",
       "        <tr>\n",
       "            <th>year</th> <th>data_year</th> <th>source</th> <th>target</th> <th>cumulative_volume_af</th> <th>transmission_kwh/af</th> <th>treatment_kwh/af</th> <th>used_vol_af</th>\n",
       "        </tr>\n",
       "    </thead>\n",
       "    <tbody>\n",
       "        <tr>\n",
       "            <td>2010</td> <td>2010     </td> <td>1805003PD       </td> <td>1805003E</td> <td>43000               </td> <td>318.2              </td> <td>0               </td> <td>43000      </td>\n",
       "        </tr>\n",
       "        <tr>\n",
       "            <td>2010</td> <td>2010     </td> <td>GWR1805-2-09.01 </td> <td>1805003E</td> <td>15700               </td> <td>318.2              </td> <td>0               </td> <td>0          </td>\n",
       "        </tr>\n",
       "        <tr>\n",
       "            <td>2015</td> <td>2015     </td> <td>1805003PD       </td> <td>1805003E</td> <td>51800               </td> <td>1909.2             </td> <td>0               </td> <td>51800      </td>\n",
       "        </tr>\n",
       "        <tr>\n",
       "            <td>2015</td> <td>2015     </td> <td>1805003NPD      </td> <td>1805003E</td> <td>3065                </td> <td>381.84             </td> <td>0               </td> <td>3065       </td>\n",
       "        </tr>\n",
       "    </tbody>\n",
       "</table>"
      ],
      "text/plain": [
       "year | data_year | source           | target   | cumulative_volume_af | transmission_kwh/af | treatment_kwh/af | used_vol_af\n",
       "2010 | 2010      | 1805003PD        | 1805003E | 43000                | 318.2               | 0                | 43000\n",
       "2010 | 2010      | GWR1805-2-09.01  | 1805003E | 15700                | 318.2               | 0                | 0\n",
       "2015 | 2015      | 1805003PD        | 1805003E | 51800                | 1909.2              | 0                | 51800\n",
       "2015 | 2015      | 1805003NPD       | 1805003E | 3065                 | 381.84              | 0                | 3065"
      ]
     },
     "execution_count": 202,
     "metadata": {},
     "output_type": "execute_result"
    }
   ],
   "source": [
    "alameda_final = alameda.append(alameda_1)\n",
    "alameda_final\n",
    "\n",
    "#stopped getting groundwater but used portable and nonportable water as a source.\n",
    "#increase in cumulative volume"
   ]
  },
  {
   "cell_type": "markdown",
   "metadata": {},
   "source": [
    "# Combining Data: 2010 and 2015"
   ]
  },
  {
   "cell_type": "code",
   "execution_count": 203,
   "metadata": {},
   "outputs": [
    {
     "data": {
      "text/html": [
       "<table border=\"1\" class=\"dataframe\">\n",
       "    <thead>\n",
       "        <tr>\n",
       "            <th>year</th> <th>data_year</th> <th>source</th> <th>target</th> <th>cumulative_volume_af</th> <th>transmission_kwh/af</th> <th>treatment_kwh/af</th> <th>used_vol_af</th>\n",
       "        </tr>\n",
       "    </thead>\n",
       "    <tbody>\n",
       "        <tr>\n",
       "            <td>2010</td> <td>2010     </td> <td>1803033PD </td> <td>1803033E</td> <td>61955.8             </td> <td>17.6               </td> <td>0               </td> <td>61955.8    </td>\n",
       "        </tr>\n",
       "        <tr>\n",
       "            <td>2010</td> <td>2010     </td> <td>SW_CVPFKC </td> <td>1803033E</td> <td>53121               </td> <td>23.22              </td> <td>0               </td> <td>53121      </td>\n",
       "        </tr>\n",
       "        <tr>\n",
       "            <td>2010</td> <td>2010     </td> <td>1803033GW </td> <td>1803033E</td> <td>14116.2             </td> <td>17.6               </td> <td>0               </td> <td>0          </td>\n",
       "        </tr>\n",
       "        <tr>\n",
       "            <td>2010</td> <td>2010     </td> <td>1803033NPD</td> <td>1803033E</td> <td>88                  </td> <td>21.12              </td> <td>0               </td> <td>88         </td>\n",
       "        </tr>\n",
       "        <tr>\n",
       "            <td>2015</td> <td>2015     </td> <td>1803033PD </td> <td>1803033E</td> <td>113066              </td> <td>52.8               </td> <td>0               </td> <td>113066     </td>\n",
       "        </tr>\n",
       "        <tr>\n",
       "            <td>2015</td> <td>2015     </td> <td>1803033NPD</td> <td>1803033E</td> <td>15022               </td> <td>84.48              </td> <td>0               </td> <td>15022      </td>\n",
       "        </tr>\n",
       "    </tbody>\n",
       "</table>"
      ],
      "text/plain": [
       "year | data_year | source     | target   | cumulative_volume_af | transmission_kwh/af | treatment_kwh/af | used_vol_af\n",
       "2010 | 2010      | 1803033PD  | 1803033E | 61955.8              | 17.6                | 0                | 61955.8\n",
       "2010 | 2010      | SW_CVPFKC  | 1803033E | 53121                | 23.22               | 0                | 53121\n",
       "2010 | 2010      | 1803033GW  | 1803033E | 14116.2              | 17.6                | 0                | 0\n",
       "2010 | 2010      | 1803033NPD | 1803033E | 88                   | 21.12               | 0                | 88\n",
       "2015 | 2015      | 1803033PD  | 1803033E | 113066               | 52.8                | 0                | 113066\n",
       "2015 | 2015      | 1803033NPD | 1803033E | 15022                | 84.48               | 0                | 15022"
      ]
     },
     "execution_count": 203,
     "metadata": {},
     "output_type": "execute_result"
    }
   ],
   "source": [
    "fresno_final = fresno.append(fresno_1)\n",
    "fresno_final\n",
    "#all from portable and nonportable water andincrease in cumulative volume\n"
   ]
  },
  {
   "cell_type": "code",
   "execution_count": 204,
   "metadata": {},
   "outputs": [
    {
     "data": {
      "text/html": [
       "<table border=\"1\" class=\"dataframe\">\n",
       "    <thead>\n",
       "        <tr>\n",
       "            <th>year</th> <th>data_year</th> <th>source</th> <th>target</th> <th>cumulative_volume_af</th> <th>transmission_kwh/af</th> <th>treatment_kwh/af</th> <th>used_vol_af</th>\n",
       "        </tr>\n",
       "    </thead>\n",
       "    <tbody>\n",
       "        <tr>\n",
       "            <td>2010</td> <td>2010     </td> <td>1810019PD</td> <td>1810019E</td> <td>2956.95             </td> <td>17.6               </td> <td>0               </td> <td>2956.95    </td>\n",
       "        </tr>\n",
       "        <tr>\n",
       "            <td>2015</td> <td>2015     </td> <td>1810019PD</td> <td>1810019E</td> <td>2837                </td> <td>88                 </td> <td>0               </td> <td>2837       </td>\n",
       "        </tr>\n",
       "    </tbody>\n",
       "</table>"
      ],
      "text/plain": [
       "year | data_year | source    | target   | cumulative_volume_af | transmission_kwh/af | treatment_kwh/af | used_vol_af\n",
       "2010 | 2010      | 1810019PD | 1810019E | 2956.95              | 17.6                | 0                | 2956.95\n",
       "2015 | 2015      | 1810019PD | 1810019E | 2837                 | 88                  | 0                | 2837"
      ]
     },
     "execution_count": 204,
     "metadata": {},
     "output_type": "execute_result"
    }
   ],
   "source": [
    "hidesert_final = hidesert.append(hidesert_1)\n",
    "hidesert_final"
   ]
  },
  {
   "cell_type": "code",
   "execution_count": 205,
   "metadata": {},
   "outputs": [
    {
     "data": {
      "text/html": [
       "<table border=\"1\" class=\"dataframe\">\n",
       "    <thead>\n",
       "        <tr>\n",
       "            <th>year</th> <th>data_year</th> <th>source</th> <th>target</th> <th>cumulative_volume_af</th> <th>transmission_kwh/af</th> <th>treatment_kwh/af</th> <th>used_vol_af</th>\n",
       "        </tr>\n",
       "    </thead>\n",
       "    <tbody>\n",
       "        <tr>\n",
       "            <td>2010</td> <td>2010     </td> <td>1809027PD </td> <td>1809027E</td> <td>19800               </td> <td>163.1              </td> <td>0               </td> <td>19800      </td>\n",
       "        </tr>\n",
       "        <tr>\n",
       "            <td>2015</td> <td>2015     </td> <td>1809027NPD</td> <td>1809027E</td> <td>110                 </td> <td>195.72             </td> <td>0               </td> <td>110        </td>\n",
       "        </tr>\n",
       "        <tr>\n",
       "            <td>2015</td> <td>2015     </td> <td>1809027PD </td> <td>1809027E</td> <td>17015               </td> <td>489.3              </td> <td>0               </td> <td>17015      </td>\n",
       "        </tr>\n",
       "    </tbody>\n",
       "</table>"
      ],
      "text/plain": [
       "year | data_year | source     | target   | cumulative_volume_af | transmission_kwh/af | treatment_kwh/af | used_vol_af\n",
       "2010 | 2010      | 1809027PD  | 1809027E | 19800                | 163.1               | 0                | 19800\n",
       "2015 | 2015      | 1809027NPD | 1809027E | 110                  | 195.72              | 0                | 110\n",
       "2015 | 2015      | 1809027PD  | 1809027E | 17015                | 489.3               | 0                | 17015"
      ]
     },
     "execution_count": 205,
     "metadata": {},
     "output_type": "execute_result"
    }
   ],
   "source": [
    "palmdale_final = palmdale.append(palmdale_1)\n",
    "palmdale_final"
   ]
  },
  {
   "cell_type": "code",
   "execution_count": 206,
   "metadata": {},
   "outputs": [
    {
     "data": {
      "text/html": [
       "<table border=\"1\" class=\"dataframe\">\n",
       "    <thead>\n",
       "        <tr>\n",
       "            <th>year</th> <th>data_year</th> <th>source</th> <th>target</th> <th>cumulative_volume_af</th> <th>transmission_kwh/af</th> <th>treatment_kwh/af</th> <th>used_vol_af</th>\n",
       "        </tr>\n",
       "    </thead>\n",
       "    <tbody>\n",
       "        <tr>\n",
       "            <td>2010</td> <td>2010     </td> <td>1805085PD </td> <td>1805085E</td> <td>119991              </td> <td>318.2              </td> <td>0               </td> <td>119991     </td>\n",
       "        </tr>\n",
       "        <tr>\n",
       "            <td>2010</td> <td>2010     </td> <td>1805085NPD</td> <td>1805085E</td> <td>1208                </td> <td>381.84             </td> <td>0               </td> <td>1208       </td>\n",
       "        </tr>\n",
       "        <tr>\n",
       "            <td>2015</td> <td>2015     </td> <td>1805085PD </td> <td>1805085E</td> <td>106451              </td> <td>954.6              </td> <td>0               </td> <td>106451     </td>\n",
       "        </tr>\n",
       "        <tr>\n",
       "            <td>2015</td> <td>2015     </td> <td>1805085NPD</td> <td>1805085E</td> <td>2092.98             </td> <td>2227.4             </td> <td>0               </td> <td>2092.98    </td>\n",
       "        </tr>\n",
       "    </tbody>\n",
       "</table>"
      ],
      "text/plain": [
       "year | data_year | source     | target   | cumulative_volume_af | transmission_kwh/af | treatment_kwh/af | used_vol_af\n",
       "2010 | 2010      | 1805085PD  | 1805085E | 119991               | 318.2               | 0                | 119991\n",
       "2010 | 2010      | 1805085NPD | 1805085E | 1208                 | 381.84              | 0                | 1208\n",
       "2015 | 2015      | 1805085PD  | 1805085E | 106451               | 954.6               | 0                | 106451\n",
       "2015 | 2015      | 1805085NPD | 1805085E | 2092.98              | 2227.4              | 0                | 2092.98"
      ]
     },
     "execution_count": 206,
     "metadata": {},
     "output_type": "execute_result"
    }
   ],
   "source": [
    "sanjose_water_final = sanjose_water.append(sanjose_water_1)\n",
    "sanjose_water_final\n"
   ]
  },
  {
   "cell_type": "code",
   "execution_count": 207,
   "metadata": {},
   "outputs": [
    {
     "data": {
      "text/html": [
       "<table border=\"1\" class=\"dataframe\">\n",
       "    <thead>\n",
       "        <tr>\n",
       "            <th>year</th> <th>data_year</th> <th>source</th> <th>target</th> <th>cumulative_volume_af</th> <th>transmission_kwh/af</th> <th>treatment_kwh/af</th> <th>used_vol_af</th>\n",
       "        </tr>\n",
       "    </thead>\n",
       "    <tbody>\n",
       "        <tr>\n",
       "            <td>2010</td> <td>2010     </td> <td>1807341PD </td> <td>1807341E</td> <td>12435.8             </td> <td>163.1              </td> <td>0               </td> <td>12435.8    </td>\n",
       "        </tr>\n",
       "        <tr>\n",
       "            <td>2010</td> <td>2010     </td> <td>1807341NPD</td> <td>1807341E</td> <td>280                 </td> <td>195.72             </td> <td>0               </td> <td>280        </td>\n",
       "        </tr>\n",
       "        <tr>\n",
       "            <td>2015</td> <td>2015     </td> <td>1807341PD </td> <td>1807341E</td> <td>11917               </td> <td>489.3              </td> <td>0               </td> <td>11917      </td>\n",
       "        </tr>\n",
       "    </tbody>\n",
       "</table>"
      ],
      "text/plain": [
       "year | data_year | source     | target   | cumulative_volume_af | transmission_kwh/af | treatment_kwh/af | used_vol_af\n",
       "2010 | 2010      | 1807341PD  | 1807341E | 12435.8              | 163.1               | 0                | 12435.8\n",
       "2010 | 2010      | 1807341NPD | 1807341E | 280                  | 195.72              | 0                | 280\n",
       "2015 | 2015      | 1807341PD  | 1807341E | 11917                | 489.3               | 0                | 11917"
      ]
     },
     "execution_count": 207,
     "metadata": {},
     "output_type": "execute_result"
    }
   ],
   "source": [
    "santa_monica_final = santa_monica.append(santa_monica_1)\n",
    "santa_monica_final"
   ]
  },
  {
   "cell_type": "markdown",
   "metadata": {},
   "source": [
    "# Let's Observe San Jose Water Utility "
   ]
  },
  {
   "cell_type": "code",
   "execution_count": 220,
   "metadata": {},
   "outputs": [
    {
     "data": {
      "text/html": [
       "<table border=\"1\" class=\"dataframe\">\n",
       "    <thead>\n",
       "        <tr>\n",
       "            <th>year</th> <th>data_year</th> <th>source</th> <th>target</th> <th>cumulative_volume_af</th> <th>transmission_kwh/af</th> <th>treatment_kwh/af</th> <th>used_vol_af</th>\n",
       "        </tr>\n",
       "    </thead>\n",
       "    <tbody>\n",
       "        <tr>\n",
       "            <td>2010</td> <td>2010     </td> <td>1805085PD </td> <td>1805085E</td> <td>119991              </td> <td>318.2              </td> <td>0               </td> <td>119991     </td>\n",
       "        </tr>\n",
       "        <tr>\n",
       "            <td>2010</td> <td>2010     </td> <td>1805085NPD</td> <td>1805085E</td> <td>1208                </td> <td>381.84             </td> <td>0               </td> <td>1208       </td>\n",
       "        </tr>\n",
       "        <tr>\n",
       "            <td>2015</td> <td>2015     </td> <td>1805085PD </td> <td>1805085E</td> <td>106451              </td> <td>954.6              </td> <td>0               </td> <td>106451     </td>\n",
       "        </tr>\n",
       "        <tr>\n",
       "            <td>2015</td> <td>2015     </td> <td>1805085NPD</td> <td>1805085E</td> <td>2092.98             </td> <td>2227.4             </td> <td>0               </td> <td>2092.98    </td>\n",
       "        </tr>\n",
       "    </tbody>\n",
       "</table>"
      ],
      "text/plain": [
       "year | data_year | source     | target   | cumulative_volume_af | transmission_kwh/af | treatment_kwh/af | used_vol_af\n",
       "2010 | 2010      | 1805085PD  | 1805085E | 119991               | 318.2               | 0                | 119991\n",
       "2010 | 2010      | 1805085NPD | 1805085E | 1208                 | 381.84              | 0                | 1208\n",
       "2015 | 2015      | 1805085PD  | 1805085E | 106451               | 954.6               | 0                | 106451\n",
       "2015 | 2015      | 1805085NPD | 1805085E | 2092.98              | 2227.4              | 0                | 2092.98"
      ]
     },
     "execution_count": 220,
     "metadata": {},
     "output_type": "execute_result"
    }
   ],
   "source": [
    "sanjose_water_final"
   ]
  },
  {
   "cell_type": "markdown",
   "metadata": {},
   "source": [
    "## How to calculate the amount of energy used.\n",
    "- transmission_kwh = cumulative_volume_af * transmission_kwh/af\n",
    "\n",
    "## How to calculate the percentage increase.\n",
    "- Increase = New Number - Original Number\n",
    "- % Increase = Increase / Original Number * 100"
   ]
  },
  {
   "cell_type": "markdown",
   "metadata": {},
   "source": [
    "### Analyze the amount of energe used."
   ]
  },
  {
   "cell_type": "code",
   "execution_count": 221,
   "metadata": {},
   "outputs": [
    {
     "name": "stdout",
     "output_type": "stream",
     "text": [
      "The total transmission_kwh in 2010 : 38642398.919999994\n",
      "The total transmission_kwh in 2015 : 106280028.252\n",
      "The percentage increase of energy from 2010 to 2015 : 175.0347577334105%\n"
     ]
    }
   ],
   "source": [
    "#total transmission_kwh in 2010\n",
    "energy = 119991 * 318.2 + 1208 * 381.84\n",
    "print (\"The total transmission_kwh in 2010 : \" + str(energy))\n",
    "\n",
    "#total transmission_kwh in 2015\n",
    "energy1 = 106451 * 954.6 + 2092.98 * 2227.4\n",
    "print (\"The total transmission_kwh in 2015 : \" + str(energy1))\n",
    "\n",
    "#percent increase of energy used.\n",
    "increase = energy1 - energy\n",
    "percentage_inc = increase / energy * 100\n",
    "print (\"The percentage increase of energy from 2010 to 2015 : \" + str(percentage_inc) + \"%\")\n"
   ]
  },
  {
   "cell_type": "markdown",
   "metadata": {},
   "source": [
    "### Analyze the volume of water transported."
   ]
  },
  {
   "cell_type": "code",
   "execution_count": 222,
   "metadata": {},
   "outputs": [
    {
     "name": "stdout",
     "output_type": "stream",
     "text": [
      "The total volume of water transported in 2010: 121199\n",
      "The total volume of water transported in 2015: 108543.98\n",
      "The percentage decrease of volume of water transported from 2010 to 2015 : -10.441521794734284%\n"
     ]
    }
   ],
   "source": [
    "#total volume of water trasported in 2010\n",
    "volume = 119991 + 1208\n",
    "print (\"The total volume of water transported in 2010: \" + str(volume))\n",
    "\n",
    "#total volume of water transported in 2015\n",
    "volume1 = 106451 + 2092.98\n",
    "print (\"The total volume of water transported in 2015: \" + str(volume1))\n",
    "\n",
    "#percent decrease in amount of volume transported.\n",
    "decrease = volume1 - volume\n",
    "percentage_dec = decrease / volume * 100\n",
    "print (\"The percentage decrease of volume of water transported from 2010 to 2015 : \" + str(percentage_dec) + \"%\")"
   ]
  },
  {
   "cell_type": "code",
   "execution_count": null,
   "metadata": {
    "collapsed": true
   },
   "outputs": [],
   "source": []
  }
 ],
 "metadata": {
  "kernelspec": {
   "display_name": "Python 3",
   "language": "python",
   "name": "python3"
  },
  "language_info": {
   "codemirror_mode": {
    "name": "ipython",
    "version": 3
   },
   "file_extension": ".py",
   "mimetype": "text/x-python",
   "name": "python",
   "nbconvert_exporter": "python",
   "pygments_lexer": "ipython3",
   "version": "3.6.8"
  }
 },
 "nbformat": 4,
 "nbformat_minor": 2
}
