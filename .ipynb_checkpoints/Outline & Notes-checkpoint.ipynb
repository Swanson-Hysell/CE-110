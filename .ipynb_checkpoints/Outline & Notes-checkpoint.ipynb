{
 "cells": [
  {
   "cell_type": "markdown",
   "metadata": {},
   "source": [
    "# Outline of Lab:\n",
    "\n",
    "### 1. Introduction: Transition from Sankey\n",
    " - \"You've now *visualized* the water transmission between and analyzed acquired an intuition as to why you saw the change that you saw. Now you'll look at this data in barplots alongside with energy transmission data and analyze the ratio of energy consumption to the volume of transported water...\"\n",
    "\n",
    "### 2. Introduce data\n",
    "- <div style = \"color: orange\">**NOTE:** I made a new csv so students don't have to worrya bout 2010 and 2015 data being separate, combining them together, and then filtering out uncessary water targets and years. The new csv is called `network.csv`</div>\n",
    "- Take a moment to explain the data. What do the columns mean? Do we need any more columns? What does \"source\" and \"target\" mean? What to the \"year\" columns mean?\n",
    "    - create the new \"Total Energy\" column here!\n",
    "- *Note*: Intro notebook MUST cover `.where()` and `.group()` functions thoroughly.\n",
    "\n",
    "### 3. Analysis Example!\n",
    "- Conduct example analysis on Cerrito utility. Make sure to **explain** what you're doing and why: what will the students take away from this analysis? Ask discussion questions to make sure students are following, and **provide your own interpretation**.\n",
    "- As a part of the analysis, plot a bargraph with 2010, predicted 2015 and actual 2015 data.\n",
    "- *Note:* Make sure to interpret the graph at some point. Students will be looking to see an example of how you analyze the graph to do it themselves.\n",
    "- Finally, compare and **discuss** the total energy to cumulative water volume ratio between 2010, predicted 2015\n",
    "\n",
    "### 4. Students try their own utility!\n",
    "- provide some skeleton code, have students produce the same bar graphs & look at energy to water ratio, write down their interpretation, answer discussion questions.\n",
    "\n",
    "### 5. Big Picture: what did this look like overall across California?\n",
    "- Use all utilities to conduct the same analysis\n",
    "- discuss effect of drought, ratio\n",
    "- Discussion questions, ask if students' utilities experiences the same trend.\n",
    "\n",
    "### 6. Conclusion:\n",
    "- Peer consulting (resource)\n",
    "- Survey"
   ]
  },
  {
   "cell_type": "markdown",
   "metadata": {},
   "source": [
    "---\n",
    "\n",
    "# Notes for Mina (4/4/19)\n",
    "\n",
    "1. Data:\n",
    "    - Keiko to get rid of unnecessary columns\n",
    "    - Explain that the **`year`** column only contains three values: 2010, 2015, and Predicted 2015\n",
    "    - Explain what \"Predicted 2015\" is\n",
    "    - Explain that the \"target\" column contains **only** water utilities, while the **source** columns contain any water source that provides water to those target utilities.\n",
    "    * Explain what students will be doing with the data!\n",
    "\n",
    "2. `.where()` function: briefly go over what it does\n",
    "    - In the intro notebook, Keiko will provide examples of how to extract dates and utilities out from dataframe so students are prepared to do ths in your lab\n",
    "\n",
    "3. `.sort()` function: don't need! Get rid of this\n",
    "\n",
    "4. Cerritos Example: \n",
    "    - output dataframes for 2010, provide blub of what to notice\n",
    "    - same for 2015\n",
    "    - Quickly compare values you see in 2010 and in 2015\n",
    "\n",
    "5. Students try their own:\n",
    "    - provide same structure as above\n",
    "    - provide relevant discussion questions\n",
    "    \n",
    "6. Move onto \"Further Analysis\".\n",
    "    - Explain what you will do for further analysis (maybe finish making this part of the lab and come back to writing the description)\n",
    "    - Explain why you are introducing the formulas: why do you need it / what will you do with it\n",
    "    - Go right into visualization\n",
    "    - analyze vizualization -- what should you notice?\n",
    "    - Calculate relevant difference / percent difference measures\n",
    "    - Ratio analysis -- make sure you explain why you're doing this thoroughly\n",
    "    \n",
    "7. Students try their own! Restructure order so it follows the same flow as the Cerritos example."
   ]
  },
  {
   "cell_type": "markdown",
   "metadata": {},
   "source": [
    "### Optional\n",
    "\n",
    "Also, this is up to you but this might be a more efficient way to display the data for all 3 years in one place (so just filter by the utility code.) The way that the `network.csv` is structures, everything should come out cleanly in order like below. Just something to keep in mind. "
   ]
  },
  {
   "cell_type": "code",
   "execution_count": 1,
   "metadata": {},
   "outputs": [],
   "source": [
    "from datascience import *"
   ]
  },
  {
   "cell_type": "code",
   "execution_count": 9,
   "metadata": {},
   "outputs": [
    {
     "data": {
      "text/html": [
       "<table border=\"1\" class=\"dataframe\">\n",
       "    <thead>\n",
       "        <tr>\n",
       "            <th>year</th> <th>data_year</th> <th>source</th> <th>target</th> <th>cumulative_volume_af</th> <th>transmission_kwh/af</th> <th>treatment_kwh/af</th> <th>used_vol_af</th>\n",
       "        </tr>\n",
       "    </thead>\n",
       "    <tbody>\n",
       "        <tr>\n",
       "            <td>2010          </td> <td>2010     </td> <td>1807057NPD</td> <td>1807057E</td> <td>1870                </td> <td>195.72             </td> <td>0               </td> <td>1870       </td>\n",
       "        </tr>\n",
       "        <tr>\n",
       "            <td>2010          </td> <td>2010     </td> <td>1807057PD </td> <td>1807057E</td> <td>6048                </td> <td>163.1              </td> <td>0               </td> <td>6048       </td>\n",
       "        </tr>\n",
       "        <tr>\n",
       "            <td>2015          </td> <td>2015     </td> <td>1807057NPD</td> <td>1807057E</td> <td>2335                </td> <td>195.72             </td> <td>0               </td> <td>2335       </td>\n",
       "        </tr>\n",
       "        <tr>\n",
       "            <td>2015          </td> <td>2015     </td> <td>1807057PD </td> <td>1807057E</td> <td>8460                </td> <td>326.2              </td> <td>0               </td> <td>8460       </td>\n",
       "        </tr>\n",
       "        <tr>\n",
       "            <td>Predicted 2015</td> <td>2010     </td> <td>1807057NPD</td> <td>1807057E</td> <td>2046                </td> <td>195.72             </td> <td>0               </td> <td>2046       </td>\n",
       "        </tr>\n",
       "        <tr>\n",
       "            <td>Predicted 2015</td> <td>2010     </td> <td>1807057PD </td> <td>1807057E</td> <td>7410                </td> <td>163.1              </td> <td>0               </td> <td>7410       </td>\n",
       "        </tr>\n",
       "    </tbody>\n",
       "</table>"
      ],
      "text/plain": [
       "year           | data_year | source     | target   | cumulative_volume_af | transmission_kwh/af | treatment_kwh/af | used_vol_af\n",
       "2010           | 2010      | 1807057NPD | 1807057E | 1870                 | 195.72              | 0                | 1870\n",
       "2010           | 2010      | 1807057PD  | 1807057E | 6048                 | 163.1               | 0                | 6048\n",
       "2015           | 2015      | 1807057NPD | 1807057E | 2335                 | 195.72              | 0                | 2335\n",
       "2015           | 2015      | 1807057PD  | 1807057E | 8460                 | 326.2               | 0                | 8460\n",
       "Predicted 2015 | 2010      | 1807057NPD | 1807057E | 2046                 | 195.72              | 0                | 2046\n",
       "Predicted 2015 | 2010      | 1807057PD  | 1807057E | 7410                 | 163.1               | 0                | 7410"
      ]
     },
     "execution_count": 9,
     "metadata": {},
     "output_type": "execute_result"
    }
   ],
   "source": [
    "df = Table().read_table('network.csv')\n",
    "df.where('target', are.equal_to('1807057E'))"
   ]
  },
  {
   "cell_type": "code",
   "execution_count": null,
   "metadata": {},
   "outputs": [],
   "source": []
  }
 ],
 "metadata": {
  "kernelspec": {
   "display_name": "Python 3",
   "language": "python",
   "name": "python3"
  },
  "language_info": {
   "codemirror_mode": {
    "name": "ipython",
    "version": 3
   },
   "file_extension": ".py",
   "mimetype": "text/x-python",
   "name": "python",
   "nbconvert_exporter": "python",
   "pygments_lexer": "ipython3",
   "version": "3.6.5"
  }
 },
 "nbformat": 4,
 "nbformat_minor": 2
}
