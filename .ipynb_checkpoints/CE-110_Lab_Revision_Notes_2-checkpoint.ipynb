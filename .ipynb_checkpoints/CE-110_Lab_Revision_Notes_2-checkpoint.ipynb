{
 "cells": [
  {
   "cell_type": "code",
   "execution_count": 13,
   "metadata": {},
   "outputs": [],
   "source": [
    "from datascience import *\n",
    "import numpy as np\n",
    "import matplotlib.pyplot as plt\n",
    "import pandas as pd\n",
    "%matplotlib inline"
   ]
  },
  {
   "cell_type": "markdown",
   "metadata": {},
   "source": [
    "Now you have visualized the utility network as well as water flor from immediate sources, we will analyze differences between years in energy consumption. We will be looking at the actual 2010 data, actual 2015 data, and the 2015 data predicted in 2010."
   ]
  },
  {
   "cell_type": "markdown",
   "metadata": {},
   "source": [
    "\n",
    "\n",
    "## Extract 2010 data and 2015 data\n",
    "\n",
    "We will import the data that has 2010 and 2015 utility network data.\n",
    "\n",
    "`year`: the year that the values were measured.\n",
    "- 2010: actual data collected for year 2010\n",
    "- 2015: actual data collected for year 2015\n",
    "- Predicted 2015: data for 2015 predicted in 2010\n",
    "\n",
    "`source`: shows where the water is transported from and target column shows the receiving utility from its source. \n",
    "\n",
    "`cumulative_volume_af`: shows the total amount of volume transported from source and target. \n",
    "\n",
    "`transmission_kwh/af`: shows the amount of energy used during the transmission, where kWh/AF = kiloWatt-hours required to pump an acre-foot of water through the irrigation system. \n",
    "\n",
    "Each row contains information on water flow and energy use between a water source and its target (utility)."
   ]
  },
  {
   "cell_type": "markdown",
   "metadata": {},
   "source": [
    "### Data\n",
    "This is the data observed in 2010 and 2015 for the utilties we are observing! When the ye"
   ]
  },
  {
   "cell_type": "code",
   "execution_count": 14,
   "metadata": {},
   "outputs": [
    {
     "data": {
      "text/html": [
       "<table border=\"1\" class=\"dataframe\">\n",
       "    <thead>\n",
       "        <tr>\n",
       "            <th>year</th> <th>source</th> <th>target</th> <th>cumulative_volume_af</th> <th>transmission_kwh/af</th>\n",
       "        </tr>\n",
       "    </thead>\n",
       "    <tbody>\n",
       "        <tr>\n",
       "            <td>2010</td> <td>1801001PD </td> <td>1801001E</td> <td>1624                </td> <td>163.1              </td>\n",
       "        </tr>\n",
       "        <tr>\n",
       "            <td>2010</td> <td>1801007PD </td> <td>1801007E</td> <td>2015.2              </td> <td>163.1              </td>\n",
       "        </tr>\n",
       "        <tr>\n",
       "            <td>2010</td> <td>1801009PD </td> <td>1801009E</td> <td>2924.55             </td> <td>163.1              </td>\n",
       "        </tr>\n",
       "        <tr>\n",
       "            <td>2010</td> <td>1801011PD </td> <td>1801011E</td> <td>1350                </td> <td>163.1              </td>\n",
       "        </tr>\n",
       "        <tr>\n",
       "            <td>2010</td> <td>1801015PD </td> <td>1801015E</td> <td>840                 </td> <td>163.1              </td>\n",
       "        </tr>\n",
       "        <tr>\n",
       "            <td>2010</td> <td>1801017PD </td> <td>1801017E</td> <td>1798.34             </td> <td>163.1              </td>\n",
       "        </tr>\n",
       "        <tr>\n",
       "            <td>2010</td> <td>1801019PD </td> <td>1801019E</td> <td>1414.56             </td> <td>163.1              </td>\n",
       "        </tr>\n",
       "        <tr>\n",
       "            <td>2010</td> <td>1801021NPD</td> <td>1801021E</td> <td>710                 </td> <td>195.72             </td>\n",
       "        </tr>\n",
       "        <tr>\n",
       "            <td>2010</td> <td>1801021PD </td> <td>1801021E</td> <td>3098.08             </td> <td>163.1              </td>\n",
       "        </tr>\n",
       "        <tr>\n",
       "            <td>2010</td> <td>1801023NPD</td> <td>1801023E</td> <td>204                 </td> <td>195.72             </td>\n",
       "        </tr>\n",
       "    </tbody>\n",
       "</table>\n",
       "<p>... (1433 rows omitted)</p>"
      ],
      "text/plain": [
       "year | source     | target   | cumulative_volume_af | transmission_kwh/af\n",
       "2010 | 1801001PD  | 1801001E | 1624                 | 163.1\n",
       "2010 | 1801007PD  | 1801007E | 2015.2               | 163.1\n",
       "2010 | 1801009PD  | 1801009E | 2924.55              | 163.1\n",
       "2010 | 1801011PD  | 1801011E | 1350                 | 163.1\n",
       "2010 | 1801015PD  | 1801015E | 840                  | 163.1\n",
       "2010 | 1801017PD  | 1801017E | 1798.34              | 163.1\n",
       "2010 | 1801019PD  | 1801019E | 1414.56              | 163.1\n",
       "2010 | 1801021NPD | 1801021E | 710                  | 195.72\n",
       "2010 | 1801021PD  | 1801021E | 3098.08              | 163.1\n",
       "2010 | 1801023NPD | 1801023E | 204                  | 195.72\n",
       "... (1433 rows omitted)"
      ]
     },
     "execution_count": 14,
     "metadata": {},
     "output_type": "execute_result"
    }
   ],
   "source": [
    "data = Table().read_table('network.csv')\n",
    "\n",
    "#remove unnecessary columns \n",
    "data = data.drop('data_year')\n",
    "data = data.drop('treatment_kwh/af')\n",
    "data = data.drop('used_vol_af')\n",
    "\n",
    "#cleaned data table\n",
    "data"
   ]
  },
  {
   "cell_type": "markdown",
   "metadata": {},
   "source": [
    "## Actual 2010 Data\n",
    "\n",
    "Let's get the actual observed data in 2010. By setting the column of the data table as 2010, we will be looking at the actual 2010 data."
   ]
  },
  {
   "cell_type": "code",
   "execution_count": 15,
   "metadata": {},
   "outputs": [
    {
     "data": {
      "text/html": [
       "<table border=\"1\" class=\"dataframe\">\n",
       "    <thead>\n",
       "        <tr>\n",
       "            <th>year</th> <th>source</th> <th>target</th> <th>cumulative_volume_af</th> <th>transmission_kwh/af</th>\n",
       "        </tr>\n",
       "    </thead>\n",
       "    <tbody>\n",
       "        <tr>\n",
       "            <td>2010</td> <td>1801001PD </td> <td>1801001E</td> <td>1624                </td> <td>163.1              </td>\n",
       "        </tr>\n",
       "        <tr>\n",
       "            <td>2010</td> <td>1801007PD </td> <td>1801007E</td> <td>2015.2              </td> <td>163.1              </td>\n",
       "        </tr>\n",
       "        <tr>\n",
       "            <td>2010</td> <td>1801009PD </td> <td>1801009E</td> <td>2924.55             </td> <td>163.1              </td>\n",
       "        </tr>\n",
       "        <tr>\n",
       "            <td>2010</td> <td>1801011PD </td> <td>1801011E</td> <td>1350                </td> <td>163.1              </td>\n",
       "        </tr>\n",
       "        <tr>\n",
       "            <td>2010</td> <td>1801015PD </td> <td>1801015E</td> <td>840                 </td> <td>163.1              </td>\n",
       "        </tr>\n",
       "        <tr>\n",
       "            <td>2010</td> <td>1801017PD </td> <td>1801017E</td> <td>1798.34             </td> <td>163.1              </td>\n",
       "        </tr>\n",
       "        <tr>\n",
       "            <td>2010</td> <td>1801019PD </td> <td>1801019E</td> <td>1414.56             </td> <td>163.1              </td>\n",
       "        </tr>\n",
       "        <tr>\n",
       "            <td>2010</td> <td>1801021NPD</td> <td>1801021E</td> <td>710                 </td> <td>195.72             </td>\n",
       "        </tr>\n",
       "        <tr>\n",
       "            <td>2010</td> <td>1801021PD </td> <td>1801021E</td> <td>3098.08             </td> <td>163.1              </td>\n",
       "        </tr>\n",
       "        <tr>\n",
       "            <td>2010</td> <td>1801023NPD</td> <td>1801023E</td> <td>204                 </td> <td>195.72             </td>\n",
       "        </tr>\n",
       "    </tbody>\n",
       "</table>\n",
       "<p>... (508 rows omitted)</p>"
      ],
      "text/plain": [
       "year | source     | target   | cumulative_volume_af | transmission_kwh/af\n",
       "2010 | 1801001PD  | 1801001E | 1624                 | 163.1\n",
       "2010 | 1801007PD  | 1801007E | 2015.2               | 163.1\n",
       "2010 | 1801009PD  | 1801009E | 2924.55              | 163.1\n",
       "2010 | 1801011PD  | 1801011E | 1350                 | 163.1\n",
       "2010 | 1801015PD  | 1801015E | 840                  | 163.1\n",
       "2010 | 1801017PD  | 1801017E | 1798.34              | 163.1\n",
       "2010 | 1801019PD  | 1801019E | 1414.56              | 163.1\n",
       "2010 | 1801021NPD | 1801021E | 710                  | 195.72\n",
       "2010 | 1801021PD  | 1801021E | 3098.08              | 163.1\n",
       "2010 | 1801023NPD | 1801023E | 204                  | 195.72\n",
       "... (508 rows omitted)"
      ]
     },
     "execution_count": 15,
     "metadata": {},
     "output_type": "execute_result"
    }
   ],
   "source": [
    "#Getting data for 2010.\n",
    "#data_2010 = network.where('year',are.equal_to(2010))\n",
    "data_2010 = data.where('year', are.equal_to('2010'))\n",
    "data_2010"
   ]
  },
  {
   "cell_type": "markdown",
   "metadata": {},
   "source": [
    "## Let's try extracting data for a specific utility.\n",
    "### This is an example for Cerritos (1807057E).\n",
    "We will first get the 2010 data for Cerritos utility by setting the target column to be equal to the utility code.\n",
    "##### Cerritos"
   ]
  },
  {
   "cell_type": "code",
   "execution_count": 16,
   "metadata": {},
   "outputs": [
    {
     "data": {
      "text/html": [
       "<table border=\"1\" class=\"dataframe\">\n",
       "    <thead>\n",
       "        <tr>\n",
       "            <th>year</th> <th>source</th> <th>target</th> <th>cumulative_volume_af</th> <th>transmission_kwh/af</th>\n",
       "        </tr>\n",
       "    </thead>\n",
       "    <tbody>\n",
       "        <tr>\n",
       "            <td>2010</td> <td>1807057NPD</td> <td>1807057E</td> <td>1870                </td> <td>195.72             </td>\n",
       "        </tr>\n",
       "        <tr>\n",
       "            <td>2010</td> <td>1807057PD </td> <td>1807057E</td> <td>6048                </td> <td>163.1              </td>\n",
       "        </tr>\n",
       "    </tbody>\n",
       "</table>"
      ],
      "text/plain": [
       "year | source     | target   | cumulative_volume_af | transmission_kwh/af\n",
       "2010 | 1807057NPD | 1807057E | 1870                 | 195.72\n",
       "2010 | 1807057PD  | 1807057E | 6048                 | 163.1"
      ]
     },
     "execution_count": 16,
     "metadata": {},
     "output_type": "execute_result"
    }
   ],
   "source": [
    "#Actual 2010 data for Cerritos utility\n",
    "cerritos_2010 = data_2010.where(\"target\",are.equal_to(\"1807057E\"))\n",
    "cerritos_2010"
   ]
  },
  {
   "cell_type": "markdown",
   "metadata": {},
   "source": [
    "Notice that the target column is now set to the Cerritos utility in the year 2010. It is receiving water from two sources 1807057NPD and 1807057PD. The cumulative_volume_af column shows the total amount of water trasferred from each sources and transmission_kwh/af shows the amount of energy required to pump water in kwh per acre-foot of water through the irrigation system."
   ]
  },
  {
   "cell_type": "markdown",
   "metadata": {},
   "source": [
    "### Now similar to above, let's extract data for 2015! You can set the year column to equal to 2015.\n",
    "## Actual 2015 Data\n",
    "We will now get the actual 2015 data by finding the rows in data_1 table where the year is equal to 2015."
   ]
  },
  {
   "cell_type": "code",
   "execution_count": 17,
   "metadata": {},
   "outputs": [
    {
     "data": {
      "text/html": [
       "<table border=\"1\" class=\"dataframe\">\n",
       "    <thead>\n",
       "        <tr>\n",
       "            <th>year</th> <th>source</th> <th>target</th> <th>cumulative_volume_af</th> <th>transmission_kwh/af</th>\n",
       "        </tr>\n",
       "    </thead>\n",
       "    <tbody>\n",
       "        <tr>\n",
       "            <td>2015</td> <td>1803007PD </td> <td>1803007E</td> <td>3145.61             </td> <td>17.6               </td>\n",
       "        </tr>\n",
       "        <tr>\n",
       "            <td>2015</td> <td>1803009PD </td> <td>1803009E</td> <td>55032               </td> <td>1284               </td>\n",
       "        </tr>\n",
       "        <tr>\n",
       "            <td>2015</td> <td>1803013PD </td> <td>1803013E</td> <td>688                 </td> <td>2000               </td>\n",
       "        </tr>\n",
       "        <tr>\n",
       "            <td>2015</td> <td>1803015PD </td> <td>1803015E</td> <td>3952                </td> <td>17.6               </td>\n",
       "        </tr>\n",
       "        <tr>\n",
       "            <td>2015</td> <td>1803017PD </td> <td>1803017E</td> <td>24854               </td> <td>17.6               </td>\n",
       "        </tr>\n",
       "        <tr>\n",
       "            <td>2015</td> <td>1803019NPD</td> <td>1803019E</td> <td>2143                </td> <td>42.24              </td>\n",
       "        </tr>\n",
       "        <tr>\n",
       "            <td>2015</td> <td>1803019PD </td> <td>1803019E</td> <td>11704.7             </td> <td>35.2               </td>\n",
       "        </tr>\n",
       "        <tr>\n",
       "            <td>2015</td> <td>1803027PD </td> <td>1803027E</td> <td>4842.57             </td> <td>17.6               </td>\n",
       "        </tr>\n",
       "        <tr>\n",
       "            <td>2015</td> <td>1803029PD </td> <td>1803029E</td> <td>7502                </td> <td>35.2               </td>\n",
       "        </tr>\n",
       "        <tr>\n",
       "            <td>2015</td> <td>1803033NPD</td> <td>1803033E</td> <td>15022               </td> <td>84.48              </td>\n",
       "        </tr>\n",
       "    </tbody>\n",
       "</table>\n",
       "<p>... (360 rows omitted)</p>"
      ],
      "text/plain": [
       "year | source     | target   | cumulative_volume_af | transmission_kwh/af\n",
       "2015 | 1803007PD  | 1803007E | 3145.61              | 17.6\n",
       "2015 | 1803009PD  | 1803009E | 55032                | 1284\n",
       "2015 | 1803013PD  | 1803013E | 688                  | 2000\n",
       "2015 | 1803015PD  | 1803015E | 3952                 | 17.6\n",
       "2015 | 1803017PD  | 1803017E | 24854                | 17.6\n",
       "2015 | 1803019NPD | 1803019E | 2143                 | 42.24\n",
       "2015 | 1803019PD  | 1803019E | 11704.7              | 35.2\n",
       "2015 | 1803027PD  | 1803027E | 4842.57              | 17.6\n",
       "2015 | 1803029PD  | 1803029E | 7502                 | 35.2\n",
       "2015 | 1803033NPD | 1803033E | 15022                | 84.48\n",
       "... (360 rows omitted)"
      ]
     },
     "execution_count": 17,
     "metadata": {},
     "output_type": "execute_result"
    }
   ],
   "source": [
    "#Getting data for 2015\n",
    "data_2015 = data.where('year',are.equal_to('2015'))\n",
    "data_2015"
   ]
  },
  {
   "cell_type": "markdown",
   "metadata": {},
   "source": [
    "## Extracting data in 2015 for Cerritos (1807057E)\n",
    "Let's get the 2015 data for Cerritos utility by setting the target column to be equal to its utility code."
   ]
  },
  {
   "cell_type": "markdown",
   "metadata": {},
   "source": [
    "##### Cerritos"
   ]
  },
  {
   "cell_type": "code",
   "execution_count": 18,
   "metadata": {},
   "outputs": [
    {
     "data": {
      "text/html": [
       "<table border=\"1\" class=\"dataframe\">\n",
       "    <thead>\n",
       "        <tr>\n",
       "            <th>year</th> <th>source</th> <th>target</th> <th>cumulative_volume_af</th> <th>transmission_kwh/af</th>\n",
       "        </tr>\n",
       "    </thead>\n",
       "    <tbody>\n",
       "        <tr>\n",
       "            <td>2015</td> <td>1807057NPD</td> <td>1807057E</td> <td>2335                </td> <td>195.72             </td>\n",
       "        </tr>\n",
       "        <tr>\n",
       "            <td>2015</td> <td>1807057PD </td> <td>1807057E</td> <td>8460                </td> <td>326.2              </td>\n",
       "        </tr>\n",
       "    </tbody>\n",
       "</table>"
      ],
      "text/plain": [
       "year | source     | target   | cumulative_volume_af | transmission_kwh/af\n",
       "2015 | 1807057NPD | 1807057E | 2335                 | 195.72\n",
       "2015 | 1807057PD  | 1807057E | 8460                 | 326.2"
      ]
     },
     "execution_count": 18,
     "metadata": {},
     "output_type": "execute_result"
    }
   ],
   "source": [
    "cerritos_2015 = data_2015.where(\"target\", are.equal_to(\"1807057E\"))\n",
    "cerritos_2015"
   ]
  },
  {
   "cell_type": "code",
   "execution_count": null,
   "metadata": {},
   "outputs": [],
   "source": []
  },
  {
   "cell_type": "markdown",
   "metadata": {},
   "source": [
    "Do you see anything different between 2010 and 2015 data for Cerritos utility? Notice that the cumulative_volume_af from 1807075PD source increased significantly, as well as the transmission_kwh/af value. \n",
    "\n",
    "<div style = \"color:green\"> Go deeper here: introduce the analysis, explain that the differences in magnitudes of these values are what will be at the core of this analysis notebook. Tell students to keep an eye on not just whether values increase or decrease, but also on **how much** it increases/decreases </div>"
   ]
  },
  {
   "cell_type": "markdown",
   "metadata": {},
   "source": [
    "## Try your own!\n",
    "\n",
    "### Find the 2010 data for your utility."
   ]
  },
  {
   "cell_type": "markdown",
   "metadata": {},
   "source": [
    "##### Utility"
   ]
  },
  {
   "cell_type": "code",
   "execution_count": 56,
   "metadata": {},
   "outputs": [],
   "source": [
    "#Find the actual 2010 for your utility\n",
    "utility = data.where(\"target\",are.equal_to(\"YOUR UTILITY CODE\"))\n",
    "utility"
   ]
  },
  {
   "cell_type": "markdown",
   "metadata": {},
   "source": [
    "##### Sort by the amount of cumulative volume."
   ]
  },
  {
   "cell_type": "code",
   "execution_count": 57,
   "metadata": {},
   "outputs": [],
   "source": [
    "#where do they get most water?\n",
    "utility = utility.sort(...)\n",
    "utility"
   ]
  },
  {
   "cell_type": "markdown",
   "metadata": {},
   "source": [
    "## Try extracting 2015 data for your own utility!\n",
    "Similar to what you did for the 2010 data, find where the target column is equal to your utility code."
   ]
  },
  {
   "cell_type": "markdown",
   "metadata": {},
   "source": [
    "##### Utility"
   ]
  },
  {
   "cell_type": "code",
   "execution_count": 58,
   "metadata": {},
   "outputs": [],
   "source": [
    "#Data where target = YOUR UTILITY CODE\n",
    "utility_2015 = ...\n",
    "utility_2015"
   ]
  },
  {
   "cell_type": "markdown",
   "metadata": {},
   "source": [
    "##### Sort the values by cumulative volume"
   ]
  },
  {
   "cell_type": "code",
   "execution_count": 59,
   "metadata": {},
   "outputs": [],
   "source": [
    "#where do they get most water?\n",
    "utility_2015 = utility_2015.sort(...)\n",
    "utility_2015"
   ]
  },
  {
   "cell_type": "markdown",
   "metadata": {},
   "source": [
    "#### Question: Do you see any similar pattern in increase of volume of water or trasmission_kwh/af for your utility? \n",
    "\n",
    "<div style = \"color:green\"> Have students notice the magnitude in differences and have them comment on it </div>"
   ]
  },
  {
   "cell_type": "code",
   "execution_count": 95,
   "metadata": {},
   "outputs": [],
   "source": [
    "#TYPE YOUR ANSWER"
   ]
  },
  {
   "cell_type": "markdown",
   "metadata": {},
   "source": [
    "## Add a column that calculates total energy used in each utility.\n",
    "\n",
    "For each data set, we have a column that tells us the cumulative volume of water transferred and energy required to pump water per acre foot through the irrigation system. By multiplying the two columns, we can get the total amount of energy used in pumping water from each source to a target. For example, if you look at the cerritos data from 2010, we pumped 6048 units of water with 163.1 kwh/af energy used to transfer. We will now multiply these two numbers to get the total energy used from this utility: 986429.8 kwh.\n",
    "\n",
    "- <div style = \"color:green\"> Remind studends what `with_column()` does.</div>\n",
    "- Calculate the metric first in a seperate code block\n",
    "- Remind studnts what `.column()` does and how multiplying two arrays together work (covered in intro notebook, brief explanation is fine, refer to intro notebook if students need to review this)."
   ]
  },
  {
   "cell_type": "code",
   "execution_count": 19,
   "metadata": {},
   "outputs": [],
   "source": [
    "total_energy_2010 = cerritos_2010.column('cumulative_volume_af') * cerritos_2010.column('transmission_kwh/af')"
   ]
  },
  {
   "cell_type": "code",
   "execution_count": 20,
   "metadata": {},
   "outputs": [
    {
     "data": {
      "text/html": [
       "<table border=\"1\" class=\"dataframe\">\n",
       "    <thead>\n",
       "        <tr>\n",
       "            <th>year</th> <th>source</th> <th>target</th> <th>cumulative_volume_af</th> <th>transmission_kwh/af</th> <th>total energy in kwh</th>\n",
       "        </tr>\n",
       "    </thead>\n",
       "    <tbody>\n",
       "        <tr>\n",
       "            <td>2010</td> <td>1807057NPD</td> <td>1807057E</td> <td>1870                </td> <td>195.72             </td> <td>365996             </td>\n",
       "        </tr>\n",
       "        <tr>\n",
       "            <td>2010</td> <td>1807057PD </td> <td>1807057E</td> <td>6048                </td> <td>163.1              </td> <td>986429             </td>\n",
       "        </tr>\n",
       "    </tbody>\n",
       "</table>"
      ],
      "text/plain": [
       "year | source     | target   | cumulative_volume_af | transmission_kwh/af | total energy in kwh\n",
       "2010 | 1807057NPD | 1807057E | 1870                 | 195.72              | 365996\n",
       "2010 | 1807057PD  | 1807057E | 6048                 | 163.1               | 986429"
      ]
     },
     "execution_count": 20,
     "metadata": {},
     "output_type": "execute_result"
    }
   ],
   "source": [
    "cerritos_2010 = cerritos_2010.with_column('total energy in kwh', total_energy_2010)\n",
    "cerritos_2010"
   ]
  },
  {
   "cell_type": "code",
   "execution_count": 21,
   "metadata": {},
   "outputs": [
    {
     "data": {
      "text/html": [
       "<table border=\"1\" class=\"dataframe\">\n",
       "    <thead>\n",
       "        <tr>\n",
       "            <th>year</th> <th>source</th> <th>target</th> <th>cumulative_volume_af</th> <th>transmission_kwh/af</th> <th>total energy in kwh</th>\n",
       "        </tr>\n",
       "    </thead>\n",
       "    <tbody>\n",
       "        <tr>\n",
       "            <td>2015</td> <td>1807057NPD</td> <td>1807057E</td> <td>2335                </td> <td>195.72             </td> <td>457006             </td>\n",
       "        </tr>\n",
       "        <tr>\n",
       "            <td>2015</td> <td>1807057PD </td> <td>1807057E</td> <td>8460                </td> <td>326.2              </td> <td>2.75965e+06        </td>\n",
       "        </tr>\n",
       "    </tbody>\n",
       "</table>"
      ],
      "text/plain": [
       "year | source     | target   | cumulative_volume_af | transmission_kwh/af | total energy in kwh\n",
       "2015 | 1807057NPD | 1807057E | 2335                 | 195.72              | 457006\n",
       "2015 | 1807057PD  | 1807057E | 8460                 | 326.2               | 2.75965e+06"
      ]
     },
     "execution_count": 21,
     "metadata": {},
     "output_type": "execute_result"
    }
   ],
   "source": [
    "cerritos_2015 = cerritos_2015.with_column('total energy in kwh', cerritos_2015.column('cumulative_volume_af') * cerritos_2015.column('transmission_kwh/af'))\n",
    "cerritos_2015"
   ]
  },
  {
   "cell_type": "markdown",
   "metadata": {},
   "source": [
    "## Useful Formulas\n",
    "### How to calculate the amount of energy used.\n",
    "- transmission_kwh = cumulative_volume_af * transmission_kwh/af\n",
    "\n",
    "### How to calculate the percentage increase.\n",
    "- Increase = New Number - Original Number\n",
    "- % Increase = Increase / Original Number * 100"
   ]
  },
  {
   "cell_type": "markdown",
   "metadata": {},
   "source": [
    "## Now add the total energy column for your own utility!\n",
    "\n",
    "<div style = \"color:green\"> use the `.with_column()` method to add this new metric onto your 2010 and 2015 tables... </div>"
   ]
  },
  {
   "cell_type": "code",
   "execution_count": 22,
   "metadata": {},
   "outputs": [
    {
     "ename": "NameError",
     "evalue": "name 'utility_2010' is not defined",
     "output_type": "error",
     "traceback": [
      "\u001b[1;31m---------------------------------------------------------------------------\u001b[0m",
      "\u001b[1;31mNameError\u001b[0m                                 Traceback (most recent call last)",
      "\u001b[1;32m<ipython-input-22-a1a0005658cc>\u001b[0m in \u001b[0;36m<module>\u001b[1;34m()\u001b[0m\n\u001b[0;32m      1\u001b[0m \u001b[1;31m#actual 2010 data with total energy column\u001b[0m\u001b[1;33m\u001b[0m\u001b[1;33m\u001b[0m\u001b[0m\n\u001b[1;32m----> 2\u001b[1;33m \u001b[0mutility_2010\u001b[0m \u001b[1;33m=\u001b[0m \u001b[0mutility_2010\u001b[0m\u001b[1;33m.\u001b[0m\u001b[0mwith_column\u001b[0m\u001b[1;33m(\u001b[0m\u001b[1;33m...\u001b[0m\u001b[1;33m)\u001b[0m\u001b[1;33m\u001b[0m\u001b[0m\n\u001b[0m\u001b[0;32m      3\u001b[0m \u001b[0mutility_2010\u001b[0m\u001b[1;33m\u001b[0m\u001b[0m\n",
      "\u001b[1;31mNameError\u001b[0m: name 'utility_2010' is not defined"
     ]
    }
   ],
   "source": [
    "#actual 2010 data with total energy column\n",
    "utility_2010 = utility_2010.with_column(...)\n",
    "utility_2010"
   ]
  },
  {
   "cell_type": "code",
   "execution_count": null,
   "metadata": {
    "collapsed": true
   },
   "outputs": [],
   "source": [
    "#actual 2015 data with total energy column\n",
    "utility_2015 = utility_2010.with_column(...)\n",
    "utility_2015"
   ]
  },
  {
   "cell_type": "markdown",
   "metadata": {},
   "source": [
    "# Further Analysis\n",
    "\n",
    "Now we will be comparing change of volume of water between actual 2010 data vs actual 2015 data and actual 2015 data vs predicted 2015 data. By using the bargraphs, we will also visualize represent the data and analyze the difference between these observations."
   ]
  },
  {
   "cell_type": "markdown",
   "metadata": {},
   "source": [
    "Before jumping into analysis, let's get all the data tables we need for our analysis. We will be looking at the actual 2010 data, predicted 2015 data (from 2010), and actual 2015 data.\n",
    "\n"
   ]
  },
  {
   "cell_type": "markdown",
   "metadata": {},
   "source": [
    "#### Actual 2010 Data"
   ]
  },
  {
   "cell_type": "code",
   "execution_count": 23,
   "metadata": {},
   "outputs": [
    {
     "data": {
      "text/html": [
       "<table border=\"1\" class=\"dataframe\">\n",
       "    <thead>\n",
       "        <tr>\n",
       "            <th>year</th> <th>source</th> <th>target</th> <th>cumulative_volume_af</th> <th>transmission_kwh/af</th> <th>total energy in kwh</th>\n",
       "        </tr>\n",
       "    </thead>\n",
       "    <tbody>\n",
       "        <tr>\n",
       "            <td>2010</td> <td>1807057NPD</td> <td>1807057E</td> <td>1870                </td> <td>195.72             </td> <td>365996             </td>\n",
       "        </tr>\n",
       "        <tr>\n",
       "            <td>2010</td> <td>1807057PD </td> <td>1807057E</td> <td>6048                </td> <td>163.1              </td> <td>986429             </td>\n",
       "        </tr>\n",
       "    </tbody>\n",
       "</table>"
      ],
      "text/plain": [
       "year | source     | target   | cumulative_volume_af | transmission_kwh/af | total energy in kwh\n",
       "2010 | 1807057NPD | 1807057E | 1870                 | 195.72              | 365996\n",
       "2010 | 1807057PD  | 1807057E | 6048                 | 163.1               | 986429"
      ]
     },
     "execution_count": 23,
     "metadata": {},
     "output_type": "execute_result"
    }
   ],
   "source": [
    "cerritos_2010 "
   ]
  },
  {
   "cell_type": "markdown",
   "metadata": {},
   "source": [
    "#### Actual 2015 Data"
   ]
  },
  {
   "cell_type": "code",
   "execution_count": 24,
   "metadata": {},
   "outputs": [
    {
     "data": {
      "text/html": [
       "<table border=\"1\" class=\"dataframe\">\n",
       "    <thead>\n",
       "        <tr>\n",
       "            <th>year</th> <th>source</th> <th>target</th> <th>cumulative_volume_af</th> <th>transmission_kwh/af</th> <th>total energy in kwh</th>\n",
       "        </tr>\n",
       "    </thead>\n",
       "    <tbody>\n",
       "        <tr>\n",
       "            <td>2015</td> <td>1807057NPD</td> <td>1807057E</td> <td>2335                </td> <td>195.72             </td> <td>457006             </td>\n",
       "        </tr>\n",
       "        <tr>\n",
       "            <td>2015</td> <td>1807057PD </td> <td>1807057E</td> <td>8460                </td> <td>326.2              </td> <td>2.75965e+06        </td>\n",
       "        </tr>\n",
       "    </tbody>\n",
       "</table>"
      ],
      "text/plain": [
       "year | source     | target   | cumulative_volume_af | transmission_kwh/af | total energy in kwh\n",
       "2015 | 1807057NPD | 1807057E | 2335                 | 195.72              | 457006\n",
       "2015 | 1807057PD  | 1807057E | 8460                 | 326.2               | 2.75965e+06"
      ]
     },
     "execution_count": 24,
     "metadata": {},
     "output_type": "execute_result"
    }
   ],
   "source": [
    "cerritos_2015"
   ]
  },
  {
   "cell_type": "markdown",
   "metadata": {},
   "source": [
    "By setting the year column from original data table to equal to Predicted 2015, we can get the data where 2015 data were predicted in the year 2010."
   ]
  },
  {
   "cell_type": "markdown",
   "metadata": {},
   "source": [
    "#### Predicted 2015 Data"
   ]
  },
  {
   "cell_type": "code",
   "execution_count": 25,
   "metadata": {},
   "outputs": [
    {
     "data": {
      "text/html": [
       "<table border=\"1\" class=\"dataframe\">\n",
       "    <thead>\n",
       "        <tr>\n",
       "            <th>year</th> <th>source</th> <th>target</th> <th>cumulative_volume_af</th> <th>transmission_kwh/af</th> <th>total energy in kwh</th>\n",
       "        </tr>\n",
       "    </thead>\n",
       "    <tbody>\n",
       "        <tr>\n",
       "            <td>Predicted 2015</td> <td>1807057NPD</td> <td>1807057E</td> <td>2046                </td> <td>195.72             </td> <td>400443             </td>\n",
       "        </tr>\n",
       "        <tr>\n",
       "            <td>Predicted 2015</td> <td>1807057PD </td> <td>1807057E</td> <td>7410                </td> <td>163.1              </td> <td>1.20857e+06        </td>\n",
       "        </tr>\n",
       "    </tbody>\n",
       "</table>"
      ],
      "text/plain": [
       "year           | source     | target   | cumulative_volume_af | transmission_kwh/af | total energy in kwh\n",
       "Predicted 2015 | 1807057NPD | 1807057E | 2046                 | 195.72              | 400443\n",
       "Predicted 2015 | 1807057PD  | 1807057E | 7410                 | 163.1               | 1.20857e+06"
      ]
     },
     "execution_count": 25,
     "metadata": {},
     "output_type": "execute_result"
    }
   ],
   "source": [
    "#Simply run this cell\n",
    "\n",
    "data_2010_pred = data.where('year', are.equal_to('Predicted 2015'))\n",
    "cerritos_2015p = data_2010_pred.where(\"target\",are.equal_to(\"1807057E\"))\n",
    "cerritos_2015p\n",
    "\n",
    "#add the total energy column\n",
    "cerritos_2015p = cerritos_2015p.with_column('total energy in kwh', cerritos_2015p.column('cumulative_volume_af') * cerritos_2015p.column('transmission_kwh/af'))\n",
    "cerritos_2015p"
   ]
  },
  {
   "cell_type": "markdown",
   "metadata": {},
   "source": [
    "# PART I. Actual 2010 vs Actual 2015\n",
    "We will now observe the actual 2010 data and actual 2015 data to see the energy and volume difference that actually occurred betweent those five years."
   ]
  },
  {
   "cell_type": "markdown",
   "metadata": {},
   "source": [
    "### Amount of energy used in 2010 vs 2015 \n"
   ]
  },
  {
   "cell_type": "markdown",
   "metadata": {},
   "source": [
    "#### What is the total amount of energy used in 2010?\n",
    "By adding all the values in the total energy column in cerritos_2010 table, we can get the total amount of energy used in 2010 at cerritos utility.\n",
    "In order to do this we can use the `.sum()` function where you first select the column in the table by `.column` method, which returns an array of values in that column, and apply `.sum()` function that adds up all the values."
   ]
  },
  {
   "cell_type": "code",
   "execution_count": 114,
   "metadata": {},
   "outputs": [
    {
     "data": {
      "text/plain": [
       "1352425.2"
      ]
     },
     "execution_count": 114,
     "metadata": {},
     "output_type": "execute_result"
    }
   ],
   "source": [
    "actual_energy_2010 = cerritos_2010.column('total energy in kwh').sum()\n",
    "actual_energy_2010"
   ]
  },
  {
   "cell_type": "markdown",
   "metadata": {},
   "source": [
    "#### What is the total amount of energy used in 2015?"
   ]
  },
  {
   "cell_type": "code",
   "execution_count": 115,
   "metadata": {},
   "outputs": [
    {
     "data": {
      "text/plain": [
       "3216658.2000000002"
      ]
     },
     "execution_count": 115,
     "metadata": {},
     "output_type": "execute_result"
    }
   ],
   "source": [
    "actual_energy_2015 = cerritos_2015.column(\"total energy in kwh\").sum()\n",
    "actual_energy_2015"
   ]
  },
  {
   "cell_type": "markdown",
   "metadata": {},
   "source": [
    "#### What is the percent increase of energy used between 2010 and 2015?\n",
    "By subtracting the total amount of energy used between 2015 and 2010, divide by the total amount of energy in 2010, then multiply by 100, we can get the percentage increase in total amount of energy between 2010 and 2015."
   ]
  },
  {
   "cell_type": "code",
   "execution_count": 123,
   "metadata": {},
   "outputs": [
    {
     "name": "stdout",
     "output_type": "stream",
     "text": [
      "137.843704776%\n"
     ]
    }
   ],
   "source": [
    "increase = actual_energy_2015 - actual_energy_2010\n",
    "percentage_inc = increase / actual_energy_2010 * 100\n",
    "print(str(percentage_inc) + \"%\")"
   ]
  },
  {
   "cell_type": "markdown",
   "metadata": {},
   "source": [
    "WOW! notice how much total energy increased between 2010 and 2015! We can see that the total amount energy increased by about 137.8% between 2010 and 2015. What do you think caused this significant increase? "
   ]
  },
  {
   "cell_type": "markdown",
   "metadata": {},
   "source": [
    "### Cumulative volume change 2010 vs 2015 \n",
    "Now let's look at the difference of cumulative volume between 2010 and 2015. For each table, we can select the cumulative_vol_af column in each data set and add the values to get the total amount of volume transferred to the target source each year."
   ]
  },
  {
   "cell_type": "markdown",
   "metadata": {},
   "source": [
    "#### What is the total amount of water transported in 2010?"
   ]
  },
  {
   "cell_type": "code",
   "execution_count": 128,
   "metadata": {},
   "outputs": [
    {
     "data": {
      "text/plain": [
       "7918.0"
      ]
     },
     "execution_count": 128,
     "metadata": {},
     "output_type": "execute_result"
    }
   ],
   "source": [
    "volume_2010 = cerritos_2010.column(\"cumulative_volume_af\").sum()\n",
    "volume_2010"
   ]
  },
  {
   "cell_type": "markdown",
   "metadata": {},
   "source": [
    "#### What is the total amount of water transported in 2015?"
   ]
  },
  {
   "cell_type": "code",
   "execution_count": 129,
   "metadata": {},
   "outputs": [
    {
     "data": {
      "text/plain": [
       "10795.0"
      ]
     },
     "execution_count": 129,
     "metadata": {},
     "output_type": "execute_result"
    }
   ],
   "source": [
    "volume_2015 = cerritos_2015.column(\"cumulative_volume_af\").sum()\n",
    "volume_2015"
   ]
  },
  {
   "cell_type": "markdown",
   "metadata": {},
   "source": [
    "#### What is the percent increase of cumulative volume of water transported between 2010 and 2015?"
   ]
  },
  {
   "cell_type": "code",
   "execution_count": 127,
   "metadata": {},
   "outputs": [
    {
     "name": "stdout",
     "output_type": "stream",
     "text": [
      "36.3349330639%\n"
     ]
    }
   ],
   "source": [
    "difference = volume_2015 - volume_2010\n",
    "percentage_diff = difference / volume_2010 * 100\n",
    "print (str(percentage_diff) + \"%\")"
   ]
  },
  {
   "cell_type": "markdown",
   "metadata": {},
   "source": [
    "Not as much as the total energy, but the total volume of water also increased about 36.3% between 2010 and 2015."
   ]
  },
  {
   "cell_type": "markdown",
   "metadata": {},
   "source": [
    "#### Question 2: \n",
    "What actually happened in amount of energy and water between 2010 and 2015? How is it different from what was expected in 2010? What do you think caused this change?"
   ]
  },
  {
   "cell_type": "markdown",
   "metadata": {},
   "source": [
    "TYPE YOUR ANSWER"
   ]
  },
  {
   "cell_type": "markdown",
   "metadata": {},
   "source": [
    "# PART II. 2015 predicted vs 2015 actual\n",
    "We will now compare the 2015 predicted data and 2015 actual data."
   ]
  },
  {
   "cell_type": "markdown",
   "metadata": {},
   "source": [
    "### Amount of energy used in 2015 predicted vs 2015 actual\n",
    "\n"
   ]
  },
  {
   "cell_type": "markdown",
   "metadata": {},
   "source": [
    "#### What is the total amount of energy predicted to be used in 2015?"
   ]
  },
  {
   "cell_type": "code",
   "execution_count": 132,
   "metadata": {},
   "outputs": [
    {
     "data": {
      "text/plain": [
       "1609014.1200000001"
      ]
     },
     "execution_count": 132,
     "metadata": {},
     "output_type": "execute_result"
    }
   ],
   "source": [
    "actual_energy_2015p = cerritos_2015p.column(\"total energy in kwh\").sum()\n",
    "actual_energy_2015p"
   ]
  },
  {
   "cell_type": "markdown",
   "metadata": {},
   "source": [
    "#### What is the total amount of energy used in 2015?"
   ]
  },
  {
   "cell_type": "code",
   "execution_count": 131,
   "metadata": {},
   "outputs": [
    {
     "data": {
      "text/plain": [
       "3216658.2000000002"
      ]
     },
     "execution_count": 131,
     "metadata": {},
     "output_type": "execute_result"
    }
   ],
   "source": [
    "actual_energy_2015"
   ]
  },
  {
   "cell_type": "markdown",
   "metadata": {},
   "source": [
    "#### What is the difference of energy usage between 2015 predicted and 2015 actual?\n",
    "By subtracting the amount of total energy predicted for 2015 from the actual total energy in 2015, we can see the difference between the two values"
   ]
  },
  {
   "cell_type": "code",
   "execution_count": 133,
   "metadata": {},
   "outputs": [
    {
     "data": {
      "text/plain": [
       "1607644.0800000001"
      ]
     },
     "execution_count": 133,
     "metadata": {},
     "output_type": "execute_result"
    }
   ],
   "source": [
    "diff = actual_energy_2015 - actual_energy_2015p\n",
    "diff"
   ]
  },
  {
   "cell_type": "markdown",
   "metadata": {},
   "source": [
    "Notice how in 2015, about 1607644.08 kwh of energy was required more than predicted than predicted from year 2010."
   ]
  },
  {
   "cell_type": "markdown",
   "metadata": {},
   "source": [
    "###  Cumulative volume in 2015 projection vs 2015 actual\n"
   ]
  },
  {
   "cell_type": "markdown",
   "metadata": {},
   "source": [
    "#### What is the total amount of water predicted to be transported in 2010?"
   ]
  },
  {
   "cell_type": "code",
   "execution_count": 151,
   "metadata": {},
   "outputs": [
    {
     "data": {
      "text/plain": [
       "9456.0"
      ]
     },
     "execution_count": 151,
     "metadata": {},
     "output_type": "execute_result"
    }
   ],
   "source": [
    "volume_2015p"
   ]
  },
  {
   "cell_type": "markdown",
   "metadata": {},
   "source": [
    "#### What is the total amount of water transported in 2015?"
   ]
  },
  {
   "cell_type": "code",
   "execution_count": 152,
   "metadata": {},
   "outputs": [
    {
     "data": {
      "text/plain": [
       "10795.0"
      ]
     },
     "execution_count": 152,
     "metadata": {},
     "output_type": "execute_result"
    }
   ],
   "source": [
    "volume_2015"
   ]
  },
  {
   "cell_type": "markdown",
   "metadata": {},
   "source": [
    "#### What is the difference of volume of water transported between 2015 predicted and 2015 actual?"
   ]
  },
  {
   "cell_type": "code",
   "execution_count": 154,
   "metadata": {},
   "outputs": [
    {
     "data": {
      "text/plain": [
       "1339.0"
      ]
     },
     "execution_count": 154,
     "metadata": {},
     "output_type": "execute_result"
    }
   ],
   "source": [
    "diff_v = volume_2015 - volume_2015p\n",
    "diff_v"
   ]
  },
  {
   "cell_type": "markdown",
   "metadata": {},
   "source": [
    "Notice that the volume tranposrted in 2015 was greater than the expected amount of volume in 2015. "
   ]
  },
  {
   "cell_type": "markdown",
   "metadata": {},
   "source": [
    "## Visualizing Differences </div>\n",
    "\n",
    "It's difficult to effectively compare all of these numbers separately. Let's make a **barplot** here to visualize the magnitude of these differences! In particular, we want to understand how energy use in 2015 compares to energy use in 2010 *as well as* how much energy was predicted to be used in 2015.</div>\n",
    "\n",
    "The code block below creates this bar plot. Don't worry too much about how the plot is made: for now, simply run the cell. </div>"
   ]
  },
  {
   "cell_type": "code",
   "execution_count": 158,
   "metadata": {},
   "outputs": [
    {
     "data": {
      "image/png": "[encoded data removed]",
      "text/plain": [
       "<matplotlib.figure.Figure at 0x1a17ef9860>"
      ]
     },
     "metadata": {},
     "output_type": "display_data"
    },
    {
     "data": {
      "image/png": "[encoded data removed]",
      "text/plain": [
       "<matplotlib.figure.Figure at 0x1a170403c8>"
      ]
     },
     "metadata": {},
     "output_type": "display_data"
    }
   ],
   "source": [
    "#graph showing total amount of energy used in actual 2010, predicted 2015, and actual 2015\n",
    "energy_comb = Table().with_columns('year', np.array(['actual 2010', 'predicted 2015','actual 2015']),\n",
    "                   'values', np.array([actual_energy_2010/(10**6),projection_energy_2015/(10**6),actual_energy_2015/(10**6)]))\n",
    "energy_bar = energy_comb.bar('year')\n",
    "plt.title(\"Energy Difference Between Actual 2010, Predicted 2015 And Actual 2015\")\n",
    "plt.ylabel('Values (1e6) kwh');\n",
    "plt.xticks(np.arange(3),['actual 2010', 'predicted 2015','actual 2015'],rotation=0)\n",
    "energy_bar;\n",
    "\n",
    "#graph showing total amount of water transported in actual 2010, predicted 2015, and actual 2015\n",
    "volume_comb = Table().with_columns('year', np.array(['actual 2010', 'predicted 2015','actual 2015']),\n",
    "                   'values', np.array([volume_2010, volume_2015p, volume_2015]))\n",
    "volume_bar = volume_comb.bar('year')\n",
    "plt.title(\"Volume Difference Between Actual 2010, Predicted 2015 And Actual 2015\")\n",
    "plt.ylabel('Values');\n",
    "plt.xticks(np.arange(3),['actual 2010', 'predicted 2015','actual 2015'],rotation=0)\n",
    "volume_bar;"
   ]
  },
  {
   "cell_type": "markdown",
   "metadata": {},
   "source": [
    "In the two bar graphs plotted above, we can see that in 2015, the actual energy used was significantly higher than the predicted 2015 total energy. The total amount of volume in actual 2015 was also higher than predicted 2015 value, but it was not as significant as the total amount of energy. From these two graphs, we can analyze that because of the drought, in year 2015, Cerritos utility needed more amount of water than they expected in 2015. Consequently, they transported amount of water from the sources and this unexpected transportation energy caused high increase in transportation energy during the irrigation process."
   ]
  },
  {
   "cell_type": "markdown",
   "metadata": {},
   "source": [
    "## Discussion Questions"
   ]
  },
  {
   "cell_type": "markdown",
   "metadata": {
    "collapsed": true
   },
   "source": [
    "##### What do you think caused a significant increase in usage of energy and volume of water between 2010 and 2015?"
   ]
  },
  {
   "cell_type": "markdown",
   "metadata": {
    "collapsed": true
   },
   "source": [
    "TYPE YOUR ANSWER"
   ]
  },
  {
   "cell_type": "markdown",
   "metadata": {},
   "source": [
    "##### What are the differences you can find between actual 2015 data and predicted 2015 data?"
   ]
  },
  {
   "cell_type": "markdown",
   "metadata": {
    "collapsed": true
   },
   "source": [
    "TYPE YOUR ANSWER"
   ]
  },
  {
   "cell_type": "markdown",
   "metadata": {},
   "source": [
    "##### Can you connect information found through the energy flow chart and the analysis done with Cerritos Water Utility?"
   ]
  },
  {
   "cell_type": "markdown",
   "metadata": {
    "collapsed": true
   },
   "source": [
    "TYPE YOUR ANSWER"
   ]
  },
  {
   "cell_type": "markdown",
   "metadata": {},
   "source": [
    "### <div style = \"color:green\"> IMPORTANT: Provide your Analysis! What should the students be noticing? What is the point of all of this analysis? Why are we seeing what we are seeing? Explain the impact of drought on these numbers.</div>"
   ]
  },
  {
   "cell_type": "markdown",
   "metadata": {},
   "source": [
    "# PART IV. Can you do your own?"
   ]
  },
  {
   "cell_type": "markdown",
   "metadata": {},
   "source": [
    "### Let's try to analyze your own utility!"
   ]
  },
  {
   "cell_type": "markdown",
   "metadata": {},
   "source": [
    "To make the process easier, let's reload the data tables for your own utility in actual 2010, predicted 2015 and actual 2015 that you found above!"
   ]
  },
  {
   "cell_type": "code",
   "execution_count": null,
   "metadata": {
    "collapsed": true
   },
   "outputs": [],
   "source": [
    "utility_2010"
   ]
  },
  {
   "cell_type": "code",
   "execution_count": null,
   "metadata": {
    "collapsed": true
   },
   "outputs": [],
   "source": [
    "utility_2015"
   ]
  },
  {
   "cell_type": "markdown",
   "metadata": {},
   "source": [
    "Similar to what you did above, in order to extract the predicted 2015 data table, first choose set the year column in original data table to equal to predicted 2015. Then set the target column to the utility code to get the predicted 2015 table for your own utility. Finally, add the total energy column by multiplying the cumulative_vol_af colume and transmission_kwh/af colume."
   ]
  },
  {
   "cell_type": "code",
   "execution_count": null,
   "metadata": {
    "collapsed": true
   },
   "outputs": [],
   "source": [
    "data_2015_pred = data.where('year', are.equal_to('Predicted 2015'))\n",
    "utility_2015p = data_2015_pred.where(...)\n",
    "utility_2015p\n",
    "\n",
    "#add the total energy column\n",
    "cerritos_2015p = utility_2015p.with_column(...)\n",
    "cerritos_2015p"
   ]
  },
  {
   "cell_type": "markdown",
   "metadata": {},
   "source": [
    "# Actual 2010 vs Actual 2015 "
   ]
  },
  {
   "cell_type": "markdown",
   "metadata": {},
   "source": [
    "### Amount of energy used in 2010 vs 2015 \n",
    "\n"
   ]
  },
  {
   "cell_type": "markdown",
   "metadata": {},
   "source": [
    "#### What is the total amount of energy used in 2010?"
   ]
  },
  {
   "cell_type": "code",
   "execution_count": null,
   "metadata": {
    "collapsed": true
   },
   "outputs": [],
   "source": [
    "energy_2010 = ...\n",
    "energy_2010"
   ]
  },
  {
   "cell_type": "markdown",
   "metadata": {},
   "source": [
    "#### What is the total amount of energy used in 2015?"
   ]
  },
  {
   "cell_type": "code",
   "execution_count": null,
   "metadata": {
    "collapsed": true
   },
   "outputs": [],
   "source": [
    "energy_2015 = ...\n",
    "energy_2015"
   ]
  },
  {
   "cell_type": "markdown",
   "metadata": {},
   "source": [
    "#### What is the percent increase of energy used between 2010 and 2015?"
   ]
  },
  {
   "cell_type": "code",
   "execution_count": null,
   "metadata": {
    "collapsed": true
   },
   "outputs": [],
   "source": [
    "increase = ...\n",
    "percentage_inc = ...\n",
    "percentage_inc"
   ]
  },
  {
   "cell_type": "markdown",
   "metadata": {},
   "source": [
    "### Cumulative volume change 2010 vs 2015 "
   ]
  },
  {
   "cell_type": "markdown",
   "metadata": {},
   "source": [
    "#### What is the total amount of water transported in 2010?"
   ]
  },
  {
   "cell_type": "code",
   "execution_count": null,
   "metadata": {
    "collapsed": true
   },
   "outputs": [],
   "source": [
    "volume_2010_utility = ...\n",
    "volume_2010_utility"
   ]
  },
  {
   "cell_type": "markdown",
   "metadata": {},
   "source": [
    "#### What is the total amount of water transported in 2015?"
   ]
  },
  {
   "cell_type": "code",
   "execution_count": null,
   "metadata": {
    "collapsed": true
   },
   "outputs": [],
   "source": [
    "volume_2015_utility = ...\n",
    "volume_2015_utility"
   ]
  },
  {
   "cell_type": "markdown",
   "metadata": {},
   "source": [
    "#### What is the percent increase of cumulative volume of water transported between 2010 and 2015?"
   ]
  },
  {
   "cell_type": "code",
   "execution_count": null,
   "metadata": {
    "collapsed": true
   },
   "outputs": [],
   "source": [
    "decrease = ...\n",
    "percentage_dec = ...\n",
    "percentage_dec"
   ]
  },
  {
   "cell_type": "markdown",
   "metadata": {},
   "source": [
    "#### Question:\n",
    "What actually happened in change of energy and water volume between 2010 and 2015? How is it different from the prediction?"
   ]
  },
  {
   "cell_type": "markdown",
   "metadata": {},
   "source": [
    "TYPE YOUR ANSWER"
   ]
  },
  {
   "cell_type": "markdown",
   "metadata": {},
   "source": [
    "# 2015 projection vs 2015 actual"
   ]
  },
  {
   "cell_type": "markdown",
   "metadata": {},
   "source": [
    "### Amount of energy used in 2015 predicted vs 2015  actual\n",
    "\n"
   ]
  },
  {
   "cell_type": "markdown",
   "metadata": {},
   "source": [
    "#### What is the total amount of energy predicted to be used in 2015?"
   ]
  },
  {
   "cell_type": "code",
   "execution_count": null,
   "metadata": {
    "collapsed": true
   },
   "outputs": [],
   "source": [
    "energy_2015p = ...\n",
    "projection"
   ]
  },
  {
   "cell_type": "markdown",
   "metadata": {},
   "source": [
    "#### What is the total amount of energy used in 2015?"
   ]
  },
  {
   "cell_type": "markdown",
   "metadata": {},
   "source": [
    "You have already defined the total amount of energy used in 2015 in few cells above! Just use energy_2015 for a recap!"
   ]
  },
  {
   "cell_type": "code",
   "execution_count": 157,
   "metadata": {},
   "outputs": [],
   "source": [
    "energy_2015"
   ]
  },
  {
   "cell_type": "markdown",
   "metadata": {},
   "source": [
    "#### What is the difference of energy usage between 2015 predicted and 2015 actual?"
   ]
  },
  {
   "cell_type": "code",
   "execution_count": null,
   "metadata": {
    "collapsed": true
   },
   "outputs": [],
   "source": [
    "diff = ...\n",
    "diff"
   ]
  },
  {
   "cell_type": "markdown",
   "metadata": {},
   "source": [
    "###  Cumulative volume in 2015 projection vs 2015 actual"
   ]
  },
  {
   "cell_type": "markdown",
   "metadata": {},
   "source": [
    "#### What is the total amount of water predicted to be transported in 2010?"
   ]
  },
  {
   "cell_type": "code",
   "execution_count": null,
   "metadata": {
    "collapsed": true
   },
   "outputs": [],
   "source": [
    "volume_2015p_utility = ...\n",
    "volume_2015p_utility"
   ]
  },
  {
   "cell_type": "markdown",
   "metadata": {},
   "source": [
    "#### What is the total amount of water transported in 2015?"
   ]
  },
  {
   "cell_type": "code",
   "execution_count": null,
   "metadata": {
    "collapsed": true
   },
   "outputs": [],
   "source": [
    "volume_2015_utility = ...\n",
    "volume_2015_utility"
   ]
  },
  {
   "cell_type": "markdown",
   "metadata": {},
   "source": [
    "#### What is the difference of volume of water transported between 2015 predicted and 2015 actual?"
   ]
  },
  {
   "cell_type": "code",
   "execution_count": 69,
   "metadata": {
    "collapsed": true
   },
   "outputs": [],
   "source": [
    "diff_v = ...\n",
    "diff_v"
   ]
  },
  {
   "cell_type": "markdown",
   "metadata": {},
   "source": [
    "# Graphs\n",
    "Can you create visualization for difference in energy and water volume for your utility to show how the prediction for 2015 from actual 2015 data?\n",
    "Fill in the `...` next to `energy_bar1` and `volume_bar1` to create a bar graph for the table that is created from the values that you have calculated above!"
   ]
  },
  {
   "cell_type": "markdown",
   "metadata": {},
   "source": [
    "### Graph for the energy differences"
   ]
  },
  {
   "cell_type": "code",
   "execution_count": null,
   "metadata": {
    "collapsed": true
   },
   "outputs": [],
   "source": [
    "#graph showing total amount of energy used in actual 2010, predicted 2015, and actual 2015\n",
    "energy_comb1 = Table().with_columns('year', np.array(['actual 2010', 'predicted 2015','actual 2015']),\n",
    "                   'values', np.array([energy_2010/(10**6),energy_2015p/(10**6),energy_2015/(10**6)]))\n",
    "energy_bar1 = ...\n",
    "plt.title(\"Energy Difference Between Actual 2010, Predicted 2015 And Actual 2015\")\n",
    "plt.ylabel('Values (1e6) kwh');\n",
    "plt.xticks(np.arange(3),['actual 2010', 'predicted 2015','actual 2015'],rotation=0)\n",
    "energy_bar;\n",
    "\n",
    "#graph showing total amount of water transported in actual 2010, predicted 2015, and actual 2015\n",
    "volume_comb1 = Table().with_columns('year', np.array(['actual 2010', 'predicted 2015','actual 2015']),\n",
    "                   'values', np.array([volume_2010_utility, volume_2015p_utility, volume_2015_utility]))\n",
    "volume_bar1 = ...\n",
    "plt.title(\"Volume Difference Between Actual 2010, Predicted 2015 And Actual 2015\")\n",
    "plt.ylabel('Values');\n",
    "plt.xticks(np.arange(3),['actual 2010', 'predicted 2015','actual 2015'],rotation=0)\n",
    "volume_bar;"
   ]
  },
  {
   "cell_type": "markdown",
   "metadata": {},
   "source": [
    "# PART V. Big Data: All the Utilities in the United States"
   ]
  },
  {
   "cell_type": "markdown",
   "metadata": {},
   "source": [
    "We have created a new table called test which contains both 2010 and 2015 data for all the utilities in the United States. From this data we will find a ratio between the total amount of energy consumed and the total amount of water trasnported to see the relationship between energy and water among actual 2010, actual 2015, and predicted 2015 data."
   ]
  },
  {
   "cell_type": "code",
   "execution_count": 25,
   "metadata": {},
   "outputs": [
    {
     "data": {
      "text/html": [
       "<table border=\"1\" class=\"dataframe\">\n",
       "    <thead>\n",
       "        <tr>\n",
       "            <th>year</th> <th>data_year sum</th> <th>source sum</th> <th>target sum</th> <th>cumulative_volume_af sum</th> <th>transmission_kwh/af sum</th> <th>treatment_kwh/af sum</th> <th>used_vol_af sum</th> <th>Total Energy sum</th>\n",
       "        </tr>\n",
       "    </thead>\n",
       "    <tbody>\n",
       "        <tr>\n",
       "            <td>2010          </td> <td>1041180      </td> <td>          </td> <td>          </td> <td>6.64069e+06             </td> <td>87234.8                </td> <td>0                   </td> <td>6.53952e+06    </td> <td>1.10632e+09     </td>\n",
       "        </tr>\n",
       "        <tr>\n",
       "            <td>2015          </td> <td>745550       </td> <td>          </td> <td>          </td> <td>4.3739e+06              </td> <td>162506                 </td> <td>0                   </td> <td>4.3739e+06     </td> <td>2.70958e+09     </td>\n",
       "        </tr>\n",
       "        <tr>\n",
       "            <td>Predicted 2015</td> <td>1115550      </td> <td>          </td> <td>          </td> <td>8.03714e+06             </td> <td>94854.8                </td> <td>0                   </td> <td>7.93035e+06    </td> <td>1.33226e+09     </td>\n",
       "        </tr>\n",
       "    </tbody>\n",
       "</table>"
      ],
      "text/plain": [
       "year           | data_year sum | source sum | target sum | cumulative_volume_af sum | transmission_kwh/af sum | treatment_kwh/af sum | used_vol_af sum | Total Energy sum\n",
       "2010           | 1041180       |            |            | 6.64069e+06              | 87234.8                 | 0                    | 6.53952e+06     | 1.10632e+09\n",
       "2015           | 745550        |            |            | 4.3739e+06               | 162506                  | 0                    | 4.3739e+06      | 2.70958e+09\n",
       "Predicted 2015 | 1115550       |            |            | 8.03714e+06              | 94854.8                 | 0                    | 7.93035e+06     | 1.33226e+09"
      ]
     },
     "execution_count": 25,
     "metadata": {},
     "output_type": "execute_result"
    }
   ],
   "source": [
    "#import the table which has 2010 and 2015 data\n",
    "test = Table().read_table('network.csv')\n",
    "\n",
    "#multiply the cumulative_volume_af column and transmission_kwh/af column to calculate the total energy\n",
    "test = test.with_column('Total Energy', test.column('cumulative_volume_af')*test.column(\"transmission_kwh/af\"))\n",
    "\n",
    "#Group by the year column to collect cumulative data for actual 2010, actual 2015, and predicted 2015 data.\n",
    "test_group = test.group('year', sum)\n",
    "test_group"
   ]
  },
  {
   "cell_type": "markdown",
   "metadata": {},
   "source": [
    "Divide the Total Energy sum column by the transmission_kwh/af sum column to calculate the ratio between energy and water.\n",
    "\n"
   ]
  },
  {
   "cell_type": "code",
   "execution_count": 26,
   "metadata": {},
   "outputs": [
    {
     "data": {
      "text/html": [
       "<table border=\"1\" class=\"dataframe\">\n",
       "    <thead>\n",
       "        <tr>\n",
       "            <th>year</th> <th>data_year sum</th> <th>source sum</th> <th>target sum</th> <th>cumulative_volume_af sum</th> <th>transmission_kwh/af sum</th> <th>treatment_kwh/af sum</th> <th>used_vol_af sum</th> <th>Total Energy sum</th> <th>energy per volume</th>\n",
       "        </tr>\n",
       "    </thead>\n",
       "    <tbody>\n",
       "        <tr>\n",
       "            <td>2010          </td> <td>1041180      </td> <td>          </td> <td>          </td> <td>6.64069e+06             </td> <td>87234.8                </td> <td>0                   </td> <td>6.53952e+06    </td> <td>1.10632e+09     </td> <td>166.598          </td>\n",
       "        </tr>\n",
       "        <tr>\n",
       "            <td>2015          </td> <td>745550       </td> <td>          </td> <td>          </td> <td>4.3739e+06              </td> <td>162506                 </td> <td>0                   </td> <td>4.3739e+06     </td> <td>2.70958e+09     </td> <td>619.489          </td>\n",
       "        </tr>\n",
       "        <tr>\n",
       "            <td>Predicted 2015</td> <td>1115550      </td> <td>          </td> <td>          </td> <td>8.03714e+06             </td> <td>94854.8                </td> <td>0                   </td> <td>7.93035e+06    </td> <td>1.33226e+09     </td> <td>165.763          </td>\n",
       "        </tr>\n",
       "    </tbody>\n",
       "</table>"
      ],
      "text/plain": [
       "year           | data_year sum | source sum | target sum | cumulative_volume_af sum | transmission_kwh/af sum | treatment_kwh/af sum | used_vol_af sum | Total Energy sum | energy per volume\n",
       "2010           | 1041180       |            |            | 6.64069e+06              | 87234.8                 | 0                    | 6.53952e+06     | 1.10632e+09      | 166.598\n",
       "2015           | 745550        |            |            | 4.3739e+06               | 162506                  | 0                    | 4.3739e+06      | 2.70958e+09      | 619.489\n",
       "Predicted 2015 | 1115550       |            |            | 8.03714e+06              | 94854.8                 | 0                    | 7.93035e+06     | 1.33226e+09      | 165.763"
      ]
     },
     "execution_count": 26,
     "metadata": {},
     "output_type": "execute_result"
    }
   ],
   "source": [
    "#Ratio\n",
    "ratios = test_group.column('Total Energy sum') / test_group.column('cumulative_volume_af sum')\n",
    "test_group = test_group.with_column('energy per volume', ratios)\n",
    "test_group"
   ]
  },
  {
   "cell_type": "markdown",
   "metadata": {},
   "source": [
    "From the ratio found by dividing total amount of energy used by the total volume of water, we can see that the ratio was significantly higher for 2015. In 2010, California consumed 1.10632 Billion kwh (kilowatt per hour) of energy to transport 6.64069 Million (units) of water. The amount of water transported in 2015 was predicted at that time to increase, so the total energy consumed was also predicted to increase by a small amount. However, the data shows that in 2015, the amount of water transported actually reduced to 4.3739 Million (units) of water, but the total energy expended increased significantly to 2.70958 Billion kwh, which is much higher than the predicted increase in energy (which also predicted that water transports would increase).\n",
    "\n",
    "#### How did this happen? What do you think caused this change? \n",
    "\n"
   ]
  },
  {
   "cell_type": "markdown",
   "metadata": {},
   "source": [
    "TYPE YOUR ANSWER"
   ]
  },
  {
   "cell_type": "markdown",
   "metadata": {},
   "source": [
    "#### How does the cumulative data compare to your own utility? Did your utility have a similar trend as the cumulative data?"
   ]
  },
  {
   "cell_type": "markdown",
   "metadata": {},
   "source": [
    "TYPE YOUR ANSWER"
   ]
  },
  {
   "cell_type": "markdown",
   "metadata": {},
   "source": [
    "# DONE\n",
    "You are now done! "
   ]
  },
  {
   "cell_type": "code",
   "execution_count": null,
   "metadata": {
    "collapsed": true
   },
   "outputs": [],
   "source": []
  }
 ],
 "metadata": {
  "kernelspec": {
   "display_name": "Python 3",
   "language": "python",
   "name": "python3"
  },
  "language_info": {
   "codemirror_mode": {
    "name": "ipython",
    "version": 3
   },
   "file_extension": ".py",
   "mimetype": "text/x-python",
   "name": "python",
   "nbconvert_exporter": "python",
   "pygments_lexer": "ipython3",
   "version": "3.6.5"
  }
 },
 "nbformat": 4,
 "nbformat_minor": 2
}
