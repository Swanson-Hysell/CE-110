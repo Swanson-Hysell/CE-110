{
 "cells": [
  {
   "cell_type": "markdown",
   "metadata": {},
   "source": [
    "# Outline of Lab:\n",
    "\n",
    "### 1. Introduction: Transition from Sankey\n",
    " - \"You've now *visualized* the water transmission between and analyzed acquired an intuition as to why you saw the change that you saw. Now you'll look at this data in barplots alongside with energy transmission data and analyze the ratio of energy consumption to the volume of transported water...\"\n",
    "\n",
    "### 2. Introduce data\n",
    "- <div style = \"color: orange\">**NOTE:** I made a new csv so students don't have to worrya bout 2010 and 2015 data being separate, combining them together, and then filtering out uncessary water targets and years. The new csv is called `network.csv`</div>\n",
    "- Take a moment to explain the data. What do the columns mean? Do we need any more columns? What does \"source\" and \"target\" mean? What to the \"year\" columns mean?\n",
    "    - create the new \"Total Energy\" column here!\n",
    "- *Note*: Intro notebook MUST cover `.where()` and `.group()` functions thoroughly.\n",
    "\n",
    "### 3. Analysis Example!\n",
    "- Conduct example analysis on Cerrito utility. Make sure to **explain** what you're doing and why: what will the students take away from this analysis? Ask discussion questions to make sure students are following, and **provide your own interpretation**.\n",
    "- As a part of the analysis, plot a bargraph with 2010, predicted 2015 and actual 2015 data.\n",
    "- *Note:* Make sure to interpret the graph at some point. Students will be looking to see an example of how you analyze the graph to do it themselves.\n",
    "- Finally, compare and **discuss** the total energy to cumulative water volume ratio between 2010, predicted 2015\n",
    "\n",
    "### 4. Students try their own utility!\n",
    "- provide some skeleton code, have students produce the same bar graphs & look at energy to water ratio, write down their interpretation, answer discussion questions.\n",
    "\n",
    "### 5. Big Picture: what did this look like overall across California?\n",
    "- Use all utilities to conduct the same analysis\n",
    "- discuss effect of drought, ratio\n",
    "- Discussion questions, ask if students' utilities experiences the same trend.\n",
    "\n",
    "### 6. Conclusion:\n",
    "- Peer consulting (resource)\n",
    "- Survey"
   ]
  },
  {
   "cell_type": "code",
   "execution_count": 1,
   "metadata": {
    "collapsed": true
   },
   "outputs": [],
   "source": [
    "from datascience import *\n",
    "import numpy as np\n",
    "import matplotlib.pyplot as plt\n",
    "import pandas as pd\n",
    "%matplotlib inline"
   ]
  },
  {
   "cell_type": "markdown",
   "metadata": {},
   "source": [
    "Now you have visualized the utility network as well as water flor from immediate sources, we will analyze differences between years in energy consumption. We will be looking at the actual 2010 data, actual 2015 data, and the 2015 data predicted in 2010."
   ]
  },
  {
   "cell_type": "markdown",
   "metadata": {},
   "source": [
    "# Making class data\n",
    "\n",
    "@Mina: you don't need to run this section. I just wanted to leave this here in case you were wondering how I made the class data or I need to revisit this at some point down the line."
   ]
  },
  {
   "cell_type": "code",
   "execution_count": 73,
   "metadata": {
    "collapsed": true
   },
   "outputs": [],
   "source": [
    "data2010 = pd.read_csv('network2010.csv')\n",
    "data2015 = pd.read_csv('network2015.csv')\n",
    "data = data2010.append(data2015)"
   ]
  },
  {
   "cell_type": "markdown",
   "metadata": {},
   "source": [
    "We're only interested in water **utilities** as targets, so we want to filter the data to only include water utilities in the target column. We can make a list of unique utilities by the following code."
   ]
  },
  {
   "cell_type": "code",
   "execution_count": 81,
   "metadata": {
    "collapsed": true
   },
   "outputs": [],
   "source": [
    "utilities = [utility for utility in data2010['target'].unique() if \"E\" == utility[-1]]"
   ]
  },
  {
   "cell_type": "code",
   "execution_count": 82,
   "metadata": {
    "collapsed": true
   },
   "outputs": [],
   "source": [
    "util_data = data[data['target'].isin(utilities)]\n",
    "util_data = util_data[util_data['year'].isin([2010, 2015])]"
   ]
  },
  {
   "cell_type": "code",
   "execution_count": 96,
   "metadata": {},
   "outputs": [
    {
     "name": "stderr",
     "output_type": "stream",
     "text": [
      "C:\\Users\\keiko\\Anaconda3\\envs\\discovery\\lib\\site-packages\\ipykernel_launcher.py:3: SettingWithCopyWarning: \n",
      "A value is trying to be set on a copy of a slice from a DataFrame.\n",
      "Try using .loc[row_indexer,col_indexer] = value instead\n",
      "\n",
      "See the caveats in the documentation: http://pandas.pydata.org/pandas-docs/stable/indexing.html#indexing-view-versus-copy\n",
      "  This is separate from the ipykernel package so we can avoid doing imports until\n"
     ]
    }
   ],
   "source": [
    "predicted = util_data[(util_data['data_year'] == 2010) & (util_data['year'] == 2015)]\n",
    "actual_data = util_data[(util_data['data_year'] == 2015) | (util_data['year'] == 2010)]\n",
    "predicted['year'] = np.repeat(\"Predicted 2015\", len(predicted))\n",
    "actual_data['year'] = actual_data['year'].apply(str)"
   ]
  },
  {
   "cell_type": "code",
   "execution_count": 78,
   "metadata": {
    "collapsed": true
   },
   "outputs": [],
   "source": [
    "# util_data.to_csv('network.csv', index = False)"
   ]
  },
  {
   "cell_type": "markdown",
   "metadata": {},
   "source": [
    "---\n",
    "\n",
    "# ***Big Picture: Using datascience package"
   ]
  },
  {
   "cell_type": "code",
   "execution_count": 119,
   "metadata": {},
   "outputs": [
    {
     "data": {
      "text/html": [
       "<table border=\"1\" class=\"dataframe\">\n",
       "    <thead>\n",
       "        <tr>\n",
       "            <th>year</th> <th>data_year sum</th> <th>source sum</th> <th>target sum</th> <th>cumulative_volume_af sum</th> <th>transmission_kwh/af sum</th> <th>treatment_kwh/af sum</th> <th>used_vol_af sum</th> <th>Total Energy sum</th>\n",
       "        </tr>\n",
       "    </thead>\n",
       "    <tbody>\n",
       "        <tr>\n",
       "            <td>2010          </td> <td>1041180      </td> <td>          </td> <td>          </td> <td>6.64069e+06             </td> <td>87234.8                </td> <td>0                   </td> <td>6.53952e+06    </td> <td>1.10632e+09     </td>\n",
       "        </tr>\n",
       "        <tr>\n",
       "            <td>2015          </td> <td>745550       </td> <td>          </td> <td>          </td> <td>4.3739e+06              </td> <td>162506                 </td> <td>0                   </td> <td>4.3739e+06     </td> <td>2.70958e+09     </td>\n",
       "        </tr>\n",
       "        <tr>\n",
       "            <td>Predicted 2015</td> <td>1115550      </td> <td>          </td> <td>          </td> <td>8.03714e+06             </td> <td>94854.8                </td> <td>0                   </td> <td>7.93035e+06    </td> <td>1.33226e+09     </td>\n",
       "        </tr>\n",
       "    </tbody>\n",
       "</table>"
      ],
      "text/plain": [
       "year           | data_year sum | source sum | target sum | cumulative_volume_af sum | transmission_kwh/af sum | treatment_kwh/af sum | used_vol_af sum | Total Energy sum\n",
       "2010           | 1041180       |            |            | 6.64069e+06              | 87234.8                 | 0                    | 6.53952e+06     | 1.10632e+09\n",
       "2015           | 745550        |            |            | 4.3739e+06               | 162506                  | 0                    | 4.3739e+06      | 2.70958e+09\n",
       "Predicted 2015 | 1115550       |            |            | 8.03714e+06              | 94854.8                 | 0                    | 7.93035e+06     | 1.33226e+09"
      ]
     },
     "execution_count": 119,
     "metadata": {},
     "output_type": "execute_result"
    }
   ],
   "source": [
    "test = test.with_column('Total Energy', test.column('cumulative_volume_af')*test.column(\"transmission_kwh/af\"))\n",
    "test_group = test.group('year', sum)\n",
    "test_group"
   ]
  },
  {
   "cell_type": "code",
   "execution_count": 120,
   "metadata": {},
   "outputs": [
    {
     "data": {
      "text/plain": [
       "array([166.5977634 , 619.48860525, 165.76336398])"
      ]
     },
     "execution_count": 120,
     "metadata": {},
     "output_type": "execute_result"
    }
   ],
   "source": [
    "# Ratios!\n",
    "test_group.column('Total Energy sum') / test_group.column('cumulative_volume_af sum')"
   ]
  },
  {
   "cell_type": "markdown",
   "metadata": {},
   "source": [
    "### Analysis of the above:\n",
    "\n",
    "In 2010, California consumed 1.10632 Billion kwh (kilowatt per hour?) of energy to transport 6.64069 Million (units) of water. The amount of water transported in 2015 was predicted at that time to increase, so the total energy consumed was also predicted to increase by a small amount. However, if you look at what actually happened in 2015, the amount of water transported actually reduced to 4.3739 Million (units) of water, but the total energy expended increased significantly to 2.70958 Billion kwh, which is much, much higher than the predicted increase in energy (which also predicted that water transports would increase).\n",
    "\n",
    "How could this be?\n",
    "\n",
    "etc.\n",
    "\n",
    "\n",
    "---"
   ]
  },
  {
   "cell_type": "markdown",
   "metadata": {},
   "source": [
    "# Functions Used In This Lab\n",
    "`tablename['colume name']` : Returns a column of a table with that name.\n",
    "\n",
    "\n",
    "`numpy.where(condition[, x, y])` : Return elements chosen from x or y depending on condition.\n",
    "\n",
    "\n",
    "`numpy.sort(a, axis=-1, kind='quicksort', order=None)[source]` : Return a sorted copy of an array.\n",
    "\n",
    "\n",
    "`numpy.append(arr, values, axis=None)[source]` : Append values to the end of an array."
   ]
  },
  {
   "cell_type": "markdown",
   "metadata": {},
   "source": [
    "## Extract 2010 data and 2015 data"
   ]
  },
  {
   "cell_type": "markdown",
   "metadata": {},
   "source": [
    "### 2010 Data"
   ]
  },
  {
   "cell_type": "code",
   "execution_count": 2,
   "metadata": {
    "scrolled": true
   },
   "outputs": [
    {
     "data": {
      "text/html": [
       "<table border=\"1\" class=\"dataframe\">\n",
       "    <thead>\n",
       "        <tr>\n",
       "            <th>year</th> <th>data_year</th> <th>source</th> <th>target</th> <th>cumulative_volume_af</th> <th>transmission_kwh/af</th> <th>treatment_kwh/af</th> <th>used_vol_af</th>\n",
       "        </tr>\n",
       "    </thead>\n",
       "    <tbody>\n",
       "        <tr>\n",
       "            <td>2010</td> <td>2010     </td> <td>1801001PD</td> <td>1801001E </td> <td>1624                </td> <td>163.1              </td> <td>0               </td> <td>1624       </td>\n",
       "        </tr>\n",
       "        <tr>\n",
       "            <td>2010</td> <td>2010     </td> <td>1801007PD</td> <td>1801007E </td> <td>2015.2              </td> <td>163.1              </td> <td>0               </td> <td>2015.2     </td>\n",
       "        </tr>\n",
       "        <tr>\n",
       "            <td>2010</td> <td>2010     </td> <td>1801009PD</td> <td>1801017PD</td> <td>561.768             </td> <td>25                 </td> <td>0               </td> <td>557.004    </td>\n",
       "        </tr>\n",
       "        <tr>\n",
       "            <td>2010</td> <td>2010     </td> <td>1801009PD</td> <td>1801009E </td> <td>2924.55             </td> <td>163.1              </td> <td>0               </td> <td>2924.55    </td>\n",
       "        </tr>\n",
       "        <tr>\n",
       "            <td>2010</td> <td>2010     </td> <td>1801011PD</td> <td>1801011E </td> <td>1350                </td> <td>163.1              </td> <td>0               </td> <td>1350       </td>\n",
       "        </tr>\n",
       "        <tr>\n",
       "            <td>2010</td> <td>2010     </td> <td>1801015PD</td> <td>1801017PD</td> <td>616.923             </td> <td>25                 </td> <td>0               </td> <td>611.692    </td>\n",
       "        </tr>\n",
       "        <tr>\n",
       "            <td>2010</td> <td>2010     </td> <td>1801015PD</td> <td>1801015E </td> <td>840                 </td> <td>163.1              </td> <td>0               </td> <td>840        </td>\n",
       "        </tr>\n",
       "        <tr>\n",
       "            <td>2010</td> <td>2010     </td> <td>1801015PD</td> <td>1801019PD</td> <td>1415                </td> <td>25                 </td> <td>0               </td> <td>1414.56    </td>\n",
       "        </tr>\n",
       "        <tr>\n",
       "            <td>2010</td> <td>2010     </td> <td>1801015PD</td> <td>1801001PD</td> <td>1460.72             </td> <td>87                 </td> <td>0               </td> <td>1460.72    </td>\n",
       "        </tr>\n",
       "        <tr>\n",
       "            <td>2010</td> <td>2010     </td> <td>1801015PD</td> <td>1801009PD</td> <td>2949                </td> <td>25                 </td> <td>0               </td> <td>2924.55    </td>\n",
       "        </tr>\n",
       "    </tbody>\n",
       "</table>\n",
       "<p>... (13790 rows omitted)</p>"
      ],
      "text/plain": [
       "year | data_year | source    | target    | cumulative_volume_af | transmission_kwh/af | treatment_kwh/af | used_vol_af\n",
       "2010 | 2010      | 1801001PD | 1801001E  | 1624                 | 163.1               | 0                | 1624\n",
       "2010 | 2010      | 1801007PD | 1801007E  | 2015.2               | 163.1               | 0                | 2015.2\n",
       "2010 | 2010      | 1801009PD | 1801017PD | 561.768              | 25                  | 0                | 557.004\n",
       "2010 | 2010      | 1801009PD | 1801009E  | 2924.55              | 163.1               | 0                | 2924.55\n",
       "2010 | 2010      | 1801011PD | 1801011E  | 1350                 | 163.1               | 0                | 1350\n",
       "2010 | 2010      | 1801015PD | 1801017PD | 616.923              | 25                  | 0                | 611.692\n",
       "2010 | 2010      | 1801015PD | 1801015E  | 840                  | 163.1               | 0                | 840\n",
       "2010 | 2010      | 1801015PD | 1801019PD | 1415                 | 25                  | 0                | 1414.56\n",
       "2010 | 2010      | 1801015PD | 1801001PD | 1460.72              | 87                  | 0                | 1460.72\n",
       "2010 | 2010      | 1801015PD | 1801009PD | 2949                 | 25                  | 0                | 2924.55\n",
       "... (13790 rows omitted)"
      ]
     },
     "execution_count": 2,
     "metadata": {},
     "output_type": "execute_result"
    }
   ],
   "source": [
    "data = Table().read_table('network2010.csv')\n",
    "data"
   ]
  },
  {
   "cell_type": "markdown",
   "metadata": {},
   "source": [
    "### 2015 Data"
   ]
  },
  {
   "cell_type": "code",
   "execution_count": 3,
   "metadata": {},
   "outputs": [
    {
     "data": {
      "text/html": [
       "<table border=\"1\" class=\"dataframe\">\n",
       "    <thead>\n",
       "        <tr>\n",
       "            <th>year</th> <th>data_year</th> <th>source</th> <th>target</th> <th>cumulative_volume_af</th> <th>transmission_kwh/af</th> <th>treatment_kwh/af</th> <th>used_vol_af</th>\n",
       "        </tr>\n",
       "    </thead>\n",
       "    <tbody>\n",
       "        <tr>\n",
       "            <td>2015</td> <td>2015     </td> <td>1803005NPD </td> <td>1803005E  </td> <td>733                 </td> <td>17.6               </td> <td>0               </td> <td>733        </td>\n",
       "        </tr>\n",
       "        <tr>\n",
       "            <td>2015</td> <td>2015     </td> <td>SW1803005W </td> <td>1803005NPD</td> <td>733                 </td> <td>87                 </td> <td>236             </td> <td>0          </td>\n",
       "        </tr>\n",
       "        <tr>\n",
       "            <td>2015</td> <td>2015     </td> <td>1803005WIMP</td> <td>1803005PD </td> <td>962.992             </td> <td>0                  </td> <td>224             </td> <td>0          </td>\n",
       "        </tr>\n",
       "        <tr>\n",
       "            <td>2040</td> <td>2015     </td> <td>SW1803005W </td> <td>1803005NPD</td> <td>2240                </td> <td>87                 </td> <td>236             </td> <td>0          </td>\n",
       "        </tr>\n",
       "        <tr>\n",
       "            <td>2025</td> <td>2015     </td> <td>1803005NPD </td> <td>1803005E  </td> <td>2240                </td> <td>17.6               </td> <td>0               </td> <td>2240       </td>\n",
       "        </tr>\n",
       "        <tr>\n",
       "            <td>2035</td> <td>2015     </td> <td>SW1803005W </td> <td>1803005NPD</td> <td>2240                </td> <td>87                 </td> <td>236             </td> <td>0          </td>\n",
       "        </tr>\n",
       "        <tr>\n",
       "            <td>2020</td> <td>2015     </td> <td>1803005NPD </td> <td>1803005E  </td> <td>2240                </td> <td>17.6               </td> <td>0               </td> <td>2240       </td>\n",
       "        </tr>\n",
       "        <tr>\n",
       "            <td>2020</td> <td>2015     </td> <td>SW1803005W </td> <td>1803005NPD</td> <td>2240                </td> <td>87                 </td> <td>236             </td> <td>0          </td>\n",
       "        </tr>\n",
       "        <tr>\n",
       "            <td>2030</td> <td>2015     </td> <td>1803005NPD </td> <td>1803005E  </td> <td>2240                </td> <td>17.6               </td> <td>0               </td> <td>2240       </td>\n",
       "        </tr>\n",
       "        <tr>\n",
       "            <td>2030</td> <td>2015     </td> <td>SW1803005W </td> <td>1803005NPD</td> <td>2240                </td> <td>87                 </td> <td>236             </td> <td>0          </td>\n",
       "        </tr>\n",
       "    </tbody>\n",
       "</table>\n",
       "<p>... (10716 rows omitted)</p>"
      ],
      "text/plain": [
       "year | data_year | source      | target     | cumulative_volume_af | transmission_kwh/af | treatment_kwh/af | used_vol_af\n",
       "2015 | 2015      | 1803005NPD  | 1803005E   | 733                  | 17.6                | 0                | 733\n",
       "2015 | 2015      | SW1803005W  | 1803005NPD | 733                  | 87                  | 236              | 0\n",
       "2015 | 2015      | 1803005WIMP | 1803005PD  | 962.992              | 0                   | 224              | 0\n",
       "2040 | 2015      | SW1803005W  | 1803005NPD | 2240                 | 87                  | 236              | 0\n",
       "2025 | 2015      | 1803005NPD  | 1803005E   | 2240                 | 17.6                | 0                | 2240\n",
       "2035 | 2015      | SW1803005W  | 1803005NPD | 2240                 | 87                  | 236              | 0\n",
       "2020 | 2015      | 1803005NPD  | 1803005E   | 2240                 | 17.6                | 0                | 2240\n",
       "2020 | 2015      | SW1803005W  | 1803005NPD | 2240                 | 87                  | 236              | 0\n",
       "2030 | 2015      | 1803005NPD  | 1803005E   | 2240                 | 17.6                | 0                | 2240\n",
       "2030 | 2015      | SW1803005W  | 1803005NPD | 2240                 | 87                  | 236              | 0\n",
       "... (10716 rows omitted)"
      ]
     },
     "execution_count": 3,
     "metadata": {},
     "output_type": "execute_result"
    }
   ],
   "source": [
    "data_1 = Table().read_table('network2015.csv')\n",
    "data_1"
   ]
  },
  {
   "cell_type": "markdown",
   "metadata": {},
   "source": [
    "# Dictionary For Sources\n",
    "- NPD (Non-potable distribution): \n",
    "    Utility + \"NPD\" for treated non-potable water delivered to end-user\n",
    "\n",
    "\n",
    "- PD (Potable distribution): \n",
    "    Utility + \"PD\" for treated potable water delivered to an end-user\n",
    "\n",
    "\n",
    "- GW (Groundwater): \n",
    "    For water sources, “GW” + DWR basin/subbasin code, if basin is known OR “GW” + Utility Code, if not; for groundwater sold untreated to a retail utility, Utility code + “GW”\n",
    "\n",
    "\n",
    "- GWR (Groundwater recharge): \n",
    "    Similar to groundwater codes described above, substituting “GWR” for “GW”\n",
    "\n",
    "\n",
    "- SW (Surface water): \n",
    "    \"SW\" + utility code for unspecified surface water source"
   ]
  },
  {
   "cell_type": "markdown",
   "metadata": {},
   "source": [
    "In this lab, we will be focusing  on 6 utilities.\n",
    "- Alameda (1805003E) \n",
    "- Fresno (1803033E) \n",
    "- Hidesert (1810019E) \n",
    "- Palmdale (1809027E) \n",
    "- San Jose (1805085E)\n",
    "- Santa Monice (1807341E)"
   ]
  },
  {
   "cell_type": "markdown",
   "metadata": {},
   "source": [
    "## Extract data for 2010\n"
   ]
  },
  {
   "cell_type": "code",
   "execution_count": 4,
   "metadata": {},
   "outputs": [
    {
     "data": {
      "text/html": [
       "<table border=\"1\" class=\"dataframe\">\n",
       "    <thead>\n",
       "        <tr>\n",
       "            <th>year</th> <th>data_year</th> <th>source</th> <th>target</th> <th>cumulative_volume_af</th> <th>transmission_kwh/af</th> <th>treatment_kwh/af</th> <th>used_vol_af</th>\n",
       "        </tr>\n",
       "    </thead>\n",
       "    <tbody>\n",
       "        <tr>\n",
       "            <td>2010</td> <td>2010     </td> <td>1801001PD</td> <td>1801001E </td> <td>1624                </td> <td>163.1              </td> <td>0               </td> <td>1624       </td>\n",
       "        </tr>\n",
       "        <tr>\n",
       "            <td>2010</td> <td>2010     </td> <td>1801007PD</td> <td>1801007E </td> <td>2015.2              </td> <td>163.1              </td> <td>0               </td> <td>2015.2     </td>\n",
       "        </tr>\n",
       "        <tr>\n",
       "            <td>2010</td> <td>2010     </td> <td>1801009PD</td> <td>1801017PD</td> <td>561.768             </td> <td>25                 </td> <td>0               </td> <td>557.004    </td>\n",
       "        </tr>\n",
       "        <tr>\n",
       "            <td>2010</td> <td>2010     </td> <td>1801009PD</td> <td>1801009E </td> <td>2924.55             </td> <td>163.1              </td> <td>0               </td> <td>2924.55    </td>\n",
       "        </tr>\n",
       "        <tr>\n",
       "            <td>2010</td> <td>2010     </td> <td>1801011PD</td> <td>1801011E </td> <td>1350                </td> <td>163.1              </td> <td>0               </td> <td>1350       </td>\n",
       "        </tr>\n",
       "        <tr>\n",
       "            <td>2010</td> <td>2010     </td> <td>1801015PD</td> <td>1801017PD</td> <td>616.923             </td> <td>25                 </td> <td>0               </td> <td>611.692    </td>\n",
       "        </tr>\n",
       "        <tr>\n",
       "            <td>2010</td> <td>2010     </td> <td>1801015PD</td> <td>1801015E </td> <td>840                 </td> <td>163.1              </td> <td>0               </td> <td>840        </td>\n",
       "        </tr>\n",
       "        <tr>\n",
       "            <td>2010</td> <td>2010     </td> <td>1801015PD</td> <td>1801019PD</td> <td>1415                </td> <td>25                 </td> <td>0               </td> <td>1414.56    </td>\n",
       "        </tr>\n",
       "        <tr>\n",
       "            <td>2010</td> <td>2010     </td> <td>1801015PD</td> <td>1801001PD</td> <td>1460.72             </td> <td>87                 </td> <td>0               </td> <td>1460.72    </td>\n",
       "        </tr>\n",
       "        <tr>\n",
       "            <td>2010</td> <td>2010     </td> <td>1801015PD</td> <td>1801009PD</td> <td>2949                </td> <td>25                 </td> <td>0               </td> <td>2924.55    </td>\n",
       "        </tr>\n",
       "    </tbody>\n",
       "</table>\n",
       "<p>... (1733 rows omitted)</p>"
      ],
      "text/plain": [
       "year | data_year | source    | target    | cumulative_volume_af | transmission_kwh/af | treatment_kwh/af | used_vol_af\n",
       "2010 | 2010      | 1801001PD | 1801001E  | 1624                 | 163.1               | 0                | 1624\n",
       "2010 | 2010      | 1801007PD | 1801007E  | 2015.2               | 163.1               | 0                | 2015.2\n",
       "2010 | 2010      | 1801009PD | 1801017PD | 561.768              | 25                  | 0                | 557.004\n",
       "2010 | 2010      | 1801009PD | 1801009E  | 2924.55              | 163.1               | 0                | 2924.55\n",
       "2010 | 2010      | 1801011PD | 1801011E  | 1350                 | 163.1               | 0                | 1350\n",
       "2010 | 2010      | 1801015PD | 1801017PD | 616.923              | 25                  | 0                | 611.692\n",
       "2010 | 2010      | 1801015PD | 1801015E  | 840                  | 163.1               | 0                | 840\n",
       "2010 | 2010      | 1801015PD | 1801019PD | 1415                 | 25                  | 0                | 1414.56\n",
       "2010 | 2010      | 1801015PD | 1801001PD | 1460.72              | 87                  | 0                | 1460.72\n",
       "2010 | 2010      | 1801015PD | 1801009PD | 2949                 | 25                  | 0                | 2924.55\n",
       "... (1733 rows omitted)"
      ]
     },
     "execution_count": 4,
     "metadata": {},
     "output_type": "execute_result"
    }
   ],
   "source": [
    "#Getting data for 2010.\n",
    "data_2010 = data.where(data['year'] == 2010)\n",
    "data_2010"
   ]
  },
  {
   "cell_type": "markdown",
   "metadata": {},
   "source": [
    "## Let's try extracting data for a specific utility.\n",
    "### This is an example for Cerritos (1807057E)."
   ]
  },
  {
   "cell_type": "markdown",
   "metadata": {},
   "source": [
    "##### Cerritos"
   ]
  },
  {
   "cell_type": "code",
   "execution_count": 5,
   "metadata": {},
   "outputs": [
    {
     "data": {
      "text/html": [
       "<table border=\"1\" class=\"dataframe\">\n",
       "    <thead>\n",
       "        <tr>\n",
       "            <th>year</th> <th>data_year</th> <th>source</th> <th>target</th> <th>cumulative_volume_af</th> <th>transmission_kwh/af</th> <th>treatment_kwh/af</th> <th>used_vol_af</th>\n",
       "        </tr>\n",
       "    </thead>\n",
       "    <tbody>\n",
       "        <tr>\n",
       "            <td>2010</td> <td>2010     </td> <td>1807057NPD</td> <td>1807057E</td> <td>1870                </td> <td>195.72             </td> <td>0               </td> <td>1870       </td>\n",
       "        </tr>\n",
       "        <tr>\n",
       "            <td>2010</td> <td>2010     </td> <td>1807057PD </td> <td>1807057E</td> <td>6048                </td> <td>163.1              </td> <td>0               </td> <td>6048       </td>\n",
       "        </tr>\n",
       "    </tbody>\n",
       "</table>"
      ],
      "text/plain": [
       "year | data_year | source     | target   | cumulative_volume_af | transmission_kwh/af | treatment_kwh/af | used_vol_af\n",
       "2010 | 2010      | 1807057NPD | 1807057E | 1870                 | 195.72              | 0                | 1870\n",
       "2010 | 2010      | 1807057PD  | 1807057E | 6048                 | 163.1               | 0                | 6048"
      ]
     },
     "execution_count": 5,
     "metadata": {},
     "output_type": "execute_result"
    }
   ],
   "source": [
    "cerritos = data_2010.where(data_2010['target'] == \"1807057E\")\n",
    "cerritos"
   ]
  },
  {
   "cell_type": "markdown",
   "metadata": {},
   "source": [
    "#### Sort by the amount of cumulative volume"
   ]
  },
  {
   "cell_type": "code",
   "execution_count": 6,
   "metadata": {},
   "outputs": [
    {
     "data": {
      "text/html": [
       "<table border=\"1\" class=\"dataframe\">\n",
       "    <thead>\n",
       "        <tr>\n",
       "            <th>year</th> <th>data_year</th> <th>source</th> <th>target</th> <th>cumulative_volume_af</th> <th>transmission_kwh/af</th> <th>treatment_kwh/af</th> <th>used_vol_af</th>\n",
       "        </tr>\n",
       "    </thead>\n",
       "    <tbody>\n",
       "        <tr>\n",
       "            <td>2010</td> <td>2010     </td> <td>1807057PD </td> <td>1807057E</td> <td>6048                </td> <td>163.1              </td> <td>0               </td> <td>6048       </td>\n",
       "        </tr>\n",
       "        <tr>\n",
       "            <td>2010</td> <td>2010     </td> <td>1807057NPD</td> <td>1807057E</td> <td>1870                </td> <td>195.72             </td> <td>0               </td> <td>1870       </td>\n",
       "        </tr>\n",
       "    </tbody>\n",
       "</table>"
      ],
      "text/plain": [
       "year | data_year | source     | target   | cumulative_volume_af | transmission_kwh/af | treatment_kwh/af | used_vol_af\n",
       "2010 | 2010      | 1807057PD  | 1807057E | 6048                 | 163.1               | 0                | 6048\n",
       "2010 | 2010      | 1807057NPD | 1807057E | 1870                 | 195.72              | 0                | 1870"
      ]
     },
     "execution_count": 6,
     "metadata": {},
     "output_type": "execute_result"
    }
   ],
   "source": [
    "#where do they get most water?\n",
    "cerritos = cerritos.sort('cumulative_volume_af', descending = True)\n",
    "cerritos"
   ]
  },
  {
   "cell_type": "markdown",
   "metadata": {},
   "source": [
    "## Try your own!\n",
    "### Choose one from the remaining five sources."
   ]
  },
  {
   "cell_type": "markdown",
   "metadata": {},
   "source": [
    "##### Utility"
   ]
  },
  {
   "cell_type": "code",
   "execution_count": 7,
   "metadata": {},
   "outputs": [
    {
     "data": {
      "text/plain": [
       "Ellipsis"
      ]
     },
     "execution_count": 7,
     "metadata": {},
     "output_type": "execute_result"
    }
   ],
   "source": [
    "utility = ...\n",
    "utility"
   ]
  },
  {
   "cell_type": "markdown",
   "metadata": {},
   "source": [
    "### Sort by the amount of cumulative volume."
   ]
  },
  {
   "cell_type": "code",
   "execution_count": 8,
   "metadata": {},
   "outputs": [
    {
     "ename": "AttributeError",
     "evalue": "'ellipsis' object has no attribute 'sort'",
     "output_type": "error",
     "traceback": [
      "\u001b[1;31m---------------------------------------------------------------------------\u001b[0m",
      "\u001b[1;31mAttributeError\u001b[0m                            Traceback (most recent call last)",
      "\u001b[1;32m<ipython-input-8-63c798407acf>\u001b[0m in \u001b[0;36m<module>\u001b[1;34m()\u001b[0m\n\u001b[0;32m      1\u001b[0m \u001b[1;31m#where do they get most water?\u001b[0m\u001b[1;33m\u001b[0m\u001b[1;33m\u001b[0m\u001b[0m\n\u001b[1;32m----> 2\u001b[1;33m \u001b[0mutility\u001b[0m \u001b[1;33m=\u001b[0m \u001b[0mutility\u001b[0m\u001b[1;33m.\u001b[0m\u001b[0msort\u001b[0m\u001b[1;33m(\u001b[0m\u001b[1;33m...\u001b[0m\u001b[1;33m)\u001b[0m\u001b[1;33m\u001b[0m\u001b[0m\n\u001b[0m\u001b[0;32m      3\u001b[0m \u001b[0mutility\u001b[0m\u001b[1;33m\u001b[0m\u001b[0m\n",
      "\u001b[1;31mAttributeError\u001b[0m: 'ellipsis' object has no attribute 'sort'"
     ]
    }
   ],
   "source": [
    "#where do they get most water?\n",
    "utility = utility.sort(...)\n",
    "utility"
   ]
  },
  {
   "cell_type": "markdown",
   "metadata": {},
   "source": [
    "## Extract data for 2015."
   ]
  },
  {
   "cell_type": "code",
   "execution_count": null,
   "metadata": {
    "collapsed": true
   },
   "outputs": [],
   "source": [
    "#Getting data for 2015.\n",
    "data_2015 = data_1.where(data_1['year'] == 2015)\n",
    "data_2015"
   ]
  },
  {
   "cell_type": "markdown",
   "metadata": {},
   "source": [
    "## Extracting data in 2015 for Cerritos (1807057E)"
   ]
  },
  {
   "cell_type": "markdown",
   "metadata": {},
   "source": [
    "##### Cerritos"
   ]
  },
  {
   "cell_type": "code",
   "execution_count": 9,
   "metadata": {},
   "outputs": [
    {
     "ename": "NameError",
     "evalue": "name 'data_2015' is not defined",
     "output_type": "error",
     "traceback": [
      "\u001b[1;31m---------------------------------------------------------------------------\u001b[0m",
      "\u001b[1;31mNameError\u001b[0m                                 Traceback (most recent call last)",
      "\u001b[1;32m<ipython-input-9-b90349469014>\u001b[0m in \u001b[0;36m<module>\u001b[1;34m()\u001b[0m\n\u001b[1;32m----> 1\u001b[1;33m \u001b[0mcerritos_2015\u001b[0m \u001b[1;33m=\u001b[0m \u001b[0mdata_2015\u001b[0m\u001b[1;33m.\u001b[0m\u001b[0mwhere\u001b[0m\u001b[1;33m(\u001b[0m\u001b[0mdata_2015\u001b[0m\u001b[1;33m[\u001b[0m\u001b[1;34m'target'\u001b[0m\u001b[1;33m]\u001b[0m \u001b[1;33m==\u001b[0m \u001b[1;34m\"1807057E\"\u001b[0m\u001b[1;33m)\u001b[0m\u001b[1;33m\u001b[0m\u001b[0m\n\u001b[0m\u001b[0;32m      2\u001b[0m \u001b[0mcerritos_2015\u001b[0m\u001b[1;33m\u001b[0m\u001b[0m\n",
      "\u001b[1;31mNameError\u001b[0m: name 'data_2015' is not defined"
     ]
    }
   ],
   "source": [
    "cerritos_2015 = data_2015.where(data_2015['target'] == \"1807057E\")\n",
    "cerritos_2015\n"
   ]
  },
  {
   "cell_type": "markdown",
   "metadata": {},
   "source": [
    "## Try extracting 2015 data for your own utility!"
   ]
  },
  {
   "cell_type": "markdown",
   "metadata": {},
   "source": [
    "##### Utility"
   ]
  },
  {
   "cell_type": "code",
   "execution_count": 10,
   "metadata": {},
   "outputs": [
    {
     "data": {
      "text/plain": [
       "Ellipsis"
      ]
     },
     "execution_count": 10,
     "metadata": {},
     "output_type": "execute_result"
    }
   ],
   "source": [
    "#Data where target = Fresno \n",
    "utility_2015 = ...\n",
    "utility_2015"
   ]
  },
  {
   "cell_type": "markdown",
   "metadata": {},
   "source": [
    "### Sort the values by cumulative volume"
   ]
  },
  {
   "cell_type": "code",
   "execution_count": 11,
   "metadata": {},
   "outputs": [
    {
     "ename": "AttributeError",
     "evalue": "'ellipsis' object has no attribute 'sort'",
     "output_type": "error",
     "traceback": [
      "\u001b[1;31m---------------------------------------------------------------------------\u001b[0m",
      "\u001b[1;31mAttributeError\u001b[0m                            Traceback (most recent call last)",
      "\u001b[1;32m<ipython-input-11-82fd953d663c>\u001b[0m in \u001b[0;36m<module>\u001b[1;34m()\u001b[0m\n\u001b[0;32m      1\u001b[0m \u001b[1;31m#where do they get most water?\u001b[0m\u001b[1;33m\u001b[0m\u001b[1;33m\u001b[0m\u001b[0m\n\u001b[1;32m----> 2\u001b[1;33m \u001b[0mutility_2015\u001b[0m \u001b[1;33m=\u001b[0m \u001b[0mutility_2015\u001b[0m\u001b[1;33m.\u001b[0m\u001b[0msort\u001b[0m\u001b[1;33m(\u001b[0m\u001b[1;33m...\u001b[0m\u001b[1;33m)\u001b[0m\u001b[1;33m\u001b[0m\u001b[0m\n\u001b[0m\u001b[0;32m      3\u001b[0m \u001b[0mutility_2015\u001b[0m\u001b[1;33m\u001b[0m\u001b[0m\n",
      "\u001b[1;31mAttributeError\u001b[0m: 'ellipsis' object has no attribute 'sort'"
     ]
    }
   ],
   "source": [
    "#where do they get most water?\n",
    "utility_2015 = utility_2015.sort(...)\n",
    "utility_2015"
   ]
  },
  {
   "cell_type": "markdown",
   "metadata": {},
   "source": [
    "# Lets combine data from 2010 and 2015 found above!\n",
    "Using the `table.append(table2)` function, we can add data in 2015 to 2010.\n",
    "#### Below is an example for Cerritos Water utility."
   ]
  },
  {
   "cell_type": "markdown",
   "metadata": {},
   "source": [
    "#### Cerritos"
   ]
  },
  {
   "cell_type": "code",
   "execution_count": 215,
   "metadata": {},
   "outputs": [
    {
     "data": {
      "text/html": [
       "<table border=\"1\" class=\"dataframe\">\n",
       "    <thead>\n",
       "        <tr>\n",
       "            <th>year</th> <th>data_year</th> <th>source</th> <th>target</th> <th>cumulative_volume_af</th> <th>transmission_kwh/af</th> <th>treatment_kwh/af</th> <th>used_vol_af</th>\n",
       "        </tr>\n",
       "    </thead>\n",
       "    <tbody>\n",
       "        <tr>\n",
       "            <td>2010</td> <td>2010     </td> <td>1807057PD </td> <td>1807057E</td> <td>6048                </td> <td>163.1              </td> <td>0               </td> <td>6048       </td>\n",
       "        </tr>\n",
       "        <tr>\n",
       "            <td>2010</td> <td>2010     </td> <td>1807057NPD</td> <td>1807057E</td> <td>1870                </td> <td>195.72             </td> <td>0               </td> <td>1870       </td>\n",
       "        </tr>\n",
       "        <tr>\n",
       "            <td>2015</td> <td>2015     </td> <td>1807057NPD</td> <td>1807057E</td> <td>2335                </td> <td>195.72             </td> <td>0               </td> <td>2335       </td>\n",
       "        </tr>\n",
       "        <tr>\n",
       "            <td>2015</td> <td>2015     </td> <td>1807057PD </td> <td>1807057E</td> <td>8460                </td> <td>326.2              </td> <td>0               </td> <td>8460       </td>\n",
       "        </tr>\n",
       "    </tbody>\n",
       "</table>"
      ],
      "text/plain": [
       "year | data_year | source     | target   | cumulative_volume_af | transmission_kwh/af | treatment_kwh/af | used_vol_af\n",
       "2010 | 2010      | 1807057PD  | 1807057E | 6048                 | 163.1               | 0                | 6048\n",
       "2010 | 2010      | 1807057NPD | 1807057E | 1870                 | 195.72              | 0                | 1870\n",
       "2015 | 2015      | 1807057NPD | 1807057E | 2335                 | 195.72              | 0                | 2335\n",
       "2015 | 2015      | 1807057PD  | 1807057E | 8460                 | 326.2               | 0                | 8460"
      ]
     },
     "execution_count": 215,
     "metadata": {},
     "output_type": "execute_result"
    }
   ],
   "source": [
    "cerritos_water_final = cerritos.append(cerritos_2015)\n",
    "cerritos_water_final"
   ]
  },
  {
   "cell_type": "markdown",
   "metadata": {},
   "source": [
    "### Make your own appended table from your own utilities.\n",
    "##### Utility"
   ]
  },
  {
   "cell_type": "code",
   "execution_count": 16,
   "metadata": {
    "collapsed": true
   },
   "outputs": [],
   "source": [
    "utility_final = ...\n",
    "utility_final\n",
    "#all from portable and nonportable water andincrease in cumulative volume\n"
   ]
  },
  {
   "cell_type": "markdown",
   "metadata": {},
   "source": [
    "# Let's Observe Cerritos Water Utility "
   ]
  },
  {
   "cell_type": "code",
   "execution_count": 216,
   "metadata": {},
   "outputs": [
    {
     "data": {
      "text/html": [
       "<table border=\"1\" class=\"dataframe\">\n",
       "    <thead>\n",
       "        <tr>\n",
       "            <th>year</th> <th>data_year</th> <th>source</th> <th>target</th> <th>cumulative_volume_af</th> <th>transmission_kwh/af</th> <th>treatment_kwh/af</th> <th>used_vol_af</th>\n",
       "        </tr>\n",
       "    </thead>\n",
       "    <tbody>\n",
       "        <tr>\n",
       "            <td>2010</td> <td>2010     </td> <td>1807057PD </td> <td>1807057E</td> <td>6048                </td> <td>163.1              </td> <td>0               </td> <td>6048       </td>\n",
       "        </tr>\n",
       "        <tr>\n",
       "            <td>2010</td> <td>2010     </td> <td>1807057NPD</td> <td>1807057E</td> <td>1870                </td> <td>195.72             </td> <td>0               </td> <td>1870       </td>\n",
       "        </tr>\n",
       "        <tr>\n",
       "            <td>2015</td> <td>2015     </td> <td>1807057NPD</td> <td>1807057E</td> <td>2335                </td> <td>195.72             </td> <td>0               </td> <td>2335       </td>\n",
       "        </tr>\n",
       "        <tr>\n",
       "            <td>2015</td> <td>2015     </td> <td>1807057PD </td> <td>1807057E</td> <td>8460                </td> <td>326.2              </td> <td>0               </td> <td>8460       </td>\n",
       "        </tr>\n",
       "    </tbody>\n",
       "</table>"
      ],
      "text/plain": [
       "year | data_year | source     | target   | cumulative_volume_af | transmission_kwh/af | treatment_kwh/af | used_vol_af\n",
       "2010 | 2010      | 1807057PD  | 1807057E | 6048                 | 163.1               | 0                | 6048\n",
       "2010 | 2010      | 1807057NPD | 1807057E | 1870                 | 195.72              | 0                | 1870\n",
       "2015 | 2015      | 1807057NPD | 1807057E | 2335                 | 195.72              | 0                | 2335\n",
       "2015 | 2015      | 1807057PD  | 1807057E | 8460                 | 326.2               | 0                | 8460"
      ]
     },
     "execution_count": 216,
     "metadata": {},
     "output_type": "execute_result"
    }
   ],
   "source": [
    "cerritos_water_final"
   ]
  },
  {
   "cell_type": "markdown",
   "metadata": {},
   "source": [
    "## How to calculate the amount of energy used.\n",
    "- transmission_kwh = cumulative_volume_af * transmission_kwh/af\n",
    "\n",
    "## How to calculate the percentage increase.\n",
    "- Increase = New Number - Original Number\n",
    "- % Increase = Increase / Original Number * 100"
   ]
  },
  {
   "cell_type": "markdown",
   "metadata": {},
   "source": [
    "#### Actual 2010 Data"
   ]
  },
  {
   "cell_type": "code",
   "execution_count": 217,
   "metadata": {},
   "outputs": [
    {
     "data": {
      "text/html": [
       "<table border=\"1\" class=\"dataframe\">\n",
       "    <thead>\n",
       "        <tr>\n",
       "            <th>year</th> <th>data_year</th> <th>source</th> <th>target</th> <th>cumulative_volume_af</th> <th>transmission_kwh/af</th> <th>treatment_kwh/af</th> <th>used_vol_af</th>\n",
       "        </tr>\n",
       "    </thead>\n",
       "    <tbody>\n",
       "        <tr>\n",
       "            <td>2010</td> <td>2010     </td> <td>1807057NPD</td> <td>1807057E</td> <td>1870                </td> <td>195.72             </td> <td>0               </td> <td>1870       </td>\n",
       "        </tr>\n",
       "        <tr>\n",
       "            <td>2010</td> <td>2010     </td> <td>1807057PD </td> <td>1807057E</td> <td>6048                </td> <td>163.1              </td> <td>0               </td> <td>6048       </td>\n",
       "        </tr>\n",
       "    </tbody>\n",
       "</table>"
      ],
      "text/plain": [
       "year | data_year | source     | target   | cumulative_volume_af | transmission_kwh/af | treatment_kwh/af | used_vol_af\n",
       "2010 | 2010      | 1807057NPD | 1807057E | 1870                 | 195.72              | 0                | 1870\n",
       "2010 | 2010      | 1807057PD  | 1807057E | 6048                 | 163.1               | 0                | 6048"
      ]
     },
     "execution_count": 217,
     "metadata": {},
     "output_type": "execute_result"
    }
   ],
   "source": [
    "cerritos_2010 = data_2010.where(data_2010['target'] == \"1807057E\")\n",
    "cerritos_2010"
   ]
  },
  {
   "cell_type": "markdown",
   "metadata": {},
   "source": [
    "#### Predicted 2015 Data"
   ]
  },
  {
   "cell_type": "code",
   "execution_count": 218,
   "metadata": {},
   "outputs": [
    {
     "data": {
      "text/html": [
       "<table border=\"1\" class=\"dataframe\">\n",
       "    <thead>\n",
       "        <tr>\n",
       "            <th>year</th> <th>data_year</th> <th>source</th> <th>target</th> <th>cumulative_volume_af</th> <th>transmission_kwh/af</th> <th>treatment_kwh/af</th> <th>used_vol_af</th>\n",
       "        </tr>\n",
       "    </thead>\n",
       "    <tbody>\n",
       "        <tr>\n",
       "            <td>2015</td> <td>2010     </td> <td>1807057NPD</td> <td>1807057E</td> <td>2046                </td> <td>195.72             </td> <td>0               </td> <td>2046       </td>\n",
       "        </tr>\n",
       "        <tr>\n",
       "            <td>2015</td> <td>2010     </td> <td>1807057PD </td> <td>1807057E</td> <td>7410                </td> <td>163.1              </td> <td>0               </td> <td>7410       </td>\n",
       "        </tr>\n",
       "    </tbody>\n",
       "</table>"
      ],
      "text/plain": [
       "year | data_year | source     | target   | cumulative_volume_af | transmission_kwh/af | treatment_kwh/af | used_vol_af\n",
       "2015 | 2010      | 1807057NPD | 1807057E | 2046                 | 195.72              | 0                | 2046\n",
       "2015 | 2010      | 1807057PD  | 1807057E | 7410                 | 163.1               | 0                | 7410"
      ]
     },
     "execution_count": 218,
     "metadata": {},
     "output_type": "execute_result"
    }
   ],
   "source": [
    "data_2010_pred = data.where(data['year'] == 2015)\n",
    "cerritos_2015p = data_2010_pred.where(data_2010_pred['target'] == \"1807057E\")\n",
    "cerritos_2015p\n"
   ]
  },
  {
   "cell_type": "markdown",
   "metadata": {},
   "source": [
    "#### Actual 2015 Data"
   ]
  },
  {
   "cell_type": "code",
   "execution_count": 219,
   "metadata": {},
   "outputs": [
    {
     "data": {
      "text/html": [
       "<table border=\"1\" class=\"dataframe\">\n",
       "    <thead>\n",
       "        <tr>\n",
       "            <th>year</th> <th>data_year</th> <th>source</th> <th>target</th> <th>cumulative_volume_af</th> <th>transmission_kwh/af</th> <th>treatment_kwh/af</th> <th>used_vol_af</th>\n",
       "        </tr>\n",
       "    </thead>\n",
       "    <tbody>\n",
       "        <tr>\n",
       "            <td>2015</td> <td>2015     </td> <td>1807057NPD</td> <td>1807057E</td> <td>2335                </td> <td>195.72             </td> <td>0               </td> <td>2335       </td>\n",
       "        </tr>\n",
       "        <tr>\n",
       "            <td>2015</td> <td>2015     </td> <td>1807057PD </td> <td>1807057E</td> <td>8460                </td> <td>326.2              </td> <td>0               </td> <td>8460       </td>\n",
       "        </tr>\n",
       "    </tbody>\n",
       "</table>"
      ],
      "text/plain": [
       "year | data_year | source     | target   | cumulative_volume_af | transmission_kwh/af | treatment_kwh/af | used_vol_af\n",
       "2015 | 2015      | 1807057NPD | 1807057E | 2335                 | 195.72              | 0                | 2335\n",
       "2015 | 2015      | 1807057PD  | 1807057E | 8460                 | 326.2               | 0                | 8460"
      ]
     },
     "execution_count": 219,
     "metadata": {},
     "output_type": "execute_result"
    }
   ],
   "source": [
    "cerritos_2015 = data_2015.where(data_2015['target'] == \"1807057E\")\n",
    "cerritos_2015"
   ]
  },
  {
   "cell_type": "markdown",
   "metadata": {},
   "source": [
    "# Actual 2010 vs Predicted 2015\n"
   ]
  },
  {
   "cell_type": "markdown",
   "metadata": {},
   "source": [
    "### Amount of energy used in 2010 vs 2015 projection"
   ]
  },
  {
   "cell_type": "markdown",
   "metadata": {},
   "source": [
    "#### What is the total amount of energy used in 2010?"
   ]
  },
  {
   "cell_type": "code",
   "execution_count": 220,
   "metadata": {},
   "outputs": [
    {
     "name": "stdout",
     "output_type": "stream",
     "text": [
      "Amount of Energy used in 2010 : 1574567.4 kwh\n"
     ]
    }
   ],
   "source": [
    "actual_energy_2010 = 1870 * 195.72 + 7410 * 163.1\n",
    "print (\"Amount of Energy used in 2010 : \" + str(actual_energy_2010) + \" kwh\")"
   ]
  },
  {
   "cell_type": "markdown",
   "metadata": {},
   "source": [
    "#### What is the total amount of energy predicted to be used in 2015?"
   ]
  },
  {
   "cell_type": "code",
   "execution_count": 221,
   "metadata": {},
   "outputs": [
    {
     "name": "stdout",
     "output_type": "stream",
     "text": [
      "Amount of Energy used in 2015 projection : 2980195.82 kwh\n"
     ]
    }
   ],
   "source": [
    "projection_energy_2015 = 2046 * 195.72 + 15817 * 163.1\n",
    "print (\"Amount of Energy used in 2015 projection : \" + str(projection_energy_2015) + \" kwh\")"
   ]
  },
  {
   "cell_type": "markdown",
   "metadata": {},
   "source": [
    "#### What is the predicted percent increase of energy used between 2010 and 2015?"
   ]
  },
  {
   "cell_type": "code",
   "execution_count": 222,
   "metadata": {},
   "outputs": [
    {
     "name": "stdout",
     "output_type": "stream",
     "text": [
      "Transmission energy is expected to increase by 0.8927076859332919%\n"
     ]
    }
   ],
   "source": [
    "diff_2010 = projection_energy_2015 - actual_energy_2010\n",
    "percent = diff_2010 / actual_energy_2010\n",
    "print (\"Transmission energy is expected to increase by \" + str(percent) + \"%\")"
   ]
  },
  {
   "cell_type": "code",
   "execution_count": 247,
   "metadata": {},
   "outputs": [
    {
     "data": {
      "image/png": "[encoded data removed]",
      "text/plain": [
       "<matplotlib.figure.Figure at 0x1a18ee7e48>"
      ]
     },
     "metadata": {},
     "output_type": "display_data"
    }
   ],
   "source": [
    "data = pd.DataFrame(data = \n",
    "                      {\"year\" : [2010, 2015], \n",
    "                       \"values\" : [actual_energy_2010/(10**7), projection_energy_2015/(10**7)]})                                          \n",
    "data.plot(kind='bar',x='year', y='values');\n",
    "plt.title(\"Energy Difference Between Actual 2010 And Predicted 2015\");\n",
    "plt.ylabel('Values (1e7)');\n",
    "\n",
    "\n"
   ]
  },
  {
   "cell_type": "markdown",
   "metadata": {},
   "source": [
    "### Cumulative volume change 2010 vs 2015 projection"
   ]
  },
  {
   "cell_type": "markdown",
   "metadata": {},
   "source": [
    "#### What is the total amount of water transported in 2010?"
   ]
  },
  {
   "cell_type": "code",
   "execution_count": 224,
   "metadata": {},
   "outputs": [
    {
     "name": "stdout",
     "output_type": "stream",
     "text": [
      "Amount of volume used in 2010 : 9280\n"
     ]
    }
   ],
   "source": [
    "volume_2010 = 1870 + 7410\n",
    "print (\"Amount of volume used in 2010 : \" + str(volume_2010))"
   ]
  },
  {
   "cell_type": "markdown",
   "metadata": {},
   "source": [
    "#### What is the total amount of water predicted to be transported in 2015?"
   ]
  },
  {
   "cell_type": "code",
   "execution_count": 225,
   "metadata": {},
   "outputs": [
    {
     "name": "stdout",
     "output_type": "stream",
     "text": [
      "Amount of volume used in 2015 : 10795\n"
     ]
    }
   ],
   "source": [
    "volume_2015p = 2046 + 15817\n",
    "print (\"Amount of volume used in 2015 : \" + str(volume_2015))"
   ]
  },
  {
   "cell_type": "markdown",
   "metadata": {},
   "source": [
    "#### What is the predicted percent increase of cumulative volume of water transported between 2010 and 2015?"
   ]
  },
  {
   "cell_type": "code",
   "execution_count": 226,
   "metadata": {},
   "outputs": [
    {
     "name": "stdout",
     "output_type": "stream",
     "text": [
      "Volume of water expected to change by 0.9248922413793104% from 2010 and 2015\n"
     ]
    }
   ],
   "source": [
    "percent_v = (volume_2015p - volume_2010) / volume_2010\n",
    "print (\"Volume of water expected to change by \" + str(percent_v) + \"% from 2010 and 2015\")"
   ]
  },
  {
   "cell_type": "code",
   "execution_count": 227,
   "metadata": {},
   "outputs": [
    {
     "data": {
      "image/png": "[encoded data removed]",
      "text/plain": [
       "<matplotlib.figure.Figure at 0x1a18762dd8>"
      ]
     },
     "metadata": {},
     "output_type": "display_data"
    }
   ],
   "source": [
    "data_1 = pd.DataFrame(data = \n",
    "                     {\"year\" : [2010, 2015], \n",
    "                       \"values\" : [volume_2010, volume_2015]})\n",
    "data_1.plot(kind='bar',x='year', y='values')\n",
    "plt.title(\"Volume Difference Between Actual 2010 And Predicted 2015\")\n",
    "plt.ylabel('Values');\n"
   ]
  },
  {
   "cell_type": "markdown",
   "metadata": {},
   "source": [
    "# Actual 2010 vs Actual 2015"
   ]
  },
  {
   "cell_type": "markdown",
   "metadata": {},
   "source": [
    "### Amount of energy used in 2010 vs 2015 \n"
   ]
  },
  {
   "cell_type": "markdown",
   "metadata": {},
   "source": [
    "#### What is the total amount of energy used in 2010?"
   ]
  },
  {
   "cell_type": "code",
   "execution_count": 228,
   "metadata": {},
   "outputs": [
    {
     "name": "stdout",
     "output_type": "stream",
     "text": [
      "The total transmission_kwh in 2010 : 1574567.4 kwh\n"
     ]
    }
   ],
   "source": [
    "print (\"The total transmission_kwh in 2010 : \" + str(actual_energy_2010) + \" kwh\")"
   ]
  },
  {
   "cell_type": "markdown",
   "metadata": {},
   "source": [
    "#### What is the total amount of energy used in 2015?"
   ]
  },
  {
   "cell_type": "code",
   "execution_count": 229,
   "metadata": {},
   "outputs": [
    {
     "name": "stdout",
     "output_type": "stream",
     "text": [
      "The total transmission_kwh in 2015 : 3216658.2 kwh\n"
     ]
    }
   ],
   "source": [
    "actual_energy_2015 = 2335 * 195.72 + 8460 * 326.2\n",
    "print (\"The total transmission_kwh in 2015 : \" + str(actual_energy_2015) + \" kwh\")"
   ]
  },
  {
   "cell_type": "markdown",
   "metadata": {},
   "source": [
    "#### What is the percent increase of energy used between 2010 and 2015?"
   ]
  },
  {
   "cell_type": "code",
   "execution_count": 230,
   "metadata": {},
   "outputs": [
    {
     "name": "stdout",
     "output_type": "stream",
     "text": [
      "The percentage increase of energy from 2010 to 2015 : 104.28837787445622%\n"
     ]
    }
   ],
   "source": [
    "increase = actual_energy_2015 - actual_energy_2010\n",
    "percentage_inc = increase / actual_energy_2010 * 100\n",
    "print (\"The percentage increase of energy from 2010 to 2015 : \" + str(percentage_inc) + \"%\")"
   ]
  },
  {
   "cell_type": "code",
   "execution_count": 231,
   "metadata": {},
   "outputs": [
    {
     "data": {
      "image/png": "[encoded data removed]",
      "text/plain": [
       "<matplotlib.figure.Figure at 0x109fa6358>"
      ]
     },
     "metadata": {},
     "output_type": "display_data"
    }
   ],
   "source": [
    "data_2 = pd.DataFrame(data = \n",
    "                      {\"year\" : [2010, 2015], \n",
    "                       \"values\" : [actual_energy_2010/(10**8), actual_energy_2015/(10**8)]})\n",
    "\n",
    "data_2.plot(kind='bar',x='year', y='values');\n",
    "plt.title(\"Energy Usage Difference Between Actual 2010 And Actual 2015\")\n",
    "plt.ylabel('Values (1e8)');\n"
   ]
  },
  {
   "cell_type": "markdown",
   "metadata": {},
   "source": [
    "### Cumulative volume change 2010 vs 2015 "
   ]
  },
  {
   "cell_type": "markdown",
   "metadata": {},
   "source": [
    "#### What is the total amount of water transported in 2010?"
   ]
  },
  {
   "cell_type": "code",
   "execution_count": 232,
   "metadata": {},
   "outputs": [
    {
     "name": "stdout",
     "output_type": "stream",
     "text": [
      "The total volume of water transported in 2010: 9280\n"
     ]
    }
   ],
   "source": [
    "print (\"The total volume of water transported in 2010: \" + str(volume_2010))"
   ]
  },
  {
   "cell_type": "markdown",
   "metadata": {},
   "source": [
    "#### What is the total amount of water transported in 2015?"
   ]
  },
  {
   "cell_type": "code",
   "execution_count": 233,
   "metadata": {},
   "outputs": [
    {
     "name": "stdout",
     "output_type": "stream",
     "text": [
      "The total volume of water transported in 2015: 10795\n"
     ]
    }
   ],
   "source": [
    "volume_2015 = 2335 + 8460\n",
    "print (\"The total volume of water transported in 2015: \" + str(volume_2015))"
   ]
  },
  {
   "cell_type": "markdown",
   "metadata": {},
   "source": [
    "#### What is the percent increase of cumulative volume of water transported between 2010 and 2015?"
   ]
  },
  {
   "cell_type": "code",
   "execution_count": 234,
   "metadata": {},
   "outputs": [
    {
     "name": "stdout",
     "output_type": "stream",
     "text": [
      "The percentage decrease of volume of water transported from 2010 to 2015 : 16.325431034482758 %\n"
     ]
    }
   ],
   "source": [
    "difference = volume_2015 - volume_2010\n",
    "percentage_diff = difference / volume_2010 * 100\n",
    "print (\"The percentage decrease of volume of water transported from 2010 to 2015 : \" + str(percentage_dec) + \" %\")"
   ]
  },
  {
   "cell_type": "code",
   "execution_count": 235,
   "metadata": {},
   "outputs": [
    {
     "data": {
      "image/png": "[encoded data removed]",
      "text/plain": [
       "<matplotlib.figure.Figure at 0x1a18865470>"
      ]
     },
     "metadata": {},
     "output_type": "display_data"
    }
   ],
   "source": [
    "data_3 = pd.DataFrame(data = \n",
    "                      {\"year\" : [2010, 2015], \n",
    "                       \"values\" : [volume_2010, volume_2015]})\n",
    "data_3.plot(kind='bar',x='year', y='values')\n",
    "plt.title(\"Volume Difference Between Actual 2010 And Actual 2015\")\n",
    "plt.ylabel('Values');\n"
   ]
  },
  {
   "cell_type": "markdown",
   "metadata": {},
   "source": [
    "# 2015 projection vs 2015 actual"
   ]
  },
  {
   "cell_type": "markdown",
   "metadata": {},
   "source": [
    "### Amount of energy used in 2015 predicted vs 2015  actual\n",
    "\n"
   ]
  },
  {
   "cell_type": "markdown",
   "metadata": {},
   "source": [
    "#### What is the total amount of energy predicted to be used in 2015?"
   ]
  },
  {
   "cell_type": "code",
   "execution_count": 236,
   "metadata": {},
   "outputs": [
    {
     "name": "stdout",
     "output_type": "stream",
     "text": [
      "Amount of Energy used in 2015 projection : 2980195.82 kwh\n"
     ]
    }
   ],
   "source": [
    "print (\"Amount of Energy used in 2015 projection : \" + str(projection_energy_2015) + \" kwh\")"
   ]
  },
  {
   "cell_type": "markdown",
   "metadata": {},
   "source": [
    "#### What is the total amount of energy used in 2015?"
   ]
  },
  {
   "cell_type": "code",
   "execution_count": 237,
   "metadata": {},
   "outputs": [
    {
     "name": "stdout",
     "output_type": "stream",
     "text": [
      "Amount of Energy used in 2015 : 3216658.2 kwh\n"
     ]
    }
   ],
   "source": [
    "print (\"Amount of Energy used in 2015 : \" + str(actual_energy_2015) + \" kwh\")"
   ]
  },
  {
   "cell_type": "markdown",
   "metadata": {},
   "source": [
    "#### What is the difference of energy usage between 2015 predicted and 2015 actual?"
   ]
  },
  {
   "cell_type": "code",
   "execution_count": 238,
   "metadata": {},
   "outputs": [
    {
     "name": "stdout",
     "output_type": "stream",
     "text": [
      "The actual energy used in 2015 is 236462.38000000035 kwh greater than the projection made in 2010\n"
     ]
    }
   ],
   "source": [
    "diff = actual_energy_2015 - projection_energy_2015\n",
    "print (\"The actual energy used in 2015 is \" + str(diff) + \" kwh\" + \" greater than the projection made in 2010\")"
   ]
  },
  {
   "cell_type": "code",
   "execution_count": 239,
   "metadata": {},
   "outputs": [
    {
     "data": {
      "image/png": "[encoded data removed]",
      "text/plain": [
       "<matplotlib.figure.Figure at 0x1a18e84f60>"
      ]
     },
     "metadata": {},
     "output_type": "display_data"
    }
   ],
   "source": [
    "data_4 = pd.DataFrame(data = \n",
    "                      {\"year\" : [2010, 2015], \n",
    "                       \"values\" : [projection_energy_2015/(10**6), actual_energy_2015/(10**6)]})\n",
    "data_4.plot(kind='bar',x='year', y='values')\n",
    "plt.title(\"Energy Difference Between Predicted 2010 And Actual 2015\")\n",
    "plt.ylabel('Values (1e6)');\n"
   ]
  },
  {
   "cell_type": "markdown",
   "metadata": {},
   "source": [
    "###  Cumulative volume in 2015 projection vs 2015 actual"
   ]
  },
  {
   "cell_type": "markdown",
   "metadata": {},
   "source": [
    "#### What is the total amount of water predicted to be transported in 2010?"
   ]
  },
  {
   "cell_type": "code",
   "execution_count": 240,
   "metadata": {},
   "outputs": [
    {
     "name": "stdout",
     "output_type": "stream",
     "text": [
      "The projected amount of volume in 2015 : 17863\n"
     ]
    }
   ],
   "source": [
    "print (\"The projected amount of volume in 2015 : \" + str(volume_2015p))"
   ]
  },
  {
   "cell_type": "markdown",
   "metadata": {},
   "source": [
    "#### What is the total amount of water transported in 2015?"
   ]
  },
  {
   "cell_type": "code",
   "execution_count": 241,
   "metadata": {},
   "outputs": [
    {
     "name": "stdout",
     "output_type": "stream",
     "text": [
      "The actual amount of volume in 2015 : 10795\n"
     ]
    }
   ],
   "source": [
    "print (\"The actual amount of volume in 2015 : \" + str(volume_2015))"
   ]
  },
  {
   "cell_type": "markdown",
   "metadata": {},
   "source": [
    "#### What is the difference of volume of water transported between 2015 predicted and 2015 actual?"
   ]
  },
  {
   "cell_type": "code",
   "execution_count": 242,
   "metadata": {},
   "outputs": [
    {
     "name": "stdout",
     "output_type": "stream",
     "text": [
      "The actual amount of volume used in 2015 is 7068 less than the projected amount of volume\n"
     ]
    }
   ],
   "source": [
    "diff_v = volume_2015 - volume_2015p\n",
    "print (\"The actual amount of volume used in 2015 is \" + str(-diff_v) + \" less than the projected amount of volume\")"
   ]
  },
  {
   "cell_type": "code",
   "execution_count": 243,
   "metadata": {},
   "outputs": [
    {
     "data": {
      "image/png": "[encoded data removed]",
      "text/plain": [
       "<matplotlib.figure.Figure at 0x1a192fff28>"
      ]
     },
     "metadata": {},
     "output_type": "display_data"
    }
   ],
   "source": [
    "data_5 = pd.DataFrame(data = \n",
    "                      {\"year\" : [2010, 2015], \n",
    "                       \"values\" : [volume_2015p, volume_2015]})\n",
    "data_5.plot(kind='bar',x='year', y='values')\n",
    "plt.title(\"Volume Difference Between Predicted 2015 And Actual 2015\")\n",
    "plt.ylabel('Values');\n"
   ]
  },
  {
   "cell_type": "markdown",
   "metadata": {},
   "source": [
    "## Discussion Questions"
   ]
  },
  {
   "cell_type": "markdown",
   "metadata": {
    "collapsed": true
   },
   "source": [
    "##### What do you think caused a significant increase of usage of energy between 2010 and 2015?"
   ]
  },
  {
   "cell_type": "code",
   "execution_count": null,
   "metadata": {
    "collapsed": true
   },
   "outputs": [],
   "source": []
  },
  {
   "cell_type": "markdown",
   "metadata": {},
   "source": [
    "##### What are the differences you can find between actual 2015 data and predicted 2015 data?"
   ]
  },
  {
   "cell_type": "code",
   "execution_count": null,
   "metadata": {
    "collapsed": true
   },
   "outputs": [],
   "source": []
  },
  {
   "cell_type": "markdown",
   "metadata": {},
   "source": [
    "##### Can you connect information found through the energy flow chart and the analysis done with Cerritos Water Utility?"
   ]
  },
  {
   "cell_type": "code",
   "execution_count": null,
   "metadata": {
    "collapsed": true
   },
   "outputs": [],
   "source": []
  },
  {
   "cell_type": "markdown",
   "metadata": {},
   "source": [
    "## Can you do your own?"
   ]
  },
  {
   "cell_type": "markdown",
   "metadata": {},
   "source": [
    "### Let's try to analyze your own utility!"
   ]
  },
  {
   "cell_type": "markdown",
   "metadata": {},
   "source": [
    "# Analyze data between actual 2010 data and 2015 data predicted in 2010.\n",
    "\n"
   ]
  },
  {
   "cell_type": "markdown",
   "metadata": {},
   "source": [
    "### Amount of energy used in 2010 vs 2015 projection"
   ]
  },
  {
   "cell_type": "markdown",
   "metadata": {},
   "source": [
    "#### What is the total amount of energy used in 2010?"
   ]
  },
  {
   "cell_type": "code",
   "execution_count": 71,
   "metadata": {
    "collapsed": true
   },
   "outputs": [],
   "source": [
    "actual_energy_2010 = ...\n",
    "print (\"Amount of Energy used in 2010 : \" + str(actual_energy_2010) + \" kwh\")"
   ]
  },
  {
   "cell_type": "markdown",
   "metadata": {},
   "source": [
    "#### What is the total amount of energy predicted to be used in 2015?"
   ]
  },
  {
   "cell_type": "code",
   "execution_count": 72,
   "metadata": {
    "collapsed": true
   },
   "outputs": [],
   "source": [
    "projection_2015 = ...\n",
    "print (\"Amount of Energy used in 2015 projection : \" + str(projection_2015) + \" kwh\")"
   ]
  },
  {
   "cell_type": "markdown",
   "metadata": {},
   "source": [
    "#### What is the predicted percent increase of energy used between 2010 and 2015?"
   ]
  },
  {
   "cell_type": "code",
   "execution_count": null,
   "metadata": {
    "collapsed": true
   },
   "outputs": [],
   "source": [
    "diff_2010 = ...\n",
    "percent = ...\n",
    "print (\"Transmission energy is expected to increase by \" + str(percent) + \"%\")"
   ]
  },
  {
   "cell_type": "markdown",
   "metadata": {},
   "source": [
    "### Cumulative volume change 2010 vs 2015 projection\n"
   ]
  },
  {
   "cell_type": "markdown",
   "metadata": {},
   "source": [
    "#### What is the total amount of water transported in 2010?"
   ]
  },
  {
   "cell_type": "code",
   "execution_count": null,
   "metadata": {
    "collapsed": true
   },
   "outputs": [],
   "source": [
    "volume_2010 = ...\n",
    "print (\"Amount of volume used in 2010 : \" + str(volume_2010))"
   ]
  },
  {
   "cell_type": "markdown",
   "metadata": {},
   "source": [
    "#### What is the total amount of water predicted to be transported in 2015?"
   ]
  },
  {
   "cell_type": "code",
   "execution_count": null,
   "metadata": {
    "collapsed": true
   },
   "outputs": [],
   "source": [
    "volume_2015 = ...\n",
    "print (\"Amount of volume used in 2015 : \" + str(volume_2015))"
   ]
  },
  {
   "cell_type": "markdown",
   "metadata": {},
   "source": [
    "#### What is the predicted percent increase of cumulative volume of water transported between 2010 and 2015?"
   ]
  },
  {
   "cell_type": "code",
   "execution_count": null,
   "metadata": {
    "collapsed": true
   },
   "outputs": [],
   "source": [
    "percent_v = ...\n",
    "print (\"Volume of water expected to change by \" + str(percent_v) + \"% from 2010 and 2015\")"
   ]
  },
  {
   "cell_type": "markdown",
   "metadata": {},
   "source": [
    "# Compare actual 2010 data vs actual 2015 data"
   ]
  },
  {
   "cell_type": "markdown",
   "metadata": {},
   "source": [
    "### Amount of energy used in 2010 vs 2015 \n",
    "\n"
   ]
  },
  {
   "cell_type": "markdown",
   "metadata": {},
   "source": [
    "#### What is the total amount of energy used in 2010?"
   ]
  },
  {
   "cell_type": "code",
   "execution_count": null,
   "metadata": {
    "collapsed": true
   },
   "outputs": [],
   "source": [
    "energy = ...\n",
    "print (\"The total transmission_kwh in 2010 : \" + str(energy) + \" kwh\")"
   ]
  },
  {
   "cell_type": "markdown",
   "metadata": {},
   "source": [
    "#### What is the total amount of energy used in 2015?"
   ]
  },
  {
   "cell_type": "code",
   "execution_count": null,
   "metadata": {
    "collapsed": true
   },
   "outputs": [],
   "source": [
    "energy1 = ...\n",
    "print (\"The total transmission_kwh in 2015 : \" + str(energy1) + \" kwh\")"
   ]
  },
  {
   "cell_type": "markdown",
   "metadata": {},
   "source": [
    "#### What is the percent increase of energy used between 2010 and 2015?"
   ]
  },
  {
   "cell_type": "code",
   "execution_count": null,
   "metadata": {
    "collapsed": true
   },
   "outputs": [],
   "source": [
    "increase = ...\n",
    "percentage_inc = ...\n",
    "print (\"The percentage increase of energy from 2010 to 2015 : \" + str(percentage_inc) + \"%\")"
   ]
  },
  {
   "cell_type": "markdown",
   "metadata": {},
   "source": [
    "### Cumulative volume change 2010 vs 2015 "
   ]
  },
  {
   "cell_type": "markdown",
   "metadata": {},
   "source": [
    "#### What is the total amount of water transported in 2010?"
   ]
  },
  {
   "cell_type": "code",
   "execution_count": null,
   "metadata": {
    "collapsed": true
   },
   "outputs": [],
   "source": [
    "volume = ...\n",
    "print (\"The total volume of water transported in 2010: \" + str(volume))"
   ]
  },
  {
   "cell_type": "markdown",
   "metadata": {},
   "source": [
    "#### What is the total amount of water transported in 2015?"
   ]
  },
  {
   "cell_type": "code",
   "execution_count": null,
   "metadata": {
    "collapsed": true
   },
   "outputs": [],
   "source": [
    "volume1 = ...\n",
    "print (\"The total volume of water transported in 2015: \" + str(volume1))"
   ]
  },
  {
   "cell_type": "markdown",
   "metadata": {},
   "source": [
    "#### What is the percent increase of cumulative volume of water transported between 2010 and 2015?"
   ]
  },
  {
   "cell_type": "code",
   "execution_count": null,
   "metadata": {
    "collapsed": true
   },
   "outputs": [],
   "source": [
    "decrease = ...\n",
    "percentage_dec = ...\n",
    "print (\"The percentage decrease of volume of water transported from 2010 to 2015 : \" + str(percentage_dec) + \" %\")"
   ]
  },
  {
   "cell_type": "markdown",
   "metadata": {},
   "source": [
    "# Compare 2015 projection vs 2015 actual"
   ]
  },
  {
   "cell_type": "markdown",
   "metadata": {},
   "source": [
    "### Amount of energy used in 2015 predicted vs 2015  actual\n",
    "\n"
   ]
  },
  {
   "cell_type": "markdown",
   "metadata": {},
   "source": [
    "#### What is the total amount of energy predicted to be used in 2015?"
   ]
  },
  {
   "cell_type": "code",
   "execution_count": null,
   "metadata": {
    "collapsed": true
   },
   "outputs": [],
   "source": [
    "projection = ...\n",
    "print (\"Amount of Energy used in 2015 projection : \" + str(projection) + \" kwh\")"
   ]
  },
  {
   "cell_type": "markdown",
   "metadata": {},
   "source": [
    "#### What is the total amount of energy used in 2015?"
   ]
  },
  {
   "cell_type": "code",
   "execution_count": null,
   "metadata": {
    "collapsed": true
   },
   "outputs": [],
   "source": [
    "actual = ...\n",
    "print (\"Amount of Energy used in 2015 : \" + str(actual) + \" kwh\")"
   ]
  },
  {
   "cell_type": "markdown",
   "metadata": {},
   "source": [
    "#### What is the difference of energy usage between 2015 predicted and 2015 actual?"
   ]
  },
  {
   "cell_type": "code",
   "execution_count": null,
   "metadata": {
    "collapsed": true
   },
   "outputs": [],
   "source": [
    "diff = ...\n",
    "print (\"The actual energy used in 2015 is \" + str(diff) + \" kwh\" + \" greater than the projection made in 2010\")"
   ]
  },
  {
   "cell_type": "markdown",
   "metadata": {},
   "source": [
    "###  Cumulative volume in 2015 projection vs 2015 actual"
   ]
  },
  {
   "cell_type": "markdown",
   "metadata": {},
   "source": [
    "#### What is the total amount of water predicted to be transported in 2010?"
   ]
  },
  {
   "cell_type": "code",
   "execution_count": null,
   "metadata": {
    "collapsed": true
   },
   "outputs": [],
   "source": [
    "projection_v = ...\n",
    "print (\"The projected amount of volume in 2015 : \" + str(projection_v))"
   ]
  },
  {
   "cell_type": "markdown",
   "metadata": {},
   "source": [
    "#### What is the total amount of water transported in 2015?"
   ]
  },
  {
   "cell_type": "code",
   "execution_count": null,
   "metadata": {
    "collapsed": true
   },
   "outputs": [],
   "source": [
    "actual_v = ...\n",
    "print (\"The actual amount of volume in 2015 : \" + str(actual_v))"
   ]
  },
  {
   "cell_type": "markdown",
   "metadata": {},
   "source": [
    "#### What is the difference of volume of water transported between 2015 predicted and 2015 actual?"
   ]
  },
  {
   "cell_type": "code",
   "execution_count": null,
   "metadata": {
    "collapsed": true
   },
   "outputs": [],
   "source": [
    "diff_v = ...\n",
    "print (\"The actual amount of volume used in 2015 is \" + str(-diff_v) + \" less than the projected amount of volume\")"
   ]
  },
  {
   "cell_type": "markdown",
   "metadata": {},
   "source": [
    "# DONE"
   ]
  },
  {
   "cell_type": "code",
   "execution_count": null,
   "metadata": {
    "collapsed": true
   },
   "outputs": [],
   "source": []
  }
 ],
 "metadata": {
  "kernelspec": {
   "display_name": "Python 3",
   "language": "python",
   "name": "python3"
  },
  "language_info": {
   "codemirror_mode": {
    "name": "ipython",
    "version": 3
   },
   "file_extension": ".py",
   "mimetype": "text/x-python",
   "name": "python",
   "nbconvert_exporter": "python",
   "pygments_lexer": "ipython3",
   "version": "3.6.8"
  }
 },
 "nbformat": 4,
 "nbformat_minor": 2
}
