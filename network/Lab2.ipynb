{
 "cells": [
  {
   "cell_type": "markdown",
   "metadata": {},
   "source": [
    "# [CE-110] Lab 2: Analyzing Water Networks and Energy Use in CA\n",
    "\n",
    "*Estimated Time: 50 minutes*\n",
    "\n",
    "### Table of Contents:\n",
    "\n",
    "1. [Visualizing the Network](#section_network)\n",
    "2. [Sankey Diagrams: Visualizing Water Flow](#section_sankey)\n",
    "\n",
    "In this lab, we will be visualizing and analyzing water networks for specific utilities in CA. First off, we will simply visualize the network associated with you utility (i.e. the sources that lead into it). Then, we will analyze the flow of water in these networks and how they have changed over time. Finally, we will perform energy analysis calculations in order to see in more depth how the flow of water has changed and what effects this has had. At this time you should have been assigned a utility to visualize and analyze. Here is a mapping of utiliy names to their respective codes in the graphs and data.\n",
    "\n",
    "Utility Code|Utility Name\n",
    "-|-\n",
    "1805003E|Alameda County Water District\n",
    "1803033E|Fresno City of\n",
    "1810019E|Hi-Desert Water District\n",
    "1809027E|Palmdale Water District\n",
    "1805085E|San Jose Water Company\n",
    "1807341E|Santa Monica City of\n",
    "\n",
    "<div class=\"alert alert-info\"> \n",
    "\n",
    "**QUESTION** cells are in blue and ask you to make graphs, answer conceptual questions, or do other lab tasks. To receive full credit for your lab, you must complete all **QUESTION** cells.\n",
    "\n",
    "</div>"
   ]
  },
  {
   "cell_type": "markdown",
   "metadata": {},
   "source": [
    "Note: There is a folder named \"output\" located in the same directory where you opened this lab. Currently it is empty, but later on you will call functions that will ouput to this folder and you will need to copy and paste that ouput to a link. Try to quickly locate that folder in the tab where you opened this lab."
   ]
  },
  {
   "cell_type": "markdown",
   "metadata": {},
   "source": [
    "To start off the lab, we have to import some tools for us to be able to select and visualize certain utilities. These tools will build graphs for us which show which water sources and which types of water are upstream from a certain utility. The tools will also enable us to perform energy analysis on the utilities.Therefore, just run the cell and this will set up our environment (this will take a minute to run)."
   ]
  },
  {
   "cell_type": "code",
   "execution_count": 2,
   "metadata": {},
   "outputs": [
    {
     "name": "stdout",
     "output_type": "stream",
     "text": [
      "Requirement already satisfied: pydot in c:\\users\\jason\\anaconda3\\lib\\site-packages (1.4.1)\n",
      "Requirement already satisfied: pyparsing>=2.1.4 in c:\\users\\jason\\anaconda3\\lib\\site-packages (from pydot) (2.3.0)\n"
     ]
    },
    {
     "name": "stderr",
     "output_type": "stream",
     "text": [
      "You are using pip version 19.0.2, however version 19.0.3 is available.\n",
      "You should consider upgrading via the 'python -m pip install --upgrade pip' command.\n",
      "You are using pip version 19.0.2, however version 19.0.3 is available.\n",
      "You should consider upgrading via the 'python -m pip install --upgrade pip' command.\n",
      "You are using pip version 19.0.2, however version 19.0.3 is available.\n",
      "You should consider upgrading via the 'python -m pip install --upgrade pip' command.\n",
      "You are using pip version 19.0.2, however version 19.0.3 is available.\n",
      "You should consider upgrading via the 'python -m pip install --upgrade pip' command.\n",
      "Enabling notebook extension jupyter-sankey-widget/extension...\n",
      "      - Validating: ok\n"
     ]
    }
   ],
   "source": [
    "!pip install pydot\n",
    "!pip install -q ipywidgets\n",
    "!pip install -q ipysankeywidget\n",
    "!pip install -q widgetsnbextension\n",
    "!jupyter nbextension enable --py --sys-prefix ipysankeywidget\n",
    "\n",
    "from sub_network import subWESTnet\n",
    "import pandas as pd\n",
    "import numpy as np\n",
    "import json, urllib, ast\n",
    "import pydot\n",
    "from ipysankeywidget import SankeyWidget\n",
    "from ipywidgets import Layout"
   ]
  },
  {
   "cell_type": "markdown",
   "metadata": {},
   "source": [
    "## Visualizing the Network<a id='section_network'></a>\n",
    "\n",
    "In this section, we will be completing our first task, which is to make a bare-bones visualization of our network. \n",
    "1. First run the cells of code and replace anything that it says to replace (Don't worry about understanding what the code does)\n",
    "2. Then locate the output in the 'ouput' folder\n",
    "3. Copy and Paste it, to the link found later on in this section which takes you to GraphViz.com\n",
    "\n",
    "Here, we create what is called an instance of a graph object. This is what will enable us to be able to visualize the water network associated with a certain utility, all the sources and the types of water that are leading into it. We enter in the number 2010, because we will be looking at the your utility network for that year."
   ]
  },
  {
   "cell_type": "code",
   "execution_count": 3,
   "metadata": {},
   "outputs": [],
   "source": [
    "new_upstream_example = subWESTnet('data/fixed_times_erl.csv', 2010)"
   ]
  },
  {
   "cell_type": "markdown",
   "metadata": {},
   "source": [
    "This line of code specifies that we want to look at all the sources upstream from the utility. The point of this is that we want to analyze what are the types of water coming into these utilities, how much is coming in, and from where is it coming. In the spot that has \"Your Utility Name Here\" put your **utility name** in the quotes. To see what your specific utility name is, look at the table at the top of this page and put that name specifically in the quotes. **Note: do not put your utility code in the text, put it's actual name there, if you make a spelling mistake, make sure to rerun the above cell because that will refresh the object we are using and allow us to run the below cell again**"
   ]
  },
  {
   "cell_type": "code",
   "execution_count": 4,
   "metadata": {
    "scrolled": false
   },
   "outputs": [
    {
     "name": "stdout",
     "output_type": "stream",
     "text": [
      "Unweighted upstream graph built.\n"
     ]
    }
   ],
   "source": [
    "new_upstream_example.upstream(\"YOUR UTILITY NAME HERE\")"
   ]
  },
  {
   "cell_type": "markdown",
   "metadata": {},
   "source": [
    "This line of code is here to compute all the amounts of water going into the different nodes in the network, all you have to do is run the following cell"
   ]
  },
  {
   "cell_type": "code",
   "execution_count": 5,
   "metadata": {},
   "outputs": [
    {
     "name": "stdout",
     "output_type": "stream",
     "text": [
      "Graph is weighted.\n"
     ]
    }
   ],
   "source": [
    "new_upstream_example.balance_graph()"
   ]
  },
  {
   "cell_type": "markdown",
   "metadata": {},
   "source": [
    "The following attributes of our upstream example show the tables of the actual network (by using source and target labels) and the energies associated with each node in the graph. Just browse the tables and try to see what each column is referring to and how the rows relate certain utilities/sources with energy levels and the amount of water moving through each point in the network."
   ]
  },
  {
   "cell_type": "code",
   "execution_count": 6,
   "metadata": {},
   "outputs": [
    {
     "data": {
      "text/html": [
       "<div>\n",
       "<style scoped>\n",
       "    .dataframe tbody tr th:only-of-type {\n",
       "        vertical-align: middle;\n",
       "    }\n",
       "\n",
       "    .dataframe tbody tr th {\n",
       "        vertical-align: top;\n",
       "    }\n",
       "\n",
       "    .dataframe thead th {\n",
       "        text-align: right;\n",
       "    }\n",
       "</style>\n",
       "<table border=\"1\" class=\"dataframe\">\n",
       "  <thead>\n",
       "    <tr style=\"text-align: right;\">\n",
       "      <th></th>\n",
       "      <th>source</th>\n",
       "      <th>target</th>\n",
       "      <th>cumulative_volume_af</th>\n",
       "      <th>transmission_kwh/af</th>\n",
       "      <th>treatment_kwh/af</th>\n",
       "      <th>used_vol_af</th>\n",
       "    </tr>\n",
       "  </thead>\n",
       "  <tbody>\n",
       "    <tr>\n",
       "      <th>0</th>\n",
       "      <td>SW_CVPFKC</td>\n",
       "      <td>Fresno City of</td>\n",
       "      <td>53121.00000</td>\n",
       "      <td>23.220000</td>\n",
       "      <td>0.0</td>\n",
       "      <td>53121.00</td>\n",
       "    </tr>\n",
       "    <tr>\n",
       "      <th>1</th>\n",
       "      <td>1803033GW</td>\n",
       "      <td>1803033PD</td>\n",
       "      <td>30799.03923</td>\n",
       "      <td>399.000000</td>\n",
       "      <td>26.0</td>\n",
       "      <td>29572.94</td>\n",
       "    </tr>\n",
       "    <tr>\n",
       "      <th>2</th>\n",
       "      <td>FRES_ID</td>\n",
       "      <td>1803033PD</td>\n",
       "      <td>19023.93641</td>\n",
       "      <td>87.000000</td>\n",
       "      <td>224.0</td>\n",
       "      <td>18266.60</td>\n",
       "    </tr>\n",
       "    <tr>\n",
       "      <th>3</th>\n",
       "      <td>SW_CVPFKC</td>\n",
       "      <td>1803033PD</td>\n",
       "      <td>14701.51218</td>\n",
       "      <td>23.220000</td>\n",
       "      <td>224.0</td>\n",
       "      <td>14116.25</td>\n",
       "    </tr>\n",
       "    <tr>\n",
       "      <th>4</th>\n",
       "      <td>RES_MLRTN</td>\n",
       "      <td>SW_CVPFKC</td>\n",
       "      <td>67956.99412</td>\n",
       "      <td>0.000000</td>\n",
       "      <td>0.0</td>\n",
       "      <td>67371.23</td>\n",
       "    </tr>\n",
       "    <tr>\n",
       "      <th>5</th>\n",
       "      <td>1803033PD</td>\n",
       "      <td>Fresno City of</td>\n",
       "      <td>61955.79000</td>\n",
       "      <td>17.600000</td>\n",
       "      <td>0.0</td>\n",
       "      <td>61955.79</td>\n",
       "    </tr>\n",
       "    <tr>\n",
       "      <th>6</th>\n",
       "      <td>1803033REC</td>\n",
       "      <td>1803033NPD</td>\n",
       "      <td>88.00000</td>\n",
       "      <td>0.000000</td>\n",
       "      <td>236.0</td>\n",
       "      <td>88.00</td>\n",
       "    </tr>\n",
       "    <tr>\n",
       "      <th>7</th>\n",
       "      <td>1803033NPD</td>\n",
       "      <td>Fresno City of</td>\n",
       "      <td>88.00000</td>\n",
       "      <td>21.120000</td>\n",
       "      <td>0.0</td>\n",
       "      <td>88.00</td>\n",
       "    </tr>\n",
       "    <tr>\n",
       "      <th>8</th>\n",
       "      <td>KINGS</td>\n",
       "      <td>1803033GW</td>\n",
       "      <td>30799.03923</td>\n",
       "      <td>0.000000</td>\n",
       "      <td>0.0</td>\n",
       "      <td>29572.94</td>\n",
       "    </tr>\n",
       "    <tr>\n",
       "      <th>9</th>\n",
       "      <td>SAN JOAQUIN VALLEY</td>\n",
       "      <td>KINGS</td>\n",
       "      <td>51162.00619</td>\n",
       "      <td>0.000000</td>\n",
       "      <td>0.0</td>\n",
       "      <td>49779.01</td>\n",
       "    </tr>\n",
       "    <tr>\n",
       "      <th>10</th>\n",
       "      <td>GWR1803-5-22.08</td>\n",
       "      <td>1803033GW</td>\n",
       "      <td>14701.51218</td>\n",
       "      <td>0.000000</td>\n",
       "      <td>26.0</td>\n",
       "      <td>0.00</td>\n",
       "    </tr>\n",
       "    <tr>\n",
       "      <th>11</th>\n",
       "      <td>WWT1803033</td>\n",
       "      <td>1803033REC</td>\n",
       "      <td>14789.51218</td>\n",
       "      <td>0.642618</td>\n",
       "      <td>0.0</td>\n",
       "      <td>88.00</td>\n",
       "    </tr>\n",
       "    <tr>\n",
       "      <th>12</th>\n",
       "      <td>1803033REC</td>\n",
       "      <td>GWR1803-5-22.08</td>\n",
       "      <td>14701.51218</td>\n",
       "      <td>749.000000</td>\n",
       "      <td>1095.0</td>\n",
       "      <td>0.00</td>\n",
       "    </tr>\n",
       "    <tr>\n",
       "      <th>13</th>\n",
       "      <td>1803033GW</td>\n",
       "      <td>Fresno City of</td>\n",
       "      <td>14116.25000</td>\n",
       "      <td>17.600000</td>\n",
       "      <td>0.0</td>\n",
       "      <td>0.00</td>\n",
       "    </tr>\n",
       "  </tbody>\n",
       "</table>\n",
       "</div>"
      ],
      "text/plain": [
       "                source           target  cumulative_volume_af  \\\n",
       "0            SW_CVPFKC   Fresno City of           53121.00000   \n",
       "1            1803033GW        1803033PD           30799.03923   \n",
       "2              FRES_ID        1803033PD           19023.93641   \n",
       "3            SW_CVPFKC        1803033PD           14701.51218   \n",
       "4            RES_MLRTN        SW_CVPFKC           67956.99412   \n",
       "5            1803033PD   Fresno City of           61955.79000   \n",
       "6           1803033REC       1803033NPD              88.00000   \n",
       "7           1803033NPD   Fresno City of              88.00000   \n",
       "8                KINGS        1803033GW           30799.03923   \n",
       "9   SAN JOAQUIN VALLEY            KINGS           51162.00619   \n",
       "10     GWR1803-5-22.08        1803033GW           14701.51218   \n",
       "11          WWT1803033       1803033REC           14789.51218   \n",
       "12          1803033REC  GWR1803-5-22.08           14701.51218   \n",
       "13           1803033GW   Fresno City of           14116.25000   \n",
       "\n",
       "    transmission_kwh/af  treatment_kwh/af  used_vol_af  \n",
       "0             23.220000               0.0     53121.00  \n",
       "1            399.000000              26.0     29572.94  \n",
       "2             87.000000             224.0     18266.60  \n",
       "3             23.220000             224.0     14116.25  \n",
       "4              0.000000               0.0     67371.23  \n",
       "5             17.600000               0.0     61955.79  \n",
       "6              0.000000             236.0        88.00  \n",
       "7             21.120000               0.0        88.00  \n",
       "8              0.000000               0.0     29572.94  \n",
       "9              0.000000               0.0     49779.01  \n",
       "10             0.000000              26.0         0.00  \n",
       "11             0.642618               0.0        88.00  \n",
       "12           749.000000            1095.0         0.00  \n",
       "13            17.600000               0.0         0.00  "
      ]
     },
     "execution_count": 6,
     "metadata": {},
     "output_type": "execute_result"
    }
   ],
   "source": [
    "new_upstream_example.table()"
   ]
  },
  {
   "cell_type": "code",
   "execution_count": 7,
   "metadata": {},
   "outputs": [
    {
     "data": {
      "text/html": [
       "<div>\n",
       "<style scoped>\n",
       "    .dataframe tbody tr th:only-of-type {\n",
       "        vertical-align: middle;\n",
       "    }\n",
       "\n",
       "    .dataframe tbody tr th {\n",
       "        vertical-align: top;\n",
       "    }\n",
       "\n",
       "    .dataframe thead th {\n",
       "        text-align: right;\n",
       "    }\n",
       "</style>\n",
       "<table border=\"1\" class=\"dataframe\">\n",
       "  <thead>\n",
       "    <tr style=\"text-align: right;\">\n",
       "      <th></th>\n",
       "      <th>node</th>\n",
       "      <th>kwh/af</th>\n",
       "    </tr>\n",
       "  </thead>\n",
       "  <tbody>\n",
       "    <tr>\n",
       "      <th>0</th>\n",
       "      <td>WWT1803033</td>\n",
       "      <td>0.000000</td>\n",
       "    </tr>\n",
       "    <tr>\n",
       "      <th>1</th>\n",
       "      <td>FRES_ID</td>\n",
       "      <td>0.000000</td>\n",
       "    </tr>\n",
       "    <tr>\n",
       "      <th>2</th>\n",
       "      <td>RES_MLRTN</td>\n",
       "      <td>0.000000</td>\n",
       "    </tr>\n",
       "    <tr>\n",
       "      <th>3</th>\n",
       "      <td>1803033REC</td>\n",
       "      <td>0.642618</td>\n",
       "    </tr>\n",
       "    <tr>\n",
       "      <th>4</th>\n",
       "      <td>1803033NPD</td>\n",
       "      <td>236.642618</td>\n",
       "    </tr>\n",
       "    <tr>\n",
       "      <th>5</th>\n",
       "      <td>SAN JOAQUIN VALLEY</td>\n",
       "      <td>0.000000</td>\n",
       "    </tr>\n",
       "    <tr>\n",
       "      <th>6</th>\n",
       "      <td>KINGS</td>\n",
       "      <td>0.000000</td>\n",
       "    </tr>\n",
       "    <tr>\n",
       "      <th>7</th>\n",
       "      <td>GWR1803-5-22.08</td>\n",
       "      <td>1844.642618</td>\n",
       "    </tr>\n",
       "    <tr>\n",
       "      <th>8</th>\n",
       "      <td>SW_CVPFKC</td>\n",
       "      <td>0.000000</td>\n",
       "    </tr>\n",
       "    <tr>\n",
       "      <th>9</th>\n",
       "      <td>1803033GW</td>\n",
       "      <td>604.416306</td>\n",
       "    </tr>\n",
       "    <tr>\n",
       "      <th>10</th>\n",
       "      <td>1803033PD</td>\n",
       "      <td>639.384932</td>\n",
       "    </tr>\n",
       "    <tr>\n",
       "      <th>11</th>\n",
       "      <td>Fresno City of</td>\n",
       "      <td>392.483777</td>\n",
       "    </tr>\n",
       "  </tbody>\n",
       "</table>\n",
       "</div>"
      ],
      "text/plain": [
       "                  node       kwh/af\n",
       "0           WWT1803033     0.000000\n",
       "1              FRES_ID     0.000000\n",
       "2            RES_MLRTN     0.000000\n",
       "3           1803033REC     0.642618\n",
       "4           1803033NPD   236.642618\n",
       "5   SAN JOAQUIN VALLEY     0.000000\n",
       "6                KINGS     0.000000\n",
       "7      GWR1803-5-22.08  1844.642618\n",
       "8            SW_CVPFKC     0.000000\n",
       "9            1803033GW   604.416306\n",
       "10           1803033PD   639.384932\n",
       "11      Fresno City of   392.483777"
      ]
     },
     "execution_count": 7,
     "metadata": {},
     "output_type": "execute_result"
    }
   ],
   "source": [
    "new_upstream_example.energy"
   ]
  },
  {
   "cell_type": "markdown",
   "metadata": {},
   "source": [
    "This folowing cell takes the upstream table, and turns it into a dot file. The dotfile is placed in a folder called 'ouptut'."
   ]
  },
  {
   "cell_type": "markdown",
   "metadata": {},
   "source": [
    "There are some things to note about the nodes in the graph. The ones that start with \"R_\" are a river, ones that contain \"SWP\" or \"CVP\" are parts the state and of federal government water management projects in CA, respectively, ones with \"LK\" are lakes, ones with \"RES\" are reservoirs, SW are unsepcified surface water sources, GW are groudwater aquifers. The nodes which contain your utility's code and then end with PD combine all treatable water while, NPD contains all non-potable sources flowing into your utility's distribution systems."
   ]
  },
  {
   "cell_type": "code",
   "execution_count": 8,
   "metadata": {},
   "outputs": [
    {
     "name": "stdout",
     "output_type": "stream",
     "text": [
      "dot saved\n"
     ]
    }
   ],
   "source": [
    "new_upstream_example.to_dot()"
   ]
  },
  {
   "cell_type": "markdown",
   "metadata": {},
   "source": [
    "Go to the dot file (inside the ouput directory where the lab2 notebook is located) and paste the code in the dot file [here](https://dreampuf.github.io/GraphvizOnline/). Make sure to replace the entire code block that is already in the link with the entire code block in our output.dot files.\n",
    "\n",
    "Here are the steps to get to the dotfile:\n",
    " - Go to the tab where you opened this lab, on datahub\n",
    " - In the same file directory, where this lab is located, there is a file called 'output'\n",
    " - Click on that folder and in it should be the dotfile with your utility name in the filename\n",
    " - Open that file and then copy and paste the entire contents of the file into the leftside of the page that the link brings you to"
   ]
  },
  {
   "cell_type": "markdown",
   "metadata": {},
   "source": [
    "<div class=\"alert alert-info\"> \n",
    "\n",
    "**QUESTION** What are some of the sources connected to your utility (which would be located at the bottom of the graph)?  **QUESTION** \n",
    "\n",
    "</div>"
   ]
  },
  {
   "cell_type": "markdown",
   "metadata": {},
   "source": [
    "Your Answer Here (Double click the cell to replace the text)"
   ]
  },
  {
   "cell_type": "markdown",
   "metadata": {},
   "source": [
    "## The Sankey Diagram: Visualizing Water Flow<a id='section_sankey'></a>\n",
    "\n",
    "This next section assigns the task of visualizing our networks with a lot more information embedded into them. We will be looking at the water network associated with your utility but this time we will see how much water is actually flowing between certain nodes contained in the network. You will have to run some of the following ceels in order to again modify our environment and make everything work, as well as input your utility code to see the sankey diagrams which provide us with this useful visualization.\n",
    "\n",
    "The next cell is quite complicated, don't bother with trying to understand what it is doing. All it does is try to format our network so that we can use something called a sankey diagram. This diagram will allow us to visualize the water network associated with our utility in a way which shows how much water is actually travelling between utilities and sources and other things like reservoirs, rivers, and aqueducts."
   ]
  },
  {
   "cell_type": "code",
   "execution_count": 9,
   "metadata": {
    "scrolled": false
   },
   "outputs": [],
   "source": [
    "def get_sankey_file(data_path, year, utility, upstream=True):\n",
    "    gi = subWESTnet(data_path, year)\n",
    "    gi.upstream(utility)\n",
    "    \n",
    "    sank_dicts = []\n",
    "    for v in gi.edges.values():\n",
    "        sank_dict = {}\n",
    "        sank_dict['source'] = v['source']\n",
    "        sank_dict['target'] = v['target']\n",
    "        sank_dict['value'] = v['used_vol_af']\n",
    "        sank_dict['color'] = 'steelblue'\n",
    "        if v['used_vol_af'] == 0:\n",
    "            sank_dict['color'] = 'goldenrod'\n",
    "            sank_dict['value'] = .00001\n",
    "        sank_dicts.append(sank_dict)\n",
    "    \n",
    "    df = pd.DataFrame(sank_dicts)\n",
    "    df = df[df['color'] != 'goldenrod']\n",
    "    data = pd.read_csv(data_path)\n",
    "    \n",
    "    nodes = []\n",
    "    for i in df['source'].unique():\n",
    "        sdict = {}\n",
    "    \n",
    "        # check if resource/end or not\n",
    "        check_resource = data[data['target'] == i].shape\n",
    "        if check_resource[0] == 0:\n",
    "            sdict['is resource'] = True\n",
    "        else:\n",
    "            sdict['is resource'] = False\n",
    "        if i[-1:] == 'E':\n",
    "            sdict['is end'] = True\n",
    "        else:\n",
    "            sdict['is end'] = False\n",
    "    \n",
    "        # compute in/out volumes\n",
    "        outv = df[df['source'] == i]['value'].sum()\n",
    "        inv = df[df['target'] == i]['value'].sum()\n",
    "    \n",
    "        # get values to compensate for missing volumes\n",
    "        extra_case = {}\n",
    "        if outv < inv:\n",
    "            if not sdict['is end']:\n",
    "                extra_case['value'] = inv - outv\n",
    "                extra_case['source'] = i\n",
    "                extra_case['target'] = i + \" to Other\"\n",
    "                nodes.append(extra_case)\n",
    "        elif outv > inv:\n",
    "            if not sdict['is resource']:\n",
    "                extra_case['value'] = outv - inv\n",
    "                extra_case['source'] = \"Other to \" + i\n",
    "                extra_case['target'] = i\n",
    "                nodes.append(extra_case)\n",
    "    \n",
    "    extra_ = df.drop('color', axis=1).append(pd.DataFrame(nodes)).reset_index(drop=True)\n",
    "    a = []\n",
    "    count = 0\n",
    "    break_count = 0\n",
    "    break_break = []\n",
    "    while 'break' != break_break:\n",
    "        drop = []\n",
    "        for i in extra_['target']:\n",
    "            if extra_[extra_['source'] == i].shape[0] == 0:\n",
    "                if i[-5:] != 'Other' and i[-1:] != 'E':\n",
    "                    drop.append(i)\n",
    "        extra_ = extra_.loc[[k for k, v in extra_.iterrows() if v['target'] not in drop]]\n",
    "        count += len(drop)\n",
    "        a.extend(drop)\n",
    "        if count == len(a):\n",
    "            break_count += 1\n",
    "        if break_count == 50:\n",
    "            break_break = 'break'\n",
    "    \n",
    "    return extra_\n"
   ]
  },
  {
   "cell_type": "markdown",
   "metadata": {},
   "source": [
    "Run the following cell but make sure to put **your utility's code, not its name**, in the quotes that say \"Your Utility Code Here\". Remember what all the different codes mean from the previous graph we made. These encodings still apply to the Sankey graph we are going to make in the following cells, except this time your utility will be on the right hand side of the sankey diagram encoded by its utility code, not it's actual name. The graph below represents the flow of water involved with this utility in the year 2010."
   ]
  },
  {
   "cell_type": "code",
   "execution_count": 13,
   "metadata": {},
   "outputs": [
    {
     "name": "stdout",
     "output_type": "stream",
     "text": [
      "Unweighted upstream graph built.\n"
     ]
    }
   ],
   "source": [
    "table_2010 = get_sankey_file('data/links_erl.csv', 2010, 'YOUR UTILITY CODE HERE', upstream=True)"
   ]
  },
  {
   "cell_type": "markdown",
   "metadata": {},
   "source": [
    "\n",
    "Next we are going to save this table as a csv in order to visualize the diagram on a website [here](https://jasonsjiang.github.io/sankey). The following line will save a file called 2010_sankey.csv to the output folder where your dot file was saved previously. This time you will follow these steps to visualize the graph:\n",
    "\n",
    "### Sankey Instructions <a id='sankey_instructions'></a>\n",
    "1. Run the cell below\n",
    "2. Go to the output folder on datahub, where you were before\n",
    "3. Click on the small checkbox to the left of your file\n",
    "4. After that happens, a few options will appear at the top of the directory, click on the download option\n",
    "5. This will download the file to your downloads folder on your computer\n",
    "6. Go to the website linked above\n",
    "7. Click on the 'Choose file' button\n",
    "8. Choose the csv file, 2010_sankey.csv"
   ]
  },
  {
   "cell_type": "code",
   "execution_count": 17,
   "metadata": {},
   "outputs": [],
   "source": [
    "table_2010.to_csv('output/2010_sankey.csv', index=False)"
   ]
  },
  {
   "cell_type": "markdown",
   "metadata": {},
   "source": [
    "<div class=\"alert alert-info\"> \n",
    "\n",
    "**QUESTION** Examine the graph. Your utility should be on the right hand side and the sources that have water flowing into it to the left of it. You can run your mouse over the graph and see how much water is flowing in each connection. How much water of each type is flowing directly into your utility? **QUESTION**\n",
    "\n",
    "</div>"
   ]
  },
  {
   "cell_type": "markdown",
   "metadata": {},
   "source": [
    "Your answer here."
   ]
  },
  {
   "cell_type": "markdown",
   "metadata": {},
   "source": [
    "The next graph we are making is the predicted flow of water associated with your utility in 2015. These predictions were made in 2010. Make sure to fill in the \"Your Utility Code Here\" portion of the cell, so that it can be run, and use your utiliy's code just like in the last Sankey Diagram you made. You will follow the same steps you did for the last sankey diagram in order to visualize it. You will want to have multiple tabs open in order to compare the different sankey diagrams. [Here](#sankey_instructions) are the directions again."
   ]
  },
  {
   "cell_type": "code",
   "execution_count": 18,
   "metadata": {},
   "outputs": [
    {
     "name": "stdout",
     "output_type": "stream",
     "text": [
      "Unweighted upstream graph built.\n"
     ]
    }
   ],
   "source": [
    "table_2015_predicted = get_sankey_file('data/links_erl.csv', 2015, 'YOUR UTILITY CODE HERE', upstream=True)"
   ]
  },
  {
   "cell_type": "code",
   "execution_count": 19,
   "metadata": {},
   "outputs": [],
   "source": [
    "table_2015_predicted.to_csv('output/2015_predicted.csv', index = False)"
   ]
  },
  {
   "cell_type": "markdown",
   "metadata": {},
   "source": [
    "Finally the last graph is the actual 2015 flow of water associated with your utility. We are going to zoom into just the portion that contains your utility and the types of water going into it. Make sure to fill in the \"Your utility code here\" part of the cell. Again, follow the same steps as before, and you will want to have another tab open for the actual 2015 sankey diagram."
   ]
  },
  {
   "cell_type": "code",
   "execution_count": 21,
   "metadata": {
    "scrolled": true
   },
   "outputs": [
    {
     "name": "stdout",
     "output_type": "stream",
     "text": [
      "Unweighted upstream graph built.\n"
     ]
    }
   ],
   "source": [
    "table_2015_actual = get_sankey_file('data/links_2015module.csv', 2015, 'YOUR UTILITY CODE HERE', upstream=True)"
   ]
  },
  {
   "cell_type": "code",
   "execution_count": 22,
   "metadata": {},
   "outputs": [],
   "source": [
    "table_2015_actual.to_csv('output/2015_actual.csv', index = False)"
   ]
  },
  {
   "cell_type": "markdown",
   "metadata": {},
   "source": [
    "<div class=\"alert alert-info\"> \n",
    "\n",
    "**QUESTION** Examine the two graphs above and look at the direct connections to your utility. How much water of each type seems to be flowing into your utility in both the predicted 2015 data and the actual 2015 data? How do these levels of water flow compare to 2010 and how do they compare to each other. Do the tyes of water flowing into your uility change at all? Given the change in the flow of water between 2010 and 2015 and how 2015 compares with what was predicted are there any recent events in California which might explain these differences?  **QUESTION**\n",
    "\n",
    "</div>"
   ]
  },
  {
   "cell_type": "markdown",
   "metadata": {},
   "source": [
    "Your answers here."
   ]
  },
  {
   "cell_type": "code",
   "execution_count": null,
   "metadata": {},
   "outputs": [],
   "source": []
  }
 ],
 "metadata": {
  "kernelspec": {
   "display_name": "Python 3",
   "language": "python",
   "name": "python3"
  },
  "language_info": {
   "codemirror_mode": {
    "name": "ipython",
    "version": 3
   },
   "file_extension": ".py",
   "mimetype": "text/x-python",
   "name": "python",
   "nbconvert_exporter": "python",
   "pygments_lexer": "ipython3",
   "version": "3.7.1"
  }
 },
 "nbformat": 4,
 "nbformat_minor": 2
}
