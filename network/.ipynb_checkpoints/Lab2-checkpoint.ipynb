{
 "cells": [
  {
   "cell_type": "markdown",
   "metadata": {},
   "source": [
    "# Lab 2: Analyzing Water Networks and Energy Use in CA"
   ]
  },
  {
   "cell_type": "markdown",
   "metadata": {},
   "source": [
    "In this lab, we will be visualizing and analyzing water networks for specific utilities in CA. At this time you should have been assigned a utility to visualize and analyze. Here is a mapping of utilities to their respective codes in the graphs and data.\n",
    "\n",
    "Utility Code|Utility Name\n",
    "-|-\n",
    "1805003E|Alameda County Water District\n",
    "1803033E|Fresno City of\n",
    "1810019E|Hi-Desert Water District\n",
    "1809027E|Palmdale Water District\n",
    "1805085E|San Jose Water Company\n",
    "1807341E|Santa Monica City of"
   ]
  },
  {
   "cell_type": "markdown",
   "metadata": {},
   "source": [
    "To start off the lab, we have to import some tools for us to be able to select and visualize certain utilities. These tools will build graphs for us which show which water sources and which types of water are upstream from a certain utility. The tools will also enable us to perform energy analysis on the utilities.Therefore, just run the cell and this will set up our environment."
   ]
  },
  {
   "cell_type": "code",
   "execution_count": 1,
   "metadata": {},
   "outputs": [],
   "source": [
    "from sub_network import subWESTnet\n",
    "import pandas as pd\n",
    "import numpy as np\n",
    "import json, urllib, ast\n",
    "from ipysankeywidget import SankeyWidget\n",
    "from ipywidgets import Layout"
   ]
  },
  {
   "cell_type": "markdown",
   "metadata": {},
   "source": [
    "Here, we create what is called an instance of a graph object. This is what will enable us to be able to visualize the water network associated with a certain utility, all the sources and the types of water that are leading into it."
   ]
  },
  {
   "cell_type": "code",
   "execution_count": 2,
   "metadata": {},
   "outputs": [],
   "source": [
    "new_upstream_example = subWESTnet('data/fixed_times_erl.csv', 2010)"
   ]
  },
  {
   "cell_type": "markdown",
   "metadata": {},
   "source": [
    "This line of code specifies that we want to look at all the sources upstream from the utility. The point of this is that we want to analyze what are the types of water coming into these utilities, how much is coming in, and from where is it coming. In the spot that has \"Your Utility Name Here\" put your utility name in the quotes. To see what your specific utility name is, look at the table at the top of this page and put that name specifically in the quotes."
   ]
  },
  {
   "cell_type": "code",
   "execution_count": 8,
   "metadata": {
    "scrolled": false
   },
   "outputs": [
    {
     "name": "stdout",
     "output_type": "stream",
     "text": [
      "Unweighted upstream graph built.\n"
     ]
    }
   ],
   "source": [
    "new_upstream_example.upstream('San Jose Water Company')"
   ]
  },
  {
   "cell_type": "markdown",
   "metadata": {},
   "source": [
    "This line of code is here to compute all the amounts of water going into the different nodes in the network, all you have to do is run the following cell"
   ]
  },
  {
   "cell_type": "code",
   "execution_count": 9,
   "metadata": {},
   "outputs": [
    {
     "name": "stdout",
     "output_type": "stream",
     "text": [
      "Graph is weighted.\n"
     ]
    }
   ],
   "source": [
    "upstream_example.balance_graph()"
   ]
  },
  {
   "cell_type": "code",
   "execution_count": 10,
   "metadata": {},
   "outputs": [
    {
     "name": "stdout",
     "output_type": "stream",
     "text": [
      "Graph is weighted.\n"
     ]
    }
   ],
   "source": [
    "new_upstream_example.balance_graph()"
   ]
  },
  {
   "cell_type": "markdown",
   "metadata": {},
   "source": [
    "The following attributes of our upstream and downstream examples show the tables of the actually network (by using source and target labels) and the energies associated with each node in the graph."
   ]
  },
  {
   "cell_type": "markdown",
   "metadata": {},
   "source": [
    "These two cells, take the downstream and upstream tables, and turn them into a dot file. The dotfile is placed in \n",
    "\n",
    "ouput/sub_(your_utility_code)_2010__upstream/downstream.dot"
   ]
  },
  {
   "cell_type": "code",
   "execution_count": 11,
   "metadata": {},
   "outputs": [
    {
     "name": "stdout",
     "output_type": "stream",
     "text": [
      "dot saved\n"
     ]
    }
   ],
   "source": [
    "upstream_example.to_dot()"
   ]
  },
  {
   "cell_type": "code",
   "execution_count": 12,
   "metadata": {},
   "outputs": [
    {
     "name": "stdout",
     "output_type": "stream",
     "text": [
      "dot saved\n"
     ]
    }
   ],
   "source": [
    "new_upstream_example.to_dot()"
   ]
  },
  {
   "cell_type": "markdown",
   "metadata": {},
   "source": [
    "go to the dot file (inside the ouput directory where the lab2 notebook is located) and paste the code in the dot file [here](https://dreampuf.github.io/GraphvizOnline/). Make sure to replace the entire code block that is already in the link with the entire code block in our output.dot files."
   ]
  },
  {
   "cell_type": "code",
   "execution_count": 6,
   "metadata": {
    "scrolled": false
   },
   "outputs": [
    {
     "name": "stdout",
     "output_type": "stream",
     "text": [
      "Unweighted upstream graph built.\n"
     ]
    },
    {
     "data": {
      "application/vnd.jupyter.widget-view+json": {
       "model_id": "84d46a3c0f6746b9885a9c591c954e90",
       "version_major": 2,
       "version_minor": 0
      },
      "text/plain": [
       "SankeyWidget(layout=Layout(height='1000', width='1500'), links=[{'source': '1805089PD', 'target': '1805085PD',…"
      ]
     },
     "metadata": {},
     "output_type": "display_data"
    }
   ],
   "source": [
    "def get_sankey_file(data_path, year, utility, upstream=True):\n",
    "    gi = subWESTnet(data_path, year)\n",
    "    gi.upstream(utility)\n",
    "    \n",
    "    sank_dicts = []\n",
    "    for v in gi.edges.values():\n",
    "        sank_dict = {}\n",
    "        sank_dict['source'] = v['source']\n",
    "        sank_dict['target'] = v['target']\n",
    "        sank_dict['value'] = v['used_vol_af']\n",
    "        sank_dict['color'] = 'steelblue'\n",
    "        if v['used_vol_af'] == 0:\n",
    "            sank_dict['color'] = 'goldenrod'\n",
    "            sank_dict['value'] = .00001\n",
    "        sank_dicts.append(sank_dict)\n",
    "    \n",
    "    df = pd.DataFrame(sank_dicts)\n",
    "    df = df[df['color'] != 'goldenrod']\n",
    "    data = pd.read_csv(data_path)\n",
    "    \n",
    "    nodes = []\n",
    "    for i in df['source'].unique():\n",
    "        sdict = {}\n",
    "    \n",
    "        # check if resource/end or not\n",
    "        check_resource = data[data['target'] == i].shape\n",
    "        if check_resource[0] == 0:\n",
    "            sdict['is resource'] = True\n",
    "        else:\n",
    "            sdict['is resource'] = False\n",
    "        if i[-1:] == 'E':\n",
    "            sdict['is end'] = True\n",
    "        else:\n",
    "            sdict['is end'] = False\n",
    "    \n",
    "        # compute in/out volumes\n",
    "        outv = df[df['source'] == i]['value'].sum()\n",
    "        inv = df[df['target'] == i]['value'].sum()\n",
    "    \n",
    "        # get values to compensate for missing volumes\n",
    "        extra_case = {}\n",
    "        if outv < inv:\n",
    "            if not sdict['is end']:\n",
    "                extra_case['value'] = inv - outv\n",
    "                extra_case['source'] = i\n",
    "                extra_case['target'] = i + \" to Other\"\n",
    "                nodes.append(extra_case)\n",
    "        elif outv > inv:\n",
    "            if not sdict['is resource']:\n",
    "                extra_case['value'] = outv - inv\n",
    "                extra_case['source'] = \"Other to \" + i\n",
    "                extra_case['target'] = i\n",
    "                nodes.append(extra_case)\n",
    "    \n",
    "    extra_ = df.drop('color', axis=1).append(pd.DataFrame(nodes)).reset_index(drop=True)\n",
    "    a = []\n",
    "    count = 0\n",
    "    break_count = 0\n",
    "    break_break = []\n",
    "    while 'break' != break_break:\n",
    "        drop = []\n",
    "        for i in extra_['target']:\n",
    "            if extra_[extra_['source'] == i].shape[0] == 0:\n",
    "                if i[-5:] != 'Other' and i[-1:] != 'E':\n",
    "                    drop.append(i)\n",
    "        extra_ = extra_.loc[[k for k, v in extra_.iterrows() if v['target'] not in drop]]\n",
    "        count += len(drop)\n",
    "        a.extend(drop)\n",
    "        if count == len(a):\n",
    "            break_count += 1\n",
    "        if break_count == 50:\n",
    "            break_break = 'break'\n",
    "    \n",
    "    return extra_\n",
    "\n",
    "SankeyWidget(layout=Layout(width=\"1500\", height=\"1000\"), \n",
    "             margins=dict(top=10, bottom=0, left=100, right=100),\n",
    "             links=get_sankey_file('data/links_erl.csv', 2015, '1805085E', upstream=True).to_dict('records'))"
   ]
  },
  {
   "cell_type": "code",
   "execution_count": 7,
   "metadata": {},
   "outputs": [
    {
     "name": "stdout",
     "output_type": "stream",
     "text": [
      "Unweighted upstream graph built.\n"
     ]
    },
    {
     "data": {
      "application/vnd.jupyter.widget-view+json": {
       "model_id": "96a857c291d8465c9533d6a40381c57f",
       "version_major": 2,
       "version_minor": 0
      },
      "text/plain": [
       "SankeyWidget(layout=Layout(height='1000', width='1500'), links=[{'source': '1805089PD', 'target': '1805085PD',…"
      ]
     },
     "metadata": {},
     "output_type": "display_data"
    }
   ],
   "source": [
    "SankeyWidget(layout=Layout(width=\"1500\", height=\"1000\"), \n",
    "             margins=dict(top=10, bottom=0, left=100, right=100),\n",
    "             links=get_sankey_file('data/links_erl.csv', 2010, '1805085E', upstream=True).to_dict('records'))"
   ]
  },
  {
   "cell_type": "code",
   "execution_count": null,
   "metadata": {},
   "outputs": [],
   "source": []
  }
 ],
 "metadata": {
  "kernelspec": {
   "display_name": "Python 3",
   "language": "python",
   "name": "python3"
  },
  "language_info": {
   "codemirror_mode": {
    "name": "ipython",
    "version": 3
   },
   "file_extension": ".py",
   "mimetype": "text/x-python",
   "name": "python",
   "nbconvert_exporter": "python",
   "pygments_lexer": "ipython3",
   "version": "3.7.1"
  }
 },
 "nbformat": 4,
 "nbformat_minor": 2
}
