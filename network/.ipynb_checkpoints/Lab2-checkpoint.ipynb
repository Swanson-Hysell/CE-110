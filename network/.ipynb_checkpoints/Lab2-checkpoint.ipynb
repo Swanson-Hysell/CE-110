{
 "cells": [
  {
   "cell_type": "markdown",
   "metadata": {},
   "source": [
    "# [CE-110] Lab 2: Analyzing Water Networks and Energy Use in CA\n",
    "\n",
    "*Estimated Time: 50 minutes*\n",
    "\n",
    "### Table of Contents:\n",
    "\n",
    "**Part I: Visualizing Networks & Water Flow**\n",
    "1. [Visualizing the Network](#section_network)\n",
    "2. [Sankey Diagrams: Visualizing Water Flow](#section_sankey)\n",
    "\n",
    "**Part II: Analyzing Energy Use across Years**\n",
    "\n",
    "\n",
    "In this lab, we will be visualizing and analyzing water networks for specific utilities in CA. First off, we will simply visualize the network associated with you utility (i.e. the sources that lead into it). Then, we will analyze the flow of water in these networks and how they have changed over time. Finally, we will perform energy analysis calculations in order to see in more depth how the flow of water has changed and what effects this has had. At this time you should have been assigned a utility to visualize and analyze. Here is a mapping of utiliy names to their respective codes in the graphs and data.\n",
    "\n",
    "Utility Code|Utility Name\n",
    "-|-\n",
    "1805003E|Alameda County Water District\n",
    "1803033E|Fresno City of\n",
    "1810019E|Hi-Desert Water District\n",
    "1809027E|Palmdale Water District\n",
    "1805085E|San Jose Water Company\n",
    "1807341E|Santa Monica City of\n",
    "\n",
    "<div class=\"alert alert-info\"> \n",
    "\n",
    "**QUESTION** cells are in blue and ask you to make graphs, answer conceptual questions, or do other lab tasks. To receive full credit for your lab, you must complete all **QUESTION** cells.\n",
    "\n",
    "</div>"
   ]
  },
  {
   "cell_type": "markdown",
   "metadata": {},
   "source": [
    "Note: There is a folder named \"output\" located in the same directory where you opened this lab. Currently it is empty, but later on you will call functions that will ouput to this folder and you will need to copy and paste that ouput to a link. Try to quickly locate that folder in the tab where you opened this lab.\n",
    "\n",
    "To start off the lab, we have to import some tools for us to be able to select and visualize certain utilities. These tools will build graphs for us which show which water sources and which types of water are upstream from a certain utility. The tools will also enable us to perform energy analysis on the utilities.Therefore, just run the cell and this will set up our environment (this will take a minute to run)."
   ]
  },
  {
   "cell_type": "code",
   "execution_count": 7,
   "metadata": {},
   "outputs": [
    {
     "name": "stdout",
     "output_type": "stream",
     "text": [
      "Requirement already satisfied: pydot in c:\\users\\keiko\\anaconda3\\envs\\discovery\\lib\\site-packages (1.4.1)\n",
      "Requirement already satisfied: pyparsing>=2.1.4 in c:\\users\\keiko\\anaconda3\\envs\\discovery\\lib\\site-packages (from pydot) (2.2.0)\n"
     ]
    },
    {
     "name": "stderr",
     "output_type": "stream",
     "text": [
      "distributed 1.21.8 requires msgpack, which is not installed.\n",
      "datascience 0.10.6 has requirement folium==0.2.1, but you'll have folium 0.7.0 which is incompatible.\n",
      "You are using pip version 10.0.1, however version 19.0.3 is available.\n",
      "You should consider upgrading via the 'python -m pip install --upgrade pip' command.\n",
      "distributed 1.21.8 requires msgpack, which is not installed.\n",
      "datascience 0.10.6 has requirement folium==0.2.1, but you'll have folium 0.7.0 which is incompatible.\n",
      "You are using pip version 10.0.1, however version 19.0.3 is available.\n",
      "You should consider upgrading via the 'python -m pip install --upgrade pip' command.\n",
      "distributed 1.21.8 requires msgpack, which is not installed.\n",
      "datascience 0.10.6 has requirement folium==0.2.1, but you'll have folium 0.7.0 which is incompatible.\n",
      "You are using pip version 10.0.1, however version 19.0.3 is available.\n",
      "You should consider upgrading via the 'python -m pip install --upgrade pip' command.\n",
      "distributed 1.21.8 requires msgpack, which is not installed.\n",
      "datascience 0.10.6 has requirement folium==0.2.1, but you'll have folium 0.7.0 which is incompatible.\n",
      "You are using pip version 10.0.1, however version 19.0.3 is available.\n",
      "You should consider upgrading via the 'python -m pip install --upgrade pip' command.\n",
      "Enabling notebook extension jupyter-sankey-widget/extension...\n",
      "      - Validating: ok\n"
     ]
    }
   ],
   "source": [
    "!pip install pydot\n",
    "!pip install -q ipywidgets\n",
    "!pip install -q ipysankeywidget\n",
    "!pip install -q widgetsnbextension\n",
    "!jupyter nbextension enable --py --sys-prefix ipysankeywidget\n",
    "\n",
    "from sub_network import subWESTnet\n",
    "import pandas as pd\n",
    "import numpy as np\n",
    "import json, urllib, ast\n",
    "import pydot\n",
    "from ipysankeywidget import SankeyWidget\n",
    "from ipywidgets import Layout"
   ]
  },
  {
   "cell_type": "markdown",
   "metadata": {},
   "source": [
    "## Visualizing the Network<a id='section_network'></a>\n",
    "\n",
    "In this section, we will be completing our first task, which is to make a bare-bones visualization of our network. \n",
    "1. First run the cells of code and replace anything that it says to replace (Don't worry about understanding what the code does)\n",
    "2. Then locate the output in the 'ouput' folder\n",
    "3. Copy and Paste it, to the link found later on in this section which takes you to GraphViz.com\n",
    "\n",
    "Here, we create what is called an instance of a graph object. This is what will enable us to be able to visualize the water network associated with a certain utility, all the sources and the types of water that are leading into it. We enter in the number 2010, because we will be looking at the your utility network for that year."
   ]
  },
  {
   "cell_type": "code",
   "execution_count": null,
   "metadata": {},
   "outputs": [],
   "source": [
    "new_upstream_example = subWESTnet('data/fixed_times_erl.csv', 2010)"
   ]
  },
  {
   "cell_type": "markdown",
   "metadata": {},
   "source": [
    "This line of code specifies that we want to look at all the sources upstream from the utility. The point of this is that we want to analyze what are the types of water coming into these utilities, how much is coming in, and from where is it coming. In the spot that has \"Your Utility Name Here\" put your **utility name** in the quotes. To see what your specific utility name is, look at the table at the top of this page and put that name specifically in the quotes. **Note: do not put your utility code in the text, put it's actual name there, if you make a spelling mistake, make sure to rerun the above cell because that will refresh the object we are using and allow us to run the below cell again**"
   ]
  },
  {
   "cell_type": "code",
   "execution_count": null,
   "metadata": {
    "scrolled": false
   },
   "outputs": [],
   "source": [
    "new_upstream_example.upstream(\"YOUR UTILITY NAME HERE\")"
   ]
  },
  {
   "cell_type": "markdown",
   "metadata": {},
   "source": [
    "This line of code is here to compute all the amounts of water going into the different nodes in the network, all you have to do is run the following cell"
   ]
  },
  {
   "cell_type": "code",
   "execution_count": null,
   "metadata": {},
   "outputs": [],
   "source": [
    "new_upstream_example.balance_graph()"
   ]
  },
  {
   "cell_type": "markdown",
   "metadata": {},
   "source": [
    "The following attributes of our upstream example show the tables of the actual network (by using source and target labels) and the energies associated with each node in the graph. Just browse the tables and try to see what each column is referring to and how the rows relate certain utilities/sources with energy levels and the amount of water moving through each point in the network."
   ]
  },
  {
   "cell_type": "code",
   "execution_count": null,
   "metadata": {},
   "outputs": [],
   "source": [
    "new_upstream_example.table()"
   ]
  },
  {
   "cell_type": "code",
   "execution_count": null,
   "metadata": {},
   "outputs": [],
   "source": [
    "new_upstream_example.energy"
   ]
  },
  {
   "cell_type": "markdown",
   "metadata": {},
   "source": [
    "This folowing cell takes the upstream table, and turns it into a dot file. The dotfile is placed in a folder called 'ouptut'."
   ]
  },
  {
   "cell_type": "markdown",
   "metadata": {},
   "source": [
    "There are some things to note about the nodes in the graph. The ones that start with \"R_\" are a river, ones that contain \"SWP\" or \"CVP\" are parts the state and of federal government water management projects in CA, respectively, ones with \"LK\" are lakes, ones with \"RES\" are reservoirs, SW are unsepcified surface water sources, GW are groudwater aquifers. The nodes which contain your utility's code and then end with PD combine all treatable water while, NPD contains all non-potable sources flowing into your utility's distribution systems."
   ]
  },
  {
   "cell_type": "code",
   "execution_count": null,
   "metadata": {},
   "outputs": [],
   "source": [
    "new_upstream_example.to_dot()"
   ]
  },
  {
   "cell_type": "markdown",
   "metadata": {},
   "source": [
    "Go to the dot file (inside the ouput directory where the lab2 notebook is located) and paste the code in the dot file [here](https://dreampuf.github.io/GraphvizOnline/). Make sure to replace the entire code block that is already in the link with the entire code block in our output.dot files.\n",
    "\n",
    "Here are the steps to get to the dotfile:\n",
    " - Go to the tab where you opened this lab, on datahub\n",
    " - In the same file directory, where this lab is located, there is a file called 'output'\n",
    " - Click on that folder and in it should be the dotfile with your utility name in the filename\n",
    " - Open that file and then copy and paste the entire contents of the file into the leftside of the page that the link brings you to\n",
    " \n",
    " \n",
    " <div class=\"alert alert-info\"> \n",
    "\n",
    "**QUESTION** What are some of the sources connected to your utility (which would be located at the bottom of the graph)?  **QUESTION** \n",
    "\n",
    "</div>"
   ]
  },
  {
   "cell_type": "markdown",
   "metadata": {},
   "source": [
    "Your Answer Here (Double click the cell to replace the text)"
   ]
  },
  {
   "cell_type": "markdown",
   "metadata": {},
   "source": [
    "## The Sankey Diagram: Visualizing Water Flow<a id='section_sankey'></a>\n",
    "\n",
    "This next section assigns the task of visualizing our networks with a lot more information embedded into them. We will be looking at the water network associated with your utility but this time we will see how much water is actually flowing between certain nodes contained in the network. You will have to run some of the following ceels in order to again modify our environment and make everything work, as well as input your utility code to see the sankey diagrams which provide us with this useful visualization.\n",
    "\n",
    "The next cell is quite complicated, don't bother with trying to understand what it is doing. All it does is try to format our network so that we can use something called a sankey diagram. This diagram will allow us to visualize the water network associated with our utility in a way which shows how much water is actually travelling between utilities and sources and other things like reservoirs, rivers, and aqueducts."
   ]
  },
  {
   "cell_type": "code",
   "execution_count": 8,
   "metadata": {
    "scrolled": false
   },
   "outputs": [],
   "source": [
    "def get_sankey_file(data_path, year, utility, upstream=True):\n",
    "    gi = subWESTnet(data_path, year)\n",
    "    gi.upstream(utility)\n",
    "    \n",
    "    sank_dicts = []\n",
    "    for v in gi.edges.values():\n",
    "        sank_dict = {}\n",
    "        sank_dict['source'] = v['source']\n",
    "        sank_dict['target'] = v['target']\n",
    "        sank_dict['value'] = v['used_vol_af']\n",
    "        sank_dict['color'] = 'steelblue'\n",
    "        if v['used_vol_af'] == 0:\n",
    "            sank_dict['color'] = 'goldenrod'\n",
    "            sank_dict['value'] = .00001\n",
    "        sank_dicts.append(sank_dict)\n",
    "    \n",
    "    df = pd.DataFrame(sank_dicts)\n",
    "    df = df[df['color'] != 'goldenrod']\n",
    "    data = pd.read_csv(data_path)\n",
    "    \n",
    "    nodes = []\n",
    "    for i in df['source'].unique():\n",
    "        sdict = {}\n",
    "    \n",
    "        # check if resource/end or not\n",
    "        check_resource = data[data['target'] == i].shape\n",
    "        if check_resource[0] == 0:\n",
    "            sdict['is resource'] = True\n",
    "        else:\n",
    "            sdict['is resource'] = False\n",
    "        if i[-1:] == 'E':\n",
    "            sdict['is end'] = True\n",
    "        else:\n",
    "            sdict['is end'] = False\n",
    "    \n",
    "        # compute in/out volumes\n",
    "        outv = df[df['source'] == i]['value'].sum()\n",
    "        inv = df[df['target'] == i]['value'].sum()\n",
    "    \n",
    "        # get values to compensate for missing volumes\n",
    "        extra_case = {}\n",
    "        if outv < inv:\n",
    "            if not sdict['is end']:\n",
    "                extra_case['value'] = inv - outv\n",
    "                extra_case['source'] = i\n",
    "                extra_case['target'] = i + \" to Other\"\n",
    "                nodes.append(extra_case)\n",
    "        elif outv > inv:\n",
    "            if not sdict['is resource']:\n",
    "                extra_case['value'] = outv - inv\n",
    "                extra_case['source'] = \"Other to \" + i\n",
    "                extra_case['target'] = i\n",
    "                nodes.append(extra_case)\n",
    "    \n",
    "    extra_ = df.drop('color', axis=1).append(pd.DataFrame(nodes)).reset_index(drop=True)\n",
    "    a = []\n",
    "    count = 0\n",
    "    break_count = 0\n",
    "    break_break = []\n",
    "    while 'break' != break_break:\n",
    "        drop = []\n",
    "        for i in extra_['target']:\n",
    "            if extra_[extra_['source'] == i].shape[0] == 0:\n",
    "                if i[-5:] != 'Other' and i[-1:] != 'E':\n",
    "                    drop.append(i)\n",
    "        extra_ = extra_.loc[[k for k, v in extra_.iterrows() if v['target'] not in drop]]\n",
    "        count += len(drop)\n",
    "        a.extend(drop)\n",
    "        if count == len(a):\n",
    "            break_count += 1\n",
    "        if break_count == 50:\n",
    "            break_break = 'break'\n",
    "    \n",
    "    return extra_\n"
   ]
  },
  {
   "cell_type": "markdown",
   "metadata": {},
   "source": [
    "Run the following cell but make sure to put **your utility's code, not its name**, in the quotes that say \"Your Utility Code Here\". Remember what all the different codes mean from the previous graph we made. These encodings still apply to the Sankey graph we are going to make in the following cells, except this time your utility will be on the right hand side of the sankey diagram encoded by its utility code, not it's actual name. The graph below represents the flow of water involved with this utility in the year 2010."
   ]
  },
  {
   "cell_type": "code",
   "execution_count": 9,
   "metadata": {},
   "outputs": [
    {
     "name": "stdout",
     "output_type": "stream",
     "text": [
      "Unweighted upstream graph built.\n"
     ]
    }
   ],
   "source": [
    "table_2010 = get_sankey_file('data/links_erl.csv', 2010, '1807057E', upstream=True)"
   ]
  },
  {
   "cell_type": "markdown",
   "metadata": {},
   "source": [
    "\n",
    "Next we are going to save this table as a csv in order to visualize the diagram on a website [here](https://jasonsjiang.github.io/sankey). The following line will save a file called 2010_sankey.csv to the output folder where your dot file was saved previously. This time you will follow these steps to visualize the graph:\n",
    "\n",
    "### Sankey Instructions <a id='sankey_instructions'></a>\n",
    "1. Run the cell below\n",
    "2. Go to the output folder on datahub, where you were before\n",
    "3. Click on the small checkbox to the left of your file\n",
    "4. After that happens, a few options will appear at the top of the directory, click on the download option\n",
    "5. This will download the file to your downloads folder on your computer\n",
    "6. Go to the website linked above\n",
    "7. Click on the 'Choose file' button\n",
    "8. Choose the csv file, 2010_sankey.csv"
   ]
  },
  {
   "cell_type": "code",
   "execution_count": 10,
   "metadata": {},
   "outputs": [],
   "source": [
    "table_2010.to_csv('output/2010_sankey.csv', index=False)"
   ]
  },
  {
   "cell_type": "markdown",
   "metadata": {},
   "source": [
    "<div class=\"alert alert-info\"> \n",
    "\n",
    "**QUESTION** Examine the graph. Your utility should be on the right hand side and the sources that have water flowing into it to the left of it. You can run your mouse over the graph and see how much water is flowing in each connection. How much water of each type is flowing directly into your utility? **QUESTION**\n",
    "\n",
    "</div>"
   ]
  },
  {
   "cell_type": "markdown",
   "metadata": {},
   "source": [
    "Your answer here."
   ]
  },
  {
   "cell_type": "markdown",
   "metadata": {},
   "source": [
    "The next graph we are making is the predicted flow of water associated with your utility in 2015. These predictions were made in 2010. Make sure to fill in the \"Your Utility Code Here\" portion of the cell, so that it can be run, and use your utiliy's code just like in the last Sankey Diagram you made. You will follow the same steps you did for the last sankey diagram in order to visualize it. You will want to have multiple tabs open in order to compare the different sankey diagrams. [Here](#sankey_instructions) are the directions again."
   ]
  },
  {
   "cell_type": "code",
   "execution_count": 11,
   "metadata": {},
   "outputs": [
    {
     "name": "stdout",
     "output_type": "stream",
     "text": [
      "Unweighted upstream graph built.\n"
     ]
    }
   ],
   "source": [
    "table_2015_predicted = get_sankey_file('data/links_erl.csv', 2015, '1807057E', upstream=True)"
   ]
  },
  {
   "cell_type": "code",
   "execution_count": 12,
   "metadata": {},
   "outputs": [],
   "source": [
    "table_2015_predicted.to_csv('output/2015_predicted.csv', index = False)"
   ]
  },
  {
   "cell_type": "markdown",
   "metadata": {},
   "source": [
    "Finally the last graph is the actual 2015 flow of water associated with your utility. We are going to zoom into just the portion that contains your utility and the types of water going into it. Make sure to fill in the \"Your utility code here\" part of the cell. Again, follow the same steps as before, and you will want to have another tab open for the actual 2015 sankey diagram."
   ]
  },
  {
   "cell_type": "code",
   "execution_count": 13,
   "metadata": {
    "scrolled": true
   },
   "outputs": [
    {
     "name": "stdout",
     "output_type": "stream",
     "text": [
      "Unweighted upstream graph built.\n"
     ]
    }
   ],
   "source": [
    "table_2015_actual = get_sankey_file('data/links_2015module.csv', 2015, '1807057E', upstream=True)"
   ]
  },
  {
   "cell_type": "code",
   "execution_count": 14,
   "metadata": {},
   "outputs": [],
   "source": [
    "table_2015_actual.to_csv('output/2015_actual.csv', index = False)"
   ]
  },
  {
   "cell_type": "markdown",
   "metadata": {},
   "source": [
    "<div class=\"alert alert-info\"> \n",
    "\n",
    "**QUESTION** Examine the two graphs above and look at the direct connections to your utility. How much water of each type seems to be flowing into your utility in both the predicted 2015 data and the actual 2015 data? How do these levels of water flow compare to 2010 and how do they compare to each other. Do the tyes of water flowing into your uility change at all? Given the change in the flow of water between 2010 and 2015 and how 2015 compares with what was predicted are there any recent events in California which might explain these differences?  **QUESTION**\n",
    "\n",
    "</div>"
   ]
  },
  {
   "cell_type": "markdown",
   "metadata": {},
   "source": [
    "Your answers here."
   ]
  },
  {
   "cell_type": "code",
   "execution_count": null,
   "metadata": {},
   "outputs": [],
   "source": []
  }
 ],
 "metadata": {
  "kernelspec": {
   "display_name": "Python 3",
   "language": "python",
   "name": "python3"
  },
  "language_info": {
   "codemirror_mode": {
    "name": "ipython",
    "version": 3
   },
   "file_extension": ".py",
   "mimetype": "text/x-python",
   "name": "python",
   "nbconvert_exporter": "python",
   "pygments_lexer": "ipython3",
   "version": "3.6.5"
  }
 },
 "nbformat": 4,
 "nbformat_minor": 2
}
