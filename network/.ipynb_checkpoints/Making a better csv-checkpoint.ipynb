{
 "cells": [
  {
   "cell_type": "code",
   "execution_count": 1,
   "metadata": {},
   "outputs": [],
   "source": [
    "import pandas as pd\n",
    "import json\n",
    "import numpy as np\n",
    "from sub_network import subWESTnet\n",
    "import re"
   ]
  },
  {
   "cell_type": "code",
   "execution_count": 2,
   "metadata": {},
   "outputs": [
    {
     "name": "stderr",
     "output_type": "stream",
     "text": [
      "C:\\Users\\jason\\Anaconda3\\lib\\site-packages\\ipykernel_launcher.py:1: FutureWarning: from_csv is deprecated. Please use read_csv(...) instead. Note that some of the default arguments are different, so please refer to the documentation for from_csv when changing your function calls\n",
      "  \"\"\"Entry point for launching an IPython kernel.\n"
     ]
    }
   ],
   "source": [
    "network = pd.DataFrame.from_csv('data/links_erl.csv')"
   ]
  },
  {
   "cell_type": "code",
   "execution_count": 3,
   "metadata": {},
   "outputs": [],
   "source": [
    "with open('data/data_dict_utility.json') as f:\n",
    "    data = json.load(f)"
   ]
  },
  {
   "cell_type": "code",
   "execution_count": 4,
   "metadata": {},
   "outputs": [],
   "source": [
    "utilities = [key for key in data['utility'].keys()]"
   ]
  },
  {
   "cell_type": "code",
   "execution_count": 5,
   "metadata": {},
   "outputs": [],
   "source": [
    "names = [data['utility'][utility]['supplier'] for utility in utilities]"
   ]
  },
  {
   "cell_type": "code",
   "execution_count": 6,
   "metadata": {},
   "outputs": [
    {
     "data": {
      "text/plain": [
       "array([['1805003', 'Alameda County Water District'],\n",
       "       ['1803033', 'Fresno City of'],\n",
       "       ['1810019', 'Hi-Desert Water District'],\n",
       "       ...,\n",
       "       ['1802105', 'Yuba City City of'],\n",
       "       ['1807419', 'Yucaipa Valley Water District'],\n",
       "       ['1807421', 'Yuima Municipal Water District']], dtype='<U73')"
      ]
     },
     "execution_count": 6,
     "metadata": {},
     "output_type": "execute_result"
    }
   ],
   "source": [
    "np.transpose(np.array([utilities, names]))"
   ]
  },
  {
   "cell_type": "code",
   "execution_count": 7,
   "metadata": {},
   "outputs": [],
   "source": [
    "with_names = pd.DataFrame(data = np.transpose(np.array([utilities, names])), index = range(505), columns = ['utility_code', 'utility_name'])"
   ]
  },
  {
   "cell_type": "code",
   "execution_count": 8,
   "metadata": {},
   "outputs": [],
   "source": [
    "with_names['utility_code'] = [elem + 'E' for elem in with_names['utility_code']]"
   ]
  },
  {
   "cell_type": "code",
   "execution_count": 9,
   "metadata": {},
   "outputs": [
    {
     "data": {
      "text/html": [
       "<div>\n",
       "<style scoped>\n",
       "    .dataframe tbody tr th:only-of-type {\n",
       "        vertical-align: middle;\n",
       "    }\n",
       "\n",
       "    .dataframe tbody tr th {\n",
       "        vertical-align: top;\n",
       "    }\n",
       "\n",
       "    .dataframe thead th {\n",
       "        text-align: right;\n",
       "    }\n",
       "</style>\n",
       "<table border=\"1\" class=\"dataframe\">\n",
       "  <thead>\n",
       "    <tr style=\"text-align: right;\">\n",
       "      <th></th>\n",
       "      <th>utility_code</th>\n",
       "      <th>utility_name</th>\n",
       "    </tr>\n",
       "  </thead>\n",
       "  <tbody>\n",
       "    <tr>\n",
       "      <th>0</th>\n",
       "      <td>1805003E</td>\n",
       "      <td>Alameda County Water District</td>\n",
       "    </tr>\n",
       "    <tr>\n",
       "      <th>1</th>\n",
       "      <td>1803033E</td>\n",
       "      <td>Fresno City of</td>\n",
       "    </tr>\n",
       "    <tr>\n",
       "      <th>2</th>\n",
       "      <td>1810019E</td>\n",
       "      <td>Hi-Desert Water District</td>\n",
       "    </tr>\n",
       "    <tr>\n",
       "      <th>3</th>\n",
       "      <td>1807163E</td>\n",
       "      <td>Irvine Ranch Water District</td>\n",
       "    </tr>\n",
       "    <tr>\n",
       "      <th>4</th>\n",
       "      <td>1806045E</td>\n",
       "      <td>Morro Bay City of</td>\n",
       "    </tr>\n",
       "  </tbody>\n",
       "</table>\n",
       "</div>"
      ],
      "text/plain": [
       "  utility_code                   utility_name\n",
       "0     1805003E  Alameda County Water District\n",
       "1     1803033E                 Fresno City of\n",
       "2     1810019E       Hi-Desert Water District\n",
       "3     1807163E    Irvine Ranch Water District\n",
       "4     1806045E              Morro Bay City of"
      ]
     },
     "execution_count": 9,
     "metadata": {},
     "output_type": "execute_result"
    }
   ],
   "source": [
    "with_names.head()"
   ]
  },
  {
   "cell_type": "code",
   "execution_count": 10,
   "metadata": {},
   "outputs": [
    {
     "data": {
      "text/html": [
       "<div>\n",
       "<style scoped>\n",
       "    .dataframe tbody tr th:only-of-type {\n",
       "        vertical-align: middle;\n",
       "    }\n",
       "\n",
       "    .dataframe tbody tr th {\n",
       "        vertical-align: top;\n",
       "    }\n",
       "\n",
       "    .dataframe thead th {\n",
       "        text-align: right;\n",
       "    }\n",
       "</style>\n",
       "<table border=\"1\" class=\"dataframe\">\n",
       "  <thead>\n",
       "    <tr style=\"text-align: right;\">\n",
       "      <th></th>\n",
       "      <th>data_year</th>\n",
       "      <th>source</th>\n",
       "      <th>target</th>\n",
       "      <th>cumulative_volume_af</th>\n",
       "      <th>transmission_kwh/af</th>\n",
       "      <th>treatment_kwh/af</th>\n",
       "      <th>used_vol_af</th>\n",
       "    </tr>\n",
       "    <tr>\n",
       "      <th>year</th>\n",
       "      <th></th>\n",
       "      <th></th>\n",
       "      <th></th>\n",
       "      <th></th>\n",
       "      <th></th>\n",
       "      <th></th>\n",
       "      <th></th>\n",
       "    </tr>\n",
       "  </thead>\n",
       "  <tbody>\n",
       "    <tr>\n",
       "      <th>2010-01-01</th>\n",
       "      <td>2010</td>\n",
       "      <td>1801001PD</td>\n",
       "      <td>1801001E</td>\n",
       "      <td>1624.0</td>\n",
       "      <td>163.1</td>\n",
       "      <td>0.0</td>\n",
       "      <td>1624.0</td>\n",
       "    </tr>\n",
       "    <tr>\n",
       "      <th>2015-01-01</th>\n",
       "      <td>2010</td>\n",
       "      <td>1801001PD</td>\n",
       "      <td>1801001E</td>\n",
       "      <td>1693.0</td>\n",
       "      <td>163.1</td>\n",
       "      <td>0.0</td>\n",
       "      <td>1693.0</td>\n",
       "    </tr>\n",
       "    <tr>\n",
       "      <th>2020-01-01</th>\n",
       "      <td>2010</td>\n",
       "      <td>1801001PD</td>\n",
       "      <td>1801001E</td>\n",
       "      <td>1766.0</td>\n",
       "      <td>163.1</td>\n",
       "      <td>0.0</td>\n",
       "      <td>1766.0</td>\n",
       "    </tr>\n",
       "    <tr>\n",
       "      <th>2025-01-01</th>\n",
       "      <td>2010</td>\n",
       "      <td>1801001PD</td>\n",
       "      <td>1801001E</td>\n",
       "      <td>1847.0</td>\n",
       "      <td>163.1</td>\n",
       "      <td>0.0</td>\n",
       "      <td>1847.0</td>\n",
       "    </tr>\n",
       "    <tr>\n",
       "      <th>2030-01-01</th>\n",
       "      <td>2010</td>\n",
       "      <td>1801001PD</td>\n",
       "      <td>1801001E</td>\n",
       "      <td>1925.0</td>\n",
       "      <td>163.1</td>\n",
       "      <td>0.0</td>\n",
       "      <td>1925.0</td>\n",
       "    </tr>\n",
       "  </tbody>\n",
       "</table>\n",
       "</div>"
      ],
      "text/plain": [
       "            data_year     source    target  cumulative_volume_af  \\\n",
       "year                                                               \n",
       "2010-01-01       2010  1801001PD  1801001E                1624.0   \n",
       "2015-01-01       2010  1801001PD  1801001E                1693.0   \n",
       "2020-01-01       2010  1801001PD  1801001E                1766.0   \n",
       "2025-01-01       2010  1801001PD  1801001E                1847.0   \n",
       "2030-01-01       2010  1801001PD  1801001E                1925.0   \n",
       "\n",
       "            transmission_kwh/af  treatment_kwh/af  used_vol_af  \n",
       "year                                                            \n",
       "2010-01-01                163.1               0.0       1624.0  \n",
       "2015-01-01                163.1               0.0       1693.0  \n",
       "2020-01-01                163.1               0.0       1766.0  \n",
       "2025-01-01                163.1               0.0       1847.0  \n",
       "2030-01-01                163.1               0.0       1925.0  "
      ]
     },
     "execution_count": 10,
     "metadata": {},
     "output_type": "execute_result"
    }
   ],
   "source": [
    "network.head()"
   ]
  },
  {
   "cell_type": "code",
   "execution_count": 11,
   "metadata": {},
   "outputs": [
    {
     "name": "stderr",
     "output_type": "stream",
     "text": [
      "C:\\Users\\jason\\Anaconda3\\lib\\site-packages\\ipykernel_launcher.py:1: FutureWarning: from_csv is deprecated. Please use read_csv(...) instead. Note that some of the default arguments are different, so please refer to the documentation for from_csv when changing your function calls\n",
      "  \"\"\"Entry point for launching an IPython kernel.\n"
     ]
    }
   ],
   "source": [
    "source_names = pd.DataFrame.from_csv('data/Utility codes data dictionary - groundwater aquifers.csv')"
   ]
  },
  {
   "cell_type": "code",
   "execution_count": 12,
   "metadata": {},
   "outputs": [
    {
     "data": {
      "text/html": [
       "<div>\n",
       "<style scoped>\n",
       "    .dataframe tbody tr th:only-of-type {\n",
       "        vertical-align: middle;\n",
       "    }\n",
       "\n",
       "    .dataframe tbody tr th {\n",
       "        vertical-align: top;\n",
       "    }\n",
       "\n",
       "    .dataframe thead th {\n",
       "        text-align: right;\n",
       "    }\n",
       "</style>\n",
       "<table border=\"1\" class=\"dataframe\">\n",
       "  <thead>\n",
       "    <tr style=\"text-align: right;\">\n",
       "      <th></th>\n",
       "      <th>Subbasin_NAME</th>\n",
       "      <th>Basin_code</th>\n",
       "      <th>Subbasin_code</th>\n",
       "    </tr>\n",
       "    <tr>\n",
       "      <th>Basin_Name</th>\n",
       "      <th></th>\n",
       "      <th></th>\n",
       "      <th></th>\n",
       "    </tr>\n",
       "  </thead>\n",
       "  <tbody>\n",
       "    <tr>\n",
       "      <th>ALEXANDER VALLEY</th>\n",
       "      <td>CLOVERDALE AREA</td>\n",
       "      <td>GW1801-1-54</td>\n",
       "      <td>GW1801-1-54.02</td>\n",
       "    </tr>\n",
       "    <tr>\n",
       "      <th>EEL RIVER VALLEY</th>\n",
       "      <td>NaN</td>\n",
       "      <td>GW1801-1-10</td>\n",
       "      <td>GW1801-1-10</td>\n",
       "    </tr>\n",
       "    <tr>\n",
       "      <th>EUREKA PLAIN</th>\n",
       "      <td>NaN</td>\n",
       "      <td>GW1801-1-09</td>\n",
       "      <td>GW1801-1-09</td>\n",
       "    </tr>\n",
       "    <tr>\n",
       "      <th>LOWER RUSSIAN RIVER VALLEY</th>\n",
       "      <td>NaN</td>\n",
       "      <td>GW1801-1-60</td>\n",
       "      <td>GW1801-1-60</td>\n",
       "    </tr>\n",
       "    <tr>\n",
       "      <th>MAD RIVER VALLEY</th>\n",
       "      <td>DOWS PRAIRIE SCHOOL AREA</td>\n",
       "      <td>GW1801-1-08</td>\n",
       "      <td>GW1801-1-08.01</td>\n",
       "    </tr>\n",
       "    <tr>\n",
       "      <th>MAD RIVER VALLEY</th>\n",
       "      <td>MAD RIVER LOWLAND</td>\n",
       "      <td>GW1801-1-08</td>\n",
       "      <td>GW1801-1-08.01</td>\n",
       "    </tr>\n",
       "    <tr>\n",
       "      <th>SANTA ROSA VALLEY</th>\n",
       "      <td>SANTA ROSA PLAIN</td>\n",
       "      <td>GW1801-1-55</td>\n",
       "      <td>GW1801-1-55</td>\n",
       "    </tr>\n",
       "    <tr>\n",
       "      <th>SMITH RIVER PLAIN</th>\n",
       "      <td>NaN</td>\n",
       "      <td>GW1801-1-01</td>\n",
       "      <td>GW1801-1-01</td>\n",
       "    </tr>\n",
       "    <tr>\n",
       "      <th>UKIAH VALLEY</th>\n",
       "      <td>NaN</td>\n",
       "      <td>GW1801-1-52</td>\n",
       "      <td>GW1801-1-52</td>\n",
       "    </tr>\n",
       "    <tr>\n",
       "      <th>WILSON GROVE FORMATION HIGHLANDS</th>\n",
       "      <td>NaN</td>\n",
       "      <td>GW1801-1-59</td>\n",
       "      <td>GW1801-1-59</td>\n",
       "    </tr>\n",
       "    <tr>\n",
       "      <th>SACRAMENTO VALLEY</th>\n",
       "      <td>CORNING</td>\n",
       "      <td>GW1802-5-21</td>\n",
       "      <td>GW1802-5-21.51</td>\n",
       "    </tr>\n",
       "    <tr>\n",
       "      <th>SACRAMENTO VALLEY</th>\n",
       "      <td>NORTH YUBA</td>\n",
       "      <td>GW1802-5-21</td>\n",
       "      <td>GW1802-5-21.60</td>\n",
       "    </tr>\n",
       "    <tr>\n",
       "      <th>CUMMINGS VALLEY</th>\n",
       "      <td>NaN</td>\n",
       "      <td>GW1803-5-27</td>\n",
       "      <td>GW1803-5-27</td>\n",
       "    </tr>\n",
       "    <tr>\n",
       "      <th>SAN JOAQUIN VALLEY</th>\n",
       "      <td>KAWEAH</td>\n",
       "      <td>GW1803-5-22</td>\n",
       "      <td>GW1803-5-22.11</td>\n",
       "    </tr>\n",
       "    <tr>\n",
       "      <th>SAN JOAQUIN VALLEY</th>\n",
       "      <td>KERN COUNTY</td>\n",
       "      <td>GW1803-5-22</td>\n",
       "      <td>GW1803-5-22.14</td>\n",
       "    </tr>\n",
       "  </tbody>\n",
       "</table>\n",
       "</div>"
      ],
      "text/plain": [
       "                                             Subbasin_NAME   Basin_code  \\\n",
       "Basin_Name                                                                \n",
       "ALEXANDER VALLEY                           CLOVERDALE AREA  GW1801-1-54   \n",
       "EEL RIVER VALLEY                                       NaN  GW1801-1-10   \n",
       "EUREKA PLAIN                                           NaN  GW1801-1-09   \n",
       "LOWER RUSSIAN RIVER VALLEY                             NaN  GW1801-1-60   \n",
       "MAD RIVER VALLEY                  DOWS PRAIRIE SCHOOL AREA  GW1801-1-08   \n",
       "MAD RIVER VALLEY                         MAD RIVER LOWLAND  GW1801-1-08   \n",
       "SANTA ROSA VALLEY                         SANTA ROSA PLAIN  GW1801-1-55   \n",
       "SMITH RIVER PLAIN                                      NaN  GW1801-1-01   \n",
       "UKIAH VALLEY                                           NaN  GW1801-1-52   \n",
       "WILSON GROVE FORMATION HIGHLANDS                       NaN  GW1801-1-59   \n",
       "SACRAMENTO VALLEY                                  CORNING  GW1802-5-21   \n",
       "SACRAMENTO VALLEY                               NORTH YUBA  GW1802-5-21   \n",
       "CUMMINGS VALLEY                                        NaN  GW1803-5-27   \n",
       "SAN JOAQUIN VALLEY                                  KAWEAH  GW1803-5-22   \n",
       "SAN JOAQUIN VALLEY                             KERN COUNTY  GW1803-5-22   \n",
       "\n",
       "                                   Subbasin_code  \n",
       "Basin_Name                                        \n",
       "ALEXANDER VALLEY                  GW1801-1-54.02  \n",
       "EEL RIVER VALLEY                     GW1801-1-10  \n",
       "EUREKA PLAIN                         GW1801-1-09  \n",
       "LOWER RUSSIAN RIVER VALLEY           GW1801-1-60  \n",
       "MAD RIVER VALLEY                  GW1801-1-08.01  \n",
       "MAD RIVER VALLEY                  GW1801-1-08.01  \n",
       "SANTA ROSA VALLEY                    GW1801-1-55  \n",
       "SMITH RIVER PLAIN                    GW1801-1-01  \n",
       "UKIAH VALLEY                         GW1801-1-52  \n",
       "WILSON GROVE FORMATION HIGHLANDS     GW1801-1-59  \n",
       "SACRAMENTO VALLEY                 GW1802-5-21.51  \n",
       "SACRAMENTO VALLEY                 GW1802-5-21.60  \n",
       "CUMMINGS VALLEY                      GW1803-5-27  \n",
       "SAN JOAQUIN VALLEY                GW1803-5-22.11  \n",
       "SAN JOAQUIN VALLEY                GW1803-5-22.14  "
      ]
     },
     "execution_count": 12,
     "metadata": {},
     "output_type": "execute_result"
    }
   ],
   "source": [
    "source_names = source_names[source_names['Basin_code'].notnull()]\n",
    "source_names.head(15)"
   ]
  },
  {
   "cell_type": "code",
   "execution_count": 13,
   "metadata": {
    "scrolled": true
   },
   "outputs": [],
   "source": [
    "sub_basins = source_names.reset_index()\n",
    "sub_basins = sub_basins[sub_basins['Subbasin_NAME'].notnull()][['Subbasin_NAME', 'Subbasin_code']]"
   ]
  },
  {
   "cell_type": "code",
   "execution_count": 14,
   "metadata": {},
   "outputs": [
    {
     "data": {
      "text/html": [
       "<div>\n",
       "<style scoped>\n",
       "    .dataframe tbody tr th:only-of-type {\n",
       "        vertical-align: middle;\n",
       "    }\n",
       "\n",
       "    .dataframe tbody tr th {\n",
       "        vertical-align: top;\n",
       "    }\n",
       "\n",
       "    .dataframe thead th {\n",
       "        text-align: right;\n",
       "    }\n",
       "</style>\n",
       "<table border=\"1\" class=\"dataframe\">\n",
       "  <thead>\n",
       "    <tr style=\"text-align: right;\">\n",
       "      <th></th>\n",
       "      <th>Subbasin_NAME</th>\n",
       "      <th>Subbasin_code</th>\n",
       "    </tr>\n",
       "  </thead>\n",
       "  <tbody>\n",
       "    <tr>\n",
       "      <th>0</th>\n",
       "      <td>CLOVERDALE AREA</td>\n",
       "      <td>GW1801-1-54.02</td>\n",
       "    </tr>\n",
       "    <tr>\n",
       "      <th>4</th>\n",
       "      <td>DOWS PRAIRIE SCHOOL AREA</td>\n",
       "      <td>GW1801-1-08.01</td>\n",
       "    </tr>\n",
       "    <tr>\n",
       "      <th>5</th>\n",
       "      <td>MAD RIVER LOWLAND</td>\n",
       "      <td>GW1801-1-08.01</td>\n",
       "    </tr>\n",
       "    <tr>\n",
       "      <th>6</th>\n",
       "      <td>SANTA ROSA PLAIN</td>\n",
       "      <td>GW1801-1-55</td>\n",
       "    </tr>\n",
       "    <tr>\n",
       "      <th>10</th>\n",
       "      <td>CORNING</td>\n",
       "      <td>GW1802-5-21.51</td>\n",
       "    </tr>\n",
       "  </tbody>\n",
       "</table>\n",
       "</div>"
      ],
      "text/plain": [
       "               Subbasin_NAME   Subbasin_code\n",
       "0            CLOVERDALE AREA  GW1801-1-54.02\n",
       "4   DOWS PRAIRIE SCHOOL AREA  GW1801-1-08.01\n",
       "5          MAD RIVER LOWLAND  GW1801-1-08.01\n",
       "6           SANTA ROSA PLAIN     GW1801-1-55\n",
       "10                   CORNING  GW1802-5-21.51"
      ]
     },
     "execution_count": 14,
     "metadata": {},
     "output_type": "execute_result"
    }
   ],
   "source": [
    "sub_basins.head()"
   ]
  },
  {
   "cell_type": "code",
   "execution_count": 15,
   "metadata": {},
   "outputs": [
    {
     "name": "stdout",
     "output_type": "stream",
     "text": [
      "ALEXANDER VALLEY\n",
      "EEL RIVER VALLEY\n",
      "EUREKA PLAIN\n",
      "LOWER RUSSIAN RIVER VALLEY\n",
      "MAD RIVER VALLEY\n",
      "MAD RIVER VALLEY\n",
      "SANTA ROSA VALLEY\n",
      "SMITH RIVER PLAIN\n",
      "UKIAH VALLEY\n",
      "WILSON GROVE FORMATION HIGHLANDS\n",
      "SACRAMENTO VALLEY\n",
      "SACRAMENTO VALLEY\n",
      "CUMMINGS VALLEY\n",
      "SAN JOAQUIN VALLEY\n",
      "SAN JOAQUIN VALLEY\n",
      "SAN JOAQUIN VALLEY\n",
      "SAN JOAQUIN VALLEY\n",
      "SAN JOAQUIN VALLEY\n",
      "SAN JOAQUIN VALLEY\n",
      "TEHACHAPI VALLEY WEST\n",
      "SAN JOAQUIN VALLEY\n",
      "SAN JOAQUIN VALLEY\n",
      "SAN JOAQUIN VALLEY\n",
      "SAN JOAQUIN VALLEY\n",
      "SAN JOAQUIN VALLEY\n",
      "SAN JOAQUIN VALLEY\n",
      "SAN JOAQUIN VALLEY\n",
      "SAN JOAQUIN VALLEY\n",
      "SAN JOAQUIN VALLEY\n",
      "ARROYO DEL HAMBRE VALLEY\n",
      "HALF MOON BAY TERRACE\n",
      "LIVERMORE VALLEY\n",
      "NAPA-SONOMA VALLEY\n",
      "NAPA-SONOMA VALLEY\n",
      "NOVATO VALLEY\n",
      "PETALUMA VALLEY\n",
      "PITTSBURG PLAIN\n",
      "SANTA CLARA VALLEY\n",
      "SANTA CLARA VALLEY\n",
      "SANTA CLARA VALLEY\n",
      "SANTA CLARA VALLEY\n",
      "SUISUN-FAIRFIELD VALLEY\n",
      "VISITACION VALLEY\n",
      "WESTSIDE\n",
      "CARPINTERIA\n",
      "GILROY-HOLLISTER VALLEY\n",
      "GILROY-HOLLISTER VALLEY\n",
      "GILROY-HOLLISTER VALLEY\n",
      "LOS OSOS VALLEY\n",
      "MONTECITO\n",
      "PAJARO VALLEY\n",
      "SALINAS VALLEY\n",
      "SALINAS VALLEY\n",
      "SALINAS VALLEY\n",
      "SALINAS VALLEY\n",
      "SALINAS VALLEY\n",
      "SAN LUIS OBISPO VALLEY\n",
      "SANTA BARBARA\n",
      "SANTA MARIA\n",
      "SANTA ROSA VALLEY\n",
      "SANTA YNEZ RIVER VALLEY\n",
      "SCOTTS VALLEY\n",
      "SOQUEL VALLEY\n",
      "BEAR VALLEY\n",
      "COASTAL PLAIN OF LOS ANGELES\n",
      "COASTAL PLAIN OF LOS ANGELES\n",
      "COASTAL PLAIN OF LOS ANGELES\n",
      "COASTAL PLAIN OF ORANGE COUNTY\n",
      "CONEJO\n",
      "EL CAJON VALLEY\n",
      "ELSINORE\n",
      "LAS POSAS VALLEY\n",
      "OTAY VALLEY\n",
      "PLEASANT VALLEY\n",
      "RAYMOND\n",
      "SAN DIEGO RIVER VALLEY\n",
      "SAN FERNANDO VALLEY\n",
      "SAN GABRIEL VALLEY\n",
      "SAN JACINTO\n",
      "SAN JUAN VALLEY\n",
      "SAN LUIS REY VALLEY\n",
      "SAN MARCOS AREA\n",
      "SANTA CLARA RIVER VALLEY\n",
      "SANTA CLARA RIVER VALLEY\n",
      "SANTA CLARA RIVER VALLEY\n",
      "SANTA CLARA RIVER VALLEY\n",
      "SANTA CLARA RIVER VALLEY\n",
      "SIMI VALLEY\n",
      "SWEETWATER VALLEY\n",
      "TEMECULA VALLEY\n",
      "TIA JUANA\n",
      "TIERRA REJADA\n",
      "UPPER SANTA ANA VALLEY\n",
      "UPPER SANTA ANA VALLEY\n",
      "UPPER SANTA ANA VALLEY\n",
      "UPPER SANTA ANA VALLEY\n",
      "UPPER SANTA ANA VALLEY\n",
      "UPPER SANTA ANA VALLEY\n",
      "TAHOE VALLEY\n",
      "TAHOE VALLEY\n",
      "TAHOE VALLEY\n",
      "ANTELOPE VALLEY\n",
      "EL MIRAGE VALLEY\n",
      "FREMONT VALLEY\n",
      "INDIAN WELLS VALLEY\n",
      "LOWER MOJAVE RIVER VALLEY\n",
      "UPPER MOJAVE RIVER VALLEY\n",
      "COACHELLA VALLEY\n",
      "COACHELLA VALLEY\n",
      "COACHELLA VALLEY\n",
      "IMPERIAL VALLEY\n",
      "JOHNSON VALLEY\n",
      "JOSHUA TREE\n",
      "PALO VERDE VALLEY\n",
      "WARREN VALLEY\n",
      "LOWER LAKE VALLEY\n"
     ]
    }
   ],
   "source": [
    "for index in source_names.index:\n",
    "    print(index)"
   ]
  },
  {
   "cell_type": "code",
   "execution_count": 16,
   "metadata": {},
   "outputs": [],
   "source": [
    "basins = source_names.reset_index()[['Basin_Name', 'Basin_code']]"
   ]
  },
  {
   "cell_type": "code",
   "execution_count": 17,
   "metadata": {},
   "outputs": [
    {
     "data": {
      "text/html": [
       "<div>\n",
       "<style scoped>\n",
       "    .dataframe tbody tr th:only-of-type {\n",
       "        vertical-align: middle;\n",
       "    }\n",
       "\n",
       "    .dataframe tbody tr th {\n",
       "        vertical-align: top;\n",
       "    }\n",
       "\n",
       "    .dataframe thead th {\n",
       "        text-align: right;\n",
       "    }\n",
       "</style>\n",
       "<table border=\"1\" class=\"dataframe\">\n",
       "  <thead>\n",
       "    <tr style=\"text-align: right;\">\n",
       "      <th></th>\n",
       "      <th>Basin_Name</th>\n",
       "      <th>Basin_code</th>\n",
       "    </tr>\n",
       "  </thead>\n",
       "  <tbody>\n",
       "    <tr>\n",
       "      <th>0</th>\n",
       "      <td>ALEXANDER VALLEY</td>\n",
       "      <td>GW1801-1-54</td>\n",
       "    </tr>\n",
       "    <tr>\n",
       "      <th>1</th>\n",
       "      <td>EEL RIVER VALLEY</td>\n",
       "      <td>GW1801-1-10</td>\n",
       "    </tr>\n",
       "    <tr>\n",
       "      <th>2</th>\n",
       "      <td>EUREKA PLAIN</td>\n",
       "      <td>GW1801-1-09</td>\n",
       "    </tr>\n",
       "    <tr>\n",
       "      <th>3</th>\n",
       "      <td>LOWER RUSSIAN RIVER VALLEY</td>\n",
       "      <td>GW1801-1-60</td>\n",
       "    </tr>\n",
       "    <tr>\n",
       "      <th>4</th>\n",
       "      <td>MAD RIVER VALLEY</td>\n",
       "      <td>GW1801-1-08</td>\n",
       "    </tr>\n",
       "  </tbody>\n",
       "</table>\n",
       "</div>"
      ],
      "text/plain": [
       "                   Basin_Name   Basin_code\n",
       "0            ALEXANDER VALLEY  GW1801-1-54\n",
       "1            EEL RIVER VALLEY  GW1801-1-10\n",
       "2                EUREKA PLAIN  GW1801-1-09\n",
       "3  LOWER RUSSIAN RIVER VALLEY  GW1801-1-60\n",
       "4            MAD RIVER VALLEY  GW1801-1-08"
      ]
     },
     "execution_count": 17,
     "metadata": {},
     "output_type": "execute_result"
    }
   ],
   "source": [
    "basins.head()"
   ]
  },
  {
   "cell_type": "code",
   "execution_count": 18,
   "metadata": {},
   "outputs": [
    {
     "data": {
      "text/html": [
       "<div>\n",
       "<style scoped>\n",
       "    .dataframe tbody tr th:only-of-type {\n",
       "        vertical-align: middle;\n",
       "    }\n",
       "\n",
       "    .dataframe tbody tr th {\n",
       "        vertical-align: top;\n",
       "    }\n",
       "\n",
       "    .dataframe thead th {\n",
       "        text-align: right;\n",
       "    }\n",
       "</style>\n",
       "<table border=\"1\" class=\"dataframe\">\n",
       "  <thead>\n",
       "    <tr style=\"text-align: right;\">\n",
       "      <th></th>\n",
       "      <th>utility_name</th>\n",
       "      <th>utility_code</th>\n",
       "    </tr>\n",
       "  </thead>\n",
       "  <tbody>\n",
       "    <tr>\n",
       "      <th>0</th>\n",
       "      <td>ALEXANDER VALLEY</td>\n",
       "      <td>GW1801-1-54</td>\n",
       "    </tr>\n",
       "    <tr>\n",
       "      <th>1</th>\n",
       "      <td>EEL RIVER VALLEY</td>\n",
       "      <td>GW1801-1-10</td>\n",
       "    </tr>\n",
       "    <tr>\n",
       "      <th>2</th>\n",
       "      <td>EUREKA PLAIN</td>\n",
       "      <td>GW1801-1-09</td>\n",
       "    </tr>\n",
       "    <tr>\n",
       "      <th>3</th>\n",
       "      <td>LOWER RUSSIAN RIVER VALLEY</td>\n",
       "      <td>GW1801-1-60</td>\n",
       "    </tr>\n",
       "    <tr>\n",
       "      <th>4</th>\n",
       "      <td>MAD RIVER VALLEY</td>\n",
       "      <td>GW1801-1-08</td>\n",
       "    </tr>\n",
       "  </tbody>\n",
       "</table>\n",
       "</div>"
      ],
      "text/plain": [
       "                 utility_name utility_code\n",
       "0            ALEXANDER VALLEY  GW1801-1-54\n",
       "1            EEL RIVER VALLEY  GW1801-1-10\n",
       "2                EUREKA PLAIN  GW1801-1-09\n",
       "3  LOWER RUSSIAN RIVER VALLEY  GW1801-1-60\n",
       "4            MAD RIVER VALLEY  GW1801-1-08"
      ]
     },
     "execution_count": 18,
     "metadata": {},
     "output_type": "execute_result"
    }
   ],
   "source": [
    "basins = basins.rename(columns = {'Basin_Name':'utility_name', 'Basin_code':'utility_code'})\n",
    "basins.head()"
   ]
  },
  {
   "cell_type": "code",
   "execution_count": 19,
   "metadata": {},
   "outputs": [
    {
     "data": {
      "text/html": [
       "<div>\n",
       "<style scoped>\n",
       "    .dataframe tbody tr th:only-of-type {\n",
       "        vertical-align: middle;\n",
       "    }\n",
       "\n",
       "    .dataframe tbody tr th {\n",
       "        vertical-align: top;\n",
       "    }\n",
       "\n",
       "    .dataframe thead th {\n",
       "        text-align: right;\n",
       "    }\n",
       "</style>\n",
       "<table border=\"1\" class=\"dataframe\">\n",
       "  <thead>\n",
       "    <tr style=\"text-align: right;\">\n",
       "      <th></th>\n",
       "      <th>utility_name</th>\n",
       "      <th>utility_code</th>\n",
       "    </tr>\n",
       "  </thead>\n",
       "  <tbody>\n",
       "    <tr>\n",
       "      <th>0</th>\n",
       "      <td>CLOVERDALE AREA</td>\n",
       "      <td>GW1801-1-54.02</td>\n",
       "    </tr>\n",
       "    <tr>\n",
       "      <th>4</th>\n",
       "      <td>DOWS PRAIRIE SCHOOL AREA</td>\n",
       "      <td>GW1801-1-08.01</td>\n",
       "    </tr>\n",
       "    <tr>\n",
       "      <th>5</th>\n",
       "      <td>MAD RIVER LOWLAND</td>\n",
       "      <td>GW1801-1-08.01</td>\n",
       "    </tr>\n",
       "    <tr>\n",
       "      <th>6</th>\n",
       "      <td>SANTA ROSA PLAIN</td>\n",
       "      <td>GW1801-1-55</td>\n",
       "    </tr>\n",
       "    <tr>\n",
       "      <th>10</th>\n",
       "      <td>CORNING</td>\n",
       "      <td>GW1802-5-21.51</td>\n",
       "    </tr>\n",
       "  </tbody>\n",
       "</table>\n",
       "</div>"
      ],
      "text/plain": [
       "                utility_name    utility_code\n",
       "0            CLOVERDALE AREA  GW1801-1-54.02\n",
       "4   DOWS PRAIRIE SCHOOL AREA  GW1801-1-08.01\n",
       "5          MAD RIVER LOWLAND  GW1801-1-08.01\n",
       "6           SANTA ROSA PLAIN     GW1801-1-55\n",
       "10                   CORNING  GW1802-5-21.51"
      ]
     },
     "execution_count": 19,
     "metadata": {},
     "output_type": "execute_result"
    }
   ],
   "source": [
    "sub_basins = sub_basins.rename(columns={'Subbasin_NAME':'utility_name', 'Subbasin_code':'utility_code'})\n",
    "sub_basins.head()"
   ]
  },
  {
   "cell_type": "code",
   "execution_count": 20,
   "metadata": {},
   "outputs": [
    {
     "data": {
      "text/plain": [
       "(505, 2)"
      ]
     },
     "execution_count": 20,
     "metadata": {},
     "output_type": "execute_result"
    }
   ],
   "source": [
    "sub_basins.shape\n",
    "basins.shape\n",
    "with_names.shape"
   ]
  },
  {
   "cell_type": "code",
   "execution_count": 21,
   "metadata": {
    "scrolled": true
   },
   "outputs": [
    {
     "name": "stderr",
     "output_type": "stream",
     "text": [
      "C:\\Users\\jason\\Anaconda3\\lib\\site-packages\\ipykernel_launcher.py:2: FutureWarning: Sorting because non-concatenation axis is not aligned. A future version\n",
      "of pandas will change to not sort by default.\n",
      "\n",
      "To accept the future behavior, pass 'sort=False'.\n",
      "\n",
      "To retain the current behavior and silence the warning, pass 'sort=True'.\n",
      "\n",
      "  \n"
     ]
    },
    {
     "data": {
      "text/plain": [
       "(677, 2)"
      ]
     },
     "execution_count": 21,
     "metadata": {},
     "output_type": "execute_result"
    }
   ],
   "source": [
    "frames = [with_names, basins, sub_basins]\n",
    "result = pd.concat(frames)\n",
    "result.shape"
   ]
  },
  {
   "cell_type": "code",
   "execution_count": 26,
   "metadata": {},
   "outputs": [
    {
     "data": {
      "text/html": [
       "<div>\n",
       "<style scoped>\n",
       "    .dataframe tbody tr th:only-of-type {\n",
       "        vertical-align: middle;\n",
       "    }\n",
       "\n",
       "    .dataframe tbody tr th {\n",
       "        vertical-align: top;\n",
       "    }\n",
       "\n",
       "    .dataframe thead th {\n",
       "        text-align: right;\n",
       "    }\n",
       "</style>\n",
       "<table border=\"1\" class=\"dataframe\">\n",
       "  <thead>\n",
       "    <tr style=\"text-align: right;\">\n",
       "      <th></th>\n",
       "      <th>utility_code</th>\n",
       "      <th>utility_name</th>\n",
       "    </tr>\n",
       "  </thead>\n",
       "  <tbody>\n",
       "    <tr>\n",
       "      <th>8</th>\n",
       "      <td>1807341E</td>\n",
       "      <td>Santa Monica City of</td>\n",
       "    </tr>\n",
       "  </tbody>\n",
       "</table>\n",
       "</div>"
      ],
      "text/plain": [
       "  utility_code          utility_name\n",
       "8     1807341E  Santa Monica City of"
      ]
     },
     "execution_count": 26,
     "metadata": {},
     "output_type": "execute_result"
    }
   ],
   "source": [
    "result[result['utility_code'] == '1807341E']"
   ]
  },
  {
   "cell_type": "code",
   "execution_count": 27,
   "metadata": {},
   "outputs": [],
   "source": [
    "water_things = list(result['utility_name'])\n",
    "codes = list(result['utility_code'])"
   ]
  },
  {
   "cell_type": "code",
   "execution_count": 28,
   "metadata": {},
   "outputs": [],
   "source": [
    "mapping = {}\n",
    "for i in range(len(water_things)):\n",
    "    mapping[codes[i]] = water_things[i]\n"
   ]
  },
  {
   "cell_type": "code",
   "execution_count": 29,
   "metadata": {},
   "outputs": [],
   "source": [
    "def replace_codes(stringer):\n",
    "    if stringer in mapping.keys():\n",
    "        return mapping[stringer]\n",
    "    return stringer"
   ]
  },
  {
   "cell_type": "code",
   "execution_count": 30,
   "metadata": {},
   "outputs": [],
   "source": [
    "def master_regex(stringer):\n",
    "    result = stringer\n",
    "    for key in mapping.keys():\n",
    "        stringer = re.sub(\"( %s )| (\\\"%s\\\")\" % (key, key), \"\\\"%s \\\"\" % mapping[key], stringer)\n",
    "        result = stringer\n",
    "    return result"
   ]
  },
  {
   "cell_type": "code",
   "execution_count": 31,
   "metadata": {},
   "outputs": [],
   "source": [
    "def lame_regex(stringer):\n",
    "    stringer = re.sub(\"1805003E\", \"Alameda County\", stringer)\n",
    "    stringer = re.sub(\"1803033E\", \"Fresno\", stringer)\n",
    "    stringer = re.sub(\"1810019E\", \"Hi-Desert\", stringer)\n",
    "    stringer = re.sub(\"1809027E\", \"Palmdale\", stringer)\n",
    "    stringer = re.sub(\"1805085E\", \"San Jose Water\", stringer)\n",
    "    stringer = re.sub(\"1807341E\", \"Malibu\", stringer)\n",
    "    return stringer"
   ]
  },
  {
   "cell_type": "code",
   "execution_count": 34,
   "metadata": {},
   "outputs": [],
   "source": [
    "upstream_example = subWESTnet('data/links_erl.csv', 2010)\n",
    "new_upstream_example = subWESTnet('data/fixed_times_erl.csv', 2010)"
   ]
  },
  {
   "cell_type": "code",
   "execution_count": 35,
   "metadata": {},
   "outputs": [
    {
     "name": "stdout",
     "output_type": "stream",
     "text": [
      "Unweighted upstream graph built.\n",
      "Unweighted upstream graph built.\n"
     ]
    }
   ],
   "source": [
    "upstream_example.upstream('1805085E')\n",
    "new_upstream_example.upstream('San Jose Water Company')"
   ]
  },
  {
   "cell_type": "code",
   "execution_count": 30,
   "metadata": {},
   "outputs": [
    {
     "name": "stdout",
     "output_type": "stream",
     "text": [
      "Graph is weighted.\n"
     ]
    }
   ],
   "source": [
    "upstream_example.balance_graph()"
   ]
  },
  {
   "cell_type": "code",
   "execution_count": 31,
   "metadata": {},
   "outputs": [],
   "source": [
    "upstream_example.to_dot()"
   ]
  },
  {
   "cell_type": "code",
   "execution_count": 32,
   "metadata": {},
   "outputs": [],
   "source": [
    "file = open('output/sub_1805003E_2010_upstream.dot', \"r\")\n",
    "new_file = open('output/pathetic_attempt_upstream.dot', \"w\")\n",
    "for line in file:\n",
    "    new_file.write(lame_regex(line))\n",
    "new_file.close()"
   ]
  },
  {
   "cell_type": "code",
   "execution_count": 33,
   "metadata": {},
   "outputs": [],
   "source": [
    "network['source'] = network['source'].apply(replace_codes)"
   ]
  },
  {
   "cell_type": "code",
   "execution_count": 34,
   "metadata": {},
   "outputs": [],
   "source": [
    "network['target'] = network['target'].apply(replace_codes)"
   ]
  },
  {
   "cell_type": "code",
   "execution_count": 35,
   "metadata": {
    "scrolled": true
   },
   "outputs": [
    {
     "data": {
      "text/html": [
       "<div>\n",
       "<style scoped>\n",
       "    .dataframe tbody tr th:only-of-type {\n",
       "        vertical-align: middle;\n",
       "    }\n",
       "\n",
       "    .dataframe tbody tr th {\n",
       "        vertical-align: top;\n",
       "    }\n",
       "\n",
       "    .dataframe thead th {\n",
       "        text-align: right;\n",
       "    }\n",
       "</style>\n",
       "<table border=\"1\" class=\"dataframe\">\n",
       "  <thead>\n",
       "    <tr style=\"text-align: right;\">\n",
       "      <th></th>\n",
       "      <th>data_year</th>\n",
       "      <th>source</th>\n",
       "      <th>target</th>\n",
       "      <th>cumulative_volume_af</th>\n",
       "      <th>transmission_kwh/af</th>\n",
       "      <th>treatment_kwh/af</th>\n",
       "      <th>used_vol_af</th>\n",
       "    </tr>\n",
       "    <tr>\n",
       "      <th>year</th>\n",
       "      <th></th>\n",
       "      <th></th>\n",
       "      <th></th>\n",
       "      <th></th>\n",
       "      <th></th>\n",
       "      <th></th>\n",
       "      <th></th>\n",
       "    </tr>\n",
       "  </thead>\n",
       "  <tbody>\n",
       "    <tr>\n",
       "      <th>2010-01-01</th>\n",
       "      <td>2010</td>\n",
       "      <td>1805003PD</td>\n",
       "      <td>Alameda County Water District</td>\n",
       "      <td>43000.0</td>\n",
       "      <td>318.2</td>\n",
       "      <td>0.0</td>\n",
       "      <td>43000.0</td>\n",
       "    </tr>\n",
       "    <tr>\n",
       "      <th>2015-01-01</th>\n",
       "      <td>2010</td>\n",
       "      <td>1805003PD</td>\n",
       "      <td>Alameda County Water District</td>\n",
       "      <td>50100.0</td>\n",
       "      <td>318.2</td>\n",
       "      <td>0.0</td>\n",
       "      <td>50100.0</td>\n",
       "    </tr>\n",
       "    <tr>\n",
       "      <th>2020-01-01</th>\n",
       "      <td>2010</td>\n",
       "      <td>1805003PD</td>\n",
       "      <td>Alameda County Water District</td>\n",
       "      <td>51600.0</td>\n",
       "      <td>318.2</td>\n",
       "      <td>0.0</td>\n",
       "      <td>51600.0</td>\n",
       "    </tr>\n",
       "    <tr>\n",
       "      <th>2025-01-01</th>\n",
       "      <td>2010</td>\n",
       "      <td>1805003PD</td>\n",
       "      <td>Alameda County Water District</td>\n",
       "      <td>53500.0</td>\n",
       "      <td>318.2</td>\n",
       "      <td>0.0</td>\n",
       "      <td>53500.0</td>\n",
       "    </tr>\n",
       "    <tr>\n",
       "      <th>2030-01-01</th>\n",
       "      <td>2010</td>\n",
       "      <td>1805003PD</td>\n",
       "      <td>Alameda County Water District</td>\n",
       "      <td>55600.0</td>\n",
       "      <td>318.2</td>\n",
       "      <td>0.0</td>\n",
       "      <td>55600.0</td>\n",
       "    </tr>\n",
       "    <tr>\n",
       "      <th>2035-01-01</th>\n",
       "      <td>2010</td>\n",
       "      <td>1805003PD</td>\n",
       "      <td>Alameda County Water District</td>\n",
       "      <td>62100.0</td>\n",
       "      <td>318.2</td>\n",
       "      <td>0.0</td>\n",
       "      <td>62100.0</td>\n",
       "    </tr>\n",
       "    <tr>\n",
       "      <th>2010-01-01</th>\n",
       "      <td>2010</td>\n",
       "      <td>GWR1805-2-09.01</td>\n",
       "      <td>Alameda County Water District</td>\n",
       "      <td>15700.0</td>\n",
       "      <td>318.2</td>\n",
       "      <td>0.0</td>\n",
       "      <td>0.0</td>\n",
       "    </tr>\n",
       "    <tr>\n",
       "      <th>2015-01-01</th>\n",
       "      <td>2010</td>\n",
       "      <td>GWR1805-2-09.01</td>\n",
       "      <td>Alameda County Water District</td>\n",
       "      <td>16200.0</td>\n",
       "      <td>318.2</td>\n",
       "      <td>0.0</td>\n",
       "      <td>0.0</td>\n",
       "    </tr>\n",
       "    <tr>\n",
       "      <th>2020-01-01</th>\n",
       "      <td>2010</td>\n",
       "      <td>GWR1805-2-09.01</td>\n",
       "      <td>Alameda County Water District</td>\n",
       "      <td>16200.0</td>\n",
       "      <td>318.2</td>\n",
       "      <td>0.0</td>\n",
       "      <td>0.0</td>\n",
       "    </tr>\n",
       "    <tr>\n",
       "      <th>2025-01-01</th>\n",
       "      <td>2010</td>\n",
       "      <td>GWR1805-2-09.01</td>\n",
       "      <td>Alameda County Water District</td>\n",
       "      <td>16200.0</td>\n",
       "      <td>318.2</td>\n",
       "      <td>0.0</td>\n",
       "      <td>0.0</td>\n",
       "    </tr>\n",
       "    <tr>\n",
       "      <th>2030-01-01</th>\n",
       "      <td>2010</td>\n",
       "      <td>GWR1805-2-09.01</td>\n",
       "      <td>Alameda County Water District</td>\n",
       "      <td>16200.0</td>\n",
       "      <td>318.2</td>\n",
       "      <td>0.0</td>\n",
       "      <td>0.0</td>\n",
       "    </tr>\n",
       "    <tr>\n",
       "      <th>2035-01-01</th>\n",
       "      <td>2010</td>\n",
       "      <td>GWR1805-2-09.01</td>\n",
       "      <td>Alameda County Water District</td>\n",
       "      <td>16200.0</td>\n",
       "      <td>318.2</td>\n",
       "      <td>0.0</td>\n",
       "      <td>0.0</td>\n",
       "    </tr>\n",
       "  </tbody>\n",
       "</table>\n",
       "</div>"
      ],
      "text/plain": [
       "            data_year           source                         target  \\\n",
       "year                                                                    \n",
       "2010-01-01       2010        1805003PD  Alameda County Water District   \n",
       "2015-01-01       2010        1805003PD  Alameda County Water District   \n",
       "2020-01-01       2010        1805003PD  Alameda County Water District   \n",
       "2025-01-01       2010        1805003PD  Alameda County Water District   \n",
       "2030-01-01       2010        1805003PD  Alameda County Water District   \n",
       "2035-01-01       2010        1805003PD  Alameda County Water District   \n",
       "2010-01-01       2010  GWR1805-2-09.01  Alameda County Water District   \n",
       "2015-01-01       2010  GWR1805-2-09.01  Alameda County Water District   \n",
       "2020-01-01       2010  GWR1805-2-09.01  Alameda County Water District   \n",
       "2025-01-01       2010  GWR1805-2-09.01  Alameda County Water District   \n",
       "2030-01-01       2010  GWR1805-2-09.01  Alameda County Water District   \n",
       "2035-01-01       2010  GWR1805-2-09.01  Alameda County Water District   \n",
       "\n",
       "            cumulative_volume_af  transmission_kwh/af  treatment_kwh/af  \\\n",
       "year                                                                      \n",
       "2010-01-01               43000.0                318.2               0.0   \n",
       "2015-01-01               50100.0                318.2               0.0   \n",
       "2020-01-01               51600.0                318.2               0.0   \n",
       "2025-01-01               53500.0                318.2               0.0   \n",
       "2030-01-01               55600.0                318.2               0.0   \n",
       "2035-01-01               62100.0                318.2               0.0   \n",
       "2010-01-01               15700.0                318.2               0.0   \n",
       "2015-01-01               16200.0                318.2               0.0   \n",
       "2020-01-01               16200.0                318.2               0.0   \n",
       "2025-01-01               16200.0                318.2               0.0   \n",
       "2030-01-01               16200.0                318.2               0.0   \n",
       "2035-01-01               16200.0                318.2               0.0   \n",
       "\n",
       "            used_vol_af  \n",
       "year                     \n",
       "2010-01-01      43000.0  \n",
       "2015-01-01      50100.0  \n",
       "2020-01-01      51600.0  \n",
       "2025-01-01      53500.0  \n",
       "2030-01-01      55600.0  \n",
       "2035-01-01      62100.0  \n",
       "2010-01-01          0.0  \n",
       "2015-01-01          0.0  \n",
       "2020-01-01          0.0  \n",
       "2025-01-01          0.0  \n",
       "2030-01-01          0.0  \n",
       "2035-01-01          0.0  "
      ]
     },
     "execution_count": 35,
     "metadata": {},
     "output_type": "execute_result"
    }
   ],
   "source": [
    "network[network['target'] == 'Alameda County Water District']"
   ]
  },
  {
   "cell_type": "code",
   "execution_count": 36,
   "metadata": {},
   "outputs": [],
   "source": [
    "network.to_csv(path_or_buf='data/named_links_erl.csv')"
   ]
  },
  {
   "cell_type": "code",
   "execution_count": 37,
   "metadata": {},
   "outputs": [
    {
     "data": {
      "text/plain": [
       "(11732, 7)"
      ]
     },
     "execution_count": 37,
     "metadata": {},
     "output_type": "execute_result"
    }
   ],
   "source": [
    "network[network['source'].notnull()].shape"
   ]
  },
  {
   "cell_type": "code",
   "execution_count": 38,
   "metadata": {},
   "outputs": [
    {
     "data": {
      "text/plain": [
       "(11732, 7)"
      ]
     },
     "execution_count": 38,
     "metadata": {},
     "output_type": "execute_result"
    }
   ],
   "source": [
    "network.shape"
   ]
  },
  {
   "cell_type": "code",
   "execution_count": null,
   "metadata": {},
   "outputs": [],
   "source": []
  }
 ],
 "metadata": {
  "kernelspec": {
   "display_name": "Python 3",
   "language": "python",
   "name": "python3"
  },
  "language_info": {
   "codemirror_mode": {
    "name": "ipython",
    "version": 3
   },
   "file_extension": ".py",
   "mimetype": "text/x-python",
   "name": "python",
   "nbconvert_exporter": "python",
   "pygments_lexer": "ipython3",
   "version": "3.7.1"
  }
 },
 "nbformat": 4,
 "nbformat_minor": 2
}
