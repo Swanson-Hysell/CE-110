{
 "cells": [
  {
   "cell_type": "markdown",
   "metadata": {},
   "source": [
    "<div style=\"color:dark green\"> **All of my edits will be in green. I've made this revision version to write on here but make your edits in your original notebook!**</div>"
   ]
  },
  {
   "cell_type": "markdown",
   "metadata": {},
   "source": [
    "# [CE-110] Lab 2: Analyzing Water Networks and Energy Use in CA\n",
    "\n",
    "*Estimated Time: 50 minutes*\n",
    "\n",
    "### Table of Contents:\n",
    "\n",
    "1. [Visualizing the Network](#section_network)\n",
    "2. [Sankey Diagrams: Visualizing Water Flow](#section_sankey)\n",
    "\n",
    "In this lab, we will be visualizing and analyzing water networks for specific utilities in CA. <div style=\"color:dark green\">**Elaborate a little more here to set up the lab: e.g. \"We will first visualize networks surrouding your utility and water flow from immediate sources, then conduct energy analysis to see ...\"**</div> At this time you should have been assigned a utility to visualize and analyze. Here is a mapping of utiliy names to their respective codes in the graphs and data.\n",
    "\n",
    "Utility Code|Utility Name\n",
    "-|-\n",
    "1805003E|Alameda County Water District\n",
    "1803033E|Fresno City of\n",
    "1810019E|Hi-Desert Water District\n",
    "1809027E|Palmdale Water District\n",
    "1805085E|San Jose Water Company\n",
    "1807341E|Santa Monica City of\n",
    "\n",
    "<div class=\"alert alert-info\"> \n",
    "\n",
    "**QUESTION** cells are in blue and ask you to make graphs, answer conceptual questions, or do other lab tasks. To receive full credit for your lab, you must complete all **QUESTION** cells.\n",
    "\n",
    "</div>"
   ]
  },
  {
   "cell_type": "markdown",
   "metadata": {},
   "source": [
    "Note: There is a folder named \"output\" located in the same directory where you opened this lab. Currently it is empty, but later on you will call functions that will ouput to this folder and you will need to copy and paste that ouput to a link. Try to quickly locate that folder in the tab where you opened this lab."
   ]
  },
  {
   "cell_type": "markdown",
   "metadata": {},
   "source": [
    "To start off the lab, we have to import some tools for us to be able to select and visualize certain utilities. These tools will build graphs for us which show which water sources and which types of water are upstream from a certain utility. The tools will also enable us to perform energy analysis on the utilities.Therefore, just run the cell and this will set up our environment (this will take a minute to run)."
   ]
  },
  {
   "cell_type": "code",
   "execution_count": null,
   "metadata": {},
   "outputs": [],
   "source": [
    "!pip install pydot\n",
    "!pip install -q ipywidgets\n",
    "!pip install -q ipysankeywidget\n",
    "!pip install -q widgetsnbextension\n",
    "!jupyter nbextension enable --py --sys-prefix ipysankeywidget\n",
    "\n",
    "from sub_network import subWESTnet\n",
    "import pandas as pd\n",
    "import numpy as np\n",
    "import json, urllib, ast\n",
    "import pydot\n",
    "from ipysankeywidget import SankeyWidget\n",
    "from ipywidgets import Layout"
   ]
  },
  {
   "cell_type": "markdown",
   "metadata": {},
   "source": [
    "## Visualizing the Network<a id='section_network'></a>\n",
    "\n",
    "\n",
    "1.  <div style=\"color:dark green\"> **Instead of going straight into explaining what the code is doing, briefly introduce what we are doing in this section. What are we trying to visualize? I think it would also help to provide a very simple outline of the steps students will take to get to the graphs (i.e. You will: 1. Run the following lines of code (descriptions provided but don't worry too much about what they do); 2. follow the steps to access something called a \"dotfile\"; 3. Use a website called Graphviz to display your network)**</div>\n",
    "\n",
    "\n",
    "2. <div style=\"color:dark green\"> **I don't think students will understand how paths work: when instructing students how to access their dotfile, I think it's worth taking a moment to put down a bullet list of steps to take in order to access their dot file (i.e. 1. Go back to Datahub where you opened this lab; 2. locate a folder titled \"output\"; etc.)**</div>\n",
    "\n",
    "\n",
    "3. <div style=\"color:dark green\">**Jennifer missed that you're supposed to input the utility NAME for networks, and utility CODE for Sankey and got confused. Make this a littler clearer (use bold/capitalization?) if you can.**</div>\n",
    "\n",
    "Here, we create what is called an instance of a graph object. This is what will enable us to be able to visualize the water network associated with a certain utility, all the sources and the types of water that are leading into it. We enter in the number 2010, because we will be looking at the your utility network for that year."
   ]
  },
  {
   "cell_type": "code",
   "execution_count": null,
   "metadata": {},
   "outputs": [],
   "source": [
    "new_upstream_example = subWESTnet('data/fixed_times_erl.csv', 2010)"
   ]
  },
  {
   "cell_type": "markdown",
   "metadata": {},
   "source": [
    "This line of code specifies that we want to look at all the sources upstream from the utility. The point of this is that we want to analyze what are the types of water coming into these utilities, how much is coming in, and from where is it coming. In the spot that has \"Your Utility Name Here\" put your utility name in the quotes. To see what your specific utility name is, look at the table at the top of this page and put that name specifically in the quotes."
   ]
  },
  {
   "cell_type": "code",
   "execution_count": null,
   "metadata": {
    "scrolled": false
   },
   "outputs": [],
   "source": [
    "new_upstream_example.upstream(\"Your Utility Name Here\")"
   ]
  },
  {
   "cell_type": "markdown",
   "metadata": {},
   "source": [
    "This line of code is here to compute all the amounts of water going into the different nodes in the network, all you have to do is run the following cell"
   ]
  },
  {
   "cell_type": "code",
   "execution_count": null,
   "metadata": {},
   "outputs": [],
   "source": [
    "new_upstream_example.balance_graph()"
   ]
  },
  {
   "cell_type": "markdown",
   "metadata": {},
   "source": [
    "The following attributes of our upstream example show the tables of the actual network (by using source and target labels) and the energies associated with each node in the graph. Just browse the tables and try to see what each column is referring to and how the rows relate certain utilities/sources with energy levels and the amount of water moving through each point in the network."
   ]
  },
  {
   "cell_type": "code",
   "execution_count": null,
   "metadata": {},
   "outputs": [],
   "source": [
    "new_upstream_example.table()"
   ]
  },
  {
   "cell_type": "code",
   "execution_count": null,
   "metadata": {},
   "outputs": [],
   "source": [
    "new_upstream_example.energy"
   ]
  },
  {
   "cell_type": "markdown",
   "metadata": {},
   "source": [
    "This folowing cell takes the upstream table, and turns it into a dot file. The dotfile is placed in \n",
    "\n",
    "`ouput/sub_(your_utility_name)_2010__upstream/downstream.dot` This folder is on the same level as where this lab is located"
   ]
  },
  {
   "cell_type": "markdown",
   "metadata": {},
   "source": [
    "<div style=\"color:dark green\">**It might be easier for students to understand this if this info is organized in a table? **</div>\n",
    "\n",
    "There are some things to note about the nodes in the graph. The ones that start with \"R_\" are a river, ones that contain \"SWP\" or \"CVP\" are parts of federal government water management projects in CA, ones with \"LK\" are lakes, ones with \"RES\" are reservoirs, and finally the nodes which contain your utility's code and then end with PD, NPD, and GW are potable, non-potable, and ground water types flowing into your utility, repectively."
   ]
  },
  {
   "cell_type": "code",
   "execution_count": null,
   "metadata": {},
   "outputs": [],
   "source": [
    "new_upstream_example.to_dot()"
   ]
  },
  {
   "cell_type": "markdown",
   "metadata": {},
   "source": [
    "Go to the dot file (inside the ouput directory where the lab2 notebook is located) and paste the code in the dot file [here](https://dreampuf.github.io/GraphvizOnline/). Make sure to replace the entire code block that is already in the link with the entire code block in our output.dot files."
   ]
  },
  {
   "cell_type": "markdown",
   "metadata": {},
   "source": [
    "<div class=\"alert alert-info\"> \n",
    "\n",
    "**QUESTION:** What are some of the sources connected to your utility (which whould be located at the bottom of the graph)?. What are the types of water flowing in to your utility?\n",
    "\n",
    "</div>"
   ]
  },
  {
   "cell_type": "markdown",
   "metadata": {},
   "source": [
    "Your Answer Here (Double click the cell to replace the text)"
   ]
  },
  {
   "cell_type": "markdown",
   "metadata": {},
   "source": [
    "## The Sankey Diagram: Visualizing Water Flow<a id='section_sankey'></a>\n",
    "\n",
    "\n",
    "1. <div style=\"color:dark green\">**Again, introduce the objectives of this section. Provide a transition from the networks section, e.g. \"Now that you know what the water network around your utility looks like, we'll zoom in to its immediate connections to visualize the volume of water transported to your utility from different sources.\"**</div>\n",
    "\n",
    "The next cell is quite complicated, don't bother with trying to understand what it is doing. All it does is try to format our network so that we can use something called a sankey diagram. This diagram will allow us to visualize the water network associated with our utility in a way which shows how much water is actually travelling between utilities and sources and other things like reservoirs, rivers, and aqueducts."
   ]
  },
  {
   "cell_type": "code",
   "execution_count": null,
   "metadata": {
    "scrolled": false
   },
   "outputs": [],
   "source": [
    "def get_sankey_file(data_path, year, utility, upstream=True):\n",
    "    gi = subWESTnet(data_path, year)\n",
    "    gi.upstream(utility)\n",
    "    \n",
    "    sank_dicts = []\n",
    "    for v in gi.edges.values():\n",
    "        sank_dict = {}\n",
    "        sank_dict['source'] = v['source']\n",
    "        sank_dict['target'] = v['target']\n",
    "        sank_dict['value'] = v['used_vol_af']\n",
    "        sank_dict['color'] = 'steelblue'\n",
    "        if v['used_vol_af'] == 0:\n",
    "            sank_dict['color'] = 'goldenrod'\n",
    "            sank_dict['value'] = .00001\n",
    "        sank_dicts.append(sank_dict)\n",
    "    \n",
    "    df = pd.DataFrame(sank_dicts)\n",
    "    df = df[df['color'] != 'goldenrod']\n",
    "    data = pd.read_csv(data_path)\n",
    "    \n",
    "    nodes = []\n",
    "    for i in df['source'].unique():\n",
    "        sdict = {}\n",
    "    \n",
    "        # check if resource/end or not\n",
    "        check_resource = data[data['target'] == i].shape\n",
    "        if check_resource[0] == 0:\n",
    "            sdict['is resource'] = True\n",
    "        else:\n",
    "            sdict['is resource'] = False\n",
    "        if i[-1:] == 'E':\n",
    "            sdict['is end'] = True\n",
    "        else:\n",
    "            sdict['is end'] = False\n",
    "    \n",
    "        # compute in/out volumes\n",
    "        outv = df[df['source'] == i]['value'].sum()\n",
    "        inv = df[df['target'] == i]['value'].sum()\n",
    "    \n",
    "        # get values to compensate for missing volumes\n",
    "        extra_case = {}\n",
    "        if outv < inv:\n",
    "            if not sdict['is end']:\n",
    "                extra_case['value'] = inv - outv\n",
    "                extra_case['source'] = i\n",
    "                extra_case['target'] = i + \" to Other\"\n",
    "                nodes.append(extra_case)\n",
    "        elif outv > inv:\n",
    "            if not sdict['is resource']:\n",
    "                extra_case['value'] = outv - inv\n",
    "                extra_case['source'] = \"Other to \" + i\n",
    "                extra_case['target'] = i\n",
    "                nodes.append(extra_case)\n",
    "    \n",
    "    extra_ = df.drop('color', axis=1).append(pd.DataFrame(nodes)).reset_index(drop=True)\n",
    "    a = []\n",
    "    count = 0\n",
    "    break_count = 0\n",
    "    break_break = []\n",
    "    while 'break' != break_break:\n",
    "        drop = []\n",
    "        for i in extra_['target']:\n",
    "            if extra_[extra_['source'] == i].shape[0] == 0:\n",
    "                if i[-5:] != 'Other' and i[-1:] != 'E':\n",
    "                    drop.append(i)\n",
    "        extra_ = extra_.loc[[k for k, v in extra_.iterrows() if v['target'] not in drop]]\n",
    "        count += len(drop)\n",
    "        a.extend(drop)\n",
    "        if count == len(a):\n",
    "            break_count += 1\n",
    "        if break_count == 50:\n",
    "            break_break = 'break'\n",
    "    \n",
    "    return extra_\n"
   ]
  },
  {
   "cell_type": "markdown",
   "metadata": {},
   "source": [
    "Run the following cell but make sure to put your utility's code, not its name, in the quotes that say \"Your Utility Code Here\". Remember what all the different codes mean from the previous graph we made. These encodings still apply to the Sankey graph we are going to make in the following cells, except this time your utility will be on the right hand side of the sankey diagram encoded by its utility code, not it's actual name. The graph below represents the flow of water involved with this utility in the year 2010."
   ]
  },
  {
   "cell_type": "code",
   "execution_count": null,
   "metadata": {},
   "outputs": [],
   "source": [
    "SankeyWidget(layout=Layout(width=\"1500\", height=\"1000\"), \n",
    "             margins=dict(top=10, bottom=0, left=100, right=100),\n",
    "             links=get_sankey_file('data/links_erl.csv', 2010, 'Your Utility CODE Here', upstream=True).to_dict('records'))"
   ]
  },
  {
   "cell_type": "markdown",
   "metadata": {},
   "source": [
    "<div class=\"alert alert-info\"> \n",
    "\n",
    "**QUESTION** Examine the above graph. Your utility should be on the right hand side and the sources that have water flowing into it to the left of it. You can run your mouse over the graph and see how much water is flowing in each connection. How much water of each type is flowing directly into your utility? **QUESTION**\n",
    "\n",
    "</div>"
   ]
  },
  {
   "cell_type": "markdown",
   "metadata": {},
   "source": [
    "Your answer here."
   ]
  },
  {
   "cell_type": "markdown",
   "metadata": {},
   "source": [
    "The next graph we are making is the predicted flow of water associated with your utility in 2015. These predictions were made in 2010. Make sure to fill in the \"Your Utility Code Here\" portion of the cell, so that it can be run, and use your utiliy's code just like in the last Sankey Diagram you made."
   ]
  },
  {
   "cell_type": "code",
   "execution_count": null,
   "metadata": {},
   "outputs": [],
   "source": [
    "SankeyWidget(layout=Layout(width=\"1500\", height=\"1000\"), \n",
    "             margins=dict(top=10, bottom=0, left=100, right=100),\n",
    "             links=get_sankey_file('data/links_erl.csv', 2015, 'Your Utility Code Here', upstream=True).to_dict('records'))"
   ]
  },
  {
   "cell_type": "markdown",
   "metadata": {},
   "source": [
    "Finally the last graph is the actual 2015 flow of water associated with your utility. We are going to zoom into just the portion that contains your utility and the types of water going into it. Make sure to fill in the \"Your utility code here\" part of the cell."
   ]
  },
  {
   "cell_type": "code",
   "execution_count": null,
   "metadata": {
    "scrolled": true
   },
   "outputs": [],
   "source": [
    "SankeyWidget(layout=Layout(width=\"1000\", height=\"500\"), \n",
    "             margins=dict(top=10, bottom=0, left=100, right=100),\n",
    "             links=get_sankey_file('data/links_2015module.csv', 2015, 'Your Utility Code Here', upstream=True).to_dict('records'))"
   ]
  },
  {
   "attachments": {},
   "cell_type": "markdown",
   "metadata": {},
   "source": [
    "<div style=\"color:dark green\">**Jennifer's notes on your discussion questions:**</div>\n",
    "![image](./images/Jennifer_discnotes1.PNG)"
   ]
  },
  {
   "cell_type": "markdown",
   "metadata": {},
   "source": [
    "<div class=\"alert alert-info\"> \n",
    "\n",
    "**QUESTION** Examine the two graphs above and look at the direct connections to your utility. How much water of each type seems to be flowing into your utility in both the predicted 2015 data and the actual 2015 data? How do these levels of water flow compare to 2010 and how do they compare to each other. Do the tyes of water flowing into your uility change at all. Given the change in the flow of water between 2010 and 2015 and how 2015 compares with what was predicted are there any recent events in California which might explain these differences?  **QUESTION**\n",
    "\n",
    "</div>"
   ]
  },
  {
   "cell_type": "markdown",
   "metadata": {},
   "source": [
    "Your answers here."
   ]
  }
 ],
 "metadata": {
  "kernelspec": {
   "display_name": "Python 3",
   "language": "python",
   "name": "python3"
  },
  "language_info": {
   "codemirror_mode": {
    "name": "ipython",
    "version": 3
   },
   "file_extension": ".py",
   "mimetype": "text/x-python",
   "name": "python",
   "nbconvert_exporter": "python",
   "pygments_lexer": "ipython3",
   "version": "3.6.5"
  }
 },
 "nbformat": 4,
 "nbformat_minor": 2
}
