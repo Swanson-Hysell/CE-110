{
 "cells": [
  {
   "cell_type": "code",
   "execution_count": 5,
   "metadata": {},
   "outputs": [],
   "source": [
    "from datascience import *"
   ]
  },
  {
   "cell_type": "code",
   "execution_count": 7,
   "metadata": {},
   "outputs": [
    {
     "data": {
      "text/html": [
       "<table border=\"1\" class=\"dataframe\">\n",
       "    <thead>\n",
       "        <tr>\n",
       "            <th>year</th> <th>data_year</th> <th>source</th> <th>target</th> <th>cumulative_volume_af</th> <th>transmission_kwh/af</th> <th>treatment_kwh/af</th> <th>used_vol_af</th>\n",
       "        </tr>\n",
       "    </thead>\n",
       "    <tbody>\n",
       "        <tr>\n",
       "            <td>2010</td> <td>2010     </td> <td>1801001PD</td> <td>1801001E </td> <td>1624                </td> <td>163.1              </td> <td>0               </td> <td>1624       </td>\n",
       "        </tr>\n",
       "        <tr>\n",
       "            <td>2010</td> <td>2010     </td> <td>1801007PD</td> <td>1801007E </td> <td>2015.2              </td> <td>163.1              </td> <td>0               </td> <td>2015.2     </td>\n",
       "        </tr>\n",
       "        <tr>\n",
       "            <td>2010</td> <td>2010     </td> <td>1801009PD</td> <td>1801017PD</td> <td>561.768             </td> <td>25                 </td> <td>0               </td> <td>557.004    </td>\n",
       "        </tr>\n",
       "        <tr>\n",
       "            <td>2010</td> <td>2010     </td> <td>1801009PD</td> <td>1801009E </td> <td>2924.55             </td> <td>163.1              </td> <td>0               </td> <td>2924.55    </td>\n",
       "        </tr>\n",
       "        <tr>\n",
       "            <td>2010</td> <td>2010     </td> <td>1801011PD</td> <td>1801011E </td> <td>1350                </td> <td>163.1              </td> <td>0               </td> <td>1350       </td>\n",
       "        </tr>\n",
       "        <tr>\n",
       "            <td>2010</td> <td>2010     </td> <td>1801015PD</td> <td>1801017PD</td> <td>616.923             </td> <td>25                 </td> <td>0               </td> <td>611.692    </td>\n",
       "        </tr>\n",
       "        <tr>\n",
       "            <td>2010</td> <td>2010     </td> <td>1801015PD</td> <td>1801015E </td> <td>840                 </td> <td>163.1              </td> <td>0               </td> <td>840        </td>\n",
       "        </tr>\n",
       "        <tr>\n",
       "            <td>2010</td> <td>2010     </td> <td>1801015PD</td> <td>1801019PD</td> <td>1415                </td> <td>25                 </td> <td>0               </td> <td>1414.56    </td>\n",
       "        </tr>\n",
       "        <tr>\n",
       "            <td>2010</td> <td>2010     </td> <td>1801015PD</td> <td>1801001PD</td> <td>1460.72             </td> <td>87                 </td> <td>0               </td> <td>1460.72    </td>\n",
       "        </tr>\n",
       "        <tr>\n",
       "            <td>2010</td> <td>2010     </td> <td>1801015PD</td> <td>1801009PD</td> <td>2949                </td> <td>25                 </td> <td>0               </td> <td>2924.55    </td>\n",
       "        </tr>\n",
       "    </tbody>\n",
       "</table>\n",
       "<p>... (13790 rows omitted)</p>"
      ],
      "text/plain": [
       "year | data_year | source    | target    | cumulative_volume_af | transmission_kwh/af | treatment_kwh/af | used_vol_af\n",
       "2010 | 2010      | 1801001PD | 1801001E  | 1624                 | 163.1               | 0                | 1624\n",
       "2010 | 2010      | 1801007PD | 1801007E  | 2015.2               | 163.1               | 0                | 2015.2\n",
       "2010 | 2010      | 1801009PD | 1801017PD | 561.768              | 25                  | 0                | 557.004\n",
       "2010 | 2010      | 1801009PD | 1801009E  | 2924.55              | 163.1               | 0                | 2924.55\n",
       "2010 | 2010      | 1801011PD | 1801011E  | 1350                 | 163.1               | 0                | 1350\n",
       "2010 | 2010      | 1801015PD | 1801017PD | 616.923              | 25                  | 0                | 611.692\n",
       "2010 | 2010      | 1801015PD | 1801015E  | 840                  | 163.1               | 0                | 840\n",
       "2010 | 2010      | 1801015PD | 1801019PD | 1415                 | 25                  | 0                | 1414.56\n",
       "2010 | 2010      | 1801015PD | 1801001PD | 1460.72              | 87                  | 0                | 1460.72\n",
       "2010 | 2010      | 1801015PD | 1801009PD | 2949                 | 25                  | 0                | 2924.55\n",
       "... (13790 rows omitted)"
      ]
     },
     "execution_count": 7,
     "metadata": {},
     "output_type": "execute_result"
    }
   ],
   "source": [
    "Table().read_table('network2010.csv')"
   ]
  },
  {
   "cell_type": "code",
   "execution_count": null,
   "metadata": {},
   "outputs": [],
   "source": []
  }
 ],
 "metadata": {
  "kernelspec": {
   "display_name": "Python 3",
   "language": "python",
   "name": "python3"
  },
  "language_info": {
   "codemirror_mode": {
    "name": "ipython",
    "version": 3
   },
   "file_extension": ".py",
   "mimetype": "text/x-python",
   "name": "python",
   "nbconvert_exporter": "python",
   "pygments_lexer": "ipython3",
   "version": "3.6.5"
  }
 },
 "nbformat": 4,
 "nbformat_minor": 2
}
